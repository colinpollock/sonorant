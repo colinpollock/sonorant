{
 "cells": [
  {
   "cell_type": "markdown",
   "metadata": {},
   "source": [
    "# Investigating English Phonotactics #\n",
    "In the notebook `Model Training.ipynb` I trained a language model over English pronunciations from [the CMU Pronouncing Dictionary](http://www.speech.cs.cmu.edu/cgi-bin/cmudict). CMU Dict contains phonetic representations of about 132,000 words, so the goal of the language model is to learn what sequences of sounds constitute good words.\n",
    "\n",
    "In this notebook I use the model to:\n",
    "1. **Identify which English pronunciations are most- and least-Englishlike**. For example, I would expect \"fun\" to sound normal and a borrowed word like \"cliché\" to be less normal.\n",
    "2. **Generate novel words** that aren't English words but sound like they could be.\n",
    "\n",
    "I'll also dig into what the model has learned to see whether it has learned the [phonotactics rules](https://en.wikipedia.org/wiki/Phonotactics) that all English speakers subconsciously understand.\n",
    "\n",
    "Note that the pronunciations are in [IPA](https://en.wikipedia.org/wiki/International_Phonetic_Alphabet)."
   ]
  },
  {
   "cell_type": "code",
   "execution_count": 1,
   "metadata": {},
   "outputs": [],
   "source": [
    "from operator import itemgetter\n",
    "\n",
    "import pandas as pd\n",
    "import torch\n",
    "from matplotlib import pyplot as plt\n",
    "from sklearn.metrics.pairwise import cosine_similarity\n",
    "\n",
    "from sonorous.analysis_utils import plot_next_phoneme_distribution, plot_pronunciation_probability\n",
    "from sonorous.languagemodel import LanguageModel\n",
    "from sonorous.utils import perplexity\n",
    "from sonorous.pronunciationdata import augment_pronunciations_df, load_pronunciations"
   ]
  },
  {
   "cell_type": "code",
   "execution_count": 2,
   "metadata": {},
   "outputs": [],
   "source": [
    "pd.options.display.max_rows = 500\n",
    "pd.options.display.max_columns = 100\n",
    "pd.options.display.max_colwidth = 255"
   ]
  },
  {
   "cell_type": "markdown",
   "metadata": {},
   "source": [
    "First I'll load the model that I trained in `Model Training.ipynb`, as well as all of the pronunciations from CMU Dict."
   ]
  },
  {
   "cell_type": "code",
   "execution_count": 3,
   "metadata": {},
   "outputs": [],
   "source": [
    "with open('model_10_10_1.pt', 'rb') as fh:\n",
    "    language_model = LanguageModel.load(fh, device_name='cpu')"
   ]
  },
  {
   "cell_type": "code",
   "execution_count": 4,
   "metadata": {},
   "outputs": [
    {
     "name": "stdout",
     "output_type": "stream",
     "text": [
      "There are 131,964 pronunciations.\n",
      "\n",
      "Sample of 5 pronunciations:\n"
     ]
    },
    {
     "data": {
      "text/html": [
       "<div>\n",
       "<style scoped>\n",
       "    .dataframe tbody tr th:only-of-type {\n",
       "        vertical-align: middle;\n",
       "    }\n",
       "\n",
       "    .dataframe tbody tr th {\n",
       "        vertical-align: top;\n",
       "    }\n",
       "\n",
       "    .dataframe thead th {\n",
       "        text-align: right;\n",
       "    }\n",
       "</style>\n",
       "<table border=\"1\" class=\"dataframe\">\n",
       "  <thead>\n",
       "    <tr style=\"text-align: right;\">\n",
       "      <th></th>\n",
       "      <th>pronunciation</th>\n",
       "      <th>num_phonemes</th>\n",
       "      <th>num_syllables</th>\n",
       "      <th>num_primary_stressed_syllables</th>\n",
       "    </tr>\n",
       "    <tr>\n",
       "      <th>word</th>\n",
       "      <th></th>\n",
       "      <th></th>\n",
       "      <th></th>\n",
       "      <th></th>\n",
       "    </tr>\n",
       "  </thead>\n",
       "  <tbody>\n",
       "    <tr>\n",
       "      <th>baguette</th>\n",
       "      <td>(ˌ, b, æ, ˈ, g, ɛ, t)</td>\n",
       "      <td>5</td>\n",
       "      <td>2</td>\n",
       "      <td>1</td>\n",
       "    </tr>\n",
       "    <tr>\n",
       "      <th>genotypes</th>\n",
       "      <td>(ˈ, dʒ, ɛ, n, ə, ˌ, t, aɪ, p, s)</td>\n",
       "      <td>8</td>\n",
       "      <td>3</td>\n",
       "      <td>1</td>\n",
       "    </tr>\n",
       "    <tr>\n",
       "      <th>bankamerica</th>\n",
       "      <td>(ˌ, b, æ, ŋ, k, ə, ˈ, m, ɛ, r, ɪ, k, ə)</td>\n",
       "      <td>11</td>\n",
       "      <td>5</td>\n",
       "      <td>1</td>\n",
       "    </tr>\n",
       "    <tr>\n",
       "      <th>mcmoran</th>\n",
       "      <td>(m, ə, k, ˈ, m, ɔ, r, ə, n)</td>\n",
       "      <td>8</td>\n",
       "      <td>3</td>\n",
       "      <td>1</td>\n",
       "    </tr>\n",
       "    <tr>\n",
       "      <th>hausa</th>\n",
       "      <td>(ˈ, h, aʊ, s, ə)</td>\n",
       "      <td>4</td>\n",
       "      <td>2</td>\n",
       "      <td>1</td>\n",
       "    </tr>\n",
       "  </tbody>\n",
       "</table>\n",
       "</div>"
      ],
      "text/plain": [
       "                                       pronunciation  num_phonemes  \\\n",
       "word                                                                 \n",
       "baguette                       (ˌ, b, æ, ˈ, g, ɛ, t)             5   \n",
       "genotypes           (ˈ, dʒ, ɛ, n, ə, ˌ, t, aɪ, p, s)             8   \n",
       "bankamerica  (ˌ, b, æ, ŋ, k, ə, ˈ, m, ɛ, r, ɪ, k, ə)            11   \n",
       "mcmoran                  (m, ə, k, ˈ, m, ɔ, r, ə, n)             8   \n",
       "hausa                               (ˈ, h, aʊ, s, ə)             4   \n",
       "\n",
       "             num_syllables  num_primary_stressed_syllables  \n",
       "word                                                        \n",
       "baguette                 2                               1  \n",
       "genotypes                3                               1  \n",
       "bankamerica              5                               1  \n",
       "mcmoran                  3                               1  \n",
       "hausa                    2                               1  "
      ]
     },
     "metadata": {},
     "output_type": "display_data"
    }
   ],
   "source": [
    "pronunciations = load_pronunciations()\n",
    "print(f\"There are {len(pronunciations):,} pronunciations.\")\n",
    "print()\n",
    "print(\"Sample of 5 pronunciations:\")\n",
    "\n",
    "display(pronunciations.sample(5))"
   ]
  },
  {
   "cell_type": "markdown",
   "metadata": {},
   "source": [
    "## What Words are the Most and Least Englishy? ##\n",
    "Since the model can assign a probability to any pronunciation, I can run it over the entire set of pronunciations in the Pronouncing Dictionary and identify the ones that have high and low likelihood of being English.\n",
    "\n",
    "I'll be using [perplexity](https://en.wikipedia.org/wiki/Perplexity) as a measurement of how likely the model thinks each pronunciation is. Perplexity has an inverse relationship with probability, and high perplexity indicates the model was surprised by an odd word."
   ]
  },
  {
   "cell_type": "code",
   "execution_count": 6,
   "metadata": {},
   "outputs": [],
   "source": [
    "pronunciations['perplexity'] = pronunciations.pronunciation.apply(language_model.perplexity_of_text)\n",
    "pronunciations.sort_values('perplexity', inplace=True)"
   ]
  },
  {
   "cell_type": "code",
   "execution_count": 66,
   "metadata": {},
   "outputs": [
    {
     "data": {
      "image/png": "[encoded data removed]",
      "text/plain": [
       "<Figure size 432x288 with 1 Axes>"
      ]
     },
     "metadata": {
      "needs_background": "light"
     },
     "output_type": "display_data"
    }
   ],
   "source": [
    "plot_next_phoneme_distribution(language_model, ('n', 'ɪ', \"ˈ\", 'm',))"
   ]
  },
  {
   "cell_type": "markdown",
   "metadata": {},
   "source": [
    "Let's look at the least perplexing words. These are the ones the model was totally unsurprised because they seem very normal."
   ]
  },
  {
   "cell_type": "code",
   "execution_count": 7,
   "metadata": {},
   "outputs": [
    {
     "data": {
      "text/html": [
       "<div>\n",
       "<style scoped>\n",
       "    .dataframe tbody tr th:only-of-type {\n",
       "        vertical-align: middle;\n",
       "    }\n",
       "\n",
       "    .dataframe tbody tr th {\n",
       "        vertical-align: top;\n",
       "    }\n",
       "\n",
       "    .dataframe thead th {\n",
       "        text-align: right;\n",
       "    }\n",
       "</style>\n",
       "<table border=\"1\" class=\"dataframe\">\n",
       "  <thead>\n",
       "    <tr style=\"text-align: right;\">\n",
       "      <th></th>\n",
       "      <th>pronunciation</th>\n",
       "      <th>num_phonemes</th>\n",
       "      <th>num_syllables</th>\n",
       "      <th>perplexity</th>\n",
       "    </tr>\n",
       "    <tr>\n",
       "      <th>word</th>\n",
       "      <th></th>\n",
       "      <th></th>\n",
       "      <th></th>\n",
       "      <th></th>\n",
       "    </tr>\n",
       "  </thead>\n",
       "  <tbody>\n",
       "    <tr>\n",
       "      <th>intonations</th>\n",
       "      <td>(ˌ, ɪ, n, t, ə, ˈ, n, eɪ, ʃ, ə, n, z)</td>\n",
       "      <td>10</td>\n",
       "      <td>4</td>\n",
       "      <td>4.413871</td>\n",
       "    </tr>\n",
       "    <tr>\n",
       "      <th>intonation</th>\n",
       "      <td>(ˌ, ɪ, n, t, ə, ˈ, n, eɪ, ʃ, ə, n)</td>\n",
       "      <td>9</td>\n",
       "      <td>4</td>\n",
       "      <td>4.495386</td>\n",
       "    </tr>\n",
       "    <tr>\n",
       "      <th>installations</th>\n",
       "      <td>(ˌ, ɪ, n, s, t, ə, ˈ, l, eɪ, ʃ, ə, n, z)</td>\n",
       "      <td>11</td>\n",
       "      <td>4</td>\n",
       "      <td>4.735174</td>\n",
       "    </tr>\n",
       "    <tr>\n",
       "      <th>installation</th>\n",
       "      <td>(ˌ, ɪ, n, s, t, ə, ˈ, l, eɪ, ʃ, ə, n)</td>\n",
       "      <td>10</td>\n",
       "      <td>4</td>\n",
       "      <td>4.815805</td>\n",
       "    </tr>\n",
       "    <tr>\n",
       "      <th>indications</th>\n",
       "      <td>(ˌ, ɪ, n, d, ə, ˈ, k, eɪ, ʃ, ə, n, z)</td>\n",
       "      <td>10</td>\n",
       "      <td>4</td>\n",
       "      <td>4.855756</td>\n",
       "    </tr>\n",
       "    <tr>\n",
       "      <th>indication</th>\n",
       "      <td>(ˌ, ɪ, n, d, ə, ˈ, k, eɪ, ʃ, ə, n)</td>\n",
       "      <td>9</td>\n",
       "      <td>4</td>\n",
       "      <td>4.937654</td>\n",
       "    </tr>\n",
       "    <tr>\n",
       "      <th>insulation</th>\n",
       "      <td>(ˌ, ɪ, n, s, ə, ˈ, l, eɪ, ʃ, ə, n)</td>\n",
       "      <td>9</td>\n",
       "      <td>4</td>\n",
       "      <td>4.968088</td>\n",
       "    </tr>\n",
       "    <tr>\n",
       "      <th>karman</th>\n",
       "      <td>(ˈ, k, ɑː, r, m, ə, n)</td>\n",
       "      <td>6</td>\n",
       "      <td>2</td>\n",
       "      <td>5.068806</td>\n",
       "    </tr>\n",
       "    <tr>\n",
       "      <th>carman</th>\n",
       "      <td>(ˈ, k, ɑː, r, m, ə, n)</td>\n",
       "      <td>6</td>\n",
       "      <td>2</td>\n",
       "      <td>5.068806</td>\n",
       "    </tr>\n",
       "    <tr>\n",
       "      <th>carmen</th>\n",
       "      <td>(ˈ, k, ɑː, r, m, ə, n)</td>\n",
       "      <td>6</td>\n",
       "      <td>2</td>\n",
       "      <td>5.068806</td>\n",
       "    </tr>\n",
       "  </tbody>\n",
       "</table>\n",
       "</div>"
      ],
      "text/plain": [
       "                                          pronunciation  num_phonemes  \\\n",
       "word                                                                    \n",
       "intonations       (ˌ, ɪ, n, t, ə, ˈ, n, eɪ, ʃ, ə, n, z)            10   \n",
       "intonation           (ˌ, ɪ, n, t, ə, ˈ, n, eɪ, ʃ, ə, n)             9   \n",
       "installations  (ˌ, ɪ, n, s, t, ə, ˈ, l, eɪ, ʃ, ə, n, z)            11   \n",
       "installation      (ˌ, ɪ, n, s, t, ə, ˈ, l, eɪ, ʃ, ə, n)            10   \n",
       "indications       (ˌ, ɪ, n, d, ə, ˈ, k, eɪ, ʃ, ə, n, z)            10   \n",
       "indication           (ˌ, ɪ, n, d, ə, ˈ, k, eɪ, ʃ, ə, n)             9   \n",
       "insulation           (ˌ, ɪ, n, s, ə, ˈ, l, eɪ, ʃ, ə, n)             9   \n",
       "karman                           (ˈ, k, ɑː, r, m, ə, n)             6   \n",
       "carman                           (ˈ, k, ɑː, r, m, ə, n)             6   \n",
       "carmen                           (ˈ, k, ɑː, r, m, ə, n)             6   \n",
       "\n",
       "               num_syllables  perplexity  \n",
       "word                                      \n",
       "intonations                4    4.413871  \n",
       "intonation                 4    4.495386  \n",
       "installations              4    4.735174  \n",
       "installation               4    4.815805  \n",
       "indications                4    4.855756  \n",
       "indication                 4    4.937654  \n",
       "insulation                 4    4.968088  \n",
       "karman                     2    5.068806  \n",
       "carman                     2    5.068806  \n",
       "carmen                     2    5.068806  "
      ]
     },
     "execution_count": 7,
     "metadata": {},
     "output_type": "execute_result"
    }
   ],
   "source": [
    "least_perplexing = pronunciations.head(10)\n",
    "least_perplexing"
   ]
  },
  {
   "cell_type": "markdown",
   "metadata": {},
   "source": [
    "The ten least perplexing words have very regular structure. In all of them the first syllable is stressed and the final syllable is /AH0 N/. There are lots of schwas (/AH0/), which is the most neutral vowel in English.\n",
    "\n",
    "I trained a number of different models and looked at their least perplexing words. The more complex models all had very long words as the least perplexing, which showed that the model had basically memorized actual English words. \"Environmentalism\", for example, had a very low perplexity because the once the model saw /EH0 N V AY1 R/ it seemed to know that there were only a few possible endings. The model we're looking at though seems to have struck a nice balance."
   ]
  },
  {
   "cell_type": "markdown",
   "metadata": {},
   "source": [
    "The least perplexing long words (five or more syllables) also display a lot of regularity."
   ]
  },
  {
   "cell_type": "code",
   "execution_count": 26,
   "metadata": {},
   "outputs": [
    {
     "data": {
      "text/html": [
       "<div>\n",
       "<style scoped>\n",
       "    .dataframe tbody tr th:only-of-type {\n",
       "        vertical-align: middle;\n",
       "    }\n",
       "\n",
       "    .dataframe tbody tr th {\n",
       "        vertical-align: top;\n",
       "    }\n",
       "\n",
       "    .dataframe thead th {\n",
       "        text-align: right;\n",
       "    }\n",
       "</style>\n",
       "<table border=\"1\" class=\"dataframe\">\n",
       "  <thead>\n",
       "    <tr style=\"text-align: right;\">\n",
       "      <th></th>\n",
       "      <th>pronunciation</th>\n",
       "      <th>num_phonemes</th>\n",
       "      <th>num_syllables</th>\n",
       "      <th>perplexity</th>\n",
       "    </tr>\n",
       "    <tr>\n",
       "      <th>word</th>\n",
       "      <th></th>\n",
       "      <th></th>\n",
       "      <th></th>\n",
       "      <th></th>\n",
       "    </tr>\n",
       "  </thead>\n",
       "  <tbody>\n",
       "    <tr>\n",
       "      <th>inconsistency</th>\n",
       "      <td>(ˌ, ɪ, n, k, ə, n, ˈ, s, ɪ, s, t, ə, n, s, i)</td>\n",
       "      <td>13</td>\n",
       "      <td>5</td>\n",
       "      <td>5.582802</td>\n",
       "    </tr>\n",
       "    <tr>\n",
       "      <th>indoctrination</th>\n",
       "      <td>(ˌ, ɪ, n, ˌ, d, ɑː, k, t, r, ə, ˈ, n, eɪ, ʃ, ə, n)</td>\n",
       "      <td>13</td>\n",
       "      <td>5</td>\n",
       "      <td>5.836573</td>\n",
       "    </tr>\n",
       "    <tr>\n",
       "      <th>continentally</th>\n",
       "      <td>(ˌ, k, ɑː, n, t, ə, ˈ, n, ɛ, n, t, ə, l, i)</td>\n",
       "      <td>12</td>\n",
       "      <td>5</td>\n",
       "      <td>5.863796</td>\n",
       "    </tr>\n",
       "    <tr>\n",
       "      <th>intoxication</th>\n",
       "      <td>(ˌ, ɪ, n, ˌ, t, ɑː, k, s, ə, ˈ, k, eɪ, ʃ, ə, n)</td>\n",
       "      <td>12</td>\n",
       "      <td>5</td>\n",
       "      <td>5.930682</td>\n",
       "    </tr>\n",
       "    <tr>\n",
       "      <th>continentally</th>\n",
       "      <td>(ˌ, k, ɑː, n, t, ə, ˈ, n, ɛ, n, ə, l, i)</td>\n",
       "      <td>11</td>\n",
       "      <td>5</td>\n",
       "      <td>5.989006</td>\n",
       "    </tr>\n",
       "  </tbody>\n",
       "</table>\n",
       "</div>"
      ],
      "text/plain": [
       "                                                     pronunciation  \\\n",
       "word                                                                 \n",
       "inconsistency        (ˌ, ɪ, n, k, ə, n, ˈ, s, ɪ, s, t, ə, n, s, i)   \n",
       "indoctrination  (ˌ, ɪ, n, ˌ, d, ɑː, k, t, r, ə, ˈ, n, eɪ, ʃ, ə, n)   \n",
       "continentally          (ˌ, k, ɑː, n, t, ə, ˈ, n, ɛ, n, t, ə, l, i)   \n",
       "intoxication       (ˌ, ɪ, n, ˌ, t, ɑː, k, s, ə, ˈ, k, eɪ, ʃ, ə, n)   \n",
       "continentally             (ˌ, k, ɑː, n, t, ə, ˈ, n, ɛ, n, ə, l, i)   \n",
       "\n",
       "                num_phonemes  num_syllables  perplexity  \n",
       "word                                                     \n",
       "inconsistency             13              5    5.582802  \n",
       "indoctrination            13              5    5.836573  \n",
       "continentally             12              5    5.863796  \n",
       "intoxication              12              5    5.930682  \n",
       "continentally             11              5    5.989006  "
      ]
     },
     "execution_count": 26,
     "metadata": {},
     "output_type": "execute_result"
    }
   ],
   "source": [
    "pronunciations[pronunciations.num_syllables>=5].head()"
   ]
  },
  {
   "cell_type": "markdown",
   "metadata": {},
   "source": [
    "Now let's look at the high perplexity words-- those that the model is surprised by."
   ]
  },
  {
   "cell_type": "code",
   "execution_count": 27,
   "metadata": {},
   "outputs": [
    {
     "data": {
      "text/html": [
       "<div>\n",
       "<style scoped>\n",
       "    .dataframe tbody tr th:only-of-type {\n",
       "        vertical-align: middle;\n",
       "    }\n",
       "\n",
       "    .dataframe tbody tr th {\n",
       "        vertical-align: top;\n",
       "    }\n",
       "\n",
       "    .dataframe thead th {\n",
       "        text-align: right;\n",
       "    }\n",
       "</style>\n",
       "<table border=\"1\" class=\"dataframe\">\n",
       "  <thead>\n",
       "    <tr style=\"text-align: right;\">\n",
       "      <th></th>\n",
       "      <th>pronunciation</th>\n",
       "      <th>num_phonemes</th>\n",
       "      <th>num_syllables</th>\n",
       "      <th>perplexity</th>\n",
       "    </tr>\n",
       "    <tr>\n",
       "      <th>word</th>\n",
       "      <th></th>\n",
       "      <th></th>\n",
       "      <th></th>\n",
       "      <th></th>\n",
       "    </tr>\n",
       "  </thead>\n",
       "  <tbody>\n",
       "    <tr>\n",
       "      <th>uhh</th>\n",
       "      <td>(ˈ, ʌ)</td>\n",
       "      <td>1</td>\n",
       "      <td>1</td>\n",
       "      <td>579.893597</td>\n",
       "    </tr>\n",
       "    <tr>\n",
       "      <th>uh</th>\n",
       "      <td>(ˈ, ʌ)</td>\n",
       "      <td>1</td>\n",
       "      <td>1</td>\n",
       "      <td>579.893597</td>\n",
       "    </tr>\n",
       "    <tr>\n",
       "      <th>aw</th>\n",
       "      <td>(ˈ, ɔ)</td>\n",
       "      <td>1</td>\n",
       "      <td>1</td>\n",
       "      <td>476.906564</td>\n",
       "    </tr>\n",
       "    <tr>\n",
       "      <th>awe</th>\n",
       "      <td>(ˈ, ɔ)</td>\n",
       "      <td>1</td>\n",
       "      <td>1</td>\n",
       "      <td>476.906564</td>\n",
       "    </tr>\n",
       "    <tr>\n",
       "      <th>joie</th>\n",
       "      <td>(ʒ, ˈ, w, ɑː)</td>\n",
       "      <td>3</td>\n",
       "      <td>1</td>\n",
       "      <td>391.996969</td>\n",
       "    </tr>\n",
       "    <tr>\n",
       "      <th>the</th>\n",
       "      <td>(ˈ, ð, ʌ)</td>\n",
       "      <td>2</td>\n",
       "      <td>1</td>\n",
       "      <td>354.876841</td>\n",
       "    </tr>\n",
       "    <tr>\n",
       "      <th>ooh</th>\n",
       "      <td>(ˈ, uː)</td>\n",
       "      <td>1</td>\n",
       "      <td>1</td>\n",
       "      <td>333.015703</td>\n",
       "    </tr>\n",
       "    <tr>\n",
       "      <th>ou</th>\n",
       "      <td>(ˈ, uː)</td>\n",
       "      <td>1</td>\n",
       "      <td>1</td>\n",
       "      <td>333.015703</td>\n",
       "    </tr>\n",
       "    <tr>\n",
       "      <th>oooh</th>\n",
       "      <td>(ˈ, uː)</td>\n",
       "      <td>1</td>\n",
       "      <td>1</td>\n",
       "      <td>333.015703</td>\n",
       "    </tr>\n",
       "    <tr>\n",
       "      <th>oy</th>\n",
       "      <td>(ˈ, ɔɪ)</td>\n",
       "      <td>1</td>\n",
       "      <td>1</td>\n",
       "      <td>332.549511</td>\n",
       "    </tr>\n",
       "  </tbody>\n",
       "</table>\n",
       "</div>"
      ],
      "text/plain": [
       "      pronunciation  num_phonemes  num_syllables  perplexity\n",
       "word                                                        \n",
       "uhh          (ˈ, ʌ)             1              1  579.893597\n",
       "uh           (ˈ, ʌ)             1              1  579.893597\n",
       "aw           (ˈ, ɔ)             1              1  476.906564\n",
       "awe          (ˈ, ɔ)             1              1  476.906564\n",
       "joie  (ʒ, ˈ, w, ɑː)             3              1  391.996969\n",
       "the       (ˈ, ð, ʌ)             2              1  354.876841\n",
       "ooh         (ˈ, uː)             1              1  333.015703\n",
       "ou          (ˈ, uː)             1              1  333.015703\n",
       "oooh        (ˈ, uː)             1              1  333.015703\n",
       "oy          (ˈ, ɔɪ)             1              1  332.549511"
      ]
     },
     "execution_count": 27,
     "metadata": {},
     "output_type": "execute_result"
    }
   ],
   "source": [
    "pronunciations.sort_values('perplexity', ascending=False).head(10)"
   ]
  },
  {
   "cell_type": "markdown",
   "metadata": {},
   "source": [
    "All of these are one syllable words. As you can see in the histogram below, single phoneme words are incredibly rare in the CMU Dict so it makes sense the model would be surprised by these."
   ]
  },
  {
   "cell_type": "code",
   "execution_count": 28,
   "metadata": {},
   "outputs": [
    {
     "data": {
      "image/png": "[encoded data removed]",
      "text/plain": [
       "<Figure size 432x288 with 1 Axes>"
      ]
     },
     "metadata": {
      "needs_background": "light"
     },
     "output_type": "display_data"
    }
   ],
   "source": [
    "pronunciations.num_phonemes.value_counts().sort_index().plot.bar()\n",
    "plt.xlabel('Number of Phonemes')\n",
    "plt.ylabel('Frequency')\n",
    "_ = plt.title('Distribution of Word Lengths')"
   ]
  },
  {
   "cell_type": "markdown",
   "metadata": {},
   "source": [
    "Below are the most perplexing words that have at least two syllables."
   ]
  },
  {
   "cell_type": "code",
   "execution_count": 30,
   "metadata": {},
   "outputs": [
    {
     "data": {
      "text/html": [
       "<div>\n",
       "<style scoped>\n",
       "    .dataframe tbody tr th:only-of-type {\n",
       "        vertical-align: middle;\n",
       "    }\n",
       "\n",
       "    .dataframe tbody tr th {\n",
       "        vertical-align: top;\n",
       "    }\n",
       "\n",
       "    .dataframe thead th {\n",
       "        text-align: right;\n",
       "    }\n",
       "</style>\n",
       "<table border=\"1\" class=\"dataframe\">\n",
       "  <thead>\n",
       "    <tr style=\"text-align: right;\">\n",
       "      <th></th>\n",
       "      <th>pronunciation</th>\n",
       "      <th>num_phonemes</th>\n",
       "      <th>num_syllables</th>\n",
       "      <th>perplexity</th>\n",
       "    </tr>\n",
       "    <tr>\n",
       "      <th>word</th>\n",
       "      <th></th>\n",
       "      <th></th>\n",
       "      <th></th>\n",
       "      <th></th>\n",
       "    </tr>\n",
       "  </thead>\n",
       "  <tbody>\n",
       "    <tr>\n",
       "      <th>ayoub</th>\n",
       "      <td>(ˈ, eɪ, aʊ, b)</td>\n",
       "      <td>3</td>\n",
       "      <td>2</td>\n",
       "      <td>301.278913</td>\n",
       "    </tr>\n",
       "    <tr>\n",
       "      <th>toyoo</th>\n",
       "      <td>(t, ɔɪ, ˈ, uː)</td>\n",
       "      <td>3</td>\n",
       "      <td>2</td>\n",
       "      <td>229.193780</td>\n",
       "    </tr>\n",
       "    <tr>\n",
       "      <th>oien</th>\n",
       "      <td>(ˈ, ɑː, iː, n)</td>\n",
       "      <td>3</td>\n",
       "      <td>2</td>\n",
       "      <td>223.039720</td>\n",
       "    </tr>\n",
       "    <tr>\n",
       "      <th>raoux</th>\n",
       "      <td>(r, æ, ˈ, uː)</td>\n",
       "      <td>3</td>\n",
       "      <td>2</td>\n",
       "      <td>216.404506</td>\n",
       "    </tr>\n",
       "    <tr>\n",
       "      <th>jiangsu</th>\n",
       "      <td>(dʒ, ˈ, j, ɑː, ŋ, s, uː)</td>\n",
       "      <td>6</td>\n",
       "      <td>2</td>\n",
       "      <td>215.419136</td>\n",
       "    </tr>\n",
       "    <tr>\n",
       "      <th>jonesboro</th>\n",
       "      <td>(ˈ, dʒ, oʊ, n, z, b, ə, r, oʊ)</td>\n",
       "      <td>8</td>\n",
       "      <td>3</td>\n",
       "      <td>206.959236</td>\n",
       "    </tr>\n",
       "    <tr>\n",
       "      <th>houy</th>\n",
       "      <td>(ˈ, h, ɑː, aɪ)</td>\n",
       "      <td>3</td>\n",
       "      <td>2</td>\n",
       "      <td>182.664773</td>\n",
       "    </tr>\n",
       "    <tr>\n",
       "      <th>aughenbaugh</th>\n",
       "      <td>(ɔ, ˈ, ɛ, n, b, ɔ)</td>\n",
       "      <td>5</td>\n",
       "      <td>3</td>\n",
       "      <td>175.361723</td>\n",
       "    </tr>\n",
       "    <tr>\n",
       "      <th>payeur</th>\n",
       "      <td>(p, eɪ, ˈ, ɝː)</td>\n",
       "      <td>3</td>\n",
       "      <td>2</td>\n",
       "      <td>169.144964</td>\n",
       "    </tr>\n",
       "    <tr>\n",
       "      <th>aichi</th>\n",
       "      <td>(ɑː, ˈ, iː, tʃ, i)</td>\n",
       "      <td>4</td>\n",
       "      <td>3</td>\n",
       "      <td>167.141837</td>\n",
       "    </tr>\n",
       "    <tr>\n",
       "      <th>zungu</th>\n",
       "      <td>(ˌ, z, ə, ŋ, ˈ, uː)</td>\n",
       "      <td>4</td>\n",
       "      <td>2</td>\n",
       "      <td>166.620804</td>\n",
       "    </tr>\n",
       "    <tr>\n",
       "      <th>geroux</th>\n",
       "      <td>(ʒ, ɝ, ˈ, uː)</td>\n",
       "      <td>3</td>\n",
       "      <td>2</td>\n",
       "      <td>159.519796</td>\n",
       "    </tr>\n",
       "    <tr>\n",
       "      <th>losoya</th>\n",
       "      <td>(ˈ, l, ɑː, s, ɔɪ, æ)</td>\n",
       "      <td>5</td>\n",
       "      <td>3</td>\n",
       "      <td>158.405234</td>\n",
       "    </tr>\n",
       "    <tr>\n",
       "      <th>uh-oh</th>\n",
       "      <td>(ˈ, ʌ, ˌ, oʊ)</td>\n",
       "      <td>2</td>\n",
       "      <td>2</td>\n",
       "      <td>153.432370</td>\n",
       "    </tr>\n",
       "    <tr>\n",
       "      <th>ashbaugh</th>\n",
       "      <td>(ə, ʃ, ˈ, b, ɔ)</td>\n",
       "      <td>4</td>\n",
       "      <td>2</td>\n",
       "      <td>149.911399</td>\n",
       "    </tr>\n",
       "    <tr>\n",
       "      <th>aeolus</th>\n",
       "      <td>(ˈ, ɛ, oʊ, l, ʊ, s)</td>\n",
       "      <td>5</td>\n",
       "      <td>3</td>\n",
       "      <td>146.644847</td>\n",
       "    </tr>\n",
       "    <tr>\n",
       "      <th>aurea</th>\n",
       "      <td>(aʊ, ˈ, r, eɪ, ɑː)</td>\n",
       "      <td>4</td>\n",
       "      <td>3</td>\n",
       "      <td>146.238162</td>\n",
       "    </tr>\n",
       "    <tr>\n",
       "      <th>bourgeois</th>\n",
       "      <td>(b, ʊ, r, ʒ, ˈ, w, ɑː)</td>\n",
       "      <td>6</td>\n",
       "      <td>2</td>\n",
       "      <td>139.255594</td>\n",
       "    </tr>\n",
       "    <tr>\n",
       "      <th>orourke</th>\n",
       "      <td>(ɝ, ˈ, ʊ, r, k)</td>\n",
       "      <td>4</td>\n",
       "      <td>2</td>\n",
       "      <td>137.623561</td>\n",
       "    </tr>\n",
       "    <tr>\n",
       "      <th>ocain</th>\n",
       "      <td>(oʊ, k, ɑː, ˈ, iː, n)</td>\n",
       "      <td>5</td>\n",
       "      <td>3</td>\n",
       "      <td>136.811145</td>\n",
       "    </tr>\n",
       "  </tbody>\n",
       "</table>\n",
       "</div>"
      ],
      "text/plain": [
       "                              pronunciation  num_phonemes  num_syllables  \\\n",
       "word                                                                       \n",
       "ayoub                        (ˈ, eɪ, aʊ, b)             3              2   \n",
       "toyoo                        (t, ɔɪ, ˈ, uː)             3              2   \n",
       "oien                         (ˈ, ɑː, iː, n)             3              2   \n",
       "raoux                         (r, æ, ˈ, uː)             3              2   \n",
       "jiangsu            (dʒ, ˈ, j, ɑː, ŋ, s, uː)             6              2   \n",
       "jonesboro    (ˈ, dʒ, oʊ, n, z, b, ə, r, oʊ)             8              3   \n",
       "houy                         (ˈ, h, ɑː, aɪ)             3              2   \n",
       "aughenbaugh              (ɔ, ˈ, ɛ, n, b, ɔ)             5              3   \n",
       "payeur                       (p, eɪ, ˈ, ɝː)             3              2   \n",
       "aichi                    (ɑː, ˈ, iː, tʃ, i)             4              3   \n",
       "zungu                   (ˌ, z, ə, ŋ, ˈ, uː)             4              2   \n",
       "geroux                        (ʒ, ɝ, ˈ, uː)             3              2   \n",
       "losoya                 (ˈ, l, ɑː, s, ɔɪ, æ)             5              3   \n",
       "uh-oh                         (ˈ, ʌ, ˌ, oʊ)             2              2   \n",
       "ashbaugh                    (ə, ʃ, ˈ, b, ɔ)             4              2   \n",
       "aeolus                  (ˈ, ɛ, oʊ, l, ʊ, s)             5              3   \n",
       "aurea                    (aʊ, ˈ, r, eɪ, ɑː)             4              3   \n",
       "bourgeois            (b, ʊ, r, ʒ, ˈ, w, ɑː)             6              2   \n",
       "orourke                     (ɝ, ˈ, ʊ, r, k)             4              2   \n",
       "ocain                 (oʊ, k, ɑː, ˈ, iː, n)             5              3   \n",
       "\n",
       "             perplexity  \n",
       "word                     \n",
       "ayoub        301.278913  \n",
       "toyoo        229.193780  \n",
       "oien         223.039720  \n",
       "raoux        216.404506  \n",
       "jiangsu      215.419136  \n",
       "jonesboro    206.959236  \n",
       "houy         182.664773  \n",
       "aughenbaugh  175.361723  \n",
       "payeur       169.144964  \n",
       "aichi        167.141837  \n",
       "zungu        166.620804  \n",
       "geroux       159.519796  \n",
       "losoya       158.405234  \n",
       "uh-oh        153.432370  \n",
       "ashbaugh     149.911399  \n",
       "aeolus       146.644847  \n",
       "aurea        146.238162  \n",
       "bourgeois    139.255594  \n",
       "orourke      137.623561  \n",
       "ocain        136.811145  "
      ]
     },
     "execution_count": 30,
     "metadata": {},
     "output_type": "execute_result"
    }
   ],
   "source": [
    "pronunciations[pronunciations.num_syllables > 1].sort_values('perplexity', ascending=False).head(20)"
   ]
  },
  {
   "cell_type": "markdown",
   "metadata": {},
   "source": [
    "There are some interesting patterns here. Many of these are actually pronunciations of acronyms. For example, \"ai\" . is /EY1 AY1/, where /EY1/ is \"a\" and /AY1/ is \"i\". You can identify acronyms and compound words by how many primary-stressed syllables they contain: a word will only have one primary stressed syllable.\n",
    "\n",
    "The words that do have just one primary-stressed syllable sound strange to me: /EY1 NG/, /AW1 IY0/, /OY1 ER0/. So I think the model has done a good job here!"
   ]
  },
  {
   "cell_type": "markdown",
   "metadata": {},
   "source": [
    "I found that for longer pronunciations (e.g. 5+ phonemes), the most perplexing words are almost all acronyms. Below I drop those by removing pronunciations with more than one syllable with primary stress, which works because normal words only have one primary stress."
   ]
  },
  {
   "cell_type": "code",
   "execution_count": null,
   "metadata": {},
   "outputs": [],
   "source": []
  },
  {
   "cell_type": "markdown",
   "metadata": {},
   "source": [
    "All of these words have three syllables with the stress on the second syllable. These all feel like good English words. They have many phonemes though, so I'm concerned that the model is recognizing the very specific patterns and giving all the later phonemes very high probabilities."
   ]
  },
  {
   "cell_type": "code",
   "execution_count": null,
   "metadata": {},
   "outputs": [],
   "source": []
  },
  {
   "cell_type": "code",
   "execution_count": null,
   "metadata": {},
   "outputs": [],
   "source": [
    "pronunciations[pronunciations.num_syllables == 2].sort_values('perplexity', ascending=False).head(10)"
   ]
  },
  {
   "cell_type": "markdown",
   "metadata": {},
   "source": [
    "Interestingly these words do all feel very weird to me as an English speaker. \"ai\" is an acronym, pronounced as the letter 'A' followed by the letter 'I', so isn't held to normal word formation properties and would be a really strange word.\n",
    "\n",
    "\"zungu\" also doesn't sound like English. Since English prefers syllables with onsets, when saying the word I feel like I want /NG/ to be the onset of the second syllable /NG UW1/. But /NG/ isn't normally allowed as the onset of a syllable.\n",
    "\n",
    "The stress pattern is also weird on this word. Normally in a two syllable word there will be one stressed syllable and one unstressed. This word has primary stress on the second syllabie (/UW1/) and secondary stressed on the first syllable (/AH2/). Interestingly, the perplexity of the word drops considerably (to 450) when I replace /AH2/ with /AH1/."
   ]
  },
  {
   "cell_type": "code",
   "execution_count": null,
   "metadata": {},
   "outputs": [],
   "source": [
    "plot_pronunciation_probability(language_model, ('Z', 'AH2', 'NG', 'UW1'))"
   ]
  },
  {
   "cell_type": "markdown",
   "metadata": {},
   "source": [
    "We've seen that the lowest perplexity words are very long and the highest perplexity words are short. Let's look at the two other options. First let's look at the low perplexity short words."
   ]
  },
  {
   "cell_type": "code",
   "execution_count": null,
   "metadata": {},
   "outputs": [],
   "source": [
    "pronunciations[pronunciations.num_phonemes == 2].drop_duplicates('pronunciation').head()"
   ]
  },
  {
   "cell_type": "code",
   "execution_count": null,
   "metadata": {},
   "outputs": [],
   "source": [
    "plot_pronunciation(lm, ('K', 'R', 'IH1', 'S', 'T', 'AH0', 'L'))"
   ]
  },
  {
   "cell_type": "markdown",
   "metadata": {},
   "source": [
    "Despite being only two syllables, these words are packed with phonemes, with lots complex onsets and codas. Let's look at words that are three or fewer phonemes."
   ]
  },
  {
   "cell_type": "code",
   "execution_count": null,
   "metadata": {},
   "outputs": [],
   "source": [
    "pronunciations[pronunciations.num_phonemes <= 3].drop_duplicates('pronunciation').head()"
   ]
  },
  {
   "cell_type": "code",
   "execution_count": null,
   "metadata": {},
   "outputs": [],
   "source": [
    "plot_pronunciation_probability(language_model, ('B', 'ER1', 'K'))"
   ]
  },
  {
   "cell_type": "markdown",
   "metadata": {},
   "source": [
    "These words are all of the form ONSET VOWEL CODA. Overall they all sound like standard words."
   ]
  },
  {
   "cell_type": "markdown",
   "metadata": {},
   "source": [
    "Now lets look at long and perplexing words."
   ]
  },
  {
   "cell_type": "markdown",
   "metadata": {},
   "source": [
    "Let's now look at the words the model thinks are most perplexing (i.e. least likely)."
   ]
  },
  {
   "cell_type": "code",
   "execution_count": null,
   "metadata": {},
   "outputs": [],
   "source": [
    "pronunciations[pronunciations.num_syllables > 4].sort_values('perplexity', ascending=False).head()"
   ]
  },
  {
   "cell_type": "markdown",
   "metadata": {},
   "source": [
    "Aside from \"gunatilake\", all of these words are acronyms. For example, \"wor\" is each letter in the word pronounced."
   ]
  },
  {
   "cell_type": "markdown",
   "metadata": {},
   "source": [
    "## Which Pronunciation Wins for Words with Multiple Pronunciations? ##\n",
    "Another interesting thing we can look at is which pronunciation the model prefers when a word has multiple standard ones."
   ]
  },
  {
   "cell_type": "code",
   "execution_count": null,
   "metadata": {},
   "outputs": [],
   "source": []
  },
  {
   "cell_type": "code",
   "execution_count": null,
   "metadata": {},
   "outputs": [],
   "source": [
    "pronunciations.loc['tomato']"
   ]
  },
  {
   "cell_type": "markdown",
   "metadata": {},
   "source": [
    "Let's look at the model's preferred pronunciations for three words commonly argued over."
   ]
  },
  {
   "cell_type": "code",
   "execution_count": null,
   "metadata": {},
   "outputs": [],
   "source": [
    "display(pronunciations.loc['tomato'])\n",
    "display(pronunciations.loc['aunt'])\n",
    "display(pronunciations.loc['nevada'])"
   ]
  },
  {
   "cell_type": "markdown",
   "metadata": {},
   "source": [
    "The model agrees with (what I take to be) the more common pronunciation of the first two words but thinks \"Nevada\" is different than how I say it.\n",
    "\n",
    "Let's look at \"coupon\" now."
   ]
  },
  {
   "cell_type": "code",
   "execution_count": null,
   "metadata": {},
   "outputs": [],
   "source": [
    "pronunciations.loc['coupon']"
   ]
  },
  {
   "cell_type": "code",
   "execution_count": null,
   "metadata": {},
   "outputs": [],
   "source": [
    "plot_next_phoneme_distribution(language_model, ('K', 'Y'))"
   ]
  },
  {
   "cell_type": "code",
   "execution_count": null,
   "metadata": {},
   "outputs": [],
   "source": [
    "plot_pronunciation_probability(language_model, tuple('K Y UW1 P AO2 N'.split()))"
   ]
  },
  {
   "cell_type": "code",
   "execution_count": null,
   "metadata": {},
   "outputs": [],
   "source": [
    "plot_pronunciation_probability(language_model, tuple('K UW1 P AO2 N'.split()))"
   ]
  },
  {
   "cell_type": "markdown",
   "metadata": {},
   "source": [
    "The model prefers the \"YU\" less version of \"coupon\". Interestingly, in this case the relatively low perplexity seems to be due to the model being very certain that /UW1/ will follow /K Y/."
   ]
  },
  {
   "cell_type": "markdown",
   "metadata": {},
   "source": [
    "\"with\" has four possible pronunciations listed."
   ]
  },
  {
   "cell_type": "code",
   "execution_count": null,
   "metadata": {},
   "outputs": [],
   "source": [
    "pronunciations.loc['with']"
   ]
  },
  {
   "cell_type": "markdown",
   "metadata": {},
   "source": [
    "By far the least perplexing one is the one I personally would use. The Pronouncing Dictionary includes two pronunciatinos with an unstressed vowel. When actually spoken in a sentence it'd be common to not stress that vowel, but when just saying the word on its own I would think it should have stress."
   ]
  },
  {
   "cell_type": "code",
   "execution_count": null,
   "metadata": {},
   "outputs": [],
   "source": [
    "plot_pronunciation_probability(language_model, ('W', 'IH1', 'TH'))"
   ]
  },
  {
   "cell_type": "code",
   "execution_count": null,
   "metadata": {},
   "outputs": [],
   "source": [
    "plot_pronunciation_probability(language_model, ('W', 'IH1', 'DH'))"
   ]
  },
  {
   "cell_type": "markdown",
   "metadata": {},
   "source": [
    "The model also strongly believes \"with\" should end with the voiceless /TH/ instead of the voiced /DH/. It looks like this is due to the model not wanting to end the word at /W IH1 DH/, probably because ending any word with /IH1 DH/ is rare."
   ]
  },
  {
   "cell_type": "markdown",
   "metadata": {},
   "source": [
    "## Can the Model Generate Novel Words? ##\n",
    "\n",
    "* proportion of words that are novel\n",
    "* proportion of words (from a sample) that look good to me\n",
    "* 10 randomly sampled words. show them and play the word. ARPABET | IPA | my best spelling guess | play button \n",
    "\n",
    "\n",
    "compare with overgenerated model. probably way more that aren't novel"
   ]
  },
  {
   "cell_type": "code",
   "execution_count": null,
   "metadata": {},
   "outputs": [],
   "source": []
  },
  {
   "cell_type": "code",
   "execution_count": 44,
   "metadata": {},
   "outputs": [
    {
     "data": {
      "text/plain": [
       "('ˈ', 'm', 'ɔ', 'r', 't', 'j', 'ɝ')"
      ]
     },
     "execution_count": 44,
     "metadata": {},
     "output_type": "execute_result"
    }
   ],
   "source": [
    "language_model.generate(max_length=1000)"
   ]
  },
  {
   "cell_type": "code",
   "execution_count": 45,
   "metadata": {},
   "outputs": [
    {
     "data": {
      "text/html": [
       "<div>\n",
       "<style scoped>\n",
       "    .dataframe tbody tr th:only-of-type {\n",
       "        vertical-align: middle;\n",
       "    }\n",
       "\n",
       "    .dataframe tbody tr th {\n",
       "        vertical-align: top;\n",
       "    }\n",
       "\n",
       "    .dataframe thead th {\n",
       "        text-align: right;\n",
       "    }\n",
       "</style>\n",
       "<table border=\"1\" class=\"dataframe\">\n",
       "  <thead>\n",
       "    <tr style=\"text-align: right;\">\n",
       "      <th></th>\n",
       "      <th>pronunciation</th>\n",
       "      <th>is_novel_word</th>\n",
       "      <th>num_phonemes</th>\n",
       "      <th>num_syllables</th>\n",
       "      <th>num_primary_stressed_syllables</th>\n",
       "    </tr>\n",
       "  </thead>\n",
       "  <tbody>\n",
       "    <tr>\n",
       "      <th>84</th>\n",
       "      <td>(ˈ, b, r, aɪ, t)</td>\n",
       "      <td>False</td>\n",
       "      <td>4</td>\n",
       "      <td>1</td>\n",
       "      <td>1</td>\n",
       "    </tr>\n",
       "    <tr>\n",
       "      <th>94</th>\n",
       "      <td>(ˈ, d, ɔ, r, ə, l)</td>\n",
       "      <td>True</td>\n",
       "      <td>5</td>\n",
       "      <td>2</td>\n",
       "      <td>1</td>\n",
       "    </tr>\n",
       "    <tr>\n",
       "      <th>40</th>\n",
       "      <td>(ˈ, m, æ, k)</td>\n",
       "      <td>False</td>\n",
       "      <td>3</td>\n",
       "      <td>1</td>\n",
       "      <td>1</td>\n",
       "    </tr>\n",
       "    <tr>\n",
       "      <th>74</th>\n",
       "      <td>(ˈ, s, t, ɪ, n, ə, ˌ, b, æ, n)</td>\n",
       "      <td>True</td>\n",
       "      <td>8</td>\n",
       "      <td>3</td>\n",
       "      <td>1</td>\n",
       "    </tr>\n",
       "    <tr>\n",
       "      <th>77</th>\n",
       "      <td>(ˈ, s, k, ɑː, r, p, s)</td>\n",
       "      <td>True</td>\n",
       "      <td>6</td>\n",
       "      <td>1</td>\n",
       "      <td>1</td>\n",
       "    </tr>\n",
       "    <tr>\n",
       "      <th>23</th>\n",
       "      <td>(ˈ, b, ɪ, r, ɝ, ˌ, s, t, eɪ, t)</td>\n",
       "      <td>True</td>\n",
       "      <td>8</td>\n",
       "      <td>3</td>\n",
       "      <td>1</td>\n",
       "    </tr>\n",
       "    <tr>\n",
       "      <th>86</th>\n",
       "      <td>(ˈ, k, ɑː, r, dʒ, ə, n)</td>\n",
       "      <td>True</td>\n",
       "      <td>6</td>\n",
       "      <td>2</td>\n",
       "      <td>1</td>\n",
       "    </tr>\n",
       "    <tr>\n",
       "      <th>95</th>\n",
       "      <td>(ˈ, l, ɪ, l, ɪ, s, t)</td>\n",
       "      <td>True</td>\n",
       "      <td>6</td>\n",
       "      <td>2</td>\n",
       "      <td>1</td>\n",
       "    </tr>\n",
       "    <tr>\n",
       "      <th>72</th>\n",
       "      <td>(ˈ, b, r, æ, t, ə, n)</td>\n",
       "      <td>False</td>\n",
       "      <td>6</td>\n",
       "      <td>2</td>\n",
       "      <td>1</td>\n",
       "    </tr>\n",
       "    <tr>\n",
       "      <th>13</th>\n",
       "      <td>(ˈ, b, ɛ, n, ˌ, m, aɪ, n)</td>\n",
       "      <td>True</td>\n",
       "      <td>6</td>\n",
       "      <td>2</td>\n",
       "      <td>1</td>\n",
       "    </tr>\n",
       "  </tbody>\n",
       "</table>\n",
       "</div>"
      ],
      "text/plain": [
       "                      pronunciation  is_novel_word  num_phonemes  \\\n",
       "84                 (ˈ, b, r, aɪ, t)          False             4   \n",
       "94               (ˈ, d, ɔ, r, ə, l)           True             5   \n",
       "40                     (ˈ, m, æ, k)          False             3   \n",
       "74   (ˈ, s, t, ɪ, n, ə, ˌ, b, æ, n)           True             8   \n",
       "77           (ˈ, s, k, ɑː, r, p, s)           True             6   \n",
       "23  (ˈ, b, ɪ, r, ɝ, ˌ, s, t, eɪ, t)           True             8   \n",
       "86          (ˈ, k, ɑː, r, dʒ, ə, n)           True             6   \n",
       "95            (ˈ, l, ɪ, l, ɪ, s, t)           True             6   \n",
       "72            (ˈ, b, r, æ, t, ə, n)          False             6   \n",
       "13        (ˈ, b, ɛ, n, ˌ, m, aɪ, n)           True             6   \n",
       "\n",
       "    num_syllables  num_primary_stressed_syllables  \n",
       "84              1                               1  \n",
       "94              2                               1  \n",
       "40              1                               1  \n",
       "74              3                               1  \n",
       "77              1                               1  \n",
       "23              3                               1  \n",
       "86              2                               1  \n",
       "95              2                               1  \n",
       "72              2                               1  \n",
       "13              2                               1  "
      ]
     },
     "execution_count": 45,
     "metadata": {},
     "output_type": "execute_result"
    }
   ],
   "source": [
    "generated_pronunciations = pd.DataFrame({\n",
    "    'pronunciation': [\n",
    "        language_model.generate(max_length=1000, temperature=.5)\n",
    "        for _ in range(100)\n",
    "    ]\n",
    "})\n",
    "\n",
    "generated_pronunciations['is_novel_word'] = ~generated_pronunciations.pronunciation.isin(pronunciations.pronunciation)\n",
    "augment_pronunciations_df(generated_pronunciations)\n",
    "\n",
    "# Occasionally the model generates empty pronunciations.\n",
    "generated_pronunciations = generated_pronunciations[generated_pronunciations.num_phonemes > 0]\n",
    "\n",
    "generated_pronunciations.sample(10)"
   ]
  },
  {
   "cell_type": "code",
   "execution_count": 48,
   "metadata": {},
   "outputs": [
    {
     "data": {
      "text/plain": [
       "25    ˈmɔrˌmɔr\n",
       "37      ˈhælən\n",
       "46     ˈhændən\n",
       "91      ˈdiːnz\n",
       "36      ˈkɔrtɝ\n",
       "31     ˈdrɪŋkt\n",
       "75     ˈlɛdənz\n",
       "27     ˈsɪkənd\n",
       "95     ˈlɪlɪst\n",
       "33       ˈbɑːs\n",
       "Name: pronunciation, dtype: object"
      ]
     },
     "execution_count": 48,
     "metadata": {},
     "output_type": "execute_result"
    }
   ],
   "source": [
    "generated_pronunciations.sample(10).pronunciation.map(lambda p: ''.join(p))"
   ]
  },
  {
   "cell_type": "code",
   "execution_count": null,
   "metadata": {},
   "outputs": [],
   "source": []
  },
  {
   "cell_type": "markdown",
   "metadata": {},
   "source": [
    "I generated 10,000 new pronunciations. Of those, 75% are novel pronunciations and 25% were in the training set."
   ]
  },
  {
   "cell_type": "code",
   "execution_count": 46,
   "metadata": {},
   "outputs": [
    {
     "data": {
      "image/png": "[encoded data removed]",
      "text/plain": [
       "<Figure size 432x288 with 1 Axes>"
      ]
     },
     "metadata": {
      "needs_background": "light"
     },
     "output_type": "display_data"
    }
   ],
   "source": [
    "def show_proportion_novel(generated_pronunciations):\n",
    "    counts = generated_pronunciations.is_novel_word.value_counts()\n",
    "    percentages = counts / counts.sum() * 100\n",
    "    \n",
    "    percentages.index = percentages.index.map({True: 'Novel Word', False: 'Existing Word'})\n",
    "    percentages.plot.bar()\n",
    "    plt.title('Percentage of Generated Words that are Novel')\n",
    "\n",
    "show_proportion_novel(generated_pronunciations)    "
   ]
  },
  {
   "cell_type": "markdown",
   "metadata": {},
   "source": [
    "Here are some randomly generated proununciations. I'm printing five pronunciations for each syllable count. Note that these are all novel words."
   ]
  },
  {
   "cell_type": "code",
   "execution_count": 51,
   "metadata": {},
   "outputs": [
    {
     "name": "stdout",
     "output_type": "stream",
     "text": [
      "These have 1 syllables\n",
      "\tˈkræŋ\n",
      "\tˈgrɛm\n",
      "\tˈbrɛks\n",
      "\tˈpɔrg\n",
      "\tˈskɑːrps\n",
      "These have 2 syllables\n",
      "\tˈbeɪnsɪŋ\n",
      "\tˈkrɛtən\n",
      "\tˈtrɪndˌtaɪk\n",
      "\tˈræntɝz\n",
      "\tˈmuːlɪs\n",
      "These have 3 syllables\n",
      "\tˈbænəˌsɪl\n",
      "\tˈbɪrɝˌsteɪt\n",
      "\tmɑːˈlɪtən\n",
      "\tˈwɪlɪˌseɪt\n",
      "\tˈsmɛləˌtiːz\n"
     ]
    }
   ],
   "source": [
    "novel_generated_pronunciations = generated_pronunciations[generated_pronunciations.is_novel_word]\n",
    "\n",
    "for num_syllables in range(1, 5):\n",
    "    \n",
    "    novel_with_syllable_count = novel_generated_pronunciations[novel_generated_pronunciations.num_syllables==num_syllables]\n",
    "    if novel_with_syllable_count.empty:\n",
    "        break\n",
    "    \n",
    "    print(f'These have {num_syllables} syllables')\n",
    "\n",
    "    for pronunciation in novel_with_syllable_count.sample(min(5, len(novel_with_syllable_count))).pronunciation:\n",
    "        print('\\t{}'.format(''.join(pronunciation)))"
   ]
  },
  {
   "cell_type": "markdown",
   "metadata": {},
   "source": [
    "The main thing that jumps out at me is that these all sound like conceivable English words. There are a few sort of awkward words, like /G OW1 JH D/, but there's nothing unpronouncable. And the stress patterns feel natural to me.\n",
    "\n"
   ]
  },
  {
   "cell_type": "markdown",
   "metadata": {},
   "source": [
    "The length of the words the model generates (both in terms of phonemes and syllables) is fairly similar to the training data."
   ]
  },
  {
   "cell_type": "code",
   "execution_count": 52,
   "metadata": {},
   "outputs": [
    {
     "data": {
      "image/png": "[encoded data removed]",
      "text/plain": [
       "<Figure size 720x360 with 1 Axes>"
      ]
     },
     "metadata": {
      "needs_background": "light"
     },
     "output_type": "display_data"
    }
   ],
   "source": [
    "pronunciations.num_phonemes.hist(density=True, figsize=(10, 5), label='English')\n",
    "generated_pronunciations.num_phonemes.hist(density=True, alpha=.75, label='Generated')\n",
    "plt.xlabel('Number of Phonemes')\n",
    "plt.ylabel('Proportion of Words')\n",
    "plt.title('Phoneme Count Comparison')\n",
    "_ = plt.legend()"
   ]
  },
  {
   "cell_type": "code",
   "execution_count": 53,
   "metadata": {},
   "outputs": [
    {
     "data": {
      "image/png": "[encoded data removed]",
      "text/plain": [
       "<Figure size 720x360 with 1 Axes>"
      ]
     },
     "metadata": {
      "needs_background": "light"
     },
     "output_type": "display_data"
    }
   ],
   "source": [
    "pronunciations.num_syllables.hist(density=True, figsize=(10, 5), label='English')\n",
    "generated_pronunciations.num_syllables.hist(density=True, alpha=.75, label='Generated')\n",
    "plt.xlabel('Number of Syllables')\n",
    "plt.ylabel('Proportion of Words')\n",
    "plt.title('Syllable Count Comparison')\n",
    "_ = plt.legend()"
   ]
  },
  {
   "cell_type": "markdown",
   "metadata": {},
   "source": [
    "In the next section I'll probe the model to figure out whether it's just getting lucky or has learned something."
   ]
  },
  {
   "cell_type": "markdown",
   "metadata": {},
   "source": [
    "## What Rules is the Model Actually Learning? ##\n",
    "\n",
    "Given the overfitting examples we saw earlier where the model had memorized \"constitutional\" and similar words, I wanted to probe the model to make sure it's learning some more general properties."
   ]
  },
  {
   "cell_type": "markdown",
   "metadata": {},
   "source": [
    "An interesting place to start is at the start of each generated pronunciation. Here are the probabilities for the first phoneme in a word:"
   ]
  },
  {
   "cell_type": "code",
   "execution_count": null,
   "metadata": {},
   "outputs": [],
   "source": [
    "plot_next_phoneme_distribution(language_model, (), min_probability=0.02)"
   ]
  },
  {
   "cell_type": "code",
   "execution_count": null,
   "metadata": {},
   "outputs": [],
   "source": []
  },
  {
   "cell_type": "code",
   "execution_count": null,
   "metadata": {},
   "outputs": [],
   "source": [
    "first_phoneme_counts = pronunciations.pronunciation.apply(itemgetter(0)).value_counts()\n",
    "(first_phoneme_counts / first_phoneme_counts.sum())[:20].plot.bar()\n",
    "plt.xlabel('Phoneme')\n",
    "_ = plt.title('Distribution of First Phoneme in English WOrds')"
   ]
  },
  {
   "cell_type": "markdown",
   "metadata": {},
   "source": [
    "The model's probabilities almost exactly match the actual distribution of first phonemes in the training set. I was hoping that the model might learn some more general properties, like that obstruents (e.g. /K/, /P/, /D/) are equally likely to occur at the beginning of the word, but I appear to have given the model enough capacity to learn more specific sound transition probabilities. This is arguably better since the model can differentiate between very likely English pronunciations instead of just valid ones."
   ]
  },
  {
   "cell_type": "markdown",
   "metadata": {},
   "source": [
    "Some quick background on English word structure first. Words are composed of syllables. A syllable consists of an onset, a nucleus, and a coda. The nucleus is usually a vowel (or syllablic consonant like /ER/). The syllable /K R EH1 P T/ has /K R/ in the onset, /EH1/ in the nucleus, and /P T/ in the coda.\n",
    "\n",
    "English prefers that syllables at the end of a word have a coda. Consonants can serve as the codas of syllables. Diphthongs (/EY/, /OW/, /AW/, /OY/, /IY/) also have coda.\n",
    "\n",
    "Compare the two pronunciations below, /K EY1/ and /KEH1/."
   ]
  },
  {
   "cell_type": "code",
   "execution_count": null,
   "metadata": {},
   "outputs": [],
   "source": [
    "plot_pronunciation_probability(language_model, (\"S\", \"EY1\"))"
   ]
  },
  {
   "cell_type": "code",
   "execution_count": null,
   "metadata": {},
   "outputs": [],
   "source": [
    "plot_pronunciation_probability(language_model, (\"S\", \"EH1\"))"
   ]
  },
  {
   "cell_type": "markdown",
   "metadata": {},
   "source": [
    "After /S EY1/ the model assigns a 3% probability of the word ending. But /S EH1/ doesn't have a coda, so the model assigns a 0% probability of the word ending.\n",
    "\n",
    "By closing /S EH1/ with /D/ below, we create a complete word."
   ]
  },
  {
   "cell_type": "code",
   "execution_count": null,
   "metadata": {},
   "outputs": [],
   "source": [
    "plot_pronunciation_probability(language_model, (\"S\", \"EH1\", \"D\"))"
   ]
  },
  {
   "cell_type": "markdown",
   "metadata": {},
   "source": [
    "The model also seems to have learned some intersting stress patterns."
   ]
  },
  {
   "cell_type": "code",
   "execution_count": null,
   "metadata": {},
   "outputs": [],
   "source": [
    "plot_pronunciation_probability(language_model, ('AH0', 'D'))"
   ]
  },
  {
   "cell_type": "code",
   "execution_count": null,
   "metadata": {},
   "outputs": [],
   "source": [
    "plot_pronunciation_probability(language_model, ('AH1', 'D'))"
   ]
  },
  {
   "cell_type": "markdown",
   "metadata": {},
   "source": [
    "It knows that the word /AH0 D/ is very unlikely (it assigns a 0 probability to the word ending there) because a word has to have some stress in it. /AH1 D/ is fine though because it's stressed."
   ]
  },
  {
   "cell_type": "markdown",
   "metadata": {},
   "source": [
    "The model also learned patterns about stress over multiple syllables. A *foot* is a pair of syllables. A *trochee* contains a stressed syllable followed by an unstressed one. And an *iamb* is an unstressed syllable followed by a stressed one.\n",
    "\n",
    "English, in general, prefers trochees. This implies that the model should assign a lower perplexity to trochees than iambs."
   ]
  },
  {
   "cell_type": "code",
   "execution_count": null,
   "metadata": {},
   "outputs": [],
   "source": [
    "print('Trochee: {:.2f}'.format(language_model.perplexity_of_text((\"T\", \"R\", \"OW1\", \"K\", \"IY0\"))))\n",
    "print('Iamb:    {:.2f}'.format(language_model.perplexity_of_text((\"T\", \"R\", \"OW0\", \"K\", \"IY1\"))))"
   ]
  },
  {
   "cell_type": "markdown",
   "metadata": {},
   "source": [
    "It does in fact prefer the trochee versions in both cases."
   ]
  },
  {
   "cell_type": "markdown",
   "metadata": {},
   "source": [
    "Another English phonotactic rule, from Wikipedia, is: \"Two obstruents in the same coda must share voicing (compare kids /K IH1 D Z/ with kits /K IH1 T S/)\". Hopefully the model will assign a higher perplexity when this rule is violated below."
   ]
  },
  {
   "cell_type": "code",
   "execution_count": null,
   "metadata": {},
   "outputs": [],
   "source": [
    "print('Perplexity for /T EH1 B Z/: {:.0f}'.format(language_model.perplexity_of_text(('T', 'EH1', 'B', 'Z'))))\n",
    "print('Perplexity for /T EH1 B S/: {:.0f}'.format(language_model.perplexity_of_text(('T', 'EH1', 'B', 'S'))))\n",
    "print()\n",
    "print('Perplexity for /T EH1 P S/: {:.0f}'.format(language_model.perplexity_of_text(('T', 'EH1', 'P', 'S'))))\n",
    "print('Perplexity for /T EH1 P Z/: {:.0f}'.format(language_model.perplexity_of_text(('T', 'EH1', 'P', 'Z'))))"
   ]
  },
  {
   "cell_type": "markdown",
   "metadata": {},
   "source": [
    "Perplexity is higher when the two phonemes in the coda do not match in voicing. The model could just be learning that adjacent phonemes should ideally share voicing though. To test whether it's actually learned the rule about voicing in codas I'll change the syllable structure."
   ]
  },
  {
   "cell_type": "code",
   "execution_count": null,
   "metadata": {},
   "outputs": [],
   "source": [
    "print('Perplexity for /T EH1 B Z AH0/: {:.0f}'.format(language_model.perplexity_of_text(('T', 'EH1', 'B', 'Z', 'AH0'))))\n",
    "print('Perplexity for /T EH1 B S AH0/: {:.0f}'.format(language_model.perplexity_of_text(('T', 'EH1', 'B', 'S', 'AH0'))))\n",
    "print()\n",
    "print('Perplexity for /T EH1 P Z AH0/: {:.0f}'.format(language_model.perplexity_of_text(('T', 'EH1', 'P', 'Z', 'AH0'))))\n",
    "print('Perplexity for /T EH1 P S AH0/: {:.0f}'.format(language_model.perplexity_of_text(('T', 'EH1', 'P', 'S', 'AH0'))))"
   ]
  },
  {
   "cell_type": "markdown",
   "metadata": {},
   "source": [
    "These four words are identical to the first except that I've inserted /AH0/ to the end of the word, which allows the /S/ and /Z/ to form a second syllable with it. Since /S/ and /Z/ become onsets of the next syllable they're not subject to the constraint on the previous syllable's coda."
   ]
  },
  {
   "cell_type": "markdown",
   "metadata": {},
   "source": [
    "## Probing the Embeddings (WIP) ##"
   ]
  },
  {
   "cell_type": "code",
   "execution_count": 60,
   "metadata": {},
   "outputs": [
    {
     "name": "stdout",
     "output_type": "stream",
     "text": [
      "[1.000]\tdʒ\n",
      "[0.833]\tð\n",
      "[0.694]\th\n",
      "[0.579]\ttʃ\n",
      "[0.570]\tv\n",
      "[0.568]\tw\n",
      "[0.535]\tj\n",
      "[0.477]\tt\n",
      "[0.456]\tʃ\n",
      "[0.440]\tl\n"
     ]
    }
   ],
   "source": [
    "def most_similar_phonemes(language_model, embedding, topn=10):\n",
    "    other_to_sim = {\n",
    "        phoneme: cosine_similarity(language_model.embedding_for(phoneme), embedding).item()\n",
    "        for phoneme in language_model.vocab.tokens\n",
    "\n",
    "    }\n",
    "\n",
    "    for other_phoneme, similarity in sorted(other_to_sim.items(), key=lambda p: -p[1])[:topn]:\n",
    "        print(f'[{similarity:.3f}]\\t{other_phoneme}')\n",
    "        \n",
    "most_similar_phonemes(language_model, language_model.embedding_for('dʒ'))"
   ]
  },
  {
   "cell_type": "markdown",
   "metadata": {},
   "source": [
    "See whether I can make an embedding for different features.\n",
    "\n",
    "For consonants:\n",
    "- voicing\n",
    "- place: bilabial, dental, alveolar, palatal, velar\n",
    "- manner: stop, fricative, nasal\n",
    "\n",
    "For vowels:\n",
    "- front/back\n",
    "- closed/open\n",
    "- rounding\n",
    "\n",
    "General:\n",
    "- syllabic\n"
   ]
  },
  {
   "cell_type": "code",
   "execution_count": null,
   "metadata": {},
   "outputs": [],
   "source": [
    "def build_vector(language_model, class1_phonemes, class2_phonemes):\n",
    "    class1_embeddings = [language_model.embedding_for(phoneme) for phoneme in class1_phonemes]\n",
    "    class2_embeddings = [language_model.embedding_for(phoneme) for phoneme in class2_phonemes]\n",
    "    class1_mean = np.mean(class1_embeddings, axis=0)\n",
    "    class2_mean = np.mean(class2_embeddings, axis=0)\n",
    "    return class1_mean - class2_mean\n",
    "\n",
    "voicing = build_vector(language_model, {'B', 'V', 'DH', 'JH', 'G'}, {'P', 'F', 'TH', 'CH', 'K'})\n",
    "most_similar_phonemes(language_model, voicing + language_model.embedding_for('P'))"
   ]
  },
  {
   "cell_type": "code",
   "execution_count": null,
   "metadata": {},
   "outputs": [],
   "source": [
    "def analogy(language_model, a, b, c):\n",
    "    \"\"\"\n",
    "    a - b = c - w\n",
    "    argmax(w) over sim(w, c - a + b)\n",
    "    \"\"\"\n",
    "    emb_a = language_model.embedding_for(a)\n",
    "    emb_b = language_model.embedding_for(b)\n",
    "    emb_c = language_model.embedding_for(c)\n",
    "    \n",
    "    all_phonemes = language_model.vocab.tokens - set(language_model.vocab.DUMMY_TOKENS)\n",
    "    \n",
    "    phoneme_to_sim = {}\n",
    "    for phoneme in all_phonemes:\n",
    "        if phoneme in {a, b, c}:\n",
    "            continue\n",
    "        \n",
    "        emb_p = language_model.embedding_for(phoneme)\n",
    "        sim = cosine_similarity(emb_p, emb_c - emb_a + emb_b)\n",
    "        phoneme_to_sim[phoneme] = sim.item()\n",
    "    return phoneme_to_sim\n",
    "\n",
    "analogies = analogy(language_model, 'p', 'k', 'd')\n",
    "for phoneme, sim in sorted(analogies.items(), key=lambda p: -p[1])[:10]:\n",
    "    print(f'[{sim:.4f}] {phoneme}')\n"
   ]
  },
  {
   "cell_type": "code",
   "execution_count": null,
   "metadata": {},
   "outputs": [],
   "source": []
  }
 ],
 "metadata": {
  "kernelspec": {
   "display_name": "Python 3",
   "language": "python",
   "name": "python3"
  },
  "language_info": {
   "codemirror_mode": {
    "name": "ipython",
    "version": 3
   },
   "file_extension": ".py",
   "mimetype": "text/x-python",
   "name": "python",
   "nbconvert_exporter": "python",
   "pygments_lexer": "ipython3",
   "version": "3.6.6"
  }
 },
 "nbformat": 4,
 "nbformat_minor": 4
}
