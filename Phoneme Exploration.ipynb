{
 "cells": [
  {
   "cell_type": "markdown",
   "metadata": {},
   "source": [
    "# Model Exploration #\n",
    "In the notebook `Model Training.ipynb` I trained a language model over English pronunciations from [the CMU Pronouncing Dictionary](http://www.speech.cs.cmu.edu/cgi-bin/cmudict). CMU Dict contains phonetic representations of about 132,000 words, so the goal of the language model is to learn what sequences of sounds constitute good words.\n",
    "\n",
    "In this notebook I use the model to:\n",
    "1. **Identify which English pronunciations are most- and least-Englishlike**. For example, I would expect \"fun\" to sound normal and a borrowed word like \"cliché\" to be less normal.\n",
    "2. **Generate novel words** that aren't English words but sound like they could be.\n",
    "\n",
    "I'll also dig into what the model has learned to see whether it has learned the [phonotactics rules](https://en.wikipedia.org/wiki/Phonotactics) that all English speakers subconsciously understand.\n",
    "\n",
    "Note that the pronunciations are in [IPA](https://en.wikipedia.org/wiki/International_Phonetic_Alphabet)."
   ]
  },
  {
   "cell_type": "code",
   "execution_count": 6,
   "metadata": {},
   "outputs": [],
   "source": [
    "import numpy as np\n",
    "\n",
    "import pandas as pd\n",
    "import torch\n",
    "from matplotlib import pyplot as plt\n",
    "from sklearn.metrics.pairwise import cosine_similarity\n",
    "\n",
    "from sonorous.analysis_utils import analogy, most_similar_phonemes, plot_next_phoneme_distribution, plot_pronunciation_probability\n",
    "from sonorous.languagemodel import LanguageModel\n",
    "from sonorous.utils import perplexity\n",
    "from sonorous.pronunciationdata import augment_pronunciations_df, load_pronunciations"
   ]
  },
  {
   "cell_type": "code",
   "execution_count": 7,
   "metadata": {},
   "outputs": [],
   "source": [
    "pd.options.display.max_rows = 500\n",
    "pd.options.display.max_columns = 100\n",
    "pd.options.display.max_colwidth = 255"
   ]
  },
  {
   "cell_type": "markdown",
   "metadata": {},
   "source": [
    "First I'll load the model that I trained in `Model Training.ipynb`, as well as all of the pronunciations from CMU Dict."
   ]
  },
  {
   "cell_type": "code",
   "execution_count": 8,
   "metadata": {},
   "outputs": [],
   "source": [
    "with open('models/gru_10_10_1.pt', 'rb') as fh:\n",
    "    language_model = LanguageModel.load(fh, device_name='cpu')"
   ]
  },
  {
   "cell_type": "code",
   "execution_count": 9,
   "metadata": {},
   "outputs": [
    {
     "name": "stdout",
     "output_type": "stream",
     "text": [
      "There are 131,964 pronunciations.\n",
      "\n",
      "Sample of 5 pronunciations:\n"
     ]
    },
    {
     "data": {
      "text/html": [
       "<div>\n",
       "<style scoped>\n",
       "    .dataframe tbody tr th:only-of-type {\n",
       "        vertical-align: middle;\n",
       "    }\n",
       "\n",
       "    .dataframe tbody tr th {\n",
       "        vertical-align: top;\n",
       "    }\n",
       "\n",
       "    .dataframe thead th {\n",
       "        text-align: right;\n",
       "    }\n",
       "</style>\n",
       "<table border=\"1\" class=\"dataframe\">\n",
       "  <thead>\n",
       "    <tr style=\"text-align: right;\">\n",
       "      <th></th>\n",
       "      <th>pronunciation</th>\n",
       "      <th>as_string</th>\n",
       "      <th>num_phonemes</th>\n",
       "      <th>num_syllables</th>\n",
       "    </tr>\n",
       "    <tr>\n",
       "      <th>word</th>\n",
       "      <th></th>\n",
       "      <th></th>\n",
       "      <th></th>\n",
       "      <th></th>\n",
       "    </tr>\n",
       "  </thead>\n",
       "  <tbody>\n",
       "    <tr>\n",
       "      <th>keirns</th>\n",
       "      <td>(ˈ, k, aɪ, r, n, z)</td>\n",
       "      <td>ˈkaɪrnz</td>\n",
       "      <td>5</td>\n",
       "      <td>1</td>\n",
       "    </tr>\n",
       "    <tr>\n",
       "      <th>burchill</th>\n",
       "      <td>(ˈ, b, ɝː, tʃ, ɪ, l)</td>\n",
       "      <td>ˈbɝːtʃɪl</td>\n",
       "      <td>5</td>\n",
       "      <td>2</td>\n",
       "    </tr>\n",
       "    <tr>\n",
       "      <th>osswald</th>\n",
       "      <td>(ˈ, ɑː, s, w, ə, l, d)</td>\n",
       "      <td>ˈɑːswəld</td>\n",
       "      <td>6</td>\n",
       "      <td>2</td>\n",
       "    </tr>\n",
       "    <tr>\n",
       "      <th>turbines</th>\n",
       "      <td>(ˈ, t, ɝː, b, aɪ, n, z)</td>\n",
       "      <td>ˈtɝːbaɪnz</td>\n",
       "      <td>6</td>\n",
       "      <td>2</td>\n",
       "    </tr>\n",
       "    <tr>\n",
       "      <th>mintage</th>\n",
       "      <td>(ˈ, m, ɪ, n, t, ɪ, dʒ)</td>\n",
       "      <td>ˈmɪntɪdʒ</td>\n",
       "      <td>6</td>\n",
       "      <td>2</td>\n",
       "    </tr>\n",
       "  </tbody>\n",
       "</table>\n",
       "</div>"
      ],
      "text/plain": [
       "                    pronunciation  as_string  num_phonemes  num_syllables\n",
       "word                                                                     \n",
       "keirns        (ˈ, k, aɪ, r, n, z)    ˈkaɪrnz             5              1\n",
       "burchill     (ˈ, b, ɝː, tʃ, ɪ, l)   ˈbɝːtʃɪl             5              2\n",
       "osswald    (ˈ, ɑː, s, w, ə, l, d)   ˈɑːswəld             6              2\n",
       "turbines  (ˈ, t, ɝː, b, aɪ, n, z)  ˈtɝːbaɪnz             6              2\n",
       "mintage    (ˈ, m, ɪ, n, t, ɪ, dʒ)   ˈmɪntɪdʒ             6              2"
      ]
     },
     "metadata": {},
     "output_type": "display_data"
    }
   ],
   "source": [
    "pronunciations = load_pronunciations()\n",
    "print(f\"There are {len(pronunciations):,} pronunciations.\")\n",
    "print()\n",
    "print(\"Sample of 5 pronunciations:\")\n",
    "\n",
    "display(pronunciations.sample(5))"
   ]
  },
  {
   "cell_type": "markdown",
   "metadata": {},
   "source": [
    "## What Words are the Most and Least Englishy? ##\n",
    "Since the model can assign a probability to any pronunciation, I can run it over the entire set of pronunciations in the Pronouncing Dictionary and identify the ones that have high and low likelihood of being English.\n",
    "\n",
    "I'll be using [perplexity](https://en.wikipedia.org/wiki/Perplexity) as a measurement of how likely the model thinks each pronunciation is. Perplexity has an inverse relationship with probability, and high perplexity indicates the model was surprised by an odd word."
   ]
  },
  {
   "cell_type": "code",
   "execution_count": 10,
   "metadata": {},
   "outputs": [],
   "source": [
    "pronunciations['perplexity'] = pronunciations.pronunciation.apply(language_model.perplexity_of_text)\n",
    "pronunciations.sort_values('perplexity', inplace=True)"
   ]
  },
  {
   "cell_type": "markdown",
   "metadata": {},
   "source": [
    "Let's look at the least perplexing words. These are the ones the model was totally unsurprised because they seem very normal."
   ]
  },
  {
   "cell_type": "code",
   "execution_count": 11,
   "metadata": {},
   "outputs": [
    {
     "data": {
      "text/html": [
       "<div>\n",
       "<style scoped>\n",
       "    .dataframe tbody tr th:only-of-type {\n",
       "        vertical-align: middle;\n",
       "    }\n",
       "\n",
       "    .dataframe tbody tr th {\n",
       "        vertical-align: top;\n",
       "    }\n",
       "\n",
       "    .dataframe thead th {\n",
       "        text-align: right;\n",
       "    }\n",
       "</style>\n",
       "<table border=\"1\" class=\"dataframe\">\n",
       "  <thead>\n",
       "    <tr style=\"text-align: right;\">\n",
       "      <th></th>\n",
       "      <th>pronunciation</th>\n",
       "      <th>as_string</th>\n",
       "      <th>num_phonemes</th>\n",
       "      <th>num_syllables</th>\n",
       "      <th>perplexity</th>\n",
       "    </tr>\n",
       "    <tr>\n",
       "      <th>word</th>\n",
       "      <th></th>\n",
       "      <th></th>\n",
       "      <th></th>\n",
       "      <th></th>\n",
       "      <th></th>\n",
       "    </tr>\n",
       "  </thead>\n",
       "  <tbody>\n",
       "    <tr>\n",
       "      <th>intonations</th>\n",
       "      <td>(ˌ, ɪ, n, t, ə, ˈ, n, eɪ, ʃ, ə, n, z)</td>\n",
       "      <td>ˌɪntəˈneɪʃənz</td>\n",
       "      <td>10</td>\n",
       "      <td>4</td>\n",
       "      <td>4.413872</td>\n",
       "    </tr>\n",
       "    <tr>\n",
       "      <th>intonation</th>\n",
       "      <td>(ˌ, ɪ, n, t, ə, ˈ, n, eɪ, ʃ, ə, n)</td>\n",
       "      <td>ˌɪntəˈneɪʃən</td>\n",
       "      <td>9</td>\n",
       "      <td>4</td>\n",
       "      <td>4.495387</td>\n",
       "    </tr>\n",
       "    <tr>\n",
       "      <th>installations</th>\n",
       "      <td>(ˌ, ɪ, n, s, t, ə, ˈ, l, eɪ, ʃ, ə, n, z)</td>\n",
       "      <td>ˌɪnstəˈleɪʃənz</td>\n",
       "      <td>11</td>\n",
       "      <td>4</td>\n",
       "      <td>4.735175</td>\n",
       "    </tr>\n",
       "    <tr>\n",
       "      <th>installation</th>\n",
       "      <td>(ˌ, ɪ, n, s, t, ə, ˈ, l, eɪ, ʃ, ə, n)</td>\n",
       "      <td>ˌɪnstəˈleɪʃən</td>\n",
       "      <td>10</td>\n",
       "      <td>4</td>\n",
       "      <td>4.815806</td>\n",
       "    </tr>\n",
       "    <tr>\n",
       "      <th>indications</th>\n",
       "      <td>(ˌ, ɪ, n, d, ə, ˈ, k, eɪ, ʃ, ə, n, z)</td>\n",
       "      <td>ˌɪndəˈkeɪʃənz</td>\n",
       "      <td>10</td>\n",
       "      <td>4</td>\n",
       "      <td>4.855756</td>\n",
       "    </tr>\n",
       "    <tr>\n",
       "      <th>indication</th>\n",
       "      <td>(ˌ, ɪ, n, d, ə, ˈ, k, eɪ, ʃ, ə, n)</td>\n",
       "      <td>ˌɪndəˈkeɪʃən</td>\n",
       "      <td>9</td>\n",
       "      <td>4</td>\n",
       "      <td>4.937654</td>\n",
       "    </tr>\n",
       "    <tr>\n",
       "      <th>insulation</th>\n",
       "      <td>(ˌ, ɪ, n, s, ə, ˈ, l, eɪ, ʃ, ə, n)</td>\n",
       "      <td>ˌɪnsəˈleɪʃən</td>\n",
       "      <td>9</td>\n",
       "      <td>4</td>\n",
       "      <td>4.968088</td>\n",
       "    </tr>\n",
       "    <tr>\n",
       "      <th>karman</th>\n",
       "      <td>(ˈ, k, ɑː, r, m, ə, n)</td>\n",
       "      <td>ˈkɑːrmən</td>\n",
       "      <td>6</td>\n",
       "      <td>2</td>\n",
       "      <td>5.068806</td>\n",
       "    </tr>\n",
       "    <tr>\n",
       "      <th>carman</th>\n",
       "      <td>(ˈ, k, ɑː, r, m, ə, n)</td>\n",
       "      <td>ˈkɑːrmən</td>\n",
       "      <td>6</td>\n",
       "      <td>2</td>\n",
       "      <td>5.068806</td>\n",
       "    </tr>\n",
       "    <tr>\n",
       "      <th>carmen</th>\n",
       "      <td>(ˈ, k, ɑː, r, m, ə, n)</td>\n",
       "      <td>ˈkɑːrmən</td>\n",
       "      <td>6</td>\n",
       "      <td>2</td>\n",
       "      <td>5.068806</td>\n",
       "    </tr>\n",
       "  </tbody>\n",
       "</table>\n",
       "</div>"
      ],
      "text/plain": [
       "                                          pronunciation       as_string  \\\n",
       "word                                                                      \n",
       "intonations       (ˌ, ɪ, n, t, ə, ˈ, n, eɪ, ʃ, ə, n, z)   ˌɪntəˈneɪʃənz   \n",
       "intonation           (ˌ, ɪ, n, t, ə, ˈ, n, eɪ, ʃ, ə, n)    ˌɪntəˈneɪʃən   \n",
       "installations  (ˌ, ɪ, n, s, t, ə, ˈ, l, eɪ, ʃ, ə, n, z)  ˌɪnstəˈleɪʃənz   \n",
       "installation      (ˌ, ɪ, n, s, t, ə, ˈ, l, eɪ, ʃ, ə, n)   ˌɪnstəˈleɪʃən   \n",
       "indications       (ˌ, ɪ, n, d, ə, ˈ, k, eɪ, ʃ, ə, n, z)   ˌɪndəˈkeɪʃənz   \n",
       "indication           (ˌ, ɪ, n, d, ə, ˈ, k, eɪ, ʃ, ə, n)    ˌɪndəˈkeɪʃən   \n",
       "insulation           (ˌ, ɪ, n, s, ə, ˈ, l, eɪ, ʃ, ə, n)    ˌɪnsəˈleɪʃən   \n",
       "karman                           (ˈ, k, ɑː, r, m, ə, n)        ˈkɑːrmən   \n",
       "carman                           (ˈ, k, ɑː, r, m, ə, n)        ˈkɑːrmən   \n",
       "carmen                           (ˈ, k, ɑː, r, m, ə, n)        ˈkɑːrmən   \n",
       "\n",
       "               num_phonemes  num_syllables  perplexity  \n",
       "word                                                    \n",
       "intonations              10              4    4.413872  \n",
       "intonation                9              4    4.495387  \n",
       "installations            11              4    4.735175  \n",
       "installation             10              4    4.815806  \n",
       "indications              10              4    4.855756  \n",
       "indication                9              4    4.937654  \n",
       "insulation                9              4    4.968088  \n",
       "karman                    6              2    5.068806  \n",
       "carman                    6              2    5.068806  \n",
       "carmen                    6              2    5.068806  "
      ]
     },
     "execution_count": 11,
     "metadata": {},
     "output_type": "execute_result"
    }
   ],
   "source": [
    "pronunciations.head(10)"
   ]
  },
  {
   "cell_type": "markdown",
   "metadata": {},
   "source": [
    "The ten least perplexing words have very regular structure. All end with /ən/ or /ənz/. The model has learned that these sequences occur a lot so it is not surprised by them. (I'll return to whether this is a problem later.)"
   ]
  },
  {
   "cell_type": "code",
   "execution_count": 12,
   "metadata": {},
   "outputs": [
    {
     "data": {
      "text/html": [
       "<div>\n",
       "<style scoped>\n",
       "    .dataframe tbody tr th:only-of-type {\n",
       "        vertical-align: middle;\n",
       "    }\n",
       "\n",
       "    .dataframe tbody tr th {\n",
       "        vertical-align: top;\n",
       "    }\n",
       "\n",
       "    .dataframe thead th {\n",
       "        text-align: right;\n",
       "    }\n",
       "</style>\n",
       "<table border=\"1\" class=\"dataframe\">\n",
       "  <thead>\n",
       "    <tr style=\"text-align: right;\">\n",
       "      <th></th>\n",
       "      <th>pronunciation</th>\n",
       "      <th>as_string</th>\n",
       "      <th>num_phonemes</th>\n",
       "      <th>num_syllables</th>\n",
       "      <th>perplexity</th>\n",
       "    </tr>\n",
       "    <tr>\n",
       "      <th>word</th>\n",
       "      <th></th>\n",
       "      <th></th>\n",
       "      <th></th>\n",
       "      <th></th>\n",
       "      <th></th>\n",
       "    </tr>\n",
       "  </thead>\n",
       "  <tbody>\n",
       "    <tr>\n",
       "      <th>karman</th>\n",
       "      <td>(ˈ, k, ɑː, r, m, ə, n)</td>\n",
       "      <td>ˈkɑːrmən</td>\n",
       "      <td>6</td>\n",
       "      <td>2</td>\n",
       "      <td>5.068806</td>\n",
       "    </tr>\n",
       "    <tr>\n",
       "      <th>harmon</th>\n",
       "      <td>(ˈ, h, ɑː, r, m, ə, n)</td>\n",
       "      <td>ˈhɑːrmən</td>\n",
       "      <td>6</td>\n",
       "      <td>2</td>\n",
       "      <td>5.075995</td>\n",
       "    </tr>\n",
       "    <tr>\n",
       "      <th>stenson</th>\n",
       "      <td>(ˈ, s, t, ɛ, n, s, ə, n)</td>\n",
       "      <td>ˈstɛnsən</td>\n",
       "      <td>7</td>\n",
       "      <td>2</td>\n",
       "      <td>5.121245</td>\n",
       "    </tr>\n",
       "    <tr>\n",
       "      <th>laxson</th>\n",
       "      <td>(ˈ, l, æ, k, s, ə, n)</td>\n",
       "      <td>ˈlæksən</td>\n",
       "      <td>6</td>\n",
       "      <td>2</td>\n",
       "      <td>5.123622</td>\n",
       "    </tr>\n",
       "    <tr>\n",
       "      <th>branson</th>\n",
       "      <td>(ˈ, b, r, æ, n, s, ə, n)</td>\n",
       "      <td>ˈbrænsən</td>\n",
       "      <td>7</td>\n",
       "      <td>2</td>\n",
       "      <td>5.139247</td>\n",
       "    </tr>\n",
       "  </tbody>\n",
       "</table>\n",
       "</div>"
      ],
      "text/plain": [
       "                    pronunciation as_string  num_phonemes  num_syllables  \\\n",
       "word                                                                       \n",
       "karman     (ˈ, k, ɑː, r, m, ə, n)  ˈkɑːrmən             6              2   \n",
       "harmon     (ˈ, h, ɑː, r, m, ə, n)  ˈhɑːrmən             6              2   \n",
       "stenson  (ˈ, s, t, ɛ, n, s, ə, n)  ˈstɛnsən             7              2   \n",
       "laxson      (ˈ, l, æ, k, s, ə, n)   ˈlæksən             6              2   \n",
       "branson  (ˈ, b, r, æ, n, s, ə, n)  ˈbrænsən             7              2   \n",
       "\n",
       "         perplexity  \n",
       "word                 \n",
       "karman     5.068806  \n",
       "harmon     5.075995  \n",
       "stenson    5.121245  \n",
       "laxson     5.123622  \n",
       "branson    5.139247  "
      ]
     },
     "execution_count": 12,
     "metadata": {},
     "output_type": "execute_result"
    }
   ],
   "source": [
    "pronunciations[pronunciations.num_syllables<=2].drop_duplicates('pronunciation').head()"
   ]
  },
  {
   "cell_type": "markdown",
   "metadata": {},
   "source": [
    "The least perplexing short words (two or fewer syllables) also display a lot of regularity: they are all [trochees](https://en.wikipedia.org/wiki/Trochee) ending with /ən/."
   ]
  },
  {
   "cell_type": "markdown",
   "metadata": {},
   "source": [
    "Now let's look at the high perplexity words-- those that the model is surprised by."
   ]
  },
  {
   "cell_type": "code",
   "execution_count": 13,
   "metadata": {},
   "outputs": [
    {
     "data": {
      "text/html": [
       "<div>\n",
       "<style scoped>\n",
       "    .dataframe tbody tr th:only-of-type {\n",
       "        vertical-align: middle;\n",
       "    }\n",
       "\n",
       "    .dataframe tbody tr th {\n",
       "        vertical-align: top;\n",
       "    }\n",
       "\n",
       "    .dataframe thead th {\n",
       "        text-align: right;\n",
       "    }\n",
       "</style>\n",
       "<table border=\"1\" class=\"dataframe\">\n",
       "  <thead>\n",
       "    <tr style=\"text-align: right;\">\n",
       "      <th></th>\n",
       "      <th>pronunciation</th>\n",
       "      <th>as_string</th>\n",
       "      <th>num_phonemes</th>\n",
       "      <th>num_syllables</th>\n",
       "      <th>perplexity</th>\n",
       "    </tr>\n",
       "    <tr>\n",
       "      <th>word</th>\n",
       "      <th></th>\n",
       "      <th></th>\n",
       "      <th></th>\n",
       "      <th></th>\n",
       "      <th></th>\n",
       "    </tr>\n",
       "  </thead>\n",
       "  <tbody>\n",
       "    <tr>\n",
       "      <th>uhh</th>\n",
       "      <td>(ˈ, ʌ)</td>\n",
       "      <td>ˈʌ</td>\n",
       "      <td>1</td>\n",
       "      <td>1</td>\n",
       "      <td>579.893346</td>\n",
       "    </tr>\n",
       "    <tr>\n",
       "      <th>uh</th>\n",
       "      <td>(ˈ, ʌ)</td>\n",
       "      <td>ˈʌ</td>\n",
       "      <td>1</td>\n",
       "      <td>1</td>\n",
       "      <td>579.893346</td>\n",
       "    </tr>\n",
       "    <tr>\n",
       "      <th>aw</th>\n",
       "      <td>(ˈ, ɔ)</td>\n",
       "      <td>ˈɔ</td>\n",
       "      <td>1</td>\n",
       "      <td>1</td>\n",
       "      <td>476.906686</td>\n",
       "    </tr>\n",
       "    <tr>\n",
       "      <th>awe</th>\n",
       "      <td>(ˈ, ɔ)</td>\n",
       "      <td>ˈɔ</td>\n",
       "      <td>1</td>\n",
       "      <td>1</td>\n",
       "      <td>476.906686</td>\n",
       "    </tr>\n",
       "    <tr>\n",
       "      <th>joie</th>\n",
       "      <td>(ʒ, ˈ, w, ɑː)</td>\n",
       "      <td>ʒˈwɑː</td>\n",
       "      <td>3</td>\n",
       "      <td>1</td>\n",
       "      <td>391.997011</td>\n",
       "    </tr>\n",
       "    <tr>\n",
       "      <th>the</th>\n",
       "      <td>(ˈ, ð, ʌ)</td>\n",
       "      <td>ˈðʌ</td>\n",
       "      <td>2</td>\n",
       "      <td>1</td>\n",
       "      <td>354.876910</td>\n",
       "    </tr>\n",
       "    <tr>\n",
       "      <th>ooh</th>\n",
       "      <td>(ˈ, uː)</td>\n",
       "      <td>ˈuː</td>\n",
       "      <td>1</td>\n",
       "      <td>1</td>\n",
       "      <td>333.015798</td>\n",
       "    </tr>\n",
       "    <tr>\n",
       "      <th>ou</th>\n",
       "      <td>(ˈ, uː)</td>\n",
       "      <td>ˈuː</td>\n",
       "      <td>1</td>\n",
       "      <td>1</td>\n",
       "      <td>333.015798</td>\n",
       "    </tr>\n",
       "    <tr>\n",
       "      <th>oooh</th>\n",
       "      <td>(ˈ, uː)</td>\n",
       "      <td>ˈuː</td>\n",
       "      <td>1</td>\n",
       "      <td>1</td>\n",
       "      <td>333.015798</td>\n",
       "    </tr>\n",
       "    <tr>\n",
       "      <th>oy</th>\n",
       "      <td>(ˈ, ɔɪ)</td>\n",
       "      <td>ˈɔɪ</td>\n",
       "      <td>1</td>\n",
       "      <td>1</td>\n",
       "      <td>332.549606</td>\n",
       "    </tr>\n",
       "  </tbody>\n",
       "</table>\n",
       "</div>"
      ],
      "text/plain": [
       "      pronunciation as_string  num_phonemes  num_syllables  perplexity\n",
       "word                                                                  \n",
       "uhh          (ˈ, ʌ)        ˈʌ             1              1  579.893346\n",
       "uh           (ˈ, ʌ)        ˈʌ             1              1  579.893346\n",
       "aw           (ˈ, ɔ)        ˈɔ             1              1  476.906686\n",
       "awe          (ˈ, ɔ)        ˈɔ             1              1  476.906686\n",
       "joie  (ʒ, ˈ, w, ɑː)     ʒˈwɑː             3              1  391.997011\n",
       "the       (ˈ, ð, ʌ)       ˈðʌ             2              1  354.876910\n",
       "ooh         (ˈ, uː)       ˈuː             1              1  333.015798\n",
       "ou          (ˈ, uː)       ˈuː             1              1  333.015798\n",
       "oooh        (ˈ, uː)       ˈuː             1              1  333.015798\n",
       "oy          (ˈ, ɔɪ)       ˈɔɪ             1              1  332.549606"
      ]
     },
     "execution_count": 13,
     "metadata": {},
     "output_type": "execute_result"
    }
   ],
   "source": [
    "pronunciations.sort_values('perplexity', ascending=False).head(10)"
   ]
  },
  {
   "cell_type": "markdown",
   "metadata": {},
   "source": [
    "All of these are one phoneme words. As you can see in the histogram below, single phoneme words are incredibly rare in the CMU Dict so it makes sense the model would be surprised by these."
   ]
  },
  {
   "cell_type": "code",
   "execution_count": 14,
   "metadata": {},
   "outputs": [
    {
     "data": {
      "image/png": "[encoded data removed]",
      "text/plain": [
       "<Figure size 432x288 with 1 Axes>"
      ]
     },
     "metadata": {
      "needs_background": "light"
     },
     "output_type": "display_data"
    }
   ],
   "source": [
    "pronunciations.num_phonemes.value_counts().sort_index().plot.bar()\n",
    "plt.xlabel('Number of Phonemes')\n",
    "plt.ylabel('Frequency')\n",
    "_ = plt.title('Distribution of Word Lengths')"
   ]
  },
  {
   "cell_type": "markdown",
   "metadata": {},
   "source": [
    "Below are the most perplexing words that have at least two syllables."
   ]
  },
  {
   "cell_type": "code",
   "execution_count": 15,
   "metadata": {},
   "outputs": [
    {
     "data": {
      "text/html": [
       "<div>\n",
       "<style scoped>\n",
       "    .dataframe tbody tr th:only-of-type {\n",
       "        vertical-align: middle;\n",
       "    }\n",
       "\n",
       "    .dataframe tbody tr th {\n",
       "        vertical-align: top;\n",
       "    }\n",
       "\n",
       "    .dataframe thead th {\n",
       "        text-align: right;\n",
       "    }\n",
       "</style>\n",
       "<table border=\"1\" class=\"dataframe\">\n",
       "  <thead>\n",
       "    <tr style=\"text-align: right;\">\n",
       "      <th></th>\n",
       "      <th>pronunciation</th>\n",
       "      <th>as_string</th>\n",
       "      <th>num_phonemes</th>\n",
       "      <th>num_syllables</th>\n",
       "      <th>perplexity</th>\n",
       "    </tr>\n",
       "    <tr>\n",
       "      <th>word</th>\n",
       "      <th></th>\n",
       "      <th></th>\n",
       "      <th></th>\n",
       "      <th></th>\n",
       "      <th></th>\n",
       "    </tr>\n",
       "  </thead>\n",
       "  <tbody>\n",
       "    <tr>\n",
       "      <th>ayoub</th>\n",
       "      <td>(ˈ, eɪ, aʊ, b)</td>\n",
       "      <td>ˈeɪaʊb</td>\n",
       "      <td>3</td>\n",
       "      <td>2</td>\n",
       "      <td>301.278904</td>\n",
       "    </tr>\n",
       "    <tr>\n",
       "      <th>toyoo</th>\n",
       "      <td>(t, ɔɪ, ˈ, uː)</td>\n",
       "      <td>tɔɪˈuː</td>\n",
       "      <td>3</td>\n",
       "      <td>2</td>\n",
       "      <td>229.193791</td>\n",
       "    </tr>\n",
       "    <tr>\n",
       "      <th>oien</th>\n",
       "      <td>(ˈ, ɑː, iː, n)</td>\n",
       "      <td>ˈɑːiːn</td>\n",
       "      <td>3</td>\n",
       "      <td>2</td>\n",
       "      <td>223.039765</td>\n",
       "    </tr>\n",
       "    <tr>\n",
       "      <th>raoux</th>\n",
       "      <td>(r, æ, ˈ, uː)</td>\n",
       "      <td>ræˈuː</td>\n",
       "      <td>3</td>\n",
       "      <td>2</td>\n",
       "      <td>216.404558</td>\n",
       "    </tr>\n",
       "    <tr>\n",
       "      <th>jiangsu</th>\n",
       "      <td>(dʒ, ˈ, j, ɑː, ŋ, s, uː)</td>\n",
       "      <td>dʒˈjɑːŋsuː</td>\n",
       "      <td>6</td>\n",
       "      <td>2</td>\n",
       "      <td>215.419168</td>\n",
       "    </tr>\n",
       "    <tr>\n",
       "      <th>jonesboro</th>\n",
       "      <td>(ˈ, dʒ, oʊ, n, z, b, ə, r, oʊ)</td>\n",
       "      <td>ˈdʒoʊnzbəroʊ</td>\n",
       "      <td>8</td>\n",
       "      <td>3</td>\n",
       "      <td>206.959162</td>\n",
       "    </tr>\n",
       "    <tr>\n",
       "      <th>houy</th>\n",
       "      <td>(ˈ, h, ɑː, aɪ)</td>\n",
       "      <td>ˈhɑːaɪ</td>\n",
       "      <td>3</td>\n",
       "      <td>2</td>\n",
       "      <td>182.664790</td>\n",
       "    </tr>\n",
       "    <tr>\n",
       "      <th>aughenbaugh</th>\n",
       "      <td>(ɔ, ˈ, ɛ, n, b, ɔ)</td>\n",
       "      <td>ɔˈɛnbɔ</td>\n",
       "      <td>5</td>\n",
       "      <td>3</td>\n",
       "      <td>175.361707</td>\n",
       "    </tr>\n",
       "    <tr>\n",
       "      <th>payeur</th>\n",
       "      <td>(p, eɪ, ˈ, ɝː)</td>\n",
       "      <td>peɪˈɝː</td>\n",
       "      <td>3</td>\n",
       "      <td>2</td>\n",
       "      <td>169.144972</td>\n",
       "    </tr>\n",
       "    <tr>\n",
       "      <th>aichi</th>\n",
       "      <td>(ɑː, ˈ, iː, tʃ, i)</td>\n",
       "      <td>ɑːˈiːtʃi</td>\n",
       "      <td>4</td>\n",
       "      <td>3</td>\n",
       "      <td>167.141804</td>\n",
       "    </tr>\n",
       "    <tr>\n",
       "      <th>zungu</th>\n",
       "      <td>(ˌ, z, ə, ŋ, ˈ, uː)</td>\n",
       "      <td>ˌzəŋˈuː</td>\n",
       "      <td>4</td>\n",
       "      <td>2</td>\n",
       "      <td>166.620798</td>\n",
       "    </tr>\n",
       "    <tr>\n",
       "      <th>geroux</th>\n",
       "      <td>(ʒ, ɝ, ˈ, uː)</td>\n",
       "      <td>ʒɝˈuː</td>\n",
       "      <td>3</td>\n",
       "      <td>2</td>\n",
       "      <td>159.519784</td>\n",
       "    </tr>\n",
       "    <tr>\n",
       "      <th>losoya</th>\n",
       "      <td>(ˈ, l, ɑː, s, ɔɪ, æ)</td>\n",
       "      <td>ˈlɑːsɔɪæ</td>\n",
       "      <td>5</td>\n",
       "      <td>3</td>\n",
       "      <td>158.405250</td>\n",
       "    </tr>\n",
       "    <tr>\n",
       "      <th>uh-oh</th>\n",
       "      <td>(ˈ, ʌ, ˌ, oʊ)</td>\n",
       "      <td>ˈʌˌoʊ</td>\n",
       "      <td>2</td>\n",
       "      <td>2</td>\n",
       "      <td>153.432326</td>\n",
       "    </tr>\n",
       "    <tr>\n",
       "      <th>ashbaugh</th>\n",
       "      <td>(ə, ʃ, ˈ, b, ɔ)</td>\n",
       "      <td>əʃˈbɔ</td>\n",
       "      <td>4</td>\n",
       "      <td>2</td>\n",
       "      <td>149.911399</td>\n",
       "    </tr>\n",
       "    <tr>\n",
       "      <th>aeolus</th>\n",
       "      <td>(ˈ, ɛ, oʊ, l, ʊ, s)</td>\n",
       "      <td>ˈɛoʊlʊs</td>\n",
       "      <td>5</td>\n",
       "      <td>3</td>\n",
       "      <td>146.644836</td>\n",
       "    </tr>\n",
       "    <tr>\n",
       "      <th>aurea</th>\n",
       "      <td>(aʊ, ˈ, r, eɪ, ɑː)</td>\n",
       "      <td>aʊˈreɪɑː</td>\n",
       "      <td>4</td>\n",
       "      <td>3</td>\n",
       "      <td>146.238161</td>\n",
       "    </tr>\n",
       "    <tr>\n",
       "      <th>bourgeois</th>\n",
       "      <td>(b, ʊ, r, ʒ, ˈ, w, ɑː)</td>\n",
       "      <td>bʊrʒˈwɑː</td>\n",
       "      <td>6</td>\n",
       "      <td>2</td>\n",
       "      <td>139.255584</td>\n",
       "    </tr>\n",
       "    <tr>\n",
       "      <th>orourke</th>\n",
       "      <td>(ɝ, ˈ, ʊ, r, k)</td>\n",
       "      <td>ɝˈʊrk</td>\n",
       "      <td>4</td>\n",
       "      <td>2</td>\n",
       "      <td>137.623554</td>\n",
       "    </tr>\n",
       "    <tr>\n",
       "      <th>ocain</th>\n",
       "      <td>(oʊ, k, ɑː, ˈ, iː, n)</td>\n",
       "      <td>oʊkɑːˈiːn</td>\n",
       "      <td>5</td>\n",
       "      <td>3</td>\n",
       "      <td>136.811145</td>\n",
       "    </tr>\n",
       "  </tbody>\n",
       "</table>\n",
       "</div>"
      ],
      "text/plain": [
       "                              pronunciation     as_string  num_phonemes  \\\n",
       "word                                                                      \n",
       "ayoub                        (ˈ, eɪ, aʊ, b)        ˈeɪaʊb             3   \n",
       "toyoo                        (t, ɔɪ, ˈ, uː)        tɔɪˈuː             3   \n",
       "oien                         (ˈ, ɑː, iː, n)        ˈɑːiːn             3   \n",
       "raoux                         (r, æ, ˈ, uː)         ræˈuː             3   \n",
       "jiangsu            (dʒ, ˈ, j, ɑː, ŋ, s, uː)    dʒˈjɑːŋsuː             6   \n",
       "jonesboro    (ˈ, dʒ, oʊ, n, z, b, ə, r, oʊ)  ˈdʒoʊnzbəroʊ             8   \n",
       "houy                         (ˈ, h, ɑː, aɪ)        ˈhɑːaɪ             3   \n",
       "aughenbaugh              (ɔ, ˈ, ɛ, n, b, ɔ)        ɔˈɛnbɔ             5   \n",
       "payeur                       (p, eɪ, ˈ, ɝː)        peɪˈɝː             3   \n",
       "aichi                    (ɑː, ˈ, iː, tʃ, i)      ɑːˈiːtʃi             4   \n",
       "zungu                   (ˌ, z, ə, ŋ, ˈ, uː)       ˌzəŋˈuː             4   \n",
       "geroux                        (ʒ, ɝ, ˈ, uː)         ʒɝˈuː             3   \n",
       "losoya                 (ˈ, l, ɑː, s, ɔɪ, æ)      ˈlɑːsɔɪæ             5   \n",
       "uh-oh                         (ˈ, ʌ, ˌ, oʊ)         ˈʌˌoʊ             2   \n",
       "ashbaugh                    (ə, ʃ, ˈ, b, ɔ)         əʃˈbɔ             4   \n",
       "aeolus                  (ˈ, ɛ, oʊ, l, ʊ, s)       ˈɛoʊlʊs             5   \n",
       "aurea                    (aʊ, ˈ, r, eɪ, ɑː)      aʊˈreɪɑː             4   \n",
       "bourgeois            (b, ʊ, r, ʒ, ˈ, w, ɑː)      bʊrʒˈwɑː             6   \n",
       "orourke                     (ɝ, ˈ, ʊ, r, k)         ɝˈʊrk             4   \n",
       "ocain                 (oʊ, k, ɑː, ˈ, iː, n)     oʊkɑːˈiːn             5   \n",
       "\n",
       "             num_syllables  perplexity  \n",
       "word                                    \n",
       "ayoub                    2  301.278904  \n",
       "toyoo                    2  229.193791  \n",
       "oien                     2  223.039765  \n",
       "raoux                    2  216.404558  \n",
       "jiangsu                  2  215.419168  \n",
       "jonesboro                3  206.959162  \n",
       "houy                     2  182.664790  \n",
       "aughenbaugh              3  175.361707  \n",
       "payeur                   2  169.144972  \n",
       "aichi                    3  167.141804  \n",
       "zungu                    2  166.620798  \n",
       "geroux                   2  159.519784  \n",
       "losoya                   3  158.405250  \n",
       "uh-oh                    2  153.432326  \n",
       "ashbaugh                 2  149.911399  \n",
       "aeolus                   3  146.644836  \n",
       "aurea                    3  146.238161  \n",
       "bourgeois                2  139.255584  \n",
       "orourke                  2  137.623554  \n",
       "ocain                    3  136.811145  "
      ]
     },
     "execution_count": 15,
     "metadata": {},
     "output_type": "execute_result"
    }
   ],
   "source": [
    "pronunciations[pronunciations.num_syllables >= 2].sort_values('perplexity', ascending=False).head(20)"
   ]
  },
  {
   "cell_type": "markdown",
   "metadata": {},
   "source": [
    "Almost all of these words feel somewhat unnatural to me as an English speaker. There are many foreign words, like the french \"payeur\" to the Russian \"shtyrov\"."
   ]
  },
  {
   "cell_type": "markdown",
   "metadata": {},
   "source": [
    "Another interesting thing we can look at is which pronunciation the model prefers when a word has multiple standard ones."
   ]
  },
  {
   "cell_type": "code",
   "execution_count": 16,
   "metadata": {},
   "outputs": [
    {
     "data": {
      "text/html": [
       "<div>\n",
       "<style scoped>\n",
       "    .dataframe tbody tr th:only-of-type {\n",
       "        vertical-align: middle;\n",
       "    }\n",
       "\n",
       "    .dataframe tbody tr th {\n",
       "        vertical-align: top;\n",
       "    }\n",
       "\n",
       "    .dataframe thead th {\n",
       "        text-align: right;\n",
       "    }\n",
       "</style>\n",
       "<table border=\"1\" class=\"dataframe\">\n",
       "  <thead>\n",
       "    <tr style=\"text-align: right;\">\n",
       "      <th></th>\n",
       "      <th>pronunciation</th>\n",
       "      <th>as_string</th>\n",
       "      <th>num_phonemes</th>\n",
       "      <th>num_syllables</th>\n",
       "      <th>perplexity</th>\n",
       "    </tr>\n",
       "    <tr>\n",
       "      <th>word</th>\n",
       "      <th></th>\n",
       "      <th></th>\n",
       "      <th></th>\n",
       "      <th></th>\n",
       "      <th></th>\n",
       "    </tr>\n",
       "  </thead>\n",
       "  <tbody>\n",
       "    <tr>\n",
       "      <th>tomato</th>\n",
       "      <td>(t, ə, ˈ, m, eɪ, ˌ, t, oʊ)</td>\n",
       "      <td>təˈmeɪˌtoʊ</td>\n",
       "      <td>6</td>\n",
       "      <td>3</td>\n",
       "      <td>14.607457</td>\n",
       "    </tr>\n",
       "    <tr>\n",
       "      <th>tomato</th>\n",
       "      <td>(t, ə, ˈ, m, ɑː, ˌ, t, oʊ)</td>\n",
       "      <td>təˈmɑːˌtoʊ</td>\n",
       "      <td>6</td>\n",
       "      <td>3</td>\n",
       "      <td>14.828357</td>\n",
       "    </tr>\n",
       "  </tbody>\n",
       "</table>\n",
       "</div>"
      ],
      "text/plain": [
       "                     pronunciation   as_string  num_phonemes  num_syllables  \\\n",
       "word                                                                          \n",
       "tomato  (t, ə, ˈ, m, eɪ, ˌ, t, oʊ)  təˈmeɪˌtoʊ             6              3   \n",
       "tomato  (t, ə, ˈ, m, ɑː, ˌ, t, oʊ)  təˈmɑːˌtoʊ             6              3   \n",
       "\n",
       "        perplexity  \n",
       "word                \n",
       "tomato   14.607457  \n",
       "tomato   14.828357  "
      ]
     },
     "metadata": {},
     "output_type": "display_data"
    },
    {
     "data": {
      "text/html": [
       "<div>\n",
       "<style scoped>\n",
       "    .dataframe tbody tr th:only-of-type {\n",
       "        vertical-align: middle;\n",
       "    }\n",
       "\n",
       "    .dataframe tbody tr th {\n",
       "        vertical-align: top;\n",
       "    }\n",
       "\n",
       "    .dataframe thead th {\n",
       "        text-align: right;\n",
       "    }\n",
       "</style>\n",
       "<table border=\"1\" class=\"dataframe\">\n",
       "  <thead>\n",
       "    <tr style=\"text-align: right;\">\n",
       "      <th></th>\n",
       "      <th>pronunciation</th>\n",
       "      <th>as_string</th>\n",
       "      <th>num_phonemes</th>\n",
       "      <th>num_syllables</th>\n",
       "      <th>perplexity</th>\n",
       "    </tr>\n",
       "    <tr>\n",
       "      <th>word</th>\n",
       "      <th></th>\n",
       "      <th></th>\n",
       "      <th></th>\n",
       "      <th></th>\n",
       "      <th></th>\n",
       "    </tr>\n",
       "  </thead>\n",
       "  <tbody>\n",
       "    <tr>\n",
       "      <th>aunt</th>\n",
       "      <td>(ˈ, æ, n, t)</td>\n",
       "      <td>ˈænt</td>\n",
       "      <td>3</td>\n",
       "      <td>1</td>\n",
       "      <td>15.289176</td>\n",
       "    </tr>\n",
       "    <tr>\n",
       "      <th>aunt</th>\n",
       "      <td>(ˈ, ɔ, n, t)</td>\n",
       "      <td>ˈɔnt</td>\n",
       "      <td>3</td>\n",
       "      <td>1</td>\n",
       "      <td>37.645034</td>\n",
       "    </tr>\n",
       "  </tbody>\n",
       "</table>\n",
       "</div>"
      ],
      "text/plain": [
       "     pronunciation as_string  num_phonemes  num_syllables  perplexity\n",
       "word                                                                 \n",
       "aunt  (ˈ, æ, n, t)      ˈænt             3              1   15.289176\n",
       "aunt  (ˈ, ɔ, n, t)      ˈɔnt             3              1   37.645034"
      ]
     },
     "metadata": {},
     "output_type": "display_data"
    },
    {
     "data": {
      "text/html": [
       "<div>\n",
       "<style scoped>\n",
       "    .dataframe tbody tr th:only-of-type {\n",
       "        vertical-align: middle;\n",
       "    }\n",
       "\n",
       "    .dataframe tbody tr th {\n",
       "        vertical-align: top;\n",
       "    }\n",
       "\n",
       "    .dataframe thead th {\n",
       "        text-align: right;\n",
       "    }\n",
       "</style>\n",
       "<table border=\"1\" class=\"dataframe\">\n",
       "  <thead>\n",
       "    <tr style=\"text-align: right;\">\n",
       "      <th></th>\n",
       "      <th>pronunciation</th>\n",
       "      <th>as_string</th>\n",
       "      <th>num_phonemes</th>\n",
       "      <th>num_syllables</th>\n",
       "      <th>perplexity</th>\n",
       "    </tr>\n",
       "    <tr>\n",
       "      <th>word</th>\n",
       "      <th></th>\n",
       "      <th></th>\n",
       "      <th></th>\n",
       "      <th></th>\n",
       "      <th></th>\n",
       "    </tr>\n",
       "  </thead>\n",
       "  <tbody>\n",
       "    <tr>\n",
       "      <th>nevada</th>\n",
       "      <td>(n, ə, ˈ, v, æ, d, ə)</td>\n",
       "      <td>nəˈvædə</td>\n",
       "      <td>6</td>\n",
       "      <td>3</td>\n",
       "      <td>14.448844</td>\n",
       "    </tr>\n",
       "    <tr>\n",
       "      <th>nevada</th>\n",
       "      <td>(n, ə, ˈ, v, ɑː, d, ə)</td>\n",
       "      <td>nəˈvɑːdə</td>\n",
       "      <td>6</td>\n",
       "      <td>3</td>\n",
       "      <td>14.701232</td>\n",
       "    </tr>\n",
       "  </tbody>\n",
       "</table>\n",
       "</div>"
      ],
      "text/plain": [
       "                 pronunciation as_string  num_phonemes  num_syllables  \\\n",
       "word                                                                    \n",
       "nevada   (n, ə, ˈ, v, æ, d, ə)   nəˈvædə             6              3   \n",
       "nevada  (n, ə, ˈ, v, ɑː, d, ə)  nəˈvɑːdə             6              3   \n",
       "\n",
       "        perplexity  \n",
       "word                \n",
       "nevada   14.448844  \n",
       "nevada   14.701232  "
      ]
     },
     "metadata": {},
     "output_type": "display_data"
    }
   ],
   "source": [
    "display(pronunciations.loc['tomato'])\n",
    "display(pronunciations.loc['aunt'])\n",
    "display(pronunciations.loc['nevada'])"
   ]
  },
  {
   "cell_type": "markdown",
   "metadata": {},
   "source": [
    "The model doesn't have a strong preference between the two pronunciations for \"tomato\" or \"Nevada\". But for \"aunt\", it strongly prefers /ˈænt/. Intuitively this makes sense to me, as /ˈɔnt/ sounds old timey or stilted."
   ]
  },
  {
   "cell_type": "markdown",
   "metadata": {},
   "source": [
    "## Can the Model Generate Novel Words? ##\n",
    "Everyone loves using recurrent neural networks to generate novel sequences! Below I'll generate some words and examine whether the model is doing a good job."
   ]
  },
  {
   "cell_type": "code",
   "execution_count": 17,
   "metadata": {},
   "outputs": [],
   "source": [
    "generated_pronunciations = pd.DataFrame({\n",
    "    'pronunciation': [\n",
    "        language_model.generate(max_length=1000, temperature=.5)\n",
    "        for _ in range(10000)\n",
    "    ]\n",
    "})\n",
    "\n",
    "generated_pronunciations['is_novel_word'] = ~generated_pronunciations.pronunciation.isin(pronunciations.pronunciation)\n",
    "augment_pronunciations_df(generated_pronunciations)\n",
    "\n",
    "# Occasionally the model generates empty pronunciations.\n",
    "generated_pronunciations = generated_pronunciations[generated_pronunciations.num_phonemes > 0]"
   ]
  },
  {
   "cell_type": "code",
   "execution_count": 18,
   "metadata": {},
   "outputs": [
    {
     "data": {
      "text/html": [
       "<div>\n",
       "<style scoped>\n",
       "    .dataframe tbody tr th:only-of-type {\n",
       "        vertical-align: middle;\n",
       "    }\n",
       "\n",
       "    .dataframe tbody tr th {\n",
       "        vertical-align: top;\n",
       "    }\n",
       "\n",
       "    .dataframe thead th {\n",
       "        text-align: right;\n",
       "    }\n",
       "</style>\n",
       "<table border=\"1\" class=\"dataframe\">\n",
       "  <thead>\n",
       "    <tr style=\"text-align: right;\">\n",
       "      <th></th>\n",
       "      <th>pronunciation</th>\n",
       "      <th>is_novel_word</th>\n",
       "      <th>as_string</th>\n",
       "      <th>num_phonemes</th>\n",
       "      <th>num_syllables</th>\n",
       "    </tr>\n",
       "  </thead>\n",
       "  <tbody>\n",
       "    <tr>\n",
       "      <th>8845</th>\n",
       "      <td>(ˈ, f, r, ʌ, n, d, ɪ, ŋ)</td>\n",
       "      <td>True</td>\n",
       "      <td>ˈfrʌndɪŋ</td>\n",
       "      <td>7</td>\n",
       "      <td>2</td>\n",
       "    </tr>\n",
       "    <tr>\n",
       "      <th>803</th>\n",
       "      <td>(ˈ, æ, n, d, ə, ˌ, l, aɪ, d)</td>\n",
       "      <td>True</td>\n",
       "      <td>ˈændəˌlaɪd</td>\n",
       "      <td>7</td>\n",
       "      <td>3</td>\n",
       "    </tr>\n",
       "    <tr>\n",
       "      <th>5865</th>\n",
       "      <td>(ˈ, m, æ, n, d, ə, n)</td>\n",
       "      <td>True</td>\n",
       "      <td>ˈmændən</td>\n",
       "      <td>6</td>\n",
       "      <td>2</td>\n",
       "    </tr>\n",
       "    <tr>\n",
       "      <th>7389</th>\n",
       "      <td>(ˈ, s, t, r, oʊ, n, ə, s)</td>\n",
       "      <td>True</td>\n",
       "      <td>ˈstroʊnəs</td>\n",
       "      <td>7</td>\n",
       "      <td>2</td>\n",
       "    </tr>\n",
       "    <tr>\n",
       "      <th>4299</th>\n",
       "      <td>(ˈ, b, r, ɑː, n, s, ə, n)</td>\n",
       "      <td>False</td>\n",
       "      <td>ˈbrɑːnsən</td>\n",
       "      <td>7</td>\n",
       "      <td>2</td>\n",
       "    </tr>\n",
       "    <tr>\n",
       "      <th>3198</th>\n",
       "      <td>(ˈ, k, ɔ, r, k, ə, n)</td>\n",
       "      <td>False</td>\n",
       "      <td>ˈkɔrkən</td>\n",
       "      <td>6</td>\n",
       "      <td>2</td>\n",
       "    </tr>\n",
       "    <tr>\n",
       "      <th>5331</th>\n",
       "      <td>(ˌ, ɛ, n, t, ɝ, ˈ, ʃ, oʊ)</td>\n",
       "      <td>True</td>\n",
       "      <td>ˌɛntɝˈʃoʊ</td>\n",
       "      <td>6</td>\n",
       "      <td>3</td>\n",
       "    </tr>\n",
       "    <tr>\n",
       "      <th>3309</th>\n",
       "      <td>(ˈ, p, ɛ, n, t, ɝ)</td>\n",
       "      <td>True</td>\n",
       "      <td>ˈpɛntɝ</td>\n",
       "      <td>5</td>\n",
       "      <td>2</td>\n",
       "    </tr>\n",
       "    <tr>\n",
       "      <th>9382</th>\n",
       "      <td>(ˈ, b, ɑː, r, n)</td>\n",
       "      <td>False</td>\n",
       "      <td>ˈbɑːrn</td>\n",
       "      <td>4</td>\n",
       "      <td>1</td>\n",
       "    </tr>\n",
       "    <tr>\n",
       "      <th>5453</th>\n",
       "      <td>(p, r, ə, ˈ, k, oʊ, n)</td>\n",
       "      <td>True</td>\n",
       "      <td>prəˈkoʊn</td>\n",
       "      <td>6</td>\n",
       "      <td>2</td>\n",
       "    </tr>\n",
       "  </tbody>\n",
       "</table>\n",
       "</div>"
      ],
      "text/plain": [
       "                     pronunciation  is_novel_word   as_string  num_phonemes  \\\n",
       "8845      (ˈ, f, r, ʌ, n, d, ɪ, ŋ)           True    ˈfrʌndɪŋ             7   \n",
       "803   (ˈ, æ, n, d, ə, ˌ, l, aɪ, d)           True  ˈændəˌlaɪd             7   \n",
       "5865         (ˈ, m, æ, n, d, ə, n)           True     ˈmændən             6   \n",
       "7389     (ˈ, s, t, r, oʊ, n, ə, s)           True   ˈstroʊnəs             7   \n",
       "4299     (ˈ, b, r, ɑː, n, s, ə, n)          False   ˈbrɑːnsən             7   \n",
       "3198         (ˈ, k, ɔ, r, k, ə, n)          False     ˈkɔrkən             6   \n",
       "5331     (ˌ, ɛ, n, t, ɝ, ˈ, ʃ, oʊ)           True   ˌɛntɝˈʃoʊ             6   \n",
       "3309            (ˈ, p, ɛ, n, t, ɝ)           True      ˈpɛntɝ             5   \n",
       "9382              (ˈ, b, ɑː, r, n)          False      ˈbɑːrn             4   \n",
       "5453        (p, r, ə, ˈ, k, oʊ, n)           True    prəˈkoʊn             6   \n",
       "\n",
       "      num_syllables  \n",
       "8845              2  \n",
       "803               3  \n",
       "5865              2  \n",
       "7389              2  \n",
       "4299              2  \n",
       "3198              2  \n",
       "5331              3  \n",
       "3309              2  \n",
       "9382              1  \n",
       "5453              2  "
      ]
     },
     "execution_count": 18,
     "metadata": {},
     "output_type": "execute_result"
    }
   ],
   "source": [
    "generated_pronunciations.sample(10)"
   ]
  },
  {
   "cell_type": "code",
   "execution_count": 19,
   "metadata": {},
   "outputs": [
    {
     "data": {
      "image/png": "[encoded data removed]",
      "text/plain": [
       "<Figure size 432x288 with 1 Axes>"
      ]
     },
     "metadata": {
      "needs_background": "light"
     },
     "output_type": "display_data"
    }
   ],
   "source": [
    "def show_proportion_novel(generated_pronunciations):\n",
    "    counts = generated_pronunciations.is_novel_word.value_counts()\n",
    "    percentages = counts / counts.sum() * 100\n",
    "    \n",
    "    percentages.index = percentages.index.map({True: 'Novel Word', False: 'Existing Word'})\n",
    "    percentages.plot.bar()\n",
    "    plt.title('Percentage of Generated Words that are Novel')\n",
    "\n",
    "show_proportion_novel(generated_pronunciations)    "
   ]
  },
  {
   "cell_type": "markdown",
   "metadata": {},
   "source": [
    "Of the 10,000 generated pronunciations about 70% are novel, meaning they didn't occur in the CMU Pronouncing dictionary. The `temperature` argument can alter diversity of the generated pronunciations, with higher temperature resulting in more diversity. Compare the two pronunciations below. The first looks very idiosyncratic whereas the second looks very common."
   ]
  },
  {
   "cell_type": "code",
   "execution_count": 20,
   "metadata": {},
   "outputs": [
    {
     "name": "stdout",
     "output_type": "stream",
     "text": [
      "ˈgɪkʃʃənʒeɪ\n",
      "ˈstrɛnd\n"
     ]
    }
   ],
   "source": [
    "print(''.join(language_model.generate(max_length=1000, temperature=1.5)))\n",
    "print(''.join(language_model.generate(max_length=1000, temperature=1e-5)))"
   ]
  },
  {
   "cell_type": "code",
   "execution_count": 21,
   "metadata": {},
   "outputs": [
    {
     "name": "stdout",
     "output_type": "stream",
     "text": [
      "ˈpɪˌkæk\n"
     ]
    }
   ],
   "source": [
    "print(''.join(language_model.generate(max_length=1000)))"
   ]
  },
  {
   "cell_type": "markdown",
   "metadata": {},
   "source": [
    "Here are some of the novel pronunciations. I'm printing five pronunciations for each syllable count."
   ]
  },
  {
   "cell_type": "code",
   "execution_count": 22,
   "metadata": {},
   "outputs": [
    {
     "name": "stdout",
     "output_type": "stream",
     "text": [
      "These have 1 syllables:\n",
      "\tˈbrɪmz\n",
      "\tˈgrʌks\n",
      "\tˈstlænts\n",
      "\tˈtrʌnz\n",
      "\tˈdɑːnts\n",
      "These have 2 syllables:\n",
      "\tˈfroʊdəl\n",
      "\tˈkrɑːnˌlæz\n",
      "\tˈklɛnstɪŋ\n",
      "\tˈtrænən\n",
      "\tˈdʒʌgɪŋ\n",
      "These have 3 syllables:\n",
      "\tˌmɑːnˈkænˌgoʊl\n",
      "\tbliːˈteɪtɪt\n",
      "\tˈfɛləstɪd\n",
      "\tˈsɛpəˌlɛns\n",
      "\tˈmænoʊˌneɪt\n",
      "These have 4 syllables:\n",
      "\tˈfiːnəˌlɛsət\n",
      "\tˈhælɪkələl\n",
      "\tˌbɪriːˈɛlən\n",
      "\tˌmɛləˈkɑːlən\n",
      "\tˌmɑːnɝˈɪntˌstænt\n"
     ]
    }
   ],
   "source": [
    "novel_generated_pronunciations = generated_pronunciations[generated_pronunciations.is_novel_word]\n",
    "\n",
    "for num_syllables in range(1, 5):\n",
    "    \n",
    "    novel_with_syllable_count = novel_generated_pronunciations[novel_generated_pronunciations.num_syllables==num_syllables]\n",
    "    if novel_with_syllable_count.empty:\n",
    "        break\n",
    "    \n",
    "    print(f'These have {num_syllables} syllables:')\n",
    "\n",
    "    for pronunciation in novel_with_syllable_count.sample(min(5, len(novel_with_syllable_count))).pronunciation:\n",
    "        print('\\t{}'.format(''.join(pronunciation)))"
   ]
  },
  {
   "cell_type": "markdown",
   "metadata": {},
   "source": [
    "The main thing that jumps out at me is that these all sound like conceivable English words. There are a few sort of awkward words, but there's nothing unpronouncable. And the stress patterns feel natural to me."
   ]
  },
  {
   "cell_type": "markdown",
   "metadata": {},
   "source": [
    "I can also compare the distributions of the generated and real pronunciations."
   ]
  },
  {
   "cell_type": "code",
   "execution_count": 23,
   "metadata": {},
   "outputs": [
    {
     "data": {
      "image/png": "[encoded data removed]",
      "text/plain": [
       "<Figure size 720x360 with 1 Axes>"
      ]
     },
     "metadata": {
      "needs_background": "light"
     },
     "output_type": "display_data"
    }
   ],
   "source": [
    "pronunciations.num_phonemes.hist(density=True, figsize=(10, 5), bins=np.arange(1, 15), label='English')\n",
    "generated_pronunciations.num_phonemes.hist(density=True, alpha=.6, bins=np.arange(1, 15), label='Generated')\n",
    "plt.xlabel('Number of Phonemes')\n",
    "plt.ylabel('Proportion of Words')\n",
    "plt.title('Phoneme Count Comparison')\n",
    "_ = plt.legend()"
   ]
  },
  {
   "cell_type": "code",
   "execution_count": 24,
   "metadata": {},
   "outputs": [
    {
     "data": {
      "image/png": "[encoded data removed]",
      "text/plain": [
       "<Figure size 720x360 with 1 Axes>"
      ]
     },
     "metadata": {
      "needs_background": "light"
     },
     "output_type": "display_data"
    }
   ],
   "source": [
    "pronunciations.num_syllables.hist(density=True, figsize=(10, 5), bins=np.arange(1, 10), label='English')\n",
    "generated_pronunciations.num_syllables.hist(density=True, alpha=.6, bins=np.arange(1, 10), label='Generated')\n",
    "plt.xlabel('Number of Syllables')\n",
    "plt.ylabel('Proportion of Words')\n",
    "plt.title('Syllable Count Comparison')\n",
    "_ = plt.legend()"
   ]
  },
  {
   "cell_type": "markdown",
   "metadata": {},
   "source": [
    "The length of the pronunciations the model generates (both in terms of phonemes and syllables) is similar, but the model has a preference for shorter words."
   ]
  },
  {
   "cell_type": "markdown",
   "metadata": {},
   "source": [
    "## What Rules is the Model Actually Learning? ##\n",
    "\n",
    "Given the overfitting examples I saw earlier where the model had memorized some longer words, I wanted to probe it to make sure it's learning some more general properties. First let's revisit the overfitting example. The plot below shows the probability of each phoneme in the word \"intonations\". So the third bar indicates that the probability of /n/ after seeing /ˌɪ/ is about .5."
   ]
  },
  {
   "cell_type": "code",
   "execution_count": 25,
   "metadata": {},
   "outputs": [
    {
     "data": {
      "image/png": "[encoded data removed]",
      "text/plain": [
       "<Figure size 432x288 with 1 Axes>"
      ]
     },
     "metadata": {
      "needs_background": "light"
     },
     "output_type": "display_data"
    }
   ],
   "source": [
    "most_likely_pronunciation = pronunciations.iloc[0].pronunciation\n",
    "plot_pronunciation_probability(language_model, most_likely_pronunciation)"
   ]
  },
  {
   "cell_type": "markdown",
   "metadata": {},
   "source": [
    "That the model is so certain at times indicates that it memorized sequences of phonemes. I had originally wanted to model possible English pronunciations and had hoped that the predictions following /ˌɪn/ would be more uniform since in reality almost any phoneme can come next. So instead of modeling valid English in a binary way I ended up modeling actual English. I could further experiment with finding a model that captures *some* English phonotactics rules without getting this specific, but finding that balance is time consuming since there isn't a single numerical metric I can optimize for. In some ways this model is actually better since the it can differentiate between very likely English pronunciations instead of just valid ones."
   ]
  },
  {
   "cell_type": "markdown",
   "metadata": {},
   "source": [
    "Now I'll probe what the model knows by examining its predictions. The two plots below are for /ˈseɪ/ and /ˈsɛ/:"
   ]
  },
  {
   "cell_type": "code",
   "execution_count": 26,
   "metadata": {},
   "outputs": [
    {
     "data": {
      "image/png": "[encoded data removed]",
      "text/plain": [
       "<Figure size 432x288 with 1 Axes>"
      ]
     },
     "metadata": {
      "needs_background": "light"
     },
     "output_type": "display_data"
    }
   ],
   "source": [
    "plot_pronunciation_probability(language_model, (\"ˈ\", \"s\", \"eɪ\"))"
   ]
  },
  {
   "cell_type": "code",
   "execution_count": 27,
   "metadata": {},
   "outputs": [
    {
     "data": {
      "image/png": "[encoded data removed]",
      "text/plain": [
       "<Figure size 432x288 with 1 Axes>"
      ]
     },
     "metadata": {
      "needs_background": "light"
     },
     "output_type": "display_data"
    }
   ],
   "source": [
    "plot_pronunciation_probability(language_model, (\"ˈ\", \"s\", \"ɛ\"))"
   ]
  },
  {
   "cell_type": "markdown",
   "metadata": {},
   "source": [
    "In the plot for /ˈseɪ/, the model has assigned a probability of `0.02` of the word ending at `\\<END>`. In /ˈsɛ/ it has assigned a `0.001` probability of the word ending at `\\<END>`. The low probability for /ˈsɛ/ makes sense because in English, if the final syllable is stressed then it should be a strong syllable: it should end in a consonant or a strong vowel. /ɛ/ is a weak vowel while the diphthong /eɪ/ is strong."
   ]
  },
  {
   "cell_type": "markdown",
   "metadata": {},
   "source": [
    "Next I'll look at whether the model has learned that /ʌ/ (wedge) and /ə/ (schwa) are basically the same vowel, but /ə/ occurs in unstressed syllables."
   ]
  },
  {
   "cell_type": "markdown",
   "metadata": {},
   "source": [
    "The first plot below is the probability of the probability of /ʌ/ and /ə/ occurring after /ˈk/, where the syllable has stress. The second plot is the same but in an unstressed syllable."
   ]
  },
  {
   "cell_type": "code",
   "execution_count": 28,
   "metadata": {},
   "outputs": [
    {
     "data": {
      "image/png": "[encoded data removed]",
      "text/plain": [
       "<Figure size 432x288 with 1 Axes>"
      ]
     },
     "metadata": {
      "needs_background": "light"
     },
     "output_type": "display_data"
    }
   ],
   "source": [
    "plot_next_phoneme_distribution(language_model, (\"ˈ\", \"k\"), phonemes_to_include={\"ə\", \"ʌ\"})"
   ]
  },
  {
   "cell_type": "code",
   "execution_count": 29,
   "metadata": {},
   "outputs": [
    {
     "data": {
      "image/png": "[encoded data removed]",
      "text/plain": [
       "<Figure size 432x288 with 1 Axes>"
      ]
     },
     "metadata": {
      "needs_background": "light"
     },
     "output_type": "display_data"
    }
   ],
   "source": [
    "plot_next_phoneme_distribution(language_model, (\"k\", ), phonemes_to_include={\"ə\", \"ʌ\"})"
   ]
  },
  {
   "cell_type": "markdown",
   "metadata": {},
   "source": [
    "The model has correctly learned when to use /ə/ and /ʌ/."
   ]
  },
  {
   "cell_type": "markdown",
   "metadata": {},
   "source": [
    "The model also needs to learn patterns about stress over multiple syllables. A *foot* is a pair of syllables. A *trochee* contains a stressed syllable followed by an unstressed one. And an *iamb* is an unstressed syllable followed by a stressed one.\n",
    "\n",
    "English, in general, prefers trochees. This implies that the model should assign a lower perplexity to trochees than iambs."
   ]
  },
  {
   "cell_type": "code",
   "execution_count": 30,
   "metadata": {},
   "outputs": [
    {
     "name": "stdout",
     "output_type": "stream",
     "text": [
      "Trochee: 12.11\n",
      "Iamb:    54.31\n"
     ]
    }
   ],
   "source": [
    "print('Trochee: {:.2f}'.format(language_model.perplexity_of_text((\"ˈ\", \"f\", \"oʊ\", \"m\", \"i\"))))\n",
    "print('Iamb:    {:.2f}'.format(language_model.perplexity_of_text((\"f\", \"oʊ\", \"ˈ\", \"m\", \"i\"))))"
   ]
  },
  {
   "cell_type": "markdown",
   "metadata": {},
   "source": [
    "Another English phonotactic rule, from Wikipedia, is: \"Two obstruents in the same coda must share voicing (compare kids /K IH1 D Z/ with kits /K IH1 T S/)\". Hopefully the model will assign a higher perplexity when this rule is violated below."
   ]
  },
  {
   "cell_type": "markdown",
   "metadata": {},
   "source": [
    "/l/ is bad here since it should go in onset of next sentence"
   ]
  },
  {
   "cell_type": "code",
   "execution_count": 31,
   "metadata": {},
   "outputs": [
    {
     "name": "stdout",
     "output_type": "stream",
     "text": [
      "Perplexity for /ˈtɛgz/: 16\n",
      "Perplexity for /ˈtɛgs/: 19\n",
      "\n",
      "Perplexity for /ˈtɛks/: 9\n",
      "Perplexity for /ˈtɛkz/: 18\n"
     ]
    }
   ],
   "source": [
    "print('Perplexity for /ˈtɛgz/: {:.0f}'.format(language_model.perplexity_of_text((\"ˈ\", \"t\", \"ɛ\", \"g\", \"z\"))))\n",
    "print('Perplexity for /ˈtɛgs/: {:.0f}'.format(language_model.perplexity_of_text((\"ˈ\", \"t\", \"ɛ\", \"g\", \"s\"))))\n",
    "print()\n",
    "print('Perplexity for /ˈtɛks/: {:.0f}'.format(language_model.perplexity_of_text((\"ˈ\", \"t\", \"ɛ\", \"k\", \"s\"))))\n",
    "print('Perplexity for /ˈtɛkz/: {:.0f}'.format(language_model.perplexity_of_text((\"ˈ\", \"t\", \"ɛ\", \"k\", \"z\"))))"
   ]
  },
  {
   "cell_type": "markdown",
   "metadata": {},
   "source": [
    "Perplexity is higher when the two phonemes in the coda do not match in voicing. The model could just be learning that adjacent phonemes should ideally share voicing though. To test whether it's actually learned the rule about voicing in codas I'll change the syllable structure."
   ]
  },
  {
   "cell_type": "code",
   "execution_count": 32,
   "metadata": {},
   "outputs": [
    {
     "name": "stdout",
     "output_type": "stream",
     "text": [
      "Perplexity for /ˈtɛgzəm/: 15\n",
      "Perplexity for /ˈtɛgsəm/: 12\n",
      "\n",
      "Perplexity for /ˈtɛkzəm/: 15\n",
      "Perplexity for /ˈtɛksəm/: 9\n"
     ]
    }
   ],
   "source": [
    "print('Perplexity for /ˈtɛgzəm/: {:.0f}'.format(language_model.perplexity_of_text((\"ˈ\", \"t\", \"ɛ\", \"g\", \"z\", \"ə\", \"m\"))))\n",
    "print('Perplexity for /ˈtɛgsəm/: {:.0f}'.format(language_model.perplexity_of_text((\"ˈ\", \"t\", \"ɛ\", \"g\", \"s\", \"ə\", \"m\"))))\n",
    "print()\n",
    "print('Perplexity for /ˈtɛkzəm/: {:.0f}'.format(language_model.perplexity_of_text((\"ˈ\", \"t\", \"ɛ\", \"k\", \"z\", \"ə\", \"m\"))))\n",
    "print('Perplexity for /ˈtɛksəm/: {:.0f}'.format(language_model.perplexity_of_text((\"ˈ\", \"t\", \"ɛ\", \"k\", \"s\", \"ə\", \"m\"))))"
   ]
  },
  {
   "cell_type": "markdown",
   "metadata": {},
   "source": [
    "These four words are identical to the first except that I've inserted /əm/ to the end, which allows the /s/ and /z/ to form a second syllable with it. Since /s/ and /z/ become onsets of the next syllable they're not subject to the constraint on the previous syllable's coda."
   ]
  },
  {
   "cell_type": "markdown",
   "metadata": {},
   "source": [
    "### Probing the Embeddings ###\n",
    "\n",
    "I was initially interested in building a language model over IPA pronunciations because I was hoping that the embeddings trained in the embedding layer of the RNN would capture the phonological features of phonemes. For example, the embeddings could capture voicing, place, and manner.\n",
    "\n",
    "I wasn't able to get this to work in the amount of time I spent training the model. I tried using a very small recurrent layer (e.g 2 to 10 neurons) in hopes that the embeddings would have to capture most of the rules. This did not end up working though, perhaps because with such a small vocabulary the embeddings were able to just reconstruct the actual phonemes.\n",
    "\n",
    "Below are a few experiments using the embeddings."
   ]
  },
  {
   "cell_type": "code",
   "execution_count": 33,
   "metadata": {},
   "outputs": [
    {
     "name": "stdout",
     "output_type": "stream",
     "text": [
      "Most similar to /t/:\n"
     ]
    },
    {
     "ename": "NameError",
     "evalue": "name 'cosine_similarity' is not defined",
     "output_type": "error",
     "traceback": [
      "\u001b[0;31m---------------------------------------------------------------------------\u001b[0m",
      "\u001b[0;31mNameError\u001b[0m                                 Traceback (most recent call last)",
      "\u001b[0;32m<ipython-input-33-2487ccb131a6>\u001b[0m in \u001b[0;36m<module>\u001b[0;34m\u001b[0m\n\u001b[1;32m      1\u001b[0m \u001b[0mprint\u001b[0m\u001b[0;34m(\u001b[0m\u001b[0;34m\"Most similar to /t/:\"\u001b[0m\u001b[0;34m)\u001b[0m\u001b[0;34m\u001b[0m\u001b[0;34m\u001b[0m\u001b[0m\n\u001b[0;32m----> 2\u001b[0;31m \u001b[0mmost_similar_phonemes\u001b[0m\u001b[0;34m(\u001b[0m\u001b[0mlanguage_model\u001b[0m\u001b[0;34m,\u001b[0m \u001b[0mlanguage_model\u001b[0m\u001b[0;34m.\u001b[0m\u001b[0membedding_for\u001b[0m\u001b[0;34m(\u001b[0m\u001b[0;34m't'\u001b[0m\u001b[0;34m)\u001b[0m\u001b[0;34m)\u001b[0m\u001b[0;34m\u001b[0m\u001b[0;34m\u001b[0m\u001b[0m\n\u001b[0m\u001b[1;32m      3\u001b[0m \u001b[0;34m\u001b[0m\u001b[0m\n\u001b[1;32m      4\u001b[0m \u001b[0mprint\u001b[0m\u001b[0;34m(\u001b[0m\u001b[0;34m)\u001b[0m\u001b[0;34m\u001b[0m\u001b[0;34m\u001b[0m\u001b[0m\n\u001b[1;32m      5\u001b[0m \u001b[0mprint\u001b[0m\u001b[0;34m(\u001b[0m\u001b[0;34m\"Most similar to /oʊ/:\"\u001b[0m\u001b[0;34m)\u001b[0m\u001b[0;34m\u001b[0m\u001b[0;34m\u001b[0m\u001b[0m\n",
      "\u001b[0;32m~/code/sonorous/sonorous/analysis_utils.py\u001b[0m in \u001b[0;36mmost_similar_phonemes\u001b[0;34m(language_model, embedding, topn)\u001b[0m\n\u001b[1;32m     97\u001b[0m             \u001b[0mlanguage_model\u001b[0m\u001b[0;34m.\u001b[0m\u001b[0membedding_for\u001b[0m\u001b[0;34m(\u001b[0m\u001b[0mphoneme\u001b[0m\u001b[0;34m)\u001b[0m\u001b[0;34m,\u001b[0m \u001b[0membedding\u001b[0m\u001b[0;34m\u001b[0m\u001b[0;34m\u001b[0m\u001b[0m\n\u001b[1;32m     98\u001b[0m         ).item()\n\u001b[0;32m---> 99\u001b[0;31m         \u001b[0;32mfor\u001b[0m \u001b[0mphoneme\u001b[0m \u001b[0;32min\u001b[0m \u001b[0mlanguage_model\u001b[0m\u001b[0;34m.\u001b[0m\u001b[0mvocab\u001b[0m\u001b[0;34m.\u001b[0m\u001b[0mtokens\u001b[0m\u001b[0;34m\u001b[0m\u001b[0;34m\u001b[0m\u001b[0m\n\u001b[0m\u001b[1;32m    100\u001b[0m         \u001b[0;32mif\u001b[0m \u001b[0mphoneme\u001b[0m \u001b[0;32mnot\u001b[0m \u001b[0;32min\u001b[0m \u001b[0mlanguage_model\u001b[0m\u001b[0;34m.\u001b[0m\u001b[0mvocab\u001b[0m\u001b[0;34m.\u001b[0m\u001b[0mDUMMY_TOKENS\u001b[0m\u001b[0;34m\u001b[0m\u001b[0;34m\u001b[0m\u001b[0m\n\u001b[1;32m    101\u001b[0m     }\n",
      "\u001b[0;32m~/code/sonorous/sonorous/analysis_utils.py\u001b[0m in \u001b[0;36m<dictcomp>\u001b[0;34m(.0)\u001b[0m\n\u001b[1;32m     98\u001b[0m         ).item()\n\u001b[1;32m     99\u001b[0m         \u001b[0;32mfor\u001b[0m \u001b[0mphoneme\u001b[0m \u001b[0;32min\u001b[0m \u001b[0mlanguage_model\u001b[0m\u001b[0;34m.\u001b[0m\u001b[0mvocab\u001b[0m\u001b[0;34m.\u001b[0m\u001b[0mtokens\u001b[0m\u001b[0;34m\u001b[0m\u001b[0;34m\u001b[0m\u001b[0m\n\u001b[0;32m--> 100\u001b[0;31m         \u001b[0;32mif\u001b[0m \u001b[0mphoneme\u001b[0m \u001b[0;32mnot\u001b[0m \u001b[0;32min\u001b[0m \u001b[0mlanguage_model\u001b[0m\u001b[0;34m.\u001b[0m\u001b[0mvocab\u001b[0m\u001b[0;34m.\u001b[0m\u001b[0mDUMMY_TOKENS\u001b[0m\u001b[0;34m\u001b[0m\u001b[0;34m\u001b[0m\u001b[0m\n\u001b[0m\u001b[1;32m    101\u001b[0m     }\n\u001b[1;32m    102\u001b[0m \u001b[0;34m\u001b[0m\u001b[0m\n",
      "\u001b[0;31mNameError\u001b[0m: name 'cosine_similarity' is not defined"
     ]
    }
   ],
   "source": [
    "\n",
    "print(\"Most similar to /t/:\")\n",
    "most_similar_phonemes(language_model, language_model.embedding_for('t'))\n",
    "\n",
    "print()\n",
    "print(\"Most similar to /oʊ/:\")\n",
    "most_similar_phonemes(language_model, language_model.embedding_for('oʊ'))"
   ]
  },
  {
   "cell_type": "markdown",
   "metadata": {},
   "source": [
    "The embeddings at least appear to capture vowel vs consontant.\n",
    "\n",
    "Now some analogies:"
   ]
  },
  {
   "cell_type": "code",
   "execution_count": null,
   "metadata": {},
   "outputs": [],
   "source": [
    "print(\"p:b ~ k~?\")\n",
    "analogy(language_model, 'p', 'b', 'k')\n",
    "print()\n",
    "print(\"p:f ~ t~?\")\n",
    "analogy(language_model, 'p', 'f', 't')"
   ]
  },
  {
   "cell_type": "markdown",
   "metadata": {},
   "source": [
    "These sort of make sense. /p/ shares place (bilabial) and manner (stop) with /b/, but /b/ is voiced. So I would expect /p/ to relate to /b/ in the same way that /k/ relates to /g/, since /k/ and /g/ are the same except for voicing.\n",
    "\n",
    "In the second example, /f/ similar in place and voicing to /p/, but is a fricative instead of a stop. So adding frication to /t/ should give us /s/ but /θ/ also makes sense.\n",
    "\n",
    "Overall I'm not happy with the quality of the embeddings, but it does appear there is some signal there."
   ]
  },
  {
   "cell_type": "code",
   "execution_count": null,
   "metadata": {},
   "outputs": [],
   "source": [
    "print('done')"
   ]
  }
 ],
 "metadata": {
  "kernelspec": {
   "display_name": "Python 3",
   "language": "python",
   "name": "python3"
  },
  "language_info": {
   "codemirror_mode": {
    "name": "ipython",
    "version": 3
   },
   "file_extension": ".py",
   "mimetype": "text/x-python",
   "name": "python",
   "nbconvert_exporter": "python",
   "pygments_lexer": "ipython3",
   "version": "3.7.4"
  }
 },
 "nbformat": 4,
 "nbformat_minor": 4
}
