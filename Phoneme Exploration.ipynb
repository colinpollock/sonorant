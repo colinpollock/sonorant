{
 "cells": [
  {
   "cell_type": "markdown",
   "metadata": {},
   "source": [
    "# Language Model for English Words #\n",
    "\n",
    "In the notebook `LM RNN` I trained a language model over English pronunciations from [the CMU Pronouncing Dictionary](http://www.speech.cs.cmu.edu/cgi-bin/cmudict). The pronunciations in the pronouncing dictionary are in ARPABET, a set of symbols representing English sounds. It's a subset of the more popular [International Phonetic Alphabet](https://en.wikipedia.org/wiki/International_Phonetic_Alphabet).\n",
    "\n",
    "In this notebook I use the model to:\n",
    "1. Identify which English pronunciations are most- and least-Englishlike. For example, I would expect \"fun\" to sound normal and a borrowed word like \"cliché\" to be less normal.\n",
    "2. Generate novel words that aren't English words but sound like they could be.\n",
    "\n",
    "I'll also dig into what the model has learned to see whether it has learned the [phonotactics rules](https://en.wikipedia.org/wiki/Phonotactics) that all English speakers subconsciously understand."
   ]
  },
  {
   "cell_type": "code",
   "execution_count": 483,
   "metadata": {},
   "outputs": [],
   "source": [
    "from operator import itemgetter\n",
    "\n",
    "import pandas as pd\n",
    "import torch\n",
    "from matplotlib import pyplot as plt\n",
    "\n",
    "from utils import load_data"
   ]
  },
  {
   "cell_type": "code",
   "execution_count": 111,
   "metadata": {},
   "outputs": [],
   "source": [
    "pd.options.display.max_rows = 500\n",
    "pd.options.display.max_columns = 100\n",
    "pd.options.display.max_colwidth = 255"
   ]
  },
  {
   "cell_type": "code",
   "execution_count": 11,
   "metadata": {},
   "outputs": [
    {
     "name": "stderr",
     "output_type": "stream",
     "text": [
      "/Users/colin/code/sonorous/venv/lib/python3.7/site-packages/torch/serialization.py:593: SourceChangeWarning: source code of class 'phoneme_lm.PhonemeLM' has changed. you can retrieve the original source code by accessing the object's source attribute or set `torch.nn.Module.dump_patches = True` and use the patch tool to revert the changes.\n",
      "  warnings.warn(msg, SourceChangeWarning)\n"
     ]
    }
   ],
   "source": [
    "with open('lm_2.pt', 'rb') as fh:\n",
    "    lm = torch.load(fh, map_location=torch.device('cpu'))\n",
    "lm.device = torch.device('cpu')"
   ]
  },
  {
   "cell_type": "code",
   "execution_count": 9,
   "metadata": {},
   "outputs": [],
   "source": [
    "df = load_data(include_stress=True)"
   ]
  },
  {
   "cell_type": "code",
   "execution_count": 763,
   "metadata": {},
   "outputs": [
    {
     "name": "stdout",
     "output_type": "stream",
     "text": [
      "There are 124,996 pronunciations.\n"
     ]
    },
    {
     "data": {
      "text/html": [
       "<div>\n",
       "<style scoped>\n",
       "    .dataframe tbody tr th:only-of-type {\n",
       "        vertical-align: middle;\n",
       "    }\n",
       "\n",
       "    .dataframe tbody tr th {\n",
       "        vertical-align: top;\n",
       "    }\n",
       "\n",
       "    .dataframe thead th {\n",
       "        text-align: right;\n",
       "    }\n",
       "</style>\n",
       "<table border=\"1\" class=\"dataframe\">\n",
       "  <thead>\n",
       "    <tr style=\"text-align: right;\">\n",
       "      <th></th>\n",
       "      <th>pronunciation</th>\n",
       "      <th>length</th>\n",
       "      <th>probability</th>\n",
       "      <th>perplexity</th>\n",
       "      <th>pronunciation_string</th>\n",
       "      <th>num_syllables</th>\n",
       "    </tr>\n",
       "    <tr>\n",
       "      <th>word</th>\n",
       "      <th></th>\n",
       "      <th></th>\n",
       "      <th></th>\n",
       "      <th></th>\n",
       "      <th></th>\n",
       "      <th></th>\n",
       "    </tr>\n",
       "  </thead>\n",
       "  <tbody>\n",
       "    <tr>\n",
       "      <th>reisig</th>\n",
       "      <td>(R, AY1, S, IH0, G)</td>\n",
       "      <td>5</td>\n",
       "      <td>7.795751e-08</td>\n",
       "      <td>26.401488</td>\n",
       "      <td>R AY1 S IH0 G</td>\n",
       "      <td>2</td>\n",
       "    </tr>\n",
       "    <tr>\n",
       "      <th>knelt</th>\n",
       "      <td>(N, EH1, L, T)</td>\n",
       "      <td>4</td>\n",
       "      <td>1.048781e-06</td>\n",
       "      <td>31.248476</td>\n",
       "      <td>N EH1 L T</td>\n",
       "      <td>1</td>\n",
       "    </tr>\n",
       "    <tr>\n",
       "      <th>yearwood</th>\n",
       "      <td>(Y, IH1, R, W, UH0, D)</td>\n",
       "      <td>6</td>\n",
       "      <td>1.341753e-09</td>\n",
       "      <td>30.110727</td>\n",
       "      <td>Y IH1 R W UH0 D</td>\n",
       "      <td>2</td>\n",
       "    </tr>\n",
       "    <tr>\n",
       "      <th>fewest</th>\n",
       "      <td>(F, Y, UW1, AH0, S, T)</td>\n",
       "      <td>6</td>\n",
       "      <td>9.892206e-07</td>\n",
       "      <td>10.018079</td>\n",
       "      <td>F Y UW1 AH0 S T</td>\n",
       "      <td>2</td>\n",
       "    </tr>\n",
       "    <tr>\n",
       "      <th>magaziner</th>\n",
       "      <td>(M, AE2, G, AH0, Z, IY1, N, ER0)</td>\n",
       "      <td>8</td>\n",
       "      <td>6.338548e-10</td>\n",
       "      <td>14.117288</td>\n",
       "      <td>M AE2 G AH0 Z IY1 N ER0</td>\n",
       "      <td>4</td>\n",
       "    </tr>\n",
       "  </tbody>\n",
       "</table>\n",
       "</div>"
      ],
      "text/plain": [
       "                              pronunciation  length   probability  perplexity  \\\n",
       "word                                                                            \n",
       "reisig                  (R, AY1, S, IH0, G)       5  7.795751e-08   26.401488   \n",
       "knelt                        (N, EH1, L, T)       4  1.048781e-06   31.248476   \n",
       "yearwood             (Y, IH1, R, W, UH0, D)       6  1.341753e-09   30.110727   \n",
       "fewest               (F, Y, UW1, AH0, S, T)       6  9.892206e-07   10.018079   \n",
       "magaziner  (M, AE2, G, AH0, Z, IY1, N, ER0)       8  6.338548e-10   14.117288   \n",
       "\n",
       "              pronunciation_string  num_syllables  \n",
       "word                                               \n",
       "reisig               R AY1 S IH0 G              2  \n",
       "knelt                    N EH1 L T              1  \n",
       "yearwood           Y IH1 R W UH0 D              2  \n",
       "fewest             F Y UW1 AH0 S T              2  \n",
       "magaziner  M AE2 G AH0 Z IY1 N ER0              4  "
      ]
     },
     "execution_count": 763,
     "metadata": {},
     "output_type": "execute_result"
    }
   ],
   "source": [
    "print(f'There are {len(df):,} pronunciations.')\n",
    "df.sample(5)"
   ]
  },
  {
   "cell_type": "code",
   "execution_count": null,
   "metadata": {},
   "outputs": [],
   "source": []
  },
  {
   "cell_type": "markdown",
   "metadata": {},
   "source": [
    "# MOVE ME #"
   ]
  },
  {
   "cell_type": "code",
   "execution_count": 599,
   "metadata": {},
   "outputs": [],
   "source": [
    "# TODO: write a utility function for extracting all probabilities. Then use that in this. Also add a function for perplexity\n",
    "def calc_probs(lm, pronunciation):\n",
    "    from phoneme_lm import encode_pronunciation\n",
    "    from torch.functional import F\n",
    "    encoded_pronunciation = encode_pronunciation(\n",
    "        pronunciation,\n",
    "        lm.phoneme_to_idx\n",
    "    )\n",
    "    output, _ = lm(torch.LongTensor(encoded_pronunciation).unsqueeze(0))\n",
    "    output = F.softmax(output, dim=-1).squeeze()\n",
    "\n",
    "    probs = []\n",
    "    for step, (input_phoneme_idx, next_phoneme_idx) in enumerate(zip(encoded_pronunciation, encoded_pronunciation[1:])):\n",
    "        prob = output[step, next_phoneme_idx].item()\n",
    "        probs.append(prob)\n",
    "\n",
    "    return probs\n",
    "\n",
    "def plot_pronunciation(lm, pronunciation):\n",
    "    probs = calc_probs(lm, pronunciation)\n",
    "    pronunciation = pronunciation + ('END',)\n",
    "    pd.Series(probs, pronunciation).plot.bar()\n",
    "    plt.title('Probability of Each Phoneme Given Word So Far')\n",
    "    \n",
    "    \n",
    "def plot_next_probabilities(lm, pronunciation, min_prob=0.01):\n",
    "    \"\"\"Compute the probabilities for the next phoneme after `pronunciation`.\n",
    "    \n",
    "    Plot all phonemes that have at least `min_prob` probability.\n",
    "    \"\"\"\n",
    "    next_probs = lm.next_probabilities(pronunciation)\n",
    "    # TODO: remove this after fixing bug in phoneme_lm.py\n",
    "    next_probs = {phoneme: prob.item() for (phoneme, prob) in next_probs.items()}\n",
    "    next_probs = pd.Series(next_probs)\n",
    "    next_probs = next_probs[next_probs>=min_prob].sort_values(ascending=False)\n",
    "    next_probs.plot.bar()\n",
    "\n",
    "# TODO: put this on the model\n",
    "def calculate_perplexity(lm, pronunciation):\n",
    "    return lm.calculate_probability(pronunciation) ** -(1/5)"
   ]
  },
  {
   "cell_type": "code",
   "execution_count": 764,
   "metadata": {},
   "outputs": [],
   "source": [
    "# meow TODO: move this. maybe intil utils?\n",
    "def make_vowels_set():\n",
    "    \"\"\"Return a set of all stressed vowels, each as an ARPABET string.\n",
    "    \n",
    "    Note that this also includes the syllabir /ER/.\n",
    "    \"\"\"\n",
    "    unstressed_vowels = {'AA', 'AE', 'AH', 'AO', 'AW', 'AY', 'EH', 'ER', 'EY', 'IH', 'IY', 'OW', 'OY', 'UH', 'UW' }\n",
    "    vowels = set()\n",
    "    for vowel in unstressed_vowels:\n",
    "        for stress in '012':\n",
    "            vowels.add(f'{vowel}{stress}')\n",
    "    return vowels\n",
    "\n",
    "vowels = make_vowels_set()\n",
    "\n",
    "def count_vowels_in_pronunciation(pronunciation, vowels):\n",
    "    counts = Counter(pronunciation)\n",
    "    return sum(counts[vowel] for vowel in vowels)\n",
    "        \n",
    "# Assuming that each vowel corresponds to a single syllable, which is correct most of the time.\n",
    "df['num_syllables'] = df.pronunciation.apply(lambda pronunciation: count_vowels_in_pronunciation(pronunciation, vowels))\n",
    "\n",
    "\n",
    "def make_dist(things):\n",
    "    counts = things.value_counts()\n",
    "    return counts / counts.sum()"
   ]
  },
  {
   "cell_type": "markdown",
   "metadata": {},
   "source": [
    "## What Words are the Most and Least Englishy? ##\n",
    "Since the model can assign a probability to any pronunciation, I can run it over the entire set of pronunciations in the Pronouncing Dictionary and identify the ones that have high and low likelihood of being English.\n",
    "\n",
    "I'll be using [perplexity](https://en.wikipedia.org/wiki/Perplexity) as a measurement of how likely the model thinks each pronunciation is."
   ]
  },
  {
   "cell_type": "code",
   "execution_count": 765,
   "metadata": {},
   "outputs": [],
   "source": [
    "# meow: make a `lm.calculate_perplexity` method. Drop probability since it's not really useful\n",
    "def perplexity(row):\n",
    "    return row['probability'] ** -(1 / row['length'])\n",
    "\n",
    "df['probability'] = df.pronunciation.apply(lambda pronunciation: lm.calculate_probability(pronunciation))\n",
    "df['perplexity'] = df.apply(perplexity, axis=1)"
   ]
  },
  {
   "cell_type": "markdown",
   "metadata": {},
   "source": [
    "Let's look at the least perplexing words. These are the ones the model was totally unsurprised because they seem very normal. Remember that the pronunciation is in [ARPABET](https://en.wikipedia.org/wiki/ARPABET)."
   ]
  },
  {
   "cell_type": "code",
   "execution_count": 773,
   "metadata": {},
   "outputs": [
    {
     "data": {
      "text/html": [
       "<div>\n",
       "<style scoped>\n",
       "    .dataframe tbody tr th:only-of-type {\n",
       "        vertical-align: middle;\n",
       "    }\n",
       "\n",
       "    .dataframe tbody tr th {\n",
       "        vertical-align: top;\n",
       "    }\n",
       "\n",
       "    .dataframe thead th {\n",
       "        text-align: right;\n",
       "    }\n",
       "</style>\n",
       "<table border=\"1\" class=\"dataframe\">\n",
       "  <thead>\n",
       "    <tr style=\"text-align: right;\">\n",
       "      <th></th>\n",
       "      <th>pronunciation</th>\n",
       "      <th>perplexity</th>\n",
       "    </tr>\n",
       "    <tr>\n",
       "      <th>word</th>\n",
       "      <th></th>\n",
       "      <th></th>\n",
       "    </tr>\n",
       "  </thead>\n",
       "  <tbody>\n",
       "    <tr>\n",
       "      <th>kenton</th>\n",
       "      <td>(K, EH1, N, T, AH0, N)</td>\n",
       "      <td>7.777964</td>\n",
       "    </tr>\n",
       "    <tr>\n",
       "      <th>canton</th>\n",
       "      <td>(K, AE1, N, T, AH0, N)</td>\n",
       "      <td>8.047631</td>\n",
       "    </tr>\n",
       "    <tr>\n",
       "      <th>kinton</th>\n",
       "      <td>(K, IH1, N, T, AH0, N)</td>\n",
       "      <td>8.181406</td>\n",
       "    </tr>\n",
       "    <tr>\n",
       "      <th>menton</th>\n",
       "      <td>(M, EH1, N, T, AH0, N)</td>\n",
       "      <td>8.441340</td>\n",
       "    </tr>\n",
       "    <tr>\n",
       "      <th>brenton</th>\n",
       "      <td>(B, R, EH1, N, T, AH0, N)</td>\n",
       "      <td>8.497725</td>\n",
       "    </tr>\n",
       "    <tr>\n",
       "      <th>korten</th>\n",
       "      <td>(K, AO1, R, T, AH0, N)</td>\n",
       "      <td>8.500336</td>\n",
       "    </tr>\n",
       "    <tr>\n",
       "      <th>carton</th>\n",
       "      <td>(K, AA1, R, T, AH0, N)</td>\n",
       "      <td>8.510653</td>\n",
       "    </tr>\n",
       "    <tr>\n",
       "      <th>contant</th>\n",
       "      <td>(K, AA1, N, T, AH0, N, T)</td>\n",
       "      <td>8.627808</td>\n",
       "    </tr>\n",
       "    <tr>\n",
       "      <th>cantons</th>\n",
       "      <td>(K, AE1, N, T, AH0, N, Z)</td>\n",
       "      <td>8.652958</td>\n",
       "    </tr>\n",
       "    <tr>\n",
       "      <th>manton</th>\n",
       "      <td>(M, AE1, N, T, AH0, N)</td>\n",
       "      <td>8.695088</td>\n",
       "    </tr>\n",
       "  </tbody>\n",
       "</table>\n",
       "</div>"
      ],
      "text/plain": [
       "                     pronunciation  perplexity\n",
       "word                                          \n",
       "kenton      (K, EH1, N, T, AH0, N)    7.777964\n",
       "canton      (K, AE1, N, T, AH0, N)    8.047631\n",
       "kinton      (K, IH1, N, T, AH0, N)    8.181406\n",
       "menton      (M, EH1, N, T, AH0, N)    8.441340\n",
       "brenton  (B, R, EH1, N, T, AH0, N)    8.497725\n",
       "korten      (K, AO1, R, T, AH0, N)    8.500336\n",
       "carton      (K, AA1, R, T, AH0, N)    8.510653\n",
       "contant  (K, AA1, N, T, AH0, N, T)    8.627808\n",
       "cantons  (K, AE1, N, T, AH0, N, Z)    8.652958\n",
       "manton      (M, AE1, N, T, AH0, N)    8.695088"
      ]
     },
     "execution_count": 773,
     "metadata": {},
     "output_type": "execute_result"
    }
   ],
   "source": [
    "least_perplexing = df.sort_values('perplexity').loc[:, ['pronunciation', 'perplexity']].head(10)\n",
    "least_perplexing"
   ]
  },
  {
   "cell_type": "markdown",
   "metadata": {},
   "source": [
    "The least perplexing words have long spans of phonemes that are very common in Enligh. To get better intuitions about the model's \"thinking\" along the way we can look at the probability the model assigned to each phoneme. In the chart below, the phonemes occur along the X-axis. At the `i`th phoneme the Y-axis value represents how likely the model thought this character is given everything it's seen so far. For example, at the third phoneme below (/N/) the probability of ~.5 means the model thinks that after seeing /K AA2/ the probability of /N/ coming next is .5. In other words, `P(N | K AA2) = 0.5)`."
   ]
  },
  {
   "cell_type": "code",
   "execution_count": 774,
   "metadata": {},
   "outputs": [
    {
     "data": {
      "text/plain": [
       "('K', 'EH1', 'N', 'T', 'AH0', 'N')"
      ]
     },
     "execution_count": 774,
     "metadata": {},
     "output_type": "execute_result"
    }
   ],
   "source": [
    "least_perplexing.pronunciation.iloc[0]"
   ]
  },
  {
   "cell_type": "code",
   "execution_count": 775,
   "metadata": {},
   "outputs": [
    {
     "data": {
      "image/png": "[encoded data removed]",
      "text/plain": [
       "<Figure size 432x288 with 1 Axes>"
      ]
     },
     "metadata": {
      "needs_background": "light"
     },
     "output_type": "display_data"
    }
   ],
   "source": [
    "plot_pronunciation(lm, least_perplexing.iloc[0].pronunciation)"
   ]
  },
  {
   "cell_type": "markdown",
   "metadata": {},
   "source": [
    "It is clear that the model has memorized some of these longer words. In the word \"constitutionists\" above, early on perplexity is high as the model was trained on many words that had that same beginning. Further on the model is fairly certain, like where it believes /SH/ should almost certaintly follow /K AH2 N S T AH0 T UW1/. Phonotactically many of phonemes would be fine here.\n",
    "\n",
    "\n",
    "It makes sense that the model would be able to overfit on long words. What short words are most perplexing to the model? Let's look at the most perplexing two syllable words."
   ]
  },
  {
   "cell_type": "code",
   "execution_count": 776,
   "metadata": {},
   "outputs": [
    {
     "data": {
      "image/png": "[encoded data removed]",
      "text/plain": [
       "<Figure size 432x288 with 1 Axes>"
      ]
     },
     "metadata": {
      "needs_background": "light"
     },
     "output_type": "display_data"
    }
   ],
   "source": [
    "df.num_syllables.value_counts().sort_index().plot.bar()\n",
    "plt.xlabel('Number of Syllables')\n",
    "_ = plt.ylabel('Frequency')"
   ]
  },
  {
   "cell_type": "code",
   "execution_count": 777,
   "metadata": {},
   "outputs": [
    {
     "name": "stdout",
     "output_type": "stream",
     "text": [
      "46% of words contain two syllables\n",
      "\n"
     ]
    }
   ],
   "source": [
    "percentage_2to3 = (df.num_syllables==2).mean() * 100\n",
    "print('{:.0f}% of words contain two syllables\\n'.format(percentage_2to3))"
   ]
  },
  {
   "cell_type": "markdown",
   "metadata": {},
   "source": [
    "About 46% of English words contain two syllables. So let's look in this area."
   ]
  },
  {
   "cell_type": "code",
   "execution_count": 778,
   "metadata": {},
   "outputs": [
    {
     "data": {
      "text/html": [
       "<div>\n",
       "<style scoped>\n",
       "    .dataframe tbody tr th:only-of-type {\n",
       "        vertical-align: middle;\n",
       "    }\n",
       "\n",
       "    .dataframe tbody tr th {\n",
       "        vertical-align: top;\n",
       "    }\n",
       "\n",
       "    .dataframe thead th {\n",
       "        text-align: right;\n",
       "    }\n",
       "</style>\n",
       "<table border=\"1\" class=\"dataframe\">\n",
       "  <thead>\n",
       "    <tr style=\"text-align: right;\">\n",
       "      <th></th>\n",
       "      <th>pronunciation_string</th>\n",
       "      <th>perplexity</th>\n",
       "      <th>length</th>\n",
       "      <th>num_syllables</th>\n",
       "    </tr>\n",
       "    <tr>\n",
       "      <th>word</th>\n",
       "      <th></th>\n",
       "      <th></th>\n",
       "      <th></th>\n",
       "      <th></th>\n",
       "    </tr>\n",
       "  </thead>\n",
       "  <tbody>\n",
       "    <tr>\n",
       "      <th>kenton</th>\n",
       "      <td>K EH1 N T AH0 N</td>\n",
       "      <td>7.777964</td>\n",
       "      <td>6</td>\n",
       "      <td>2</td>\n",
       "    </tr>\n",
       "    <tr>\n",
       "      <th>canton</th>\n",
       "      <td>K AE1 N T AH0 N</td>\n",
       "      <td>8.047631</td>\n",
       "      <td>6</td>\n",
       "      <td>2</td>\n",
       "    </tr>\n",
       "    <tr>\n",
       "      <th>kinton</th>\n",
       "      <td>K IH1 N T AH0 N</td>\n",
       "      <td>8.181406</td>\n",
       "      <td>6</td>\n",
       "      <td>2</td>\n",
       "    </tr>\n",
       "    <tr>\n",
       "      <th>menton</th>\n",
       "      <td>M EH1 N T AH0 N</td>\n",
       "      <td>8.441340</td>\n",
       "      <td>6</td>\n",
       "      <td>2</td>\n",
       "    </tr>\n",
       "    <tr>\n",
       "      <th>brenton</th>\n",
       "      <td>B R EH1 N T AH0 N</td>\n",
       "      <td>8.497725</td>\n",
       "      <td>7</td>\n",
       "      <td>2</td>\n",
       "    </tr>\n",
       "    <tr>\n",
       "      <th>korten</th>\n",
       "      <td>K AO1 R T AH0 N</td>\n",
       "      <td>8.500336</td>\n",
       "      <td>6</td>\n",
       "      <td>2</td>\n",
       "    </tr>\n",
       "    <tr>\n",
       "      <th>carton</th>\n",
       "      <td>K AA1 R T AH0 N</td>\n",
       "      <td>8.510653</td>\n",
       "      <td>6</td>\n",
       "      <td>2</td>\n",
       "    </tr>\n",
       "    <tr>\n",
       "      <th>contant</th>\n",
       "      <td>K AA1 N T AH0 N T</td>\n",
       "      <td>8.627808</td>\n",
       "      <td>7</td>\n",
       "      <td>2</td>\n",
       "    </tr>\n",
       "    <tr>\n",
       "      <th>cantons</th>\n",
       "      <td>K AE1 N T AH0 N Z</td>\n",
       "      <td>8.652958</td>\n",
       "      <td>7</td>\n",
       "      <td>2</td>\n",
       "    </tr>\n",
       "    <tr>\n",
       "      <th>manton</th>\n",
       "      <td>M AE1 N T AH0 N</td>\n",
       "      <td>8.695088</td>\n",
       "      <td>6</td>\n",
       "      <td>2</td>\n",
       "    </tr>\n",
       "  </tbody>\n",
       "</table>\n",
       "</div>"
      ],
      "text/plain": [
       "        pronunciation_string  perplexity  length  num_syllables\n",
       "word                                                           \n",
       "kenton       K EH1 N T AH0 N    7.777964       6              2\n",
       "canton       K AE1 N T AH0 N    8.047631       6              2\n",
       "kinton       K IH1 N T AH0 N    8.181406       6              2\n",
       "menton       M EH1 N T AH0 N    8.441340       6              2\n",
       "brenton    B R EH1 N T AH0 N    8.497725       7              2\n",
       "korten       K AO1 R T AH0 N    8.500336       6              2\n",
       "carton       K AA1 R T AH0 N    8.510653       6              2\n",
       "contant    K AA1 N T AH0 N T    8.627808       7              2\n",
       "cantons    K AE1 N T AH0 N Z    8.652958       7              2\n",
       "manton       M AE1 N T AH0 N    8.695088       6              2"
      ]
     },
     "execution_count": 778,
     "metadata": {},
     "output_type": "execute_result"
    }
   ],
   "source": [
    "df_2 = df[df.num_syllables==2]\n",
    "df_2.sort_values('perplexity').loc[:, ['pronunciation_string', 'perplexity', 'length', 'num_syllables']].drop_duplicates('pronunciation_string').head(10)"
   ]
  },
  {
   "cell_type": "code",
   "execution_count": 779,
   "metadata": {},
   "outputs": [
    {
     "data": {
      "text/html": [
       "<div>\n",
       "<style scoped>\n",
       "    .dataframe tbody tr th:only-of-type {\n",
       "        vertical-align: middle;\n",
       "    }\n",
       "\n",
       "    .dataframe tbody tr th {\n",
       "        vertical-align: top;\n",
       "    }\n",
       "\n",
       "    .dataframe thead th {\n",
       "        text-align: right;\n",
       "    }\n",
       "</style>\n",
       "<table border=\"1\" class=\"dataframe\">\n",
       "  <thead>\n",
       "    <tr style=\"text-align: right;\">\n",
       "      <th></th>\n",
       "      <th>pronunciation_string</th>\n",
       "      <th>perplexity</th>\n",
       "      <th>length</th>\n",
       "      <th>num_syllables</th>\n",
       "    </tr>\n",
       "    <tr>\n",
       "      <th>word</th>\n",
       "      <th></th>\n",
       "      <th></th>\n",
       "      <th></th>\n",
       "      <th></th>\n",
       "    </tr>\n",
       "  </thead>\n",
       "  <tbody>\n",
       "    <tr>\n",
       "      <th>kenealy</th>\n",
       "      <td>K EH1 N IY0 AH0 L IY0</td>\n",
       "      <td>10.499667</td>\n",
       "      <td>7</td>\n",
       "      <td>4</td>\n",
       "    </tr>\n",
       "    <tr>\n",
       "      <th>contaminant</th>\n",
       "      <td>K AH0 N T AE1 M AH0 N AH0 N T</td>\n",
       "      <td>11.122940</td>\n",
       "      <td>11</td>\n",
       "      <td>4</td>\n",
       "    </tr>\n",
       "    <tr>\n",
       "      <th>cinnamonson</th>\n",
       "      <td>S IH1 N AH0 M AH0 N S AH0 N</td>\n",
       "      <td>11.196613</td>\n",
       "      <td>10</td>\n",
       "      <td>4</td>\n",
       "    </tr>\n",
       "    <tr>\n",
       "      <th>minimally</th>\n",
       "      <td>M IH1 N AH0 M AH0 L IY0</td>\n",
       "      <td>11.357341</td>\n",
       "      <td>8</td>\n",
       "      <td>4</td>\n",
       "    </tr>\n",
       "    <tr>\n",
       "      <th>cynically</th>\n",
       "      <td>S IH1 N IH0 K AH0 L IY0</td>\n",
       "      <td>11.528573</td>\n",
       "      <td>8</td>\n",
       "      <td>4</td>\n",
       "    </tr>\n",
       "    <tr>\n",
       "      <th>frantically</th>\n",
       "      <td>F R AE1 N T AH0 K AH0 L IY0</td>\n",
       "      <td>11.536430</td>\n",
       "      <td>10</td>\n",
       "      <td>4</td>\n",
       "    </tr>\n",
       "    <tr>\n",
       "      <th>canonical</th>\n",
       "      <td>K AH0 N AA1 N AH0 K AH0 L</td>\n",
       "      <td>11.647248</td>\n",
       "      <td>9</td>\n",
       "      <td>4</td>\n",
       "    </tr>\n",
       "    <tr>\n",
       "      <th>contrarians</th>\n",
       "      <td>K AH0 N T R EH1 R IY0 AH0 N Z</td>\n",
       "      <td>11.683093</td>\n",
       "      <td>11</td>\n",
       "      <td>4</td>\n",
       "    </tr>\n",
       "    <tr>\n",
       "      <th>criminally</th>\n",
       "      <td>K R IH1 M AH0 N AH0 L IY0</td>\n",
       "      <td>11.738775</td>\n",
       "      <td>9</td>\n",
       "      <td>4</td>\n",
       "    </tr>\n",
       "    <tr>\n",
       "      <th>connecticut</th>\n",
       "      <td>K AH0 N EH1 T AH0 K AH0 T</td>\n",
       "      <td>11.963766</td>\n",
       "      <td>9</td>\n",
       "      <td>4</td>\n",
       "    </tr>\n",
       "  </tbody>\n",
       "</table>\n",
       "</div>"
      ],
      "text/plain": [
       "                      pronunciation_string  perplexity  length  num_syllables\n",
       "word                                                                         \n",
       "kenealy              K EH1 N IY0 AH0 L IY0   10.499667       7              4\n",
       "contaminant  K AH0 N T AE1 M AH0 N AH0 N T   11.122940      11              4\n",
       "cinnamonson    S IH1 N AH0 M AH0 N S AH0 N   11.196613      10              4\n",
       "minimally          M IH1 N AH0 M AH0 L IY0   11.357341       8              4\n",
       "cynically          S IH1 N IH0 K AH0 L IY0   11.528573       8              4\n",
       "frantically    F R AE1 N T AH0 K AH0 L IY0   11.536430      10              4\n",
       "canonical        K AH0 N AA1 N AH0 K AH0 L   11.647248       9              4\n",
       "contrarians  K AH0 N T R EH1 R IY0 AH0 N Z   11.683093      11              4\n",
       "criminally       K R IH1 M AH0 N AH0 L IY0   11.738775       9              4\n",
       "connecticut      K AH0 N EH1 T AH0 K AH0 T   11.963766       9              4"
      ]
     },
     "execution_count": 779,
     "metadata": {},
     "output_type": "execute_result"
    }
   ],
   "source": [
    "df[df.num_syllables > 3].sort_values('perplexity').loc[:, ['pronunciation_string', 'perplexity', 'length', 'num_syllables']].drop_duplicates('pronunciation_string').head(10)"
   ]
  },
  {
   "cell_type": "code",
   "execution_count": null,
   "metadata": {},
   "outputs": [],
   "source": []
  },
  {
   "cell_type": "code",
   "execution_count": null,
   "metadata": {},
   "outputs": [],
   "source": []
  },
  {
   "cell_type": "markdown",
   "metadata": {},
   "source": [
    "All of these words have three syllables with the stress on the second syllable. These all feel like good English words. They have many phonemes though, so I'm concerned that the model is recognizing the very specific patterns and giving all the later phonemes very high probabilities."
   ]
  },
  {
   "cell_type": "code",
   "execution_count": 784,
   "metadata": {},
   "outputs": [
    {
     "data": {
      "image/png": "[encoded data removed]",
      "text/plain": [
       "<Figure size 432x288 with 1 Axes>"
      ]
     },
     "metadata": {
      "needs_background": "light"
     },
     "output_type": "display_data"
    }
   ],
   "source": [
    "plot_pronunciation(lm, ('K', 'AH0', 'N', 'S', 'T', 'R', 'AH1', 'K', 'SH', 'AH0', 'N', 'Z'))"
   ]
  },
  {
   "cell_type": "markdown",
   "metadata": {},
   "source": []
  },
  {
   "cell_type": "code",
   "execution_count": null,
   "metadata": {},
   "outputs": [],
   "source": []
  },
  {
   "cell_type": "code",
   "execution_count": 785,
   "metadata": {},
   "outputs": [
    {
     "data": {
      "text/html": [
       "<div>\n",
       "<style scoped>\n",
       "    .dataframe tbody tr th:only-of-type {\n",
       "        vertical-align: middle;\n",
       "    }\n",
       "\n",
       "    .dataframe tbody tr th {\n",
       "        vertical-align: top;\n",
       "    }\n",
       "\n",
       "    .dataframe thead th {\n",
       "        text-align: right;\n",
       "    }\n",
       "</style>\n",
       "<table border=\"1\" class=\"dataframe\">\n",
       "  <thead>\n",
       "    <tr style=\"text-align: right;\">\n",
       "      <th></th>\n",
       "      <th>pronunciation</th>\n",
       "      <th>length</th>\n",
       "      <th>probability</th>\n",
       "      <th>perplexity</th>\n",
       "      <th>pronunciation_string</th>\n",
       "      <th>num_syllables</th>\n",
       "    </tr>\n",
       "    <tr>\n",
       "      <th>word</th>\n",
       "      <th></th>\n",
       "      <th></th>\n",
       "      <th></th>\n",
       "      <th></th>\n",
       "      <th></th>\n",
       "      <th></th>\n",
       "    </tr>\n",
       "  </thead>\n",
       "  <tbody>\n",
       "    <tr>\n",
       "      <th>ia</th>\n",
       "      <td>(IY1, AH0)</td>\n",
       "      <td>2</td>\n",
       "      <td>6.001252e-07</td>\n",
       "      <td>1290.859749</td>\n",
       "      <td>IY1 AH0</td>\n",
       "      <td>2</td>\n",
       "    </tr>\n",
       "    <tr>\n",
       "      <th>oyer</th>\n",
       "      <td>(OY1, ER0)</td>\n",
       "      <td>2</td>\n",
       "      <td>7.782746e-07</td>\n",
       "      <td>1133.531469</td>\n",
       "      <td>OY1 ER0</td>\n",
       "      <td>2</td>\n",
       "    </tr>\n",
       "    <tr>\n",
       "      <th>aja</th>\n",
       "      <td>(AY1, AH0)</td>\n",
       "      <td>2</td>\n",
       "      <td>1.035474e-06</td>\n",
       "      <td>982.721311</td>\n",
       "      <td>AY1 AH0</td>\n",
       "      <td>2</td>\n",
       "    </tr>\n",
       "    <tr>\n",
       "      <th>awry</th>\n",
       "      <td>(ER0, AY1)</td>\n",
       "      <td>2</td>\n",
       "      <td>1.296925e-06</td>\n",
       "      <td>878.097263</td>\n",
       "      <td>ER0 AY1</td>\n",
       "      <td>2</td>\n",
       "    </tr>\n",
       "    <tr>\n",
       "      <th>auer</th>\n",
       "      <td>(AW1, ER0)</td>\n",
       "      <td>2</td>\n",
       "      <td>1.653131e-06</td>\n",
       "      <td>777.761372</td>\n",
       "      <td>AW1 ER0</td>\n",
       "      <td>2</td>\n",
       "    </tr>\n",
       "    <tr>\n",
       "      <th>our</th>\n",
       "      <td>(AW1, ER0)</td>\n",
       "      <td>2</td>\n",
       "      <td>1.653131e-06</td>\n",
       "      <td>777.761372</td>\n",
       "      <td>AW1 ER0</td>\n",
       "      <td>2</td>\n",
       "    </tr>\n",
       "    <tr>\n",
       "      <th>hour</th>\n",
       "      <td>(AW1, ER0)</td>\n",
       "      <td>2</td>\n",
       "      <td>1.653131e-06</td>\n",
       "      <td>777.761372</td>\n",
       "      <td>AW1 ER0</td>\n",
       "      <td>2</td>\n",
       "    </tr>\n",
       "    <tr>\n",
       "      <th>array</th>\n",
       "      <td>(ER0, EY1)</td>\n",
       "      <td>2</td>\n",
       "      <td>2.457984e-06</td>\n",
       "      <td>637.838074</td>\n",
       "      <td>ER0 EY1</td>\n",
       "      <td>2</td>\n",
       "    </tr>\n",
       "    <tr>\n",
       "      <th>aoi</th>\n",
       "      <td>(AW1, IY0)</td>\n",
       "      <td>2</td>\n",
       "      <td>2.848446e-06</td>\n",
       "      <td>592.510421</td>\n",
       "      <td>AW1 IY0</td>\n",
       "      <td>2</td>\n",
       "    </tr>\n",
       "    <tr>\n",
       "      <th>io</th>\n",
       "      <td>(AY1, OW0)</td>\n",
       "      <td>2</td>\n",
       "      <td>3.276502e-06</td>\n",
       "      <td>552.452289</td>\n",
       "      <td>AY1 OW0</td>\n",
       "      <td>2</td>\n",
       "    </tr>\n",
       "  </tbody>\n",
       "</table>\n",
       "</div>"
      ],
      "text/plain": [
       "      pronunciation  length   probability   perplexity pronunciation_string  \\\n",
       "word                                                                          \n",
       "ia       (IY1, AH0)       2  6.001252e-07  1290.859749              IY1 AH0   \n",
       "oyer     (OY1, ER0)       2  7.782746e-07  1133.531469              OY1 ER0   \n",
       "aja      (AY1, AH0)       2  1.035474e-06   982.721311              AY1 AH0   \n",
       "awry     (ER0, AY1)       2  1.296925e-06   878.097263              ER0 AY1   \n",
       "auer     (AW1, ER0)       2  1.653131e-06   777.761372              AW1 ER0   \n",
       "our      (AW1, ER0)       2  1.653131e-06   777.761372              AW1 ER0   \n",
       "hour     (AW1, ER0)       2  1.653131e-06   777.761372              AW1 ER0   \n",
       "array    (ER0, EY1)       2  2.457984e-06   637.838074              ER0 EY1   \n",
       "aoi      (AW1, IY0)       2  2.848446e-06   592.510421              AW1 IY0   \n",
       "io       (AY1, OW0)       2  3.276502e-06   552.452289              AY1 OW0   \n",
       "\n",
       "       num_syllables  \n",
       "word                  \n",
       "ia                 2  \n",
       "oyer               2  \n",
       "aja                2  \n",
       "awry               2  \n",
       "auer               2  \n",
       "our                2  \n",
       "hour               2  \n",
       "array              2  \n",
       "aoi                2  \n",
       "io                 2  "
      ]
     },
     "execution_count": 785,
     "metadata": {},
     "output_type": "execute_result"
    }
   ],
   "source": [
    "df_2.sort_values('perplexity', ascending=False).head(10)"
   ]
  },
  {
   "cell_type": "markdown",
   "metadata": {},
   "source": [
    "Interestingly these words do all feel very weird to me as an English speaker. \"ai\" is an acronym, pronounced as the letter 'A' followed by the letter 'I', so isn't held to normal word formation properties and would be a really strange word.\n",
    "\n",
    "\"zungu\" also doesn't sound like English. Since English prefers syllables with onsets, when saying the word I feel like I want /NG/ to be the onset of the second syllable /NG UW1/. But /NG/ isn't normally allowed as the onset of a syllable.\n",
    "\n",
    "The stress pattern is also weird on this word. Normally in a two syllable word there will be one stressed syllable and one unstressed. This word has primary stress on the second syllabie (/UW1/) and secondary stressed on the first syllable (/AH2/). Interestingly, the perplexity of the word drops considerably (to 450) when I replace /AH2/ with /AH1/."
   ]
  },
  {
   "cell_type": "code",
   "execution_count": 786,
   "metadata": {},
   "outputs": [
    {
     "data": {
      "image/png": "[encoded data removed]",
      "text/plain": [
       "<Figure size 432x288 with 1 Axes>"
      ]
     },
     "metadata": {
      "needs_background": "light"
     },
     "output_type": "display_data"
    }
   ],
   "source": [
    "plot_pronunciation(lm, ('Z', 'AH2', 'NG', 'UW1'))"
   ]
  },
  {
   "cell_type": "markdown",
   "metadata": {},
   "source": [
    "We've seen that the lowest perplexity words are very long and the highest perplexity words are short. Let's look at the two other options. First let's look at the low perplexity short words."
   ]
  },
  {
   "cell_type": "code",
   "execution_count": 787,
   "metadata": {},
   "outputs": [
    {
     "data": {
      "text/html": [
       "<div>\n",
       "<style scoped>\n",
       "    .dataframe tbody tr th:only-of-type {\n",
       "        vertical-align: middle;\n",
       "    }\n",
       "\n",
       "    .dataframe tbody tr th {\n",
       "        vertical-align: top;\n",
       "    }\n",
       "\n",
       "    .dataframe thead th {\n",
       "        text-align: right;\n",
       "    }\n",
       "</style>\n",
       "<table border=\"1\" class=\"dataframe\">\n",
       "  <thead>\n",
       "    <tr style=\"text-align: right;\">\n",
       "      <th></th>\n",
       "      <th>pronunciation</th>\n",
       "      <th>length</th>\n",
       "      <th>probability</th>\n",
       "      <th>perplexity</th>\n",
       "      <th>pronunciation_string</th>\n",
       "      <th>num_syllables</th>\n",
       "    </tr>\n",
       "    <tr>\n",
       "      <th>word</th>\n",
       "      <th></th>\n",
       "      <th></th>\n",
       "      <th></th>\n",
       "      <th></th>\n",
       "      <th></th>\n",
       "      <th></th>\n",
       "    </tr>\n",
       "  </thead>\n",
       "  <tbody>\n",
       "    <tr>\n",
       "      <th>kenton</th>\n",
       "      <td>(K, EH1, N, T, AH0, N)</td>\n",
       "      <td>6</td>\n",
       "      <td>4.516526e-06</td>\n",
       "      <td>7.777964</td>\n",
       "      <td>K EH1 N T AH0 N</td>\n",
       "      <td>2</td>\n",
       "    </tr>\n",
       "    <tr>\n",
       "      <th>canton</th>\n",
       "      <td>(K, AE1, N, T, AH0, N)</td>\n",
       "      <td>6</td>\n",
       "      <td>3.681220e-06</td>\n",
       "      <td>8.047631</td>\n",
       "      <td>K AE1 N T AH0 N</td>\n",
       "      <td>2</td>\n",
       "    </tr>\n",
       "    <tr>\n",
       "      <th>kinton</th>\n",
       "      <td>(K, IH1, N, T, AH0, N)</td>\n",
       "      <td>6</td>\n",
       "      <td>3.334513e-06</td>\n",
       "      <td>8.181406</td>\n",
       "      <td>K IH1 N T AH0 N</td>\n",
       "      <td>2</td>\n",
       "    </tr>\n",
       "    <tr>\n",
       "      <th>menton</th>\n",
       "      <td>(M, EH1, N, T, AH0, N)</td>\n",
       "      <td>6</td>\n",
       "      <td>2.763959e-06</td>\n",
       "      <td>8.441340</td>\n",
       "      <td>M EH1 N T AH0 N</td>\n",
       "      <td>2</td>\n",
       "    </tr>\n",
       "    <tr>\n",
       "      <th>brenton</th>\n",
       "      <td>(B, R, EH1, N, T, AH0, N)</td>\n",
       "      <td>7</td>\n",
       "      <td>3.125226e-07</td>\n",
       "      <td>8.497725</td>\n",
       "      <td>B R EH1 N T AH0 N</td>\n",
       "      <td>2</td>\n",
       "    </tr>\n",
       "  </tbody>\n",
       "</table>\n",
       "</div>"
      ],
      "text/plain": [
       "                     pronunciation  length   probability  perplexity  \\\n",
       "word                                                                   \n",
       "kenton      (K, EH1, N, T, AH0, N)       6  4.516526e-06    7.777964   \n",
       "canton      (K, AE1, N, T, AH0, N)       6  3.681220e-06    8.047631   \n",
       "kinton      (K, IH1, N, T, AH0, N)       6  3.334513e-06    8.181406   \n",
       "menton      (M, EH1, N, T, AH0, N)       6  2.763959e-06    8.441340   \n",
       "brenton  (B, R, EH1, N, T, AH0, N)       7  3.125226e-07    8.497725   \n",
       "\n",
       "        pronunciation_string  num_syllables  \n",
       "word                                         \n",
       "kenton       K EH1 N T AH0 N              2  \n",
       "canton       K AE1 N T AH0 N              2  \n",
       "kinton       K IH1 N T AH0 N              2  \n",
       "menton       M EH1 N T AH0 N              2  \n",
       "brenton    B R EH1 N T AH0 N              2  "
      ]
     },
     "execution_count": 787,
     "metadata": {},
     "output_type": "execute_result"
    }
   ],
   "source": [
    "df_2 = df[df.num_syllables==2]\n",
    "df_2.sort_values('perplexity').drop_duplicates('pronunciation').head()"
   ]
  },
  {
   "cell_type": "code",
   "execution_count": 788,
   "metadata": {},
   "outputs": [
    {
     "data": {
      "image/png": "[encoded data removed]",
      "text/plain": [
       "<Figure size 432x288 with 1 Axes>"
      ]
     },
     "metadata": {
      "needs_background": "light"
     },
     "output_type": "display_data"
    }
   ],
   "source": [
    "plot_pronunciation(lm, ('K', 'R', 'IH1', 'S', 'T', 'AH0', 'L'))"
   ]
  },
  {
   "cell_type": "markdown",
   "metadata": {},
   "source": [
    "Despite being only two syllables, these words are packed with phonemes, with lots complex onsets and codas. Let's look at words that are three or fewer phonemes."
   ]
  },
  {
   "cell_type": "code",
   "execution_count": 789,
   "metadata": {},
   "outputs": [
    {
     "data": {
      "text/html": [
       "<div>\n",
       "<style scoped>\n",
       "    .dataframe tbody tr th:only-of-type {\n",
       "        vertical-align: middle;\n",
       "    }\n",
       "\n",
       "    .dataframe tbody tr th {\n",
       "        vertical-align: top;\n",
       "    }\n",
       "\n",
       "    .dataframe thead th {\n",
       "        text-align: right;\n",
       "    }\n",
       "</style>\n",
       "<table border=\"1\" class=\"dataframe\">\n",
       "  <thead>\n",
       "    <tr style=\"text-align: right;\">\n",
       "      <th></th>\n",
       "      <th>pronunciation</th>\n",
       "      <th>length</th>\n",
       "      <th>probability</th>\n",
       "      <th>perplexity</th>\n",
       "      <th>pronunciation_string</th>\n",
       "      <th>num_syllables</th>\n",
       "    </tr>\n",
       "    <tr>\n",
       "      <th>word</th>\n",
       "      <th></th>\n",
       "      <th></th>\n",
       "      <th></th>\n",
       "      <th></th>\n",
       "      <th></th>\n",
       "      <th></th>\n",
       "    </tr>\n",
       "  </thead>\n",
       "  <tbody>\n",
       "    <tr>\n",
       "      <th>kanne</th>\n",
       "      <td>(K, AE1, N)</td>\n",
       "      <td>3</td>\n",
       "      <td>0.000197</td>\n",
       "      <td>17.183204</td>\n",
       "      <td>K AE1 N</td>\n",
       "      <td>1</td>\n",
       "    </tr>\n",
       "    <tr>\n",
       "      <th>kenn</th>\n",
       "      <td>(K, EH1, N)</td>\n",
       "      <td>3</td>\n",
       "      <td>0.000164</td>\n",
       "      <td>18.256794</td>\n",
       "      <td>K EH1 N</td>\n",
       "      <td>1</td>\n",
       "    </tr>\n",
       "    <tr>\n",
       "      <th>kinne</th>\n",
       "      <td>(K, IH1, N)</td>\n",
       "      <td>3</td>\n",
       "      <td>0.000151</td>\n",
       "      <td>18.781681</td>\n",
       "      <td>K IH1 N</td>\n",
       "      <td>1</td>\n",
       "    </tr>\n",
       "    <tr>\n",
       "      <th>keene</th>\n",
       "      <td>(K, IY1, N)</td>\n",
       "      <td>3</td>\n",
       "      <td>0.000126</td>\n",
       "      <td>19.957942</td>\n",
       "      <td>K IY1 N</td>\n",
       "      <td>1</td>\n",
       "    </tr>\n",
       "    <tr>\n",
       "      <th>man</th>\n",
       "      <td>(M, AE1, N)</td>\n",
       "      <td>3</td>\n",
       "      <td>0.000121</td>\n",
       "      <td>20.208772</td>\n",
       "      <td>M AE1 N</td>\n",
       "      <td>1</td>\n",
       "    </tr>\n",
       "  </tbody>\n",
       "</table>\n",
       "</div>"
      ],
      "text/plain": [
       "      pronunciation  length  probability  perplexity pronunciation_string  \\\n",
       "word                                                                        \n",
       "kanne   (K, AE1, N)       3     0.000197   17.183204              K AE1 N   \n",
       "kenn    (K, EH1, N)       3     0.000164   18.256794              K EH1 N   \n",
       "kinne   (K, IH1, N)       3     0.000151   18.781681              K IH1 N   \n",
       "keene   (K, IY1, N)       3     0.000126   19.957942              K IY1 N   \n",
       "man     (M, AE1, N)       3     0.000121   20.208772              M AE1 N   \n",
       "\n",
       "       num_syllables  \n",
       "word                  \n",
       "kanne              1  \n",
       "kenn               1  \n",
       "kinne              1  \n",
       "keene              1  \n",
       "man                1  "
      ]
     },
     "execution_count": 789,
     "metadata": {},
     "output_type": "execute_result"
    }
   ],
   "source": [
    "df[df.length <= 3].sort_values('perplexity').drop_duplicates('pronunciation').head()"
   ]
  },
  {
   "cell_type": "code",
   "execution_count": 790,
   "metadata": {},
   "outputs": [
    {
     "data": {
      "image/png": "[encoded data removed]",
      "text/plain": [
       "<Figure size 432x288 with 1 Axes>"
      ]
     },
     "metadata": {
      "needs_background": "light"
     },
     "output_type": "display_data"
    }
   ],
   "source": [
    "plot_pronunciation(lm, ('B', 'ER1', 'K'))"
   ]
  },
  {
   "cell_type": "markdown",
   "metadata": {},
   "source": [
    "These words are all of the form ONSET VOWEL CODA. Overall they all sound like standard words."
   ]
  },
  {
   "cell_type": "markdown",
   "metadata": {},
   "source": [
    "Now lets look at long and perplexing words."
   ]
  },
  {
   "cell_type": "markdown",
   "metadata": {},
   "source": [
    "Let's now look at the words the model thinks are most perplexing (i.e. least likely)."
   ]
  },
  {
   "cell_type": "code",
   "execution_count": 792,
   "metadata": {},
   "outputs": [
    {
     "data": {
      "text/html": [
       "<div>\n",
       "<style scoped>\n",
       "    .dataframe tbody tr th:only-of-type {\n",
       "        vertical-align: middle;\n",
       "    }\n",
       "\n",
       "    .dataframe tbody tr th {\n",
       "        vertical-align: top;\n",
       "    }\n",
       "\n",
       "    .dataframe thead th {\n",
       "        text-align: right;\n",
       "    }\n",
       "</style>\n",
       "<table border=\"1\" class=\"dataframe\">\n",
       "  <thead>\n",
       "    <tr style=\"text-align: right;\">\n",
       "      <th></th>\n",
       "      <th>pronunciation</th>\n",
       "      <th>length</th>\n",
       "      <th>probability</th>\n",
       "      <th>perplexity</th>\n",
       "      <th>pronunciation_string</th>\n",
       "      <th>num_syllables</th>\n",
       "    </tr>\n",
       "    <tr>\n",
       "      <th>word</th>\n",
       "      <th></th>\n",
       "      <th></th>\n",
       "      <th></th>\n",
       "      <th></th>\n",
       "      <th></th>\n",
       "      <th></th>\n",
       "    </tr>\n",
       "  </thead>\n",
       "  <tbody>\n",
       "    <tr>\n",
       "      <th>genego</th>\n",
       "      <td>(JH, IY1, IY1, EH1, N, IY1, JH, IY1, OW1)</td>\n",
       "      <td>9</td>\n",
       "      <td>2.680409e-24</td>\n",
       "      <td>415.995634</td>\n",
       "      <td>JH IY1 IY1 EH1 N IY1 JH IY1 OW1</td>\n",
       "      <td>6</td>\n",
       "    </tr>\n",
       "    <tr>\n",
       "      <th>asean</th>\n",
       "      <td>(EY1, EH1, S, IY1, EY1, EH1, N)</td>\n",
       "      <td>7</td>\n",
       "      <td>2.676882e-17</td>\n",
       "      <td>233.067400</td>\n",
       "      <td>EY1 EH1 S IY1 EY1 EH1 N</td>\n",
       "      <td>5</td>\n",
       "    </tr>\n",
       "    <tr>\n",
       "      <th>sffed</th>\n",
       "      <td>(EH1, S, EH1, F, EH1, F, IY1, D, IY1)</td>\n",
       "      <td>9</td>\n",
       "      <td>7.623448e-21</td>\n",
       "      <td>171.916082</td>\n",
       "      <td>EH1 S EH1 F EH1 F IY1 D IY1</td>\n",
       "      <td>5</td>\n",
       "    </tr>\n",
       "    <tr>\n",
       "      <th>waga</th>\n",
       "      <td>(D, AH1, B, AH0, Y, UW2, EY1, JH, IY1, EY1)</td>\n",
       "      <td>10</td>\n",
       "      <td>7.126496e-23</td>\n",
       "      <td>163.950368</td>\n",
       "      <td>D AH1 B AH0 Y UW2 EY1 JH IY1 EY1</td>\n",
       "      <td>6</td>\n",
       "    </tr>\n",
       "    <tr>\n",
       "      <th>anfal</th>\n",
       "      <td>(EY1, EH1, N, EH1, F, EY1, EH1, L)</td>\n",
       "      <td>8</td>\n",
       "      <td>4.054258e-18</td>\n",
       "      <td>149.283247</td>\n",
       "      <td>EY1 EH1 N EH1 F EY1 EH1 L</td>\n",
       "      <td>5</td>\n",
       "    </tr>\n",
       "  </tbody>\n",
       "</table>\n",
       "</div>"
      ],
      "text/plain": [
       "                                      pronunciation  length   probability  \\\n",
       "word                                                                        \n",
       "genego    (JH, IY1, IY1, EH1, N, IY1, JH, IY1, OW1)       9  2.680409e-24   \n",
       "asean               (EY1, EH1, S, IY1, EY1, EH1, N)       7  2.676882e-17   \n",
       "sffed         (EH1, S, EH1, F, EH1, F, IY1, D, IY1)       9  7.623448e-21   \n",
       "waga    (D, AH1, B, AH0, Y, UW2, EY1, JH, IY1, EY1)      10  7.126496e-23   \n",
       "anfal            (EY1, EH1, N, EH1, F, EY1, EH1, L)       8  4.054258e-18   \n",
       "\n",
       "        perplexity              pronunciation_string  num_syllables  \n",
       "word                                                                 \n",
       "genego  415.995634   JH IY1 IY1 EH1 N IY1 JH IY1 OW1              6  \n",
       "asean   233.067400           EY1 EH1 S IY1 EY1 EH1 N              5  \n",
       "sffed   171.916082       EH1 S EH1 F EH1 F IY1 D IY1              5  \n",
       "waga    163.950368  D AH1 B AH0 Y UW2 EY1 JH IY1 EY1              6  \n",
       "anfal   149.283247         EY1 EH1 N EH1 F EY1 EH1 L              5  "
      ]
     },
     "execution_count": 792,
     "metadata": {},
     "output_type": "execute_result"
    }
   ],
   "source": [
    "df[df.num_syllables > 4].sort_values('perplexity', ascending=False).head()"
   ]
  },
  {
   "cell_type": "markdown",
   "metadata": {},
   "source": [
    "Aside from \"gunatilake\", all of these words are acronyms. For example, \"wor\" is each letter in the word pronounced."
   ]
  },
  {
   "cell_type": "code",
   "execution_count": null,
   "metadata": {},
   "outputs": [],
   "source": []
  },
  {
   "cell_type": "markdown",
   "metadata": {},
   "source": [
    "## Which Pronunciation Wins for Words with Multiple Pronunciations? ##\n",
    "Another interesting thing we can look at is which pronunciation the model prefers when a word has multiple standard ones."
   ]
  },
  {
   "cell_type": "code",
   "execution_count": 793,
   "metadata": {},
   "outputs": [],
   "source": [
    "# TODO: to analysis_utils\n",
    "def show_pronunciations_for_word(word):\n",
    "    df_for_word = df.loc[word].sort_values('perplexity', ascending=False).loc[:, ['pronunciation_string', 'perplexity']]\n",
    "    display(df_for_word.sort_values('perplexity'))"
   ]
  },
  {
   "cell_type": "markdown",
   "metadata": {},
   "source": [
    "Let's look at the model's preferred pronunciations for three words commonly argued over."
   ]
  },
  {
   "cell_type": "code",
   "execution_count": 794,
   "metadata": {},
   "outputs": [
    {
     "data": {
      "text/html": [
       "<div>\n",
       "<style scoped>\n",
       "    .dataframe tbody tr th:only-of-type {\n",
       "        vertical-align: middle;\n",
       "    }\n",
       "\n",
       "    .dataframe tbody tr th {\n",
       "        vertical-align: top;\n",
       "    }\n",
       "\n",
       "    .dataframe thead th {\n",
       "        text-align: right;\n",
       "    }\n",
       "</style>\n",
       "<table border=\"1\" class=\"dataframe\">\n",
       "  <thead>\n",
       "    <tr style=\"text-align: right;\">\n",
       "      <th></th>\n",
       "      <th>pronunciation_string</th>\n",
       "      <th>perplexity</th>\n",
       "    </tr>\n",
       "    <tr>\n",
       "      <th>word</th>\n",
       "      <th></th>\n",
       "      <th></th>\n",
       "    </tr>\n",
       "  </thead>\n",
       "  <tbody>\n",
       "    <tr>\n",
       "      <th>tomato</th>\n",
       "      <td>T AH0 M AA1 T OW2</td>\n",
       "      <td>35.394612</td>\n",
       "    </tr>\n",
       "    <tr>\n",
       "      <th>tomato</th>\n",
       "      <td>T AH0 M EY1 T OW2</td>\n",
       "      <td>38.305575</td>\n",
       "    </tr>\n",
       "  </tbody>\n",
       "</table>\n",
       "</div>"
      ],
      "text/plain": [
       "       pronunciation_string  perplexity\n",
       "word                                   \n",
       "tomato    T AH0 M AA1 T OW2   35.394612\n",
       "tomato    T AH0 M EY1 T OW2   38.305575"
      ]
     },
     "metadata": {},
     "output_type": "display_data"
    },
    {
     "data": {
      "text/html": [
       "<div>\n",
       "<style scoped>\n",
       "    .dataframe tbody tr th:only-of-type {\n",
       "        vertical-align: middle;\n",
       "    }\n",
       "\n",
       "    .dataframe tbody tr th {\n",
       "        vertical-align: top;\n",
       "    }\n",
       "\n",
       "    .dataframe thead th {\n",
       "        text-align: right;\n",
       "    }\n",
       "</style>\n",
       "<table border=\"1\" class=\"dataframe\">\n",
       "  <thead>\n",
       "    <tr style=\"text-align: right;\">\n",
       "      <th></th>\n",
       "      <th>pronunciation_string</th>\n",
       "      <th>perplexity</th>\n",
       "    </tr>\n",
       "    <tr>\n",
       "      <th>word</th>\n",
       "      <th></th>\n",
       "      <th></th>\n",
       "    </tr>\n",
       "  </thead>\n",
       "  <tbody>\n",
       "    <tr>\n",
       "      <th>aunt</th>\n",
       "      <td>AE1 N T</td>\n",
       "      <td>32.791717</td>\n",
       "    </tr>\n",
       "    <tr>\n",
       "      <th>aunt</th>\n",
       "      <td>AO1 N T</td>\n",
       "      <td>57.522401</td>\n",
       "    </tr>\n",
       "  </tbody>\n",
       "</table>\n",
       "</div>"
      ],
      "text/plain": [
       "     pronunciation_string  perplexity\n",
       "word                                 \n",
       "aunt              AE1 N T   32.791717\n",
       "aunt              AO1 N T   57.522401"
      ]
     },
     "metadata": {},
     "output_type": "display_data"
    },
    {
     "data": {
      "text/html": [
       "<div>\n",
       "<style scoped>\n",
       "    .dataframe tbody tr th:only-of-type {\n",
       "        vertical-align: middle;\n",
       "    }\n",
       "\n",
       "    .dataframe tbody tr th {\n",
       "        vertical-align: top;\n",
       "    }\n",
       "\n",
       "    .dataframe thead th {\n",
       "        text-align: right;\n",
       "    }\n",
       "</style>\n",
       "<table border=\"1\" class=\"dataframe\">\n",
       "  <thead>\n",
       "    <tr style=\"text-align: right;\">\n",
       "      <th></th>\n",
       "      <th>pronunciation_string</th>\n",
       "      <th>perplexity</th>\n",
       "    </tr>\n",
       "    <tr>\n",
       "      <th>word</th>\n",
       "      <th></th>\n",
       "      <th></th>\n",
       "    </tr>\n",
       "  </thead>\n",
       "  <tbody>\n",
       "    <tr>\n",
       "      <th>nevada</th>\n",
       "      <td>N AH0 V AE1 D AH0</td>\n",
       "      <td>29.297740</td>\n",
       "    </tr>\n",
       "    <tr>\n",
       "      <th>nevada</th>\n",
       "      <td>N AH0 V AA1 D AH0</td>\n",
       "      <td>30.311586</td>\n",
       "    </tr>\n",
       "  </tbody>\n",
       "</table>\n",
       "</div>"
      ],
      "text/plain": [
       "       pronunciation_string  perplexity\n",
       "word                                   \n",
       "nevada    N AH0 V AE1 D AH0   29.297740\n",
       "nevada    N AH0 V AA1 D AH0   30.311586"
      ]
     },
     "metadata": {},
     "output_type": "display_data"
    }
   ],
   "source": [
    "show_pronunciations_for_word('tomato')\n",
    "show_pronunciations_for_word('aunt')\n",
    "show_pronunciations_for_word('nevada')"
   ]
  },
  {
   "cell_type": "markdown",
   "metadata": {},
   "source": [
    "The model agrees with (what I take to be) the more common pronunciation of the first two words but thinks \"Nevada\" is different than how I say it.\n",
    "\n",
    "Let's look at \"coupon\" now."
   ]
  },
  {
   "cell_type": "code",
   "execution_count": 795,
   "metadata": {},
   "outputs": [
    {
     "data": {
      "text/html": [
       "<div>\n",
       "<style scoped>\n",
       "    .dataframe tbody tr th:only-of-type {\n",
       "        vertical-align: middle;\n",
       "    }\n",
       "\n",
       "    .dataframe tbody tr th {\n",
       "        vertical-align: top;\n",
       "    }\n",
       "\n",
       "    .dataframe thead th {\n",
       "        text-align: right;\n",
       "    }\n",
       "</style>\n",
       "<table border=\"1\" class=\"dataframe\">\n",
       "  <thead>\n",
       "    <tr style=\"text-align: right;\">\n",
       "      <th></th>\n",
       "      <th>pronunciation_string</th>\n",
       "      <th>perplexity</th>\n",
       "    </tr>\n",
       "    <tr>\n",
       "      <th>word</th>\n",
       "      <th></th>\n",
       "      <th></th>\n",
       "    </tr>\n",
       "  </thead>\n",
       "  <tbody>\n",
       "    <tr>\n",
       "      <th>coupon</th>\n",
       "      <td>K UW1 P AO2 N</td>\n",
       "      <td>43.930078</td>\n",
       "    </tr>\n",
       "    <tr>\n",
       "      <th>coupon</th>\n",
       "      <td>K Y UW1 P AO2 N</td>\n",
       "      <td>51.788406</td>\n",
       "    </tr>\n",
       "  </tbody>\n",
       "</table>\n",
       "</div>"
      ],
      "text/plain": [
       "       pronunciation_string  perplexity\n",
       "word                                   \n",
       "coupon        K UW1 P AO2 N   43.930078\n",
       "coupon      K Y UW1 P AO2 N   51.788406"
      ]
     },
     "metadata": {},
     "output_type": "display_data"
    }
   ],
   "source": [
    "show_pronunciations_for_word('coupon')"
   ]
  },
  {
   "cell_type": "code",
   "execution_count": 797,
   "metadata": {},
   "outputs": [
    {
     "data": {
      "image/png": "[encoded data removed]",
      "text/plain": [
       "<Figure size 432x288 with 1 Axes>"
      ]
     },
     "metadata": {
      "needs_background": "light"
     },
     "output_type": "display_data"
    }
   ],
   "source": [
    "plot_next_probabilities(lm, ('K', 'Y'))"
   ]
  },
  {
   "cell_type": "code",
   "execution_count": 796,
   "metadata": {},
   "outputs": [
    {
     "data": {
      "image/png": "[encoded data removed]",
      "text/plain": [
       "<Figure size 432x288 with 1 Axes>"
      ]
     },
     "metadata": {
      "needs_background": "light"
     },
     "output_type": "display_data"
    }
   ],
   "source": [
    "plot_pronunciation(lm, tuple('K Y UW1 P AO2 N'.split()))"
   ]
  },
  {
   "cell_type": "code",
   "execution_count": 425,
   "metadata": {},
   "outputs": [
    {
     "data": {
      "image/png": "[encoded data removed]",
      "text/plain": [
       "<Figure size 432x288 with 1 Axes>"
      ]
     },
     "metadata": {
      "needs_background": "light"
     },
     "output_type": "display_data"
    }
   ],
   "source": [
    "plot_pronunciation(lm, tuple('K UW1 P AO2 N'.split()))"
   ]
  },
  {
   "cell_type": "markdown",
   "metadata": {},
   "source": [
    "The model prefers the \"YU\" less version of \"coupon\". Interestingly, in this case the relatively low perplexity seems to be due to the model being very certain that /UW1/ will follow /K Y/."
   ]
  },
  {
   "cell_type": "markdown",
   "metadata": {},
   "source": [
    "\"with\" has four possible pronunciations listed."
   ]
  },
  {
   "cell_type": "code",
   "execution_count": 432,
   "metadata": {},
   "outputs": [
    {
     "data": {
      "text/html": [
       "<div>\n",
       "<style scoped>\n",
       "    .dataframe tbody tr th:only-of-type {\n",
       "        vertical-align: middle;\n",
       "    }\n",
       "\n",
       "    .dataframe tbody tr th {\n",
       "        vertical-align: top;\n",
       "    }\n",
       "\n",
       "    .dataframe thead th {\n",
       "        text-align: right;\n",
       "    }\n",
       "</style>\n",
       "<table border=\"1\" class=\"dataframe\">\n",
       "  <thead>\n",
       "    <tr style=\"text-align: right;\">\n",
       "      <th></th>\n",
       "      <th>pronunciation_string</th>\n",
       "      <th>perplexity</th>\n",
       "    </tr>\n",
       "    <tr>\n",
       "      <th>word</th>\n",
       "      <th></th>\n",
       "      <th></th>\n",
       "    </tr>\n",
       "  </thead>\n",
       "  <tbody>\n",
       "    <tr>\n",
       "      <th>with</th>\n",
       "      <td>W IH1 TH</td>\n",
       "      <td>62.837700</td>\n",
       "    </tr>\n",
       "    <tr>\n",
       "      <th>with</th>\n",
       "      <td>W IH0 TH</td>\n",
       "      <td>111.047932</td>\n",
       "    </tr>\n",
       "    <tr>\n",
       "      <th>with</th>\n",
       "      <td>W IH1 DH</td>\n",
       "      <td>134.248276</td>\n",
       "    </tr>\n",
       "    <tr>\n",
       "      <th>with</th>\n",
       "      <td>W IH0 DH</td>\n",
       "      <td>249.268583</td>\n",
       "    </tr>\n",
       "  </tbody>\n",
       "</table>\n",
       "</div>"
      ],
      "text/plain": [
       "     pronunciation_string  perplexity\n",
       "word                                 \n",
       "with             W IH1 TH   62.837700\n",
       "with             W IH0 TH  111.047932\n",
       "with             W IH1 DH  134.248276\n",
       "with             W IH0 DH  249.268583"
      ]
     },
     "metadata": {},
     "output_type": "display_data"
    }
   ],
   "source": [
    "show_pronunciations_for_word('with')"
   ]
  },
  {
   "cell_type": "markdown",
   "metadata": {},
   "source": [
    "By far the least perplexing one is the one I personally would use. The Pronouncing Dictionary includes two pronunciatinos with an unstressed vowel. When actually spoken in a sentence it'd be common to not stress that vowel, but when just saying the word on its own I would think it should have stress."
   ]
  },
  {
   "cell_type": "code",
   "execution_count": 435,
   "metadata": {},
   "outputs": [
    {
     "data": {
      "image/png": "[encoded data removed]",
      "text/plain": [
       "<Figure size 432x288 with 1 Axes>"
      ]
     },
     "metadata": {
      "needs_background": "light"
     },
     "output_type": "display_data"
    }
   ],
   "source": [
    "plot_pronunciation(lm, ('W', 'IH1', 'TH'))"
   ]
  },
  {
   "cell_type": "code",
   "execution_count": 434,
   "metadata": {},
   "outputs": [
    {
     "data": {
      "image/png": "[encoded data removed]",
      "text/plain": [
       "<Figure size 432x288 with 1 Axes>"
      ]
     },
     "metadata": {
      "needs_background": "light"
     },
     "output_type": "display_data"
    }
   ],
   "source": [
    "plot_pronunciation(lm, ('W', 'IH1', 'DH'))"
   ]
  },
  {
   "cell_type": "markdown",
   "metadata": {},
   "source": [
    "The model also strongly believes \"with\" should end with the voiceless /TH/ instead of the voiced /DH/. It looks like this is due to the model not wanting to end the word at /W IH1 DH/, probably because ending any word with /IH1 DH/ is rare."
   ]
  },
  {
   "cell_type": "markdown",
   "metadata": {},
   "source": [
    "## Can the Model Generate Novel Words? ##\n",
    "\n",
    "* proportion of words that are novel\n",
    "* proportion of words (from a sample) that look good to me\n",
    "* 10 randomly sampled words. show them and play the word. ARPABET | IPA | my best spelling guess | play button \n",
    "\n",
    "\n",
    "compare with overgenerated model. probably way more that aren't novel"
   ]
  },
  {
   "cell_type": "code",
   "execution_count": 798,
   "metadata": {},
   "outputs": [],
   "source": [
    "generated_df = pd.DataFrame({\n",
    "    'pronunciation': [\n",
    "        lm.generate(max_length=1000, temperature=None)\n",
    "        for _ in range(10000)\n",
    "    ]\n",
    "})"
   ]
  },
  {
   "cell_type": "code",
   "execution_count": 799,
   "metadata": {},
   "outputs": [],
   "source": [
    "generated_df['length'] = generated_df.pronunciation.apply(len)\n",
    "generated_df['num_syllables'] = generated_df.pronunciation.apply(lambda pronunciation: count_vowels_in_pronunciation(pronunciation, vowels))\n",
    "generated_df['is_novel_word'] = ~generated_df.pronunciation.isin(df.pronunciation)\n",
    "\n",
    "\n",
    "# Occasionally the model generates an empty string. I can just prevent that.\n",
    "generated_df = generated_df[generated_df.length>0]"
   ]
  },
  {
   "cell_type": "markdown",
   "metadata": {},
   "source": [
    "I generated 10,000 new pronunciations. Of those, 75% are novel pronunciations and 25% were in the training set."
   ]
  },
  {
   "cell_type": "code",
   "execution_count": 800,
   "metadata": {},
   "outputs": [
    {
     "data": {
      "image/png": "[encoded data removed]",
      "text/plain": [
       "<Figure size 432x288 with 1 Axes>"
      ]
     },
     "metadata": {
      "needs_background": "light"
     },
     "output_type": "display_data"
    }
   ],
   "source": [
    "def show_proportion_novel(generated_df):\n",
    "    counts = generated_df.is_novel_word.value_counts()\n",
    "    percentages = counts / counts.sum() * 100\n",
    "    \n",
    "    percentages.index = percentages.index.map({True: 'Novel Word', False: 'Existing Word'})\n",
    "    percentages.plot.bar()\n",
    "    plt.title('Percentage of Generated Words that are Novel')\n",
    "\n",
    "show_proportion_novel(generated_df)    "
   ]
  },
  {
   "cell_type": "markdown",
   "metadata": {},
   "source": [
    "Here are some randomly generated proununciations. I'm printing five pronunciations for each syllable count. Note that these are all novel words."
   ]
  },
  {
   "cell_type": "code",
   "execution_count": 514,
   "metadata": {},
   "outputs": [
    {
     "name": "stdout",
     "output_type": "stream",
     "text": [
      "These have 1 syllables\n",
      "\t('HH', 'IH1', 'M', 'P', 'S')\n",
      "\t('S', 'T', 'AO1', 'T')\n",
      "\t('B', 'EH1', 'L', 'G')\n",
      "\t('N', 'IY1', 'M')\n",
      "\t('V', 'AA1', 'M')\n",
      "These have 2 syllables\n",
      "\t('F', 'AE1', 'L', 'IY0', 'Z')\n",
      "\t('D', 'AA1', 'N', 'IH0', 'S')\n",
      "\t('IH1', 'S', 'M', 'OW0')\n",
      "\t('HH', 'IH1', 'M', 'AA0', 'T')\n",
      "\t('M', 'AA1', 'Z', 'IH0', 'K')\n",
      "These have 3 syllables\n",
      "\t('IH0', 'G', 'EY1', 'B', 'IH0', 'N')\n",
      "\t('K', 'R', 'IH1', 'S', 'T', 'IH0', 'T', 'IY0')\n",
      "\t('IH0', 'N', 'D', 'R', 'AY1', 'B', 'AH0', 'S')\n",
      "\t('AA1', 'P', 'T', 'AH0', 'M', 'IY0')\n",
      "\t('AE2', 'M', 'D', 'EY1', 'IH0', 'NG')\n",
      "These have 4 syllables\n",
      "\t('S', 'AH2', 'B', 'S', 'AH0', 'L', 'EH1', 'S', 'T', 'IH0', 'D')\n",
      "\t('K', 'EH2', 'R', 'AH0', 'L', 'IY1', 'N', 'D', 'ER0')\n",
      "\t('V', 'IH1', 'Z', 'AH0', 'T', 'ER0', 'IH0', 'JH')\n",
      "\t('V', 'IY0', 'V', 'EY1', 'D', 'IY0', 'AH0', 'N')\n",
      "\t('K', 'ER0', 'T', 'AA1', 'G', 'R', 'AH0', 'F', 'ER0')\n"
     ]
    }
   ],
   "source": [
    "new_pronunciations_df = generated_df[generated_df.is_novel_word]\n",
    "\n",
    "for num_syllables in range(1, 5):\n",
    "    print(f'These have {num_syllables} syllables')\n",
    "    \n",
    "    for pronunciation in new_pronunciations_df[new_pronunciations_df.num_syllables==num_syllables].sample(5).pronunciation:\n",
    "        print(f'\\t{pronunciation}')"
   ]
  },
  {
   "cell_type": "markdown",
   "metadata": {},
   "source": [
    "The main thing that jumps out at me is that these all sound like conceivable English words. There are a few sort of awkward words, like /G OW1 JH D/, but there's nothing unpronouncable. And the stress patterns feel natural to me.\n",
    "\n"
   ]
  },
  {
   "cell_type": "markdown",
   "metadata": {},
   "source": [
    "The length of the words the model generates (both in terms of phonemes and syllables) is fairly similar to the training data."
   ]
  },
  {
   "cell_type": "code",
   "execution_count": 531,
   "metadata": {},
   "outputs": [
    {
     "data": {
      "image/png": "[encoded data removed]",
      "text/plain": [
       "<Figure size 720x360 with 1 Axes>"
      ]
     },
     "metadata": {
      "needs_background": "light"
     },
     "output_type": "display_data"
    }
   ],
   "source": [
    "df.length.hist(density=True)\n",
    "generated_df.length.hist(density=True, alpha=.75, figsize=(10, 5))\n",
    "plt.xlabel('Number of Phonemes')\n",
    "plt.ylabel('Proportion of Words')\n",
    "_ = plt.title('Phoneme Count Comparison')"
   ]
  },
  {
   "cell_type": "code",
   "execution_count": 532,
   "metadata": {},
   "outputs": [
    {
     "data": {
      "image/png": "[encoded data removed]",
      "text/plain": [
       "<Figure size 720x360 with 1 Axes>"
      ]
     },
     "metadata": {
      "needs_background": "light"
     },
     "output_type": "display_data"
    }
   ],
   "source": [
    "df.num_syllables.hist(density=True)\n",
    "generated_df.num_syllables.hist(density=True, alpha=.75, figsize=(10, 5))\n",
    "plt.xlabel('Number of Syllables')\n",
    "plt.ylabel('Proportion of Words')\n",
    "_ = plt.title('Syllable Count Comparison')"
   ]
  },
  {
   "cell_type": "markdown",
   "metadata": {},
   "source": [
    "In the next section I'll probe the model to figure out whether it's just getting lucky or has learned something."
   ]
  },
  {
   "cell_type": "markdown",
   "metadata": {},
   "source": [
    "## What Rules is the Model Actually Learning? ##\n",
    "\n",
    "Given the overfitting examples we saw earlier where the model had memorized \"constitutional\" and similar words, I wanted to probe the model to make sure it's learning some more general properties."
   ]
  },
  {
   "cell_type": "markdown",
   "metadata": {},
   "source": [
    "An interesting place to start is at the start of each generated pronunciation. Here are the probabilities for the first phoneme in a word:"
   ]
  },
  {
   "cell_type": "code",
   "execution_count": 558,
   "metadata": {},
   "outputs": [
    {
     "data": {
      "image/png": "[encoded data removed]",
      "text/plain": [
       "<Figure size 432x288 with 1 Axes>"
      ]
     },
     "metadata": {
      "needs_background": "light"
     },
     "output_type": "display_data"
    }
   ],
   "source": [
    "plot_next_probabilities(lm, ())"
   ]
  },
  {
   "cell_type": "code",
   "execution_count": 564,
   "metadata": {},
   "outputs": [
    {
     "data": {
      "text/plain": [
       "<matplotlib.axes._subplots.AxesSubplot at 0x14da71810>"
      ]
     },
     "execution_count": 564,
     "metadata": {},
     "output_type": "execute_result"
    },
    {
     "data": {
      "image/png": "[encoded data removed]",
      "text/plain": [
       "<Figure size 432x288 with 1 Axes>"
      ]
     },
     "metadata": {
      "needs_background": "light"
     },
     "output_type": "display_data"
    }
   ],
   "source": [
    "make_dist(df.pronunciation.apply(itemgetter(0)))[:20].plot.bar()"
   ]
  },
  {
   "cell_type": "markdown",
   "metadata": {},
   "source": [
    "The model's probabilities almost exactly match the actual distribution of first phonemes in the training set. I was hoping that the model might learn some more general properties, like that obstruents (e.g. /K/, /P/, /D/) are equally likely to occur at the beginning of the word, but I appear to have given the model enough capacity to learn more specific sound transition probabilities. This is arguably better since the model can differentiate between very likely English pronunciations instead of just valid ones."
   ]
  },
  {
   "cell_type": "markdown",
   "metadata": {},
   "source": [
    "Some quick background on English word structure first. Words are composed of syllables. A syllable consists of an onset, a nucleus, and a coda. The nucleus is usually a vowel (or syllablic consonant like /ER/). The syllable /K R EH1 P T/ has /K R/ in the onset, /EH1/ in the nucleus, and /P T/ in the coda.\n",
    "\n",
    "English prefers that syllables at the end of a word have a coda. Consonants can serve as the codas of syllables. Diphthongs (/EY/, /OW/, /AW/, /OY/, /IY/) also have coda.\n",
    "\n",
    "Compare the two pronunciations below, /K EY1/ and /KEH1/."
   ]
  },
  {
   "cell_type": "code",
   "execution_count": 577,
   "metadata": {},
   "outputs": [
    {
     "data": {
      "image/png": "[encoded data removed]",
      "text/plain": [
       "<Figure size 432x288 with 1 Axes>"
      ]
     },
     "metadata": {
      "needs_background": "light"
     },
     "output_type": "display_data"
    }
   ],
   "source": [
    "# TODO: plot these together\n",
    "plot_pronunciation(lm, (\"S\", \"EY1\"))"
   ]
  },
  {
   "cell_type": "code",
   "execution_count": 581,
   "metadata": {},
   "outputs": [
    {
     "data": {
      "image/png": "[encoded data removed]",
      "text/plain": [
       "<Figure size 432x288 with 1 Axes>"
      ]
     },
     "metadata": {
      "needs_background": "light"
     },
     "output_type": "display_data"
    }
   ],
   "source": [
    "plot_pronunciation(lm, (\"S\", \"EH1\"))"
   ]
  },
  {
   "cell_type": "markdown",
   "metadata": {},
   "source": [
    "After /S EY1/ the model assigns a 3% probability of the word ending. But /S EH1/ doesn't have a coda, so the model assigns a 0% probability of the word ending.\n",
    "\n",
    "By closing /S EH1/ with /D/ below, we create a complete word."
   ]
  },
  {
   "cell_type": "code",
   "execution_count": 584,
   "metadata": {},
   "outputs": [
    {
     "data": {
      "image/png": "[encoded data removed]",
      "text/plain": [
       "<Figure size 432x288 with 1 Axes>"
      ]
     },
     "metadata": {
      "needs_background": "light"
     },
     "output_type": "display_data"
    }
   ],
   "source": [
    "plot_pronunciation(lm, (\"S\", \"EH1\", \"D\"))"
   ]
  },
  {
   "cell_type": "markdown",
   "metadata": {},
   "source": [
    "The model also seems to have learned some intersting stress patterns."
   ]
  },
  {
   "cell_type": "code",
   "execution_count": 585,
   "metadata": {},
   "outputs": [
    {
     "data": {
      "image/png": "[encoded data removed]",
      "text/plain": [
       "<Figure size 432x288 with 1 Axes>"
      ]
     },
     "metadata": {
      "needs_background": "light"
     },
     "output_type": "display_data"
    }
   ],
   "source": [
    "plot_pronunciation(lm, ('AH0', 'D'))"
   ]
  },
  {
   "cell_type": "code",
   "execution_count": 586,
   "metadata": {},
   "outputs": [
    {
     "data": {
      "image/png": "[encoded data removed]",
      "text/plain": [
       "<Figure size 432x288 with 1 Axes>"
      ]
     },
     "metadata": {
      "needs_background": "light"
     },
     "output_type": "display_data"
    }
   ],
   "source": [
    "plot_pronunciation(lm, ('AH1', 'D'))"
   ]
  },
  {
   "cell_type": "markdown",
   "metadata": {},
   "source": [
    "It knows that the word /AH0 D/ is very unlikely (it assigns a 0 probability to the word ending there) because a word has to have some stress in it. /AH1 D/ is fine though because it's stressed."
   ]
  },
  {
   "cell_type": "code",
   "execution_count": null,
   "metadata": {},
   "outputs": [],
   "source": []
  },
  {
   "cell_type": "markdown",
   "metadata": {},
   "source": [
    "The model also learned patterns about stress over multiple syllables. A *foot* is a pair of syllables. A *trochee* contains a stressed syllable followed by an unstressed one. And an *iamb* is an unstressed syllable followed by a stressed one.\n",
    "\n",
    "English, in general, prefers trochees. This implies that the model should assign a lower perplexity to trochees than iambs."
   ]
  },
  {
   "cell_type": "code",
   "execution_count": 609,
   "metadata": {},
   "outputs": [
    {
     "name": "stdout",
     "output_type": "stream",
     "text": [
      "Trochee: 18.28\n",
      "Iamb:    51.43\n"
     ]
    }
   ],
   "source": [
    "print('Trochee: {:.2f}'.format(calculate_perplexity(lm, (\"T\", \"R\", \"OW1\", \"K\", \"IY0\"))))\n",
    "print('Iamb:    {:.2f}'.format(calculate_perplexity(lm, (\"T\", \"R\", \"OW0\", \"K\", \"IY1\"))))"
   ]
  },
  {
   "cell_type": "code",
   "execution_count": 610,
   "metadata": {},
   "outputs": [
    {
     "name": "stdout",
     "output_type": "stream",
     "text": [
      "Trochee: 59.04\n",
      "Iamb:    235.56\n"
     ]
    }
   ],
   "source": [
    "print('Trochee: {:.2f}'.format(calculate_perplexity(lm, (\"F\", \"OW1\", \"T\", \"W\", \"AH0\", \"Z\"))))\n",
    "print('Iamb:    {:.2f}'.format(calculate_perplexity(lm, (\"F\", \"OW0\", \"T\", \"W\", \"AH1\", \"Z\"))))"
   ]
  },
  {
   "cell_type": "markdown",
   "metadata": {},
   "source": [
    "It does in fact prefer the trochee versions in both cases."
   ]
  },
  {
   "cell_type": "markdown",
   "metadata": {},
   "source": [
    "Another English phonotactic rule, from Wikipedia, is: \"Two obstruents in the same coda must share voicing (compare kids /K IH1 D Z/ with kits /K IH1 T S/)\". Hopefully the model will assign a higher perplexity when this rule is violated below."
   ]
  },
  {
   "cell_type": "code",
   "execution_count": 714,
   "metadata": {},
   "outputs": [
    {
     "name": "stdout",
     "output_type": "stream",
     "text": [
      "Perplexity for /T EH1 B Z/: 15\n",
      "Perplexity for /T EH1 B S/: 60\n",
      "\n",
      "Perplexity for /T EH1 P S/: 18\n",
      "Perplexity for /T EH1 P Z/: 34\n"
     ]
    }
   ],
   "source": [
    "print('Perplexity for /T EH1 B Z/: {:.0f}'.format(calculate_perplexity(lm, ('T', 'EH1', 'B', 'Z'))))\n",
    "print('Perplexity for /T EH1 B S/: {:.0f}'.format(calculate_perplexity(lm, ('T', 'EH1', 'B', 'S'))))\n",
    "print()\n",
    "print('Perplexity for /T EH1 P S/: {:.0f}'.format(calculate_perplexity(lm, ('T', 'EH1', 'P', 'S'))))\n",
    "print('Perplexity for /T EH1 P Z/: {:.0f}'.format(calculate_perplexity(lm, ('T', 'EH1', 'P', 'Z'))))"
   ]
  },
  {
   "cell_type": "markdown",
   "metadata": {},
   "source": [
    "Perplexity is higher when the two phonemes in the coda do not match in voicing. The model could just be learning that adjacent phonemes should ideally share voicing though. To test whether it's actually learned the rule about voicing in codas I'll change the syllable structure."
   ]
  },
  {
   "cell_type": "code",
   "execution_count": 720,
   "metadata": {},
   "outputs": [
    {
     "name": "stdout",
     "output_type": "stream",
     "text": [
      "Perplexity for /T EH1 B Z AH0/: 91\n",
      "Perplexity for /T EH1 B S AH0/: 95\n",
      "\n",
      "Perplexity for /T EH1 P Z AH0/: 25\n",
      "Perplexity for /T EH1 P S AH0/: 24\n"
     ]
    }
   ],
   "source": [
    "print('Perplexity for /T EH1 B Z AH0/: {:.0f}'.format(calculate_perplexity(lm, ('T', 'EH1', 'B', 'Z', 'AH0'))))\n",
    "print('Perplexity for /T EH1 B S AH0/: {:.0f}'.format(calculate_perplexity(lm, ('T', 'EH1', 'B', 'S', 'AH0'))))\n",
    "print()\n",
    "print('Perplexity for /T EH1 P Z AH0/: {:.0f}'.format(calculate_perplexity(lm, ('T', 'EH1', 'P', 'Z', 'AH0'))))\n",
    "print('Perplexity for /T EH1 P S AH0/: {:.0f}'.format(calculate_perplexity(lm, ('T', 'EH1', 'P', 'S', 'AH0'))))"
   ]
  },
  {
   "cell_type": "markdown",
   "metadata": {},
   "source": [
    "These four words are identical to the first except that I've inserted /AH0/ to the end of the word, which allows the /S/ and /Z/ to form a second syllable with it. Since /S/ and /Z/ become onsets of the next syllable they're not subject to the constraint on the previous syllable's coda."
   ]
  },
  {
   "cell_type": "markdown",
   "metadata": {},
   "source": [
    "## Probing the Embeddings (WIP) ##"
   ]
  },
  {
   "cell_type": "code",
   "execution_count": null,
   "metadata": {},
   "outputs": [],
   "source": [
    "def most_similar_phonemes(lm, embedding, topn=10):\n",
    "    other_to_sim = {\n",
    "        phoneme: cosine_similarity(lm.embedding_for(phoneme), embedding).item()\n",
    "        for phoneme in phoneme_to_idx\n",
    "\n",
    "    }\n",
    "\n",
    "    for other_phoneme, similarity in sorted(other_to_sim.items(), key=lambda p: -p[1])[:topn]:\n",
    "        print(f'[{similarity:.3f}]\\t{other_phoneme}')\n",
    "        \n",
    "most_similar_phonemes(lm, lm.embedding_for('DH'))"
   ]
  },
  {
   "cell_type": "code",
   "execution_count": null,
   "metadata": {},
   "outputs": [],
   "source": [
    "# For consonants\n",
    "# - voicing\n",
    "# - place: bilabial, dental, alveolar, palatal, velar\n",
    "# - manner: stop, fricative, nasal\n",
    "\n",
    "# For vowels\n",
    "# - front/back\n",
    "# - closed/open\n",
    "# - rounding\n",
    "\n",
    "# General\n",
    "# - syllabic\n",
    "\n",
    "# TODO: combine multiple vectors together, e.g. {B, G, V, DH, D} for voiced\n",
    "voicing = lm.embedding_for('B') - lm.embedding_for('P')\n",
    "forwarding = lm.embedding_for('P') - lm.embedding_for('K')\n",
    "frication = lm.embedding_for('F') - lm.embedding_for('P')\n",
    "\n",
    "# new = lm.embedding_for('TH') + voicing\n",
    "new = lm.embedding_for('K') + voicing\n",
    "# new = lm.embedding_for('T') + frication\n",
    "# new = lm.embedding_for('G') + forwarding\n",
    "\n",
    "phoneme_to_sim = {}\n",
    "for phoneme in phoneme_to_idx:\n",
    "    this_embs = lm.embedding_for(phoneme)\n",
    "    sim = cosine_similarity(new, this_embs).item()\n",
    "    phoneme_to_sim[phoneme] = sim\n",
    "\n",
    "sorted(phoneme_to_sim.items(), key=lambda p: -p[1])[:10]"
   ]
  },
  {
   "cell_type": "code",
   "execution_count": null,
   "metadata": {},
   "outputs": [],
   "source": [
    "import numpy as np\n",
    "# np.mean([embedding_for('B'), embedding_for('V')], axis=0)\n",
    "voiced = np.mean([lm.embedding_for(phoneme) for phoneme in ['B', 'V', 'G', 'Z', 'ZH', 'DH', 'JH']], axis=0)\n",
    "voiceless = np.mean([lm.embedding_for(phoneme) for phoneme in ['P', 'F', 'K', 'S', 'SH', 'TH', 'CH']], axis=0)\n",
    "voicing = voiced - voiceless\n",
    "most_similar_phonemes(lm, voicing + lm.embedding_for('S'))"
   ]
  },
  {
   "cell_type": "code",
   "execution_count": null,
   "metadata": {},
   "outputs": [],
   "source": [
    "from phoneme_lm import START, END, PAD\n",
    "def analogy(lm, a, b, c):\n",
    "    \"\"\"\n",
    "    a - b = c - w\n",
    "    argmax(w) over sim(w, c - a + b)\n",
    "    \"\"\"\n",
    "    emb_a = lm.embedding_for(a)\n",
    "    emb_b = lm.embedding_for(b)\n",
    "    emb_c = lm.embedding_for(c)\n",
    "    \n",
    "    all_phonemes = set(lm.vocab) - {START, END, PAD}\n",
    "    \n",
    "    phoneme_to_sim = {}\n",
    "    for phoneme in all_phonemes:\n",
    "        if phoneme in {a, b, c}:\n",
    "            continue\n",
    "        \n",
    "        emb_p = lm.embedding_for(phoneme)\n",
    "        sim = cosine_similarity(emb_p, emb_c - emb_a + emb_b)\n",
    "        phoneme_to_sim[phoneme] = sim.item()\n",
    "    return phoneme_to_sim\n",
    "\n",
    "analogies = analogy(lm, 'P', 'K', 'D')\n",
    "for phoneme, sim in sorted(analogies.items(), key=lambda p: -p[1]):\n",
    "    print(f'[{sim:.4f}] {phoneme}')\n"
   ]
  }
 ],
 "metadata": {
  "kernelspec": {
   "display_name": "Python 3",
   "language": "python",
   "name": "python3"
  },
  "language_info": {
   "codemirror_mode": {
    "name": "ipython",
    "version": 3
   },
   "file_extension": ".py",
   "mimetype": "text/x-python",
   "name": "python",
   "nbconvert_exporter": "python",
   "pygments_lexer": "ipython3",
   "version": "3.7.4"
  }
 },
 "nbformat": 4,
 "nbformat_minor": 4
}
