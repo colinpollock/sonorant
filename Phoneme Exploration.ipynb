{
 "cells": [
  {
   "cell_type": "markdown",
   "metadata": {},
   "source": [
    "# Investigating English Phonotactics #\n",
    "In the notebook `Model Training.ipynb` I trained a language model over English pronunciations from [the CMU Pronouncing Dictionary](http://www.speech.cs.cmu.edu/cgi-bin/cmudict). The pronunciations in the pronouncing dictionary are in [ARPABET](https://en.wikipedia.org/wiki/ARPABET), a set of symbols representing English sounds. It's a subset of the more popular [International Phonetic Alphabet](https://en.wikipedia.org/wiki/International_Phonetic_Alphabet).\n",
    "\n",
    "In this notebook I use the model to:\n",
    "1. **Identify which English pronunciations are most- and least-Englishlike**. For example, I would expect \"fun\" to sound normal and a borrowed word like \"cliché\" to be less normal.\n",
    "2. **Generate novel words** that aren't English words but sound like they could be.\n",
    "\n",
    "I'll also dig into what the model has learned to see whether it has learned the [phonotactics rules](https://en.wikipedia.org/wiki/Phonotactics) that all English speakers subconsciously understand."
   ]
  },
  {
   "cell_type": "code",
   "execution_count": 199,
   "metadata": {},
   "outputs": [],
   "source": [
    "from operator import itemgetter\n",
    "\n",
    "import pandas as pd\n",
    "import torch\n",
    "from matplotlib import pyplot as plt\n",
    "from sklearn.metrics.pairwise import cosine_similarity\n",
    "\n",
    "\n",
    "from sonorous.analysis_utils import plot_next_phoneme_distribution, plot_pronunciation_probability\n",
    "from sonorous.languagemodel import LanguageModel\n",
    "from sonorous.utils import perplexity\n",
    "from sonorous.pronunciationdata import augment_pronunciations_df, load_pronunciations"
   ]
  },
  {
   "cell_type": "code",
   "execution_count": 9,
   "metadata": {},
   "outputs": [],
   "source": [
    "pd.options.display.max_rows = 500\n",
    "pd.options.display.max_columns = 100\n",
    "pd.options.display.max_colwidth = 255"
   ]
  },
  {
   "cell_type": "markdown",
   "metadata": {},
   "source": [
    "First I'll load the model that I trained in `Model Training.ipynb`."
   ]
  },
  {
   "cell_type": "code",
   "execution_count": 10,
   "metadata": {},
   "outputs": [],
   "source": [
    "with open('phoneme_language_model.pt', 'rb') as fh:\n",
    "    language_model = LanguageModel.load(fh, device_name='cpu')"
   ]
  },
  {
   "cell_type": "code",
   "execution_count": 11,
   "metadata": {},
   "outputs": [
    {
     "name": "stdout",
     "output_type": "stream",
     "text": [
      "There are 125,801 pronunciations.\n",
      "\n",
      "Sample of 5 pronunciations:\n"
     ]
    },
    {
     "data": {
      "text/html": [
       "<div>\n",
       "<style scoped>\n",
       "    .dataframe tbody tr th:only-of-type {\n",
       "        vertical-align: middle;\n",
       "    }\n",
       "\n",
       "    .dataframe tbody tr th {\n",
       "        vertical-align: top;\n",
       "    }\n",
       "\n",
       "    .dataframe thead th {\n",
       "        text-align: right;\n",
       "    }\n",
       "</style>\n",
       "<table border=\"1\" class=\"dataframe\">\n",
       "  <thead>\n",
       "    <tr style=\"text-align: right;\">\n",
       "      <th></th>\n",
       "      <th>pronunciation</th>\n",
       "      <th>num_phonemes</th>\n",
       "      <th>num_syllables</th>\n",
       "    </tr>\n",
       "    <tr>\n",
       "      <th>word</th>\n",
       "      <th></th>\n",
       "      <th></th>\n",
       "      <th></th>\n",
       "    </tr>\n",
       "  </thead>\n",
       "  <tbody>\n",
       "    <tr>\n",
       "      <th>nonbuilding</th>\n",
       "      <td>(N, AA1, N, B, IH1, L, D, IH0, NG)</td>\n",
       "      <td>9</td>\n",
       "      <td>3</td>\n",
       "    </tr>\n",
       "    <tr>\n",
       "      <th>braaksma</th>\n",
       "      <td>(B, R, AA1, K, S, M, AH0)</td>\n",
       "      <td>7</td>\n",
       "      <td>2</td>\n",
       "    </tr>\n",
       "    <tr>\n",
       "      <th>talkies</th>\n",
       "      <td>(T, AO1, K, IY0, Z)</td>\n",
       "      <td>5</td>\n",
       "      <td>2</td>\n",
       "    </tr>\n",
       "    <tr>\n",
       "      <th>bamut</th>\n",
       "      <td>(B, AE1, M, AH0, T)</td>\n",
       "      <td>5</td>\n",
       "      <td>2</td>\n",
       "    </tr>\n",
       "    <tr>\n",
       "      <th>askington</th>\n",
       "      <td>(AE1, S, K, IH0, NG, T, AH0, N)</td>\n",
       "      <td>8</td>\n",
       "      <td>3</td>\n",
       "    </tr>\n",
       "  </tbody>\n",
       "</table>\n",
       "</div>"
      ],
      "text/plain": [
       "                                  pronunciation  num_phonemes  num_syllables\n",
       "word                                                                        \n",
       "nonbuilding  (N, AA1, N, B, IH1, L, D, IH0, NG)             9              3\n",
       "braaksma              (B, R, AA1, K, S, M, AH0)             7              2\n",
       "talkies                     (T, AO1, K, IY0, Z)             5              2\n",
       "bamut                       (B, AE1, M, AH0, T)             5              2\n",
       "askington       (AE1, S, K, IH0, NG, T, AH0, N)             8              3"
      ]
     },
     "execution_count": 11,
     "metadata": {},
     "output_type": "execute_result"
    }
   ],
   "source": [
    "pronunciations = load_pronunciations()\n",
    "print(f\"There are {len(pronunciations):,} pronunciations.\")\n",
    "print()\n",
    "print(\"Sample of 5 pronunciations:\")\n",
    "pronunciations.sample(5)"
   ]
  },
  {
   "cell_type": "markdown",
   "metadata": {},
   "source": [
    "## What Words are the Most and Least Englishy? ##\n",
    "Since the model can assign a probability to any pronunciation, I can run it over the entire set of pronunciations in the Pronouncing Dictionary and identify the ones that have high and low likelihood of being English.\n",
    "\n",
    "I'll be using [perplexity](https://en.wikipedia.org/wiki/Perplexity) as a measurement of how likely the model thinks each pronunciation is."
   ]
  },
  {
   "cell_type": "code",
   "execution_count": 13,
   "metadata": {},
   "outputs": [
    {
     "name": "stdout",
     "output_type": "stream",
     "text": [
      "CPU times: user 1min 24s, sys: 82.2 ms, total: 1min 24s\n",
      "Wall time: 1min 24s\n"
     ]
    }
   ],
   "source": [
    "%%time\n",
    "\n",
    "pronunciations['perplexity'] = pronunciations.pronunciation.apply(language_model.perplexity_of_text)"
   ]
  },
  {
   "cell_type": "code",
   "execution_count": 80,
   "metadata": {},
   "outputs": [],
   "source": [
    "pronunciations.sort_values('perplexity', inplace=True)"
   ]
  },
  {
   "cell_type": "markdown",
   "metadata": {},
   "source": [
    "Let's look at the least perplexing words. These are the ones the model was totally unsurprised because they seem very normal."
   ]
  },
  {
   "cell_type": "code",
   "execution_count": 81,
   "metadata": {},
   "outputs": [
    {
     "data": {
      "text/html": [
       "<div>\n",
       "<style scoped>\n",
       "    .dataframe tbody tr th:only-of-type {\n",
       "        vertical-align: middle;\n",
       "    }\n",
       "\n",
       "    .dataframe tbody tr th {\n",
       "        vertical-align: top;\n",
       "    }\n",
       "\n",
       "    .dataframe thead th {\n",
       "        text-align: right;\n",
       "    }\n",
       "</style>\n",
       "<table border=\"1\" class=\"dataframe\">\n",
       "  <thead>\n",
       "    <tr style=\"text-align: right;\">\n",
       "      <th></th>\n",
       "      <th>pronunciation</th>\n",
       "      <th>num_phonemes</th>\n",
       "      <th>num_syllables</th>\n",
       "      <th>perplexity</th>\n",
       "    </tr>\n",
       "    <tr>\n",
       "      <th>word</th>\n",
       "      <th></th>\n",
       "      <th></th>\n",
       "      <th></th>\n",
       "      <th></th>\n",
       "    </tr>\n",
       "  </thead>\n",
       "  <tbody>\n",
       "    <tr>\n",
       "      <th>preponderance</th>\n",
       "      <td>(P, R, IY0, P, AA1, N, D, R, AH0, N, S)</td>\n",
       "      <td>11</td>\n",
       "      <td>3</td>\n",
       "      <td>63.210280</td>\n",
       "    </tr>\n",
       "    <tr>\n",
       "      <th>semiconductor</th>\n",
       "      <td>(S, EH2, M, IY0, K, AH0, N, D, AH1, K, T, ER0)</td>\n",
       "      <td>12</td>\n",
       "      <td>5</td>\n",
       "      <td>67.137983</td>\n",
       "    </tr>\n",
       "    <tr>\n",
       "      <th>android</th>\n",
       "      <td>(AE1, N, D, R, OY2, D)</td>\n",
       "      <td>6</td>\n",
       "      <td>2</td>\n",
       "      <td>67.268752</td>\n",
       "    </tr>\n",
       "    <tr>\n",
       "      <th>prindiville</th>\n",
       "      <td>(P, R, IY0, N, D, IY1, V, IH0, L)</td>\n",
       "      <td>9</td>\n",
       "      <td>3</td>\n",
       "      <td>67.667500</td>\n",
       "    </tr>\n",
       "    <tr>\n",
       "      <th>nigeria</th>\n",
       "      <td>(N, AY0, JH, IH1, R, IY0, AH0)</td>\n",
       "      <td>7</td>\n",
       "      <td>4</td>\n",
       "      <td>69.417881</td>\n",
       "    </tr>\n",
       "    <tr>\n",
       "      <th>roundhead</th>\n",
       "      <td>(R, AW1, N, D, HH, EH2, D)</td>\n",
       "      <td>7</td>\n",
       "      <td>2</td>\n",
       "      <td>69.603606</td>\n",
       "    </tr>\n",
       "    <tr>\n",
       "      <th>recurrence</th>\n",
       "      <td>(R, IY0, K, ER1, AH0, N, S)</td>\n",
       "      <td>7</td>\n",
       "      <td>3</td>\n",
       "      <td>69.681412</td>\n",
       "    </tr>\n",
       "    <tr>\n",
       "      <th>aspects</th>\n",
       "      <td>(AE1, S, P, EH2, K, T, S)</td>\n",
       "      <td>7</td>\n",
       "      <td>2</td>\n",
       "      <td>70.102861</td>\n",
       "    </tr>\n",
       "    <tr>\n",
       "      <th>bacterial</th>\n",
       "      <td>(B, AE0, K, T, IH1, R, IY0, AH0, L)</td>\n",
       "      <td>9</td>\n",
       "      <td>4</td>\n",
       "      <td>70.182127</td>\n",
       "    </tr>\n",
       "    <tr>\n",
       "      <th>bacteria</th>\n",
       "      <td>(B, AE0, K, T, IH1, R, IY0, AH0)</td>\n",
       "      <td>8</td>\n",
       "      <td>4</td>\n",
       "      <td>70.184858</td>\n",
       "    </tr>\n",
       "  </tbody>\n",
       "</table>\n",
       "</div>"
      ],
      "text/plain": [
       "                                                pronunciation  num_phonemes  \\\n",
       "word                                                                          \n",
       "preponderance         (P, R, IY0, P, AA1, N, D, R, AH0, N, S)            11   \n",
       "semiconductor  (S, EH2, M, IY0, K, AH0, N, D, AH1, K, T, ER0)            12   \n",
       "android                                (AE1, N, D, R, OY2, D)             6   \n",
       "prindiville                 (P, R, IY0, N, D, IY1, V, IH0, L)             9   \n",
       "nigeria                        (N, AY0, JH, IH1, R, IY0, AH0)             7   \n",
       "roundhead                          (R, AW1, N, D, HH, EH2, D)             7   \n",
       "recurrence                        (R, IY0, K, ER1, AH0, N, S)             7   \n",
       "aspects                             (AE1, S, P, EH2, K, T, S)             7   \n",
       "bacterial                 (B, AE0, K, T, IH1, R, IY0, AH0, L)             9   \n",
       "bacteria                     (B, AE0, K, T, IH1, R, IY0, AH0)             8   \n",
       "\n",
       "               num_syllables  perplexity  \n",
       "word                                      \n",
       "preponderance              3   63.210280  \n",
       "semiconductor              5   67.137983  \n",
       "android                    2   67.268752  \n",
       "prindiville                3   67.667500  \n",
       "nigeria                    4   69.417881  \n",
       "roundhead                  2   69.603606  \n",
       "recurrence                 3   69.681412  \n",
       "aspects                    2   70.102861  \n",
       "bacterial                  4   70.182127  \n",
       "bacteria                   4   70.184858  "
      ]
     },
     "execution_count": 81,
     "metadata": {},
     "output_type": "execute_result"
    }
   ],
   "source": [
    "least_perplexing = pronunciations.head(10)\n",
    "least_perplexing"
   ]
  },
  {
   "cell_type": "markdown",
   "metadata": {},
   "source": [
    "The least perplexing words have long spans of phonemes that are very common in Enligh. To get better intuitions about the model's \"thinking\" along the way we can look at the probability the model assigned to each phoneme. In the chart below, the phonemes occur along the X-axis. At the `i`th phoneme the Y-axis value represents how likely the model thought this character is given everything it's seen so far. For example, at the third phoneme below (/N/) the probability of ~.5 means the model thinks that after seeing /K AA2/ the probability of /N/ coming next is .5. In other words, `P(N | K AA2) = 0.5)`."
   ]
  },
  {
   "cell_type": "code",
   "execution_count": 18,
   "metadata": {},
   "outputs": [
    {
     "name": "stdout",
     "output_type": "stream",
     "text": [
      "P R IY0 P AA1 N D R AH0 N S\n"
     ]
    }
   ],
   "source": [
    "print(' '.join(least_perplexing.pronunciation.iloc[0]))"
   ]
  },
  {
   "cell_type": "code",
   "execution_count": 56,
   "metadata": {},
   "outputs": [
    {
     "data": {
      "image/png": "[encoded data removed]",
      "text/plain": [
       "<Figure size 432x288 with 1 Axes>"
      ]
     },
     "metadata": {
      "needs_background": "light"
     },
     "output_type": "display_data"
    }
   ],
   "source": [
    "plot_pronunciation_probability(language_model, least_perplexing.pronunciation.iloc[0])"
   ]
  },
  {
   "cell_type": "markdown",
   "metadata": {},
   "source": [
    "It is clear that the model has memorized some of these longer words. In the word \"constitutionists\" above, early on perplexity is high as the model was trained on many words that had that same beginning. Further on the model is fairly certain, like where it believes /SH/ should almost certaintly follow /K AH2 N S T AH0 T UW1/. Phonotactically many of phonemes would be fine here.\n",
    "\n",
    "\n",
    "It makes sense that the model would be able to overfit on long words. What short words are most perplexing to the model? Let's look at the most perplexing two syllable words."
   ]
  },
  {
   "cell_type": "code",
   "execution_count": 59,
   "metadata": {},
   "outputs": [
    {
     "data": {
      "image/png": "[encoded data removed]",
      "text/plain": [
       "<Figure size 432x288 with 1 Axes>"
      ]
     },
     "metadata": {
      "needs_background": "light"
     },
     "output_type": "display_data"
    }
   ],
   "source": [
    "pronunciations.num_syllables.value_counts().sort_index().plot.bar()\n",
    "plt.xlabel('Number of Syllables')\n",
    "_ = plt.ylabel('Frequency')"
   ]
  },
  {
   "cell_type": "code",
   "execution_count": 60,
   "metadata": {},
   "outputs": [
    {
     "name": "stdout",
     "output_type": "stream",
     "text": [
      "46% of words contain two syllables\n",
      "\n"
     ]
    }
   ],
   "source": [
    "percentage_2to3 = (pronunciations.num_syllables==2).mean() * 100\n",
    "print('{:.0f}% of words contain two syllables\\n'.format(percentage_2to3))"
   ]
  },
  {
   "cell_type": "code",
   "execution_count": 63,
   "metadata": {},
   "outputs": [
    {
     "data": {
      "text/html": [
       "<div>\n",
       "<style scoped>\n",
       "    .dataframe tbody tr th:only-of-type {\n",
       "        vertical-align: middle;\n",
       "    }\n",
       "\n",
       "    .dataframe tbody tr th {\n",
       "        vertical-align: top;\n",
       "    }\n",
       "\n",
       "    .dataframe thead th {\n",
       "        text-align: right;\n",
       "    }\n",
       "</style>\n",
       "<table border=\"1\" class=\"dataframe\">\n",
       "  <thead>\n",
       "    <tr style=\"text-align: right;\">\n",
       "      <th></th>\n",
       "      <th>pronunciation</th>\n",
       "      <th>num_phonemes</th>\n",
       "      <th>num_syllables</th>\n",
       "      <th>perplexity</th>\n",
       "    </tr>\n",
       "    <tr>\n",
       "      <th>word</th>\n",
       "      <th></th>\n",
       "      <th></th>\n",
       "      <th></th>\n",
       "      <th></th>\n",
       "    </tr>\n",
       "  </thead>\n",
       "  <tbody>\n",
       "    <tr>\n",
       "      <th>aaberg</th>\n",
       "      <td>(AA1, B, ER0, G)</td>\n",
       "      <td>4</td>\n",
       "      <td>2</td>\n",
       "      <td>287.721510</td>\n",
       "    </tr>\n",
       "    <tr>\n",
       "      <th>aachen</th>\n",
       "      <td>(AA1, K, AH0, N)</td>\n",
       "      <td>4</td>\n",
       "      <td>2</td>\n",
       "      <td>222.437659</td>\n",
       "    </tr>\n",
       "    <tr>\n",
       "      <th>aaker</th>\n",
       "      <td>(AA1, K, ER0)</td>\n",
       "      <td>3</td>\n",
       "      <td>2</td>\n",
       "      <td>208.827698</td>\n",
       "    </tr>\n",
       "    <tr>\n",
       "      <th>aalseth</th>\n",
       "      <td>(AA1, L, S, EH0, TH)</td>\n",
       "      <td>5</td>\n",
       "      <td>2</td>\n",
       "      <td>197.804684</td>\n",
       "    </tr>\n",
       "    <tr>\n",
       "      <th>aamodt</th>\n",
       "      <td>(AA1, M, AH0, T)</td>\n",
       "      <td>4</td>\n",
       "      <td>2</td>\n",
       "      <td>373.506562</td>\n",
       "    </tr>\n",
       "    <tr>\n",
       "      <th>...</th>\n",
       "      <td>...</td>\n",
       "      <td>...</td>\n",
       "      <td>...</td>\n",
       "      <td>...</td>\n",
       "    </tr>\n",
       "    <tr>\n",
       "      <th>zyla</th>\n",
       "      <td>(Z, IH1, L, AH0)</td>\n",
       "      <td>4</td>\n",
       "      <td>2</td>\n",
       "      <td>203.472098</td>\n",
       "    </tr>\n",
       "    <tr>\n",
       "      <th>zylka</th>\n",
       "      <td>(Z, IH1, L, K, AH0)</td>\n",
       "      <td>5</td>\n",
       "      <td>2</td>\n",
       "      <td>199.136245</td>\n",
       "    </tr>\n",
       "    <tr>\n",
       "      <th>zylstra</th>\n",
       "      <td>(Z, IH1, L, S, T, R, AH0)</td>\n",
       "      <td>7</td>\n",
       "      <td>2</td>\n",
       "      <td>167.791326</td>\n",
       "    </tr>\n",
       "    <tr>\n",
       "      <th>zyman</th>\n",
       "      <td>(Z, AY1, M, AH0, N)</td>\n",
       "      <td>5</td>\n",
       "      <td>2</td>\n",
       "      <td>323.036521</td>\n",
       "    </tr>\n",
       "    <tr>\n",
       "      <th>zynda</th>\n",
       "      <td>(Z, IH1, N, D, AH0)</td>\n",
       "      <td>5</td>\n",
       "      <td>2</td>\n",
       "      <td>159.970104</td>\n",
       "    </tr>\n",
       "  </tbody>\n",
       "</table>\n",
       "<p>57643 rows × 4 columns</p>\n",
       "</div>"
      ],
      "text/plain": [
       "                     pronunciation  num_phonemes  num_syllables  perplexity\n",
       "word                                                                       \n",
       "aaberg            (AA1, B, ER0, G)             4              2  287.721510\n",
       "aachen            (AA1, K, AH0, N)             4              2  222.437659\n",
       "aaker                (AA1, K, ER0)             3              2  208.827698\n",
       "aalseth       (AA1, L, S, EH0, TH)             5              2  197.804684\n",
       "aamodt            (AA1, M, AH0, T)             4              2  373.506562\n",
       "...                            ...           ...            ...         ...\n",
       "zyla              (Z, IH1, L, AH0)             4              2  203.472098\n",
       "zylka          (Z, IH1, L, K, AH0)             5              2  199.136245\n",
       "zylstra  (Z, IH1, L, S, T, R, AH0)             7              2  167.791326\n",
       "zyman          (Z, AY1, M, AH0, N)             5              2  323.036521\n",
       "zynda          (Z, IH1, N, D, AH0)             5              2  159.970104\n",
       "\n",
       "[57643 rows x 4 columns]"
      ]
     },
     "execution_count": 63,
     "metadata": {},
     "output_type": "execute_result"
    }
   ],
   "source": [
    "pronunciations_2"
   ]
  },
  {
   "cell_type": "markdown",
   "metadata": {},
   "source": [
    "About 46% of English words contain two syllables. So let's look in this area."
   ]
  },
  {
   "cell_type": "code",
   "execution_count": 66,
   "metadata": {},
   "outputs": [
    {
     "data": {
      "text/html": [
       "<div>\n",
       "<style scoped>\n",
       "    .dataframe tbody tr th:only-of-type {\n",
       "        vertical-align: middle;\n",
       "    }\n",
       "\n",
       "    .dataframe tbody tr th {\n",
       "        vertical-align: top;\n",
       "    }\n",
       "\n",
       "    .dataframe thead th {\n",
       "        text-align: right;\n",
       "    }\n",
       "</style>\n",
       "<table border=\"1\" class=\"dataframe\">\n",
       "  <thead>\n",
       "    <tr style=\"text-align: right;\">\n",
       "      <th></th>\n",
       "      <th>pronunciation</th>\n",
       "      <th>num_phonemes</th>\n",
       "      <th>num_syllables</th>\n",
       "      <th>perplexity</th>\n",
       "    </tr>\n",
       "    <tr>\n",
       "      <th>word</th>\n",
       "      <th></th>\n",
       "      <th></th>\n",
       "      <th></th>\n",
       "      <th></th>\n",
       "    </tr>\n",
       "  </thead>\n",
       "  <tbody>\n",
       "    <tr>\n",
       "      <th>android</th>\n",
       "      <td>(AE1, N, D, R, OY2, D)</td>\n",
       "      <td>6</td>\n",
       "      <td>2</td>\n",
       "      <td>67.268752</td>\n",
       "    </tr>\n",
       "    <tr>\n",
       "      <th>roundhead</th>\n",
       "      <td>(R, AW1, N, D, HH, EH2, D)</td>\n",
       "      <td>7</td>\n",
       "      <td>2</td>\n",
       "      <td>69.603606</td>\n",
       "    </tr>\n",
       "    <tr>\n",
       "      <th>aspects</th>\n",
       "      <td>(AE1, S, P, EH2, K, T, S)</td>\n",
       "      <td>7</td>\n",
       "      <td>2</td>\n",
       "      <td>70.102861</td>\n",
       "    </tr>\n",
       "    <tr>\n",
       "      <th>boundary</th>\n",
       "      <td>(B, AW1, N, D, R, IY0)</td>\n",
       "      <td>6</td>\n",
       "      <td>2</td>\n",
       "      <td>71.095841</td>\n",
       "    </tr>\n",
       "    <tr>\n",
       "      <th>roadside</th>\n",
       "      <td>(R, OW1, D, S, AY2, D)</td>\n",
       "      <td>6</td>\n",
       "      <td>2</td>\n",
       "      <td>71.223020</td>\n",
       "    </tr>\n",
       "    <tr>\n",
       "      <th>landslide</th>\n",
       "      <td>(L, AE1, N, D, S, L, AY2, D)</td>\n",
       "      <td>8</td>\n",
       "      <td>2</td>\n",
       "      <td>71.504970</td>\n",
       "    </tr>\n",
       "    <tr>\n",
       "      <th>ovoid</th>\n",
       "      <td>(OW1, V, OY2, D)</td>\n",
       "      <td>4</td>\n",
       "      <td>2</td>\n",
       "      <td>72.516474</td>\n",
       "    </tr>\n",
       "    <tr>\n",
       "      <th>fredlund</th>\n",
       "      <td>(F, R, EH1, D, L, AH0, N, D)</td>\n",
       "      <td>8</td>\n",
       "      <td>2</td>\n",
       "      <td>74.790781</td>\n",
       "    </tr>\n",
       "    <tr>\n",
       "      <th>rexrodt</th>\n",
       "      <td>(R, EH1, K, S, R, OW0, D)</td>\n",
       "      <td>7</td>\n",
       "      <td>2</td>\n",
       "      <td>75.410295</td>\n",
       "    </tr>\n",
       "    <tr>\n",
       "      <th>bedside</th>\n",
       "      <td>(B, EH1, D, S, AY2, D)</td>\n",
       "      <td>6</td>\n",
       "      <td>2</td>\n",
       "      <td>75.465321</td>\n",
       "    </tr>\n",
       "  </tbody>\n",
       "</table>\n",
       "</div>"
      ],
      "text/plain": [
       "                          pronunciation  num_phonemes  num_syllables  \\\n",
       "word                                                                   \n",
       "android          (AE1, N, D, R, OY2, D)             6              2   \n",
       "roundhead    (R, AW1, N, D, HH, EH2, D)             7              2   \n",
       "aspects       (AE1, S, P, EH2, K, T, S)             7              2   \n",
       "boundary         (B, AW1, N, D, R, IY0)             6              2   \n",
       "roadside         (R, OW1, D, S, AY2, D)             6              2   \n",
       "landslide  (L, AE1, N, D, S, L, AY2, D)             8              2   \n",
       "ovoid                  (OW1, V, OY2, D)             4              2   \n",
       "fredlund   (F, R, EH1, D, L, AH0, N, D)             8              2   \n",
       "rexrodt       (R, EH1, K, S, R, OW0, D)             7              2   \n",
       "bedside          (B, EH1, D, S, AY2, D)             6              2   \n",
       "\n",
       "           perplexity  \n",
       "word                   \n",
       "android     67.268752  \n",
       "roundhead   69.603606  \n",
       "aspects     70.102861  \n",
       "boundary    71.095841  \n",
       "roadside    71.223020  \n",
       "landslide   71.504970  \n",
       "ovoid       72.516474  \n",
       "fredlund    74.790781  \n",
       "rexrodt     75.410295  \n",
       "bedside     75.465321  "
      ]
     },
     "execution_count": 66,
     "metadata": {},
     "output_type": "execute_result"
    }
   ],
   "source": [
    "pronunciations[pronunciations.num_syllables==2].drop_duplicates('pronunciation').head(10)"
   ]
  },
  {
   "cell_type": "code",
   "execution_count": 68,
   "metadata": {},
   "outputs": [
    {
     "data": {
      "text/html": [
       "<div>\n",
       "<style scoped>\n",
       "    .dataframe tbody tr th:only-of-type {\n",
       "        vertical-align: middle;\n",
       "    }\n",
       "\n",
       "    .dataframe tbody tr th {\n",
       "        vertical-align: top;\n",
       "    }\n",
       "\n",
       "    .dataframe thead th {\n",
       "        text-align: right;\n",
       "    }\n",
       "</style>\n",
       "<table border=\"1\" class=\"dataframe\">\n",
       "  <thead>\n",
       "    <tr style=\"text-align: right;\">\n",
       "      <th></th>\n",
       "      <th>pronunciation</th>\n",
       "      <th>num_phonemes</th>\n",
       "      <th>num_syllables</th>\n",
       "      <th>perplexity</th>\n",
       "    </tr>\n",
       "    <tr>\n",
       "      <th>word</th>\n",
       "      <th></th>\n",
       "      <th></th>\n",
       "      <th></th>\n",
       "      <th></th>\n",
       "    </tr>\n",
       "  </thead>\n",
       "  <tbody>\n",
       "    <tr>\n",
       "      <th>semiconductor</th>\n",
       "      <td>(S, EH2, M, IY0, K, AH0, N, D, AH1, K, T, ER0)</td>\n",
       "      <td>12</td>\n",
       "      <td>5</td>\n",
       "      <td>67.137983</td>\n",
       "    </tr>\n",
       "    <tr>\n",
       "      <th>nigeria</th>\n",
       "      <td>(N, AY0, JH, IH1, R, IY0, AH0)</td>\n",
       "      <td>7</td>\n",
       "      <td>4</td>\n",
       "      <td>69.417881</td>\n",
       "    </tr>\n",
       "    <tr>\n",
       "      <th>bacterial</th>\n",
       "      <td>(B, AE0, K, T, IH1, R, IY0, AH0, L)</td>\n",
       "      <td>9</td>\n",
       "      <td>4</td>\n",
       "      <td>70.182127</td>\n",
       "    </tr>\n",
       "    <tr>\n",
       "      <th>bacteria</th>\n",
       "      <td>(B, AE0, K, T, IH1, R, IY0, AH0)</td>\n",
       "      <td>8</td>\n",
       "      <td>4</td>\n",
       "      <td>70.184858</td>\n",
       "    </tr>\n",
       "    <tr>\n",
       "      <th>nigerians</th>\n",
       "      <td>(N, AY0, JH, IH1, R, IY0, AH0, N, Z)</td>\n",
       "      <td>9</td>\n",
       "      <td>4</td>\n",
       "      <td>71.258426</td>\n",
       "    </tr>\n",
       "    <tr>\n",
       "      <th>reclassified</th>\n",
       "      <td>(R, IY0, K, L, AE1, S, AH0, F, AY2, D)</td>\n",
       "      <td>10</td>\n",
       "      <td>4</td>\n",
       "      <td>71.747827</td>\n",
       "    </tr>\n",
       "    <tr>\n",
       "      <th>nigerian</th>\n",
       "      <td>(N, AY0, JH, IH1, R, IY0, AH0, N)</td>\n",
       "      <td>8</td>\n",
       "      <td>4</td>\n",
       "      <td>71.960878</td>\n",
       "    </tr>\n",
       "    <tr>\n",
       "      <th>semiannually</th>\n",
       "      <td>(S, EH2, M, IY0, AE1, N, UW0, L, IY0)</td>\n",
       "      <td>9</td>\n",
       "      <td>5</td>\n",
       "      <td>72.509141</td>\n",
       "    </tr>\n",
       "    <tr>\n",
       "      <th>quadrennial</th>\n",
       "      <td>(K, W, AA0, D, R, EH1, N, IY0, AH0, L)</td>\n",
       "      <td>10</td>\n",
       "      <td>4</td>\n",
       "      <td>72.816431</td>\n",
       "    </tr>\n",
       "    <tr>\n",
       "      <th>reauthorized</th>\n",
       "      <td>(R, IY0, AO1, TH, ER0, AY2, Z, D)</td>\n",
       "      <td>8</td>\n",
       "      <td>4</td>\n",
       "      <td>73.145478</td>\n",
       "    </tr>\n",
       "  </tbody>\n",
       "</table>\n",
       "</div>"
      ],
      "text/plain": [
       "                                                pronunciation  num_phonemes  \\\n",
       "word                                                                          \n",
       "semiconductor  (S, EH2, M, IY0, K, AH0, N, D, AH1, K, T, ER0)            12   \n",
       "nigeria                        (N, AY0, JH, IH1, R, IY0, AH0)             7   \n",
       "bacterial                 (B, AE0, K, T, IH1, R, IY0, AH0, L)             9   \n",
       "bacteria                     (B, AE0, K, T, IH1, R, IY0, AH0)             8   \n",
       "nigerians                (N, AY0, JH, IH1, R, IY0, AH0, N, Z)             9   \n",
       "reclassified           (R, IY0, K, L, AE1, S, AH0, F, AY2, D)            10   \n",
       "nigerian                    (N, AY0, JH, IH1, R, IY0, AH0, N)             8   \n",
       "semiannually            (S, EH2, M, IY0, AE1, N, UW0, L, IY0)             9   \n",
       "quadrennial            (K, W, AA0, D, R, EH1, N, IY0, AH0, L)            10   \n",
       "reauthorized                (R, IY0, AO1, TH, ER0, AY2, Z, D)             8   \n",
       "\n",
       "               num_syllables  perplexity  \n",
       "word                                      \n",
       "semiconductor              5   67.137983  \n",
       "nigeria                    4   69.417881  \n",
       "bacterial                  4   70.182127  \n",
       "bacteria                   4   70.184858  \n",
       "nigerians                  4   71.258426  \n",
       "reclassified               4   71.747827  \n",
       "nigerian                   4   71.960878  \n",
       "semiannually               5   72.509141  \n",
       "quadrennial                4   72.816431  \n",
       "reauthorized               4   73.145478  "
      ]
     },
     "execution_count": 68,
     "metadata": {},
     "output_type": "execute_result"
    }
   ],
   "source": [
    "pronunciations[pronunciations.num_syllables > 3].drop_duplicates('pronunciation').head(10)"
   ]
  },
  {
   "cell_type": "markdown",
   "metadata": {},
   "source": [
    "All of these words have three syllables with the stress on the second syllable. These all feel like good English words. They have many phonemes though, so I'm concerned that the model is recognizing the very specific patterns and giving all the later phonemes very high probabilities."
   ]
  },
  {
   "cell_type": "code",
   "execution_count": null,
   "metadata": {},
   "outputs": [],
   "source": []
  },
  {
   "cell_type": "code",
   "execution_count": 71,
   "metadata": {},
   "outputs": [
    {
     "data": {
      "text/html": [
       "<div>\n",
       "<style scoped>\n",
       "    .dataframe tbody tr th:only-of-type {\n",
       "        vertical-align: middle;\n",
       "    }\n",
       "\n",
       "    .dataframe tbody tr th {\n",
       "        vertical-align: top;\n",
       "    }\n",
       "\n",
       "    .dataframe thead th {\n",
       "        text-align: right;\n",
       "    }\n",
       "</style>\n",
       "<table border=\"1\" class=\"dataframe\">\n",
       "  <thead>\n",
       "    <tr style=\"text-align: right;\">\n",
       "      <th></th>\n",
       "      <th>pronunciation</th>\n",
       "      <th>num_phonemes</th>\n",
       "      <th>num_syllables</th>\n",
       "      <th>perplexity</th>\n",
       "    </tr>\n",
       "    <tr>\n",
       "      <th>word</th>\n",
       "      <th></th>\n",
       "      <th></th>\n",
       "      <th></th>\n",
       "      <th></th>\n",
       "    </tr>\n",
       "  </thead>\n",
       "  <tbody>\n",
       "    <tr>\n",
       "      <th>toye</th>\n",
       "      <td>(T, OY1)</td>\n",
       "      <td>2</td>\n",
       "      <td>1</td>\n",
       "      <td>3383.548352</td>\n",
       "    </tr>\n",
       "    <tr>\n",
       "      <th>toy</th>\n",
       "      <td>(T, OY1)</td>\n",
       "      <td>2</td>\n",
       "      <td>1</td>\n",
       "      <td>3383.548352</td>\n",
       "    </tr>\n",
       "    <tr>\n",
       "      <th>it</th>\n",
       "      <td>(IH1, T)</td>\n",
       "      <td>2</td>\n",
       "      <td>1</td>\n",
       "      <td>2994.882099</td>\n",
       "    </tr>\n",
       "    <tr>\n",
       "      <th>aung</th>\n",
       "      <td>(AO1, NG)</td>\n",
       "      <td>2</td>\n",
       "      <td>1</td>\n",
       "      <td>2835.244216</td>\n",
       "    </tr>\n",
       "    <tr>\n",
       "      <th>ong</th>\n",
       "      <td>(AO1, NG)</td>\n",
       "      <td>2</td>\n",
       "      <td>1</td>\n",
       "      <td>2835.244216</td>\n",
       "    </tr>\n",
       "    <tr>\n",
       "      <th>engh</th>\n",
       "      <td>(EH1, NG)</td>\n",
       "      <td>2</td>\n",
       "      <td>1</td>\n",
       "      <td>2745.704642</td>\n",
       "    </tr>\n",
       "    <tr>\n",
       "      <th>ng</th>\n",
       "      <td>(EH1, NG)</td>\n",
       "      <td>2</td>\n",
       "      <td>1</td>\n",
       "      <td>2745.704642</td>\n",
       "    </tr>\n",
       "    <tr>\n",
       "      <th>eng</th>\n",
       "      <td>(EH1, NG)</td>\n",
       "      <td>2</td>\n",
       "      <td>1</td>\n",
       "      <td>2745.704642</td>\n",
       "    </tr>\n",
       "    <tr>\n",
       "      <th>tai</th>\n",
       "      <td>(T, AY1)</td>\n",
       "      <td>2</td>\n",
       "      <td>1</td>\n",
       "      <td>2666.655514</td>\n",
       "    </tr>\n",
       "    <tr>\n",
       "      <th>pty</th>\n",
       "      <td>(T, AY1)</td>\n",
       "      <td>2</td>\n",
       "      <td>1</td>\n",
       "      <td>2666.655514</td>\n",
       "    </tr>\n",
       "  </tbody>\n",
       "</table>\n",
       "</div>"
      ],
      "text/plain": [
       "     pronunciation  num_phonemes  num_syllables   perplexity\n",
       "word                                                        \n",
       "toye      (T, OY1)             2              1  3383.548352\n",
       "toy       (T, OY1)             2              1  3383.548352\n",
       "it        (IH1, T)             2              1  2994.882099\n",
       "aung     (AO1, NG)             2              1  2835.244216\n",
       "ong      (AO1, NG)             2              1  2835.244216\n",
       "engh     (EH1, NG)             2              1  2745.704642\n",
       "ng       (EH1, NG)             2              1  2745.704642\n",
       "eng      (EH1, NG)             2              1  2745.704642\n",
       "tai       (T, AY1)             2              1  2666.655514\n",
       "pty       (T, AY1)             2              1  2666.655514"
      ]
     },
     "execution_count": 71,
     "metadata": {},
     "output_type": "execute_result"
    }
   ],
   "source": [
    "pronunciations[pronunciations.num_phonemes == 2].sort_values('perplexity', ascending=False).head(10)"
   ]
  },
  {
   "cell_type": "markdown",
   "metadata": {},
   "source": [
    "Interestingly these words do all feel very weird to me as an English speaker. \"ai\" is an acronym, pronounced as the letter 'A' followed by the letter 'I', so isn't held to normal word formation properties and would be a really strange word.\n",
    "\n",
    "\"zungu\" also doesn't sound like English. Since English prefers syllables with onsets, when saying the word I feel like I want /NG/ to be the onset of the second syllable /NG UW1/. But /NG/ isn't normally allowed as the onset of a syllable.\n",
    "\n",
    "The stress pattern is also weird on this word. Normally in a two syllable word there will be one stressed syllable and one unstressed. This word has primary stress on the second syllabie (/UW1/) and secondary stressed on the first syllable (/AH2/). Interestingly, the perplexity of the word drops considerably (to 450) when I replace /AH2/ with /AH1/."
   ]
  },
  {
   "cell_type": "code",
   "execution_count": 72,
   "metadata": {},
   "outputs": [
    {
     "data": {
      "image/png": "[encoded data removed]",
      "text/plain": [
       "<Figure size 432x288 with 1 Axes>"
      ]
     },
     "metadata": {
      "needs_background": "light"
     },
     "output_type": "display_data"
    }
   ],
   "source": [
    "plot_pronunciation_probability(language_model, ('Z', 'AH2', 'NG', 'UW1'))"
   ]
  },
  {
   "cell_type": "markdown",
   "metadata": {},
   "source": [
    "We've seen that the lowest perplexity words are very long and the highest perplexity words are short. Let's look at the two other options. First let's look at the low perplexity short words."
   ]
  },
  {
   "cell_type": "code",
   "execution_count": 82,
   "metadata": {},
   "outputs": [
    {
     "data": {
      "text/html": [
       "<div>\n",
       "<style scoped>\n",
       "    .dataframe tbody tr th:only-of-type {\n",
       "        vertical-align: middle;\n",
       "    }\n",
       "\n",
       "    .dataframe tbody tr th {\n",
       "        vertical-align: top;\n",
       "    }\n",
       "\n",
       "    .dataframe thead th {\n",
       "        text-align: right;\n",
       "    }\n",
       "</style>\n",
       "<table border=\"1\" class=\"dataframe\">\n",
       "  <thead>\n",
       "    <tr style=\"text-align: right;\">\n",
       "      <th></th>\n",
       "      <th>pronunciation</th>\n",
       "      <th>num_phonemes</th>\n",
       "      <th>num_syllables</th>\n",
       "      <th>perplexity</th>\n",
       "    </tr>\n",
       "    <tr>\n",
       "      <th>word</th>\n",
       "      <th></th>\n",
       "      <th></th>\n",
       "      <th></th>\n",
       "      <th></th>\n",
       "    </tr>\n",
       "  </thead>\n",
       "  <tbody>\n",
       "    <tr>\n",
       "      <th>rao</th>\n",
       "      <td>(R, AW1)</td>\n",
       "      <td>2</td>\n",
       "      <td>1</td>\n",
       "      <td>191.833026</td>\n",
       "    </tr>\n",
       "    <tr>\n",
       "      <th>bao</th>\n",
       "      <td>(B, AW1)</td>\n",
       "      <td>2</td>\n",
       "      <td>1</td>\n",
       "      <td>226.253332</td>\n",
       "    </tr>\n",
       "    <tr>\n",
       "      <th>be</th>\n",
       "      <td>(B, IY0)</td>\n",
       "      <td>2</td>\n",
       "      <td>1</td>\n",
       "      <td>250.194332</td>\n",
       "    </tr>\n",
       "    <tr>\n",
       "      <th>owed</th>\n",
       "      <td>(OW1, D)</td>\n",
       "      <td>2</td>\n",
       "      <td>1</td>\n",
       "      <td>268.237357</td>\n",
       "    </tr>\n",
       "    <tr>\n",
       "      <th>al</th>\n",
       "      <td>(AE1, L)</td>\n",
       "      <td>2</td>\n",
       "      <td>1</td>\n",
       "      <td>270.992585</td>\n",
       "    </tr>\n",
       "  </tbody>\n",
       "</table>\n",
       "</div>"
      ],
      "text/plain": [
       "     pronunciation  num_phonemes  num_syllables  perplexity\n",
       "word                                                       \n",
       "rao       (R, AW1)             2              1  191.833026\n",
       "bao       (B, AW1)             2              1  226.253332\n",
       "be        (B, IY0)             2              1  250.194332\n",
       "owed      (OW1, D)             2              1  268.237357\n",
       "al        (AE1, L)             2              1  270.992585"
      ]
     },
     "execution_count": 82,
     "metadata": {},
     "output_type": "execute_result"
    }
   ],
   "source": [
    "pronunciations[pronunciations.num_phonemes == 2].drop_duplicates('pronunciation').head()"
   ]
  },
  {
   "cell_type": "code",
   "execution_count": null,
   "metadata": {},
   "outputs": [],
   "source": [
    "plot_pronunciation(lm, ('K', 'R', 'IH1', 'S', 'T', 'AH0', 'L'))"
   ]
  },
  {
   "cell_type": "markdown",
   "metadata": {},
   "source": [
    "Despite being only two syllables, these words are packed with phonemes, with lots complex onsets and codas. Let's look at words that are three or fewer phonemes."
   ]
  },
  {
   "cell_type": "code",
   "execution_count": 83,
   "metadata": {},
   "outputs": [
    {
     "data": {
      "text/html": [
       "<div>\n",
       "<style scoped>\n",
       "    .dataframe tbody tr th:only-of-type {\n",
       "        vertical-align: middle;\n",
       "    }\n",
       "\n",
       "    .dataframe tbody tr th {\n",
       "        vertical-align: top;\n",
       "    }\n",
       "\n",
       "    .dataframe thead th {\n",
       "        text-align: right;\n",
       "    }\n",
       "</style>\n",
       "<table border=\"1\" class=\"dataframe\">\n",
       "  <thead>\n",
       "    <tr style=\"text-align: right;\">\n",
       "      <th></th>\n",
       "      <th>pronunciation</th>\n",
       "      <th>num_phonemes</th>\n",
       "      <th>num_syllables</th>\n",
       "      <th>perplexity</th>\n",
       "    </tr>\n",
       "    <tr>\n",
       "      <th>word</th>\n",
       "      <th></th>\n",
       "      <th></th>\n",
       "      <th></th>\n",
       "      <th></th>\n",
       "    </tr>\n",
       "  </thead>\n",
       "  <tbody>\n",
       "    <tr>\n",
       "      <th>raul</th>\n",
       "      <td>(R, AW1, L)</td>\n",
       "      <td>3</td>\n",
       "      <td>1</td>\n",
       "      <td>112.943972</td>\n",
       "    </tr>\n",
       "    <tr>\n",
       "      <th>arey</th>\n",
       "      <td>(AE1, R, IY0)</td>\n",
       "      <td>3</td>\n",
       "      <td>2</td>\n",
       "      <td>115.402145</td>\n",
       "    </tr>\n",
       "    <tr>\n",
       "      <th>prow</th>\n",
       "      <td>(P, R, AW1)</td>\n",
       "      <td>3</td>\n",
       "      <td>1</td>\n",
       "      <td>118.241186</td>\n",
       "    </tr>\n",
       "    <tr>\n",
       "      <th>okey</th>\n",
       "      <td>(OW1, K, IY0)</td>\n",
       "      <td>3</td>\n",
       "      <td>2</td>\n",
       "      <td>120.025465</td>\n",
       "    </tr>\n",
       "    <tr>\n",
       "      <th>rouse</th>\n",
       "      <td>(R, AW1, S)</td>\n",
       "      <td>3</td>\n",
       "      <td>1</td>\n",
       "      <td>122.038554</td>\n",
       "    </tr>\n",
       "  </tbody>\n",
       "</table>\n",
       "</div>"
      ],
      "text/plain": [
       "       pronunciation  num_phonemes  num_syllables  perplexity\n",
       "word                                                         \n",
       "raul     (R, AW1, L)             3              1  112.943972\n",
       "arey   (AE1, R, IY0)             3              2  115.402145\n",
       "prow     (P, R, AW1)             3              1  118.241186\n",
       "okey   (OW1, K, IY0)             3              2  120.025465\n",
       "rouse    (R, AW1, S)             3              1  122.038554"
      ]
     },
     "execution_count": 83,
     "metadata": {},
     "output_type": "execute_result"
    }
   ],
   "source": [
    "pronunciations[pronunciations.num_phonemes <= 3].drop_duplicates('pronunciation').head()"
   ]
  },
  {
   "cell_type": "code",
   "execution_count": 84,
   "metadata": {},
   "outputs": [
    {
     "data": {
      "image/png": "[encoded data removed]",
      "text/plain": [
       "<Figure size 432x288 with 1 Axes>"
      ]
     },
     "metadata": {
      "needs_background": "light"
     },
     "output_type": "display_data"
    }
   ],
   "source": [
    "plot_pronunciation_probability(language_model, ('B', 'ER1', 'K'))"
   ]
  },
  {
   "cell_type": "markdown",
   "metadata": {},
   "source": [
    "These words are all of the form ONSET VOWEL CODA. Overall they all sound like standard words."
   ]
  },
  {
   "cell_type": "markdown",
   "metadata": {},
   "source": [
    "Now lets look at long and perplexing words."
   ]
  },
  {
   "cell_type": "markdown",
   "metadata": {},
   "source": [
    "Let's now look at the words the model thinks are most perplexing (i.e. least likely)."
   ]
  },
  {
   "cell_type": "code",
   "execution_count": 78,
   "metadata": {},
   "outputs": [
    {
     "data": {
      "text/html": [
       "<div>\n",
       "<style scoped>\n",
       "    .dataframe tbody tr th:only-of-type {\n",
       "        vertical-align: middle;\n",
       "    }\n",
       "\n",
       "    .dataframe tbody tr th {\n",
       "        vertical-align: top;\n",
       "    }\n",
       "\n",
       "    .dataframe thead th {\n",
       "        text-align: right;\n",
       "    }\n",
       "</style>\n",
       "<table border=\"1\" class=\"dataframe\">\n",
       "  <thead>\n",
       "    <tr style=\"text-align: right;\">\n",
       "      <th></th>\n",
       "      <th>pronunciation</th>\n",
       "      <th>num_phonemes</th>\n",
       "      <th>num_syllables</th>\n",
       "      <th>perplexity</th>\n",
       "    </tr>\n",
       "    <tr>\n",
       "      <th>word</th>\n",
       "      <th></th>\n",
       "      <th></th>\n",
       "      <th></th>\n",
       "      <th></th>\n",
       "    </tr>\n",
       "  </thead>\n",
       "  <tbody>\n",
       "    <tr>\n",
       "      <th>apparatuses</th>\n",
       "      <td>(AE2, P, ER0, AE1, T, AH0, S, AH0, Z)</td>\n",
       "      <td>9</td>\n",
       "      <td>5</td>\n",
       "      <td>288.444800</td>\n",
       "    </tr>\n",
       "    <tr>\n",
       "      <th>takashimaya</th>\n",
       "      <td>(T, AA2, K, AA2, SH, IH0, M, AA1, Y, AH0)</td>\n",
       "      <td>10</td>\n",
       "      <td>5</td>\n",
       "      <td>281.047058</td>\n",
       "    </tr>\n",
       "    <tr>\n",
       "      <th>alliterative</th>\n",
       "      <td>(AH0, L, IH1, T, ER0, AH0, T, IH0, V)</td>\n",
       "      <td>9</td>\n",
       "      <td>5</td>\n",
       "      <td>271.830475</td>\n",
       "    </tr>\n",
       "    <tr>\n",
       "      <th>intuitively</th>\n",
       "      <td>(IH2, N, T, UW1, IH0, T, IH0, V, L, IY0)</td>\n",
       "      <td>10</td>\n",
       "      <td>5</td>\n",
       "      <td>262.825289</td>\n",
       "    </tr>\n",
       "    <tr>\n",
       "      <th>alliterative</th>\n",
       "      <td>(AH0, L, IH1, T, ER0, EY2, T, IH0, V)</td>\n",
       "      <td>9</td>\n",
       "      <td>5</td>\n",
       "      <td>261.828303</td>\n",
       "    </tr>\n",
       "  </tbody>\n",
       "</table>\n",
       "</div>"
      ],
      "text/plain": [
       "                                          pronunciation  num_phonemes  \\\n",
       "word                                                                    \n",
       "apparatuses       (AE2, P, ER0, AE1, T, AH0, S, AH0, Z)             9   \n",
       "takashimaya   (T, AA2, K, AA2, SH, IH0, M, AA1, Y, AH0)            10   \n",
       "alliterative      (AH0, L, IH1, T, ER0, AH0, T, IH0, V)             9   \n",
       "intuitively    (IH2, N, T, UW1, IH0, T, IH0, V, L, IY0)            10   \n",
       "alliterative      (AH0, L, IH1, T, ER0, EY2, T, IH0, V)             9   \n",
       "\n",
       "              num_syllables  perplexity  \n",
       "word                                     \n",
       "apparatuses               5  288.444800  \n",
       "takashimaya               5  281.047058  \n",
       "alliterative              5  271.830475  \n",
       "intuitively               5  262.825289  \n",
       "alliterative              5  261.828303  "
      ]
     },
     "execution_count": 78,
     "metadata": {},
     "output_type": "execute_result"
    }
   ],
   "source": [
    "pronunciations[pronunciations.num_syllables > 4].sort_values('perplexity', ascending=False).head()"
   ]
  },
  {
   "cell_type": "markdown",
   "metadata": {},
   "source": [
    "Aside from \"gunatilake\", all of these words are acronyms. For example, \"wor\" is each letter in the word pronounced."
   ]
  },
  {
   "cell_type": "markdown",
   "metadata": {},
   "source": [
    "## Which Pronunciation Wins for Words with Multiple Pronunciations? ##\n",
    "Another interesting thing we can look at is which pronunciation the model prefers when a word has multiple standard ones."
   ]
  },
  {
   "cell_type": "code",
   "execution_count": null,
   "metadata": {},
   "outputs": [],
   "source": []
  },
  {
   "cell_type": "code",
   "execution_count": 85,
   "metadata": {},
   "outputs": [
    {
     "data": {
      "text/html": [
       "<div>\n",
       "<style scoped>\n",
       "    .dataframe tbody tr th:only-of-type {\n",
       "        vertical-align: middle;\n",
       "    }\n",
       "\n",
       "    .dataframe tbody tr th {\n",
       "        vertical-align: top;\n",
       "    }\n",
       "\n",
       "    .dataframe thead th {\n",
       "        text-align: right;\n",
       "    }\n",
       "</style>\n",
       "<table border=\"1\" class=\"dataframe\">\n",
       "  <thead>\n",
       "    <tr style=\"text-align: right;\">\n",
       "      <th></th>\n",
       "      <th>pronunciation</th>\n",
       "      <th>num_phonemes</th>\n",
       "      <th>num_syllables</th>\n",
       "      <th>perplexity</th>\n",
       "    </tr>\n",
       "    <tr>\n",
       "      <th>word</th>\n",
       "      <th></th>\n",
       "      <th></th>\n",
       "      <th></th>\n",
       "      <th></th>\n",
       "    </tr>\n",
       "  </thead>\n",
       "  <tbody>\n",
       "    <tr>\n",
       "      <th>tomato</th>\n",
       "      <td>(T, AH0, M, EY1, T, OW2)</td>\n",
       "      <td>6</td>\n",
       "      <td>3</td>\n",
       "      <td>303.932414</td>\n",
       "    </tr>\n",
       "    <tr>\n",
       "      <th>tomato</th>\n",
       "      <td>(T, AH0, M, AA1, T, OW2)</td>\n",
       "      <td>6</td>\n",
       "      <td>3</td>\n",
       "      <td>320.180485</td>\n",
       "    </tr>\n",
       "  </tbody>\n",
       "</table>\n",
       "</div>"
      ],
      "text/plain": [
       "                   pronunciation  num_phonemes  num_syllables  perplexity\n",
       "word                                                                     \n",
       "tomato  (T, AH0, M, EY1, T, OW2)             6              3  303.932414\n",
       "tomato  (T, AH0, M, AA1, T, OW2)             6              3  320.180485"
      ]
     },
     "execution_count": 85,
     "metadata": {},
     "output_type": "execute_result"
    }
   ],
   "source": [
    "pronunciations.loc['tomato']"
   ]
  },
  {
   "cell_type": "markdown",
   "metadata": {},
   "source": [
    "Let's look at the model's preferred pronunciations for three words commonly argued over."
   ]
  },
  {
   "cell_type": "code",
   "execution_count": 92,
   "metadata": {},
   "outputs": [
    {
     "data": {
      "text/html": [
       "<div>\n",
       "<style scoped>\n",
       "    .dataframe tbody tr th:only-of-type {\n",
       "        vertical-align: middle;\n",
       "    }\n",
       "\n",
       "    .dataframe tbody tr th {\n",
       "        vertical-align: top;\n",
       "    }\n",
       "\n",
       "    .dataframe thead th {\n",
       "        text-align: right;\n",
       "    }\n",
       "</style>\n",
       "<table border=\"1\" class=\"dataframe\">\n",
       "  <thead>\n",
       "    <tr style=\"text-align: right;\">\n",
       "      <th></th>\n",
       "      <th>pronunciation</th>\n",
       "      <th>num_phonemes</th>\n",
       "      <th>num_syllables</th>\n",
       "      <th>perplexity</th>\n",
       "    </tr>\n",
       "    <tr>\n",
       "      <th>word</th>\n",
       "      <th></th>\n",
       "      <th></th>\n",
       "      <th></th>\n",
       "      <th></th>\n",
       "    </tr>\n",
       "  </thead>\n",
       "  <tbody>\n",
       "    <tr>\n",
       "      <th>tomato</th>\n",
       "      <td>(T, AH0, M, EY1, T, OW2)</td>\n",
       "      <td>6</td>\n",
       "      <td>3</td>\n",
       "      <td>303.932414</td>\n",
       "    </tr>\n",
       "    <tr>\n",
       "      <th>tomato</th>\n",
       "      <td>(T, AH0, M, AA1, T, OW2)</td>\n",
       "      <td>6</td>\n",
       "      <td>3</td>\n",
       "      <td>320.180485</td>\n",
       "    </tr>\n",
       "  </tbody>\n",
       "</table>\n",
       "</div>"
      ],
      "text/plain": [
       "                   pronunciation  num_phonemes  num_syllables  perplexity\n",
       "word                                                                     \n",
       "tomato  (T, AH0, M, EY1, T, OW2)             6              3  303.932414\n",
       "tomato  (T, AH0, M, AA1, T, OW2)             6              3  320.180485"
      ]
     },
     "metadata": {},
     "output_type": "display_data"
    },
    {
     "data": {
      "text/html": [
       "<div>\n",
       "<style scoped>\n",
       "    .dataframe tbody tr th:only-of-type {\n",
       "        vertical-align: middle;\n",
       "    }\n",
       "\n",
       "    .dataframe tbody tr th {\n",
       "        vertical-align: top;\n",
       "    }\n",
       "\n",
       "    .dataframe thead th {\n",
       "        text-align: right;\n",
       "    }\n",
       "</style>\n",
       "<table border=\"1\" class=\"dataframe\">\n",
       "  <thead>\n",
       "    <tr style=\"text-align: right;\">\n",
       "      <th></th>\n",
       "      <th>pronunciation</th>\n",
       "      <th>num_phonemes</th>\n",
       "      <th>num_syllables</th>\n",
       "      <th>perplexity</th>\n",
       "    </tr>\n",
       "    <tr>\n",
       "      <th>word</th>\n",
       "      <th></th>\n",
       "      <th></th>\n",
       "      <th></th>\n",
       "      <th></th>\n",
       "    </tr>\n",
       "  </thead>\n",
       "  <tbody>\n",
       "    <tr>\n",
       "      <th>aunt</th>\n",
       "      <td>(AE1, N, T)</td>\n",
       "      <td>3</td>\n",
       "      <td>1</td>\n",
       "      <td>408.755672</td>\n",
       "    </tr>\n",
       "    <tr>\n",
       "      <th>aunt</th>\n",
       "      <td>(AO1, N, T)</td>\n",
       "      <td>3</td>\n",
       "      <td>1</td>\n",
       "      <td>556.478450</td>\n",
       "    </tr>\n",
       "  </tbody>\n",
       "</table>\n",
       "</div>"
      ],
      "text/plain": [
       "     pronunciation  num_phonemes  num_syllables  perplexity\n",
       "word                                                       \n",
       "aunt   (AE1, N, T)             3              1  408.755672\n",
       "aunt   (AO1, N, T)             3              1  556.478450"
      ]
     },
     "metadata": {},
     "output_type": "display_data"
    },
    {
     "data": {
      "text/html": [
       "<div>\n",
       "<style scoped>\n",
       "    .dataframe tbody tr th:only-of-type {\n",
       "        vertical-align: middle;\n",
       "    }\n",
       "\n",
       "    .dataframe tbody tr th {\n",
       "        vertical-align: top;\n",
       "    }\n",
       "\n",
       "    .dataframe thead th {\n",
       "        text-align: right;\n",
       "    }\n",
       "</style>\n",
       "<table border=\"1\" class=\"dataframe\">\n",
       "  <thead>\n",
       "    <tr style=\"text-align: right;\">\n",
       "      <th></th>\n",
       "      <th>pronunciation</th>\n",
       "      <th>num_phonemes</th>\n",
       "      <th>num_syllables</th>\n",
       "      <th>perplexity</th>\n",
       "    </tr>\n",
       "    <tr>\n",
       "      <th>word</th>\n",
       "      <th></th>\n",
       "      <th></th>\n",
       "      <th></th>\n",
       "      <th></th>\n",
       "    </tr>\n",
       "  </thead>\n",
       "  <tbody>\n",
       "    <tr>\n",
       "      <th>nevada</th>\n",
       "      <td>(N, AH0, V, AE1, D, AH0)</td>\n",
       "      <td>6</td>\n",
       "      <td>3</td>\n",
       "      <td>204.864863</td>\n",
       "    </tr>\n",
       "    <tr>\n",
       "      <th>nevada</th>\n",
       "      <td>(N, AH0, V, AA1, D, AH0)</td>\n",
       "      <td>6</td>\n",
       "      <td>3</td>\n",
       "      <td>312.491040</td>\n",
       "    </tr>\n",
       "  </tbody>\n",
       "</table>\n",
       "</div>"
      ],
      "text/plain": [
       "                   pronunciation  num_phonemes  num_syllables  perplexity\n",
       "word                                                                     \n",
       "nevada  (N, AH0, V, AE1, D, AH0)             6              3  204.864863\n",
       "nevada  (N, AH0, V, AA1, D, AH0)             6              3  312.491040"
      ]
     },
     "metadata": {},
     "output_type": "display_data"
    }
   ],
   "source": [
    "display(pronunciations.loc['tomato'])\n",
    "display(pronunciations.loc['aunt'])\n",
    "display(pronunciations.loc['nevada'])"
   ]
  },
  {
   "cell_type": "markdown",
   "metadata": {},
   "source": [
    "The model agrees with (what I take to be) the more common pronunciation of the first two words but thinks \"Nevada\" is different than how I say it.\n",
    "\n",
    "Let's look at \"coupon\" now."
   ]
  },
  {
   "cell_type": "code",
   "execution_count": 93,
   "metadata": {},
   "outputs": [
    {
     "data": {
      "text/html": [
       "<div>\n",
       "<style scoped>\n",
       "    .dataframe tbody tr th:only-of-type {\n",
       "        vertical-align: middle;\n",
       "    }\n",
       "\n",
       "    .dataframe tbody tr th {\n",
       "        vertical-align: top;\n",
       "    }\n",
       "\n",
       "    .dataframe thead th {\n",
       "        text-align: right;\n",
       "    }\n",
       "</style>\n",
       "<table border=\"1\" class=\"dataframe\">\n",
       "  <thead>\n",
       "    <tr style=\"text-align: right;\">\n",
       "      <th></th>\n",
       "      <th>pronunciation</th>\n",
       "      <th>num_phonemes</th>\n",
       "      <th>num_syllables</th>\n",
       "      <th>perplexity</th>\n",
       "    </tr>\n",
       "    <tr>\n",
       "      <th>word</th>\n",
       "      <th></th>\n",
       "      <th></th>\n",
       "      <th></th>\n",
       "      <th></th>\n",
       "    </tr>\n",
       "  </thead>\n",
       "  <tbody>\n",
       "    <tr>\n",
       "      <th>coupon</th>\n",
       "      <td>(K, Y, UW1, P, AO2, N)</td>\n",
       "      <td>6</td>\n",
       "      <td>2</td>\n",
       "      <td>174.557749</td>\n",
       "    </tr>\n",
       "    <tr>\n",
       "      <th>coupon</th>\n",
       "      <td>(K, UW1, P, AO2, N)</td>\n",
       "      <td>5</td>\n",
       "      <td>2</td>\n",
       "      <td>205.282903</td>\n",
       "    </tr>\n",
       "  </tbody>\n",
       "</table>\n",
       "</div>"
      ],
      "text/plain": [
       "                 pronunciation  num_phonemes  num_syllables  perplexity\n",
       "word                                                                   \n",
       "coupon  (K, Y, UW1, P, AO2, N)             6              2  174.557749\n",
       "coupon     (K, UW1, P, AO2, N)             5              2  205.282903"
      ]
     },
     "execution_count": 93,
     "metadata": {},
     "output_type": "execute_result"
    }
   ],
   "source": [
    "pronunciations.loc['coupon']"
   ]
  },
  {
   "cell_type": "code",
   "execution_count": 95,
   "metadata": {},
   "outputs": [
    {
     "data": {
      "image/png": "[encoded data removed]",
      "text/plain": [
       "<Figure size 432x288 with 1 Axes>"
      ]
     },
     "metadata": {
      "needs_background": "light"
     },
     "output_type": "display_data"
    }
   ],
   "source": [
    "plot_next_phoneme_distribution(language_model, ('K', 'Y'))"
   ]
  },
  {
   "cell_type": "code",
   "execution_count": 96,
   "metadata": {},
   "outputs": [
    {
     "data": {
      "image/png": "[encoded data removed]",
      "text/plain": [
       "<Figure size 432x288 with 1 Axes>"
      ]
     },
     "metadata": {
      "needs_background": "light"
     },
     "output_type": "display_data"
    }
   ],
   "source": [
    "plot_pronunciation_probability(language_model, tuple('K Y UW1 P AO2 N'.split()))"
   ]
  },
  {
   "cell_type": "code",
   "execution_count": 97,
   "metadata": {},
   "outputs": [
    {
     "data": {
      "image/png": "[encoded data removed]",
      "text/plain": [
       "<Figure size 432x288 with 1 Axes>"
      ]
     },
     "metadata": {
      "needs_background": "light"
     },
     "output_type": "display_data"
    }
   ],
   "source": [
    "plot_pronunciation_probability(language_model, tuple('K UW1 P AO2 N'.split()))"
   ]
  },
  {
   "cell_type": "markdown",
   "metadata": {},
   "source": [
    "The model prefers the \"YU\" less version of \"coupon\". Interestingly, in this case the relatively low perplexity seems to be due to the model being very certain that /UW1/ will follow /K Y/."
   ]
  },
  {
   "cell_type": "markdown",
   "metadata": {},
   "source": [
    "\"with\" has four possible pronunciations listed."
   ]
  },
  {
   "cell_type": "code",
   "execution_count": 98,
   "metadata": {},
   "outputs": [
    {
     "data": {
      "text/html": [
       "<div>\n",
       "<style scoped>\n",
       "    .dataframe tbody tr th:only-of-type {\n",
       "        vertical-align: middle;\n",
       "    }\n",
       "\n",
       "    .dataframe tbody tr th {\n",
       "        vertical-align: top;\n",
       "    }\n",
       "\n",
       "    .dataframe thead th {\n",
       "        text-align: right;\n",
       "    }\n",
       "</style>\n",
       "<table border=\"1\" class=\"dataframe\">\n",
       "  <thead>\n",
       "    <tr style=\"text-align: right;\">\n",
       "      <th></th>\n",
       "      <th>pronunciation</th>\n",
       "      <th>num_phonemes</th>\n",
       "      <th>num_syllables</th>\n",
       "      <th>perplexity</th>\n",
       "    </tr>\n",
       "    <tr>\n",
       "      <th>word</th>\n",
       "      <th></th>\n",
       "      <th></th>\n",
       "      <th></th>\n",
       "      <th></th>\n",
       "    </tr>\n",
       "  </thead>\n",
       "  <tbody>\n",
       "    <tr>\n",
       "      <th>with</th>\n",
       "      <td>(W, IH1, TH)</td>\n",
       "      <td>3</td>\n",
       "      <td>1</td>\n",
       "      <td>440.591315</td>\n",
       "    </tr>\n",
       "    <tr>\n",
       "      <th>with</th>\n",
       "      <td>(W, IH0, TH)</td>\n",
       "      <td>3</td>\n",
       "      <td>1</td>\n",
       "      <td>486.737671</td>\n",
       "    </tr>\n",
       "    <tr>\n",
       "      <th>with</th>\n",
       "      <td>(W, IH1, DH)</td>\n",
       "      <td>3</td>\n",
       "      <td>1</td>\n",
       "      <td>513.289812</td>\n",
       "    </tr>\n",
       "    <tr>\n",
       "      <th>with</th>\n",
       "      <td>(W, IH0, DH)</td>\n",
       "      <td>3</td>\n",
       "      <td>1</td>\n",
       "      <td>567.809484</td>\n",
       "    </tr>\n",
       "  </tbody>\n",
       "</table>\n",
       "</div>"
      ],
      "text/plain": [
       "     pronunciation  num_phonemes  num_syllables  perplexity\n",
       "word                                                       \n",
       "with  (W, IH1, TH)             3              1  440.591315\n",
       "with  (W, IH0, TH)             3              1  486.737671\n",
       "with  (W, IH1, DH)             3              1  513.289812\n",
       "with  (W, IH0, DH)             3              1  567.809484"
      ]
     },
     "execution_count": 98,
     "metadata": {},
     "output_type": "execute_result"
    }
   ],
   "source": [
    "pronunciations.loc['with']"
   ]
  },
  {
   "cell_type": "markdown",
   "metadata": {},
   "source": [
    "By far the least perplexing one is the one I personally would use. The Pronouncing Dictionary includes two pronunciatinos with an unstressed vowel. When actually spoken in a sentence it'd be common to not stress that vowel, but when just saying the word on its own I would think it should have stress."
   ]
  },
  {
   "cell_type": "code",
   "execution_count": 99,
   "metadata": {},
   "outputs": [
    {
     "data": {
      "image/png": "[encoded data removed]",
      "text/plain": [
       "<Figure size 432x288 with 1 Axes>"
      ]
     },
     "metadata": {
      "needs_background": "light"
     },
     "output_type": "display_data"
    }
   ],
   "source": [
    "plot_pronunciation_probability(language_model, ('W', 'IH1', 'TH'))"
   ]
  },
  {
   "cell_type": "code",
   "execution_count": 100,
   "metadata": {},
   "outputs": [
    {
     "data": {
      "image/png": "[encoded data removed]",
      "text/plain": [
       "<Figure size 432x288 with 1 Axes>"
      ]
     },
     "metadata": {
      "needs_background": "light"
     },
     "output_type": "display_data"
    }
   ],
   "source": [
    "plot_pronunciation_probability(language_model, ('W', 'IH1', 'DH'))"
   ]
  },
  {
   "cell_type": "markdown",
   "metadata": {},
   "source": [
    "The model also strongly believes \"with\" should end with the voiceless /TH/ instead of the voiced /DH/. It looks like this is due to the model not wanting to end the word at /W IH1 DH/, probably because ending any word with /IH1 DH/ is rare."
   ]
  },
  {
   "cell_type": "markdown",
   "metadata": {},
   "source": [
    "## Can the Model Generate Novel Words? ##\n",
    "\n",
    "* proportion of words that are novel\n",
    "* proportion of words (from a sample) that look good to me\n",
    "* 10 randomly sampled words. show them and play the word. ARPABET | IPA | my best spelling guess | play button \n",
    "\n",
    "\n",
    "compare with overgenerated model. probably way more that aren't novel"
   ]
  },
  {
   "cell_type": "code",
   "execution_count": 114,
   "metadata": {},
   "outputs": [
    {
     "data": {
      "text/html": [
       "<div>\n",
       "<style scoped>\n",
       "    .dataframe tbody tr th:only-of-type {\n",
       "        vertical-align: middle;\n",
       "    }\n",
       "\n",
       "    .dataframe tbody tr th {\n",
       "        vertical-align: top;\n",
       "    }\n",
       "\n",
       "    .dataframe thead th {\n",
       "        text-align: right;\n",
       "    }\n",
       "</style>\n",
       "<table border=\"1\" class=\"dataframe\">\n",
       "  <thead>\n",
       "    <tr style=\"text-align: right;\">\n",
       "      <th></th>\n",
       "      <th>pronunciation</th>\n",
       "      <th>is_novel_word</th>\n",
       "      <th>num_phonemes</th>\n",
       "      <th>num_syllables</th>\n",
       "    </tr>\n",
       "  </thead>\n",
       "  <tbody>\n",
       "    <tr>\n",
       "      <th>87</th>\n",
       "      <td>(D, B, AO0, N, CH, AY0, F, D, EH2, AE0, AO0, EH0, IY0, OW2, IY0, AH2, OY2, S, AH0, HH, ER2, ER1, OW1)</td>\n",
       "      <td>True</td>\n",
       "      <td>23</td>\n",
       "      <td>15</td>\n",
       "    </tr>\n",
       "    <tr>\n",
       "      <th>86</th>\n",
       "      <td>(AA0, AE1, B, OW1, EH1, K, AO0, F, AY2, ZH, DH, K, OY0, AO2, AY1, OY2, EH1, G, AW1, IH0, B)</td>\n",
       "      <td>True</td>\n",
       "      <td>21</td>\n",
       "      <td>13</td>\n",
       "    </tr>\n",
       "    <tr>\n",
       "      <th>71</th>\n",
       "      <td>(F, T, UH1, OY2, N, Z, EY2, AA1, M, UH1, IY0, AO2, IY2, OW2, OW1, K, EH1, ZH, IY0, OW0, OY1, V, L, AA1, DH)</td>\n",
       "      <td>True</td>\n",
       "      <td>25</td>\n",
       "      <td>15</td>\n",
       "    </tr>\n",
       "    <tr>\n",
       "      <th>47</th>\n",
       "      <td>(UW1, EY2, AO0, AY2, ER2)</td>\n",
       "      <td>True</td>\n",
       "      <td>5</td>\n",
       "      <td>5</td>\n",
       "    </tr>\n",
       "    <tr>\n",
       "      <th>48</th>\n",
       "      <td>(AY2, UH0, EY2, ER2, P, AA2, UW2, AE0, EY2)</td>\n",
       "      <td>True</td>\n",
       "      <td>9</td>\n",
       "      <td>8</td>\n",
       "    </tr>\n",
       "    <tr>\n",
       "      <th>66</th>\n",
       "      <td>(CH, L, L, UW0, G, JH)</td>\n",
       "      <td>True</td>\n",
       "      <td>6</td>\n",
       "      <td>1</td>\n",
       "    </tr>\n",
       "    <tr>\n",
       "      <th>33</th>\n",
       "      <td>(TH, OY2, ER1, AO2, HH, TH, AE0, D, IY0, OW2, EH1, OY2, IH0, AA2, UW2, IY0, N, ER0, ER2, P, AE0, V)</td>\n",
       "      <td>True</td>\n",
       "      <td>22</td>\n",
       "      <td>15</td>\n",
       "    </tr>\n",
       "    <tr>\n",
       "      <th>39</th>\n",
       "      <td>(EY2,)</td>\n",
       "      <td>True</td>\n",
       "      <td>1</td>\n",
       "      <td>1</td>\n",
       "    </tr>\n",
       "    <tr>\n",
       "      <th>45</th>\n",
       "      <td>(D, B, OW0, ER1, AW1)</td>\n",
       "      <td>True</td>\n",
       "      <td>5</td>\n",
       "      <td>3</td>\n",
       "    </tr>\n",
       "    <tr>\n",
       "      <th>64</th>\n",
       "      <td>(P, EY1, R, OW1, K, ZH, CH, Y, IY2, S, L, ER2, SH, AE2, TH, AA1, AO1, OY2, EH0, AH2)</td>\n",
       "      <td>True</td>\n",
       "      <td>20</td>\n",
       "      <td>10</td>\n",
       "    </tr>\n",
       "  </tbody>\n",
       "</table>\n",
       "</div>"
      ],
      "text/plain": [
       "                                                                                                  pronunciation  \\\n",
       "87        (D, B, AO0, N, CH, AY0, F, D, EH2, AE0, AO0, EH0, IY0, OW2, IY0, AH2, OY2, S, AH0, HH, ER2, ER1, OW1)   \n",
       "86                  (AA0, AE1, B, OW1, EH1, K, AO0, F, AY2, ZH, DH, K, OY0, AO2, AY1, OY2, EH1, G, AW1, IH0, B)   \n",
       "71  (F, T, UH1, OY2, N, Z, EY2, AA1, M, UH1, IY0, AO2, IY2, OW2, OW1, K, EH1, ZH, IY0, OW0, OY1, V, L, AA1, DH)   \n",
       "47                                                                                    (UW1, EY2, AO0, AY2, ER2)   \n",
       "48                                                                  (AY2, UH0, EY2, ER2, P, AA2, UW2, AE0, EY2)   \n",
       "66                                                                                       (CH, L, L, UW0, G, JH)   \n",
       "33          (TH, OY2, ER1, AO2, HH, TH, AE0, D, IY0, OW2, EH1, OY2, IH0, AA2, UW2, IY0, N, ER0, ER2, P, AE0, V)   \n",
       "39                                                                                                       (EY2,)   \n",
       "45                                                                                        (D, B, OW0, ER1, AW1)   \n",
       "64                         (P, EY1, R, OW1, K, ZH, CH, Y, IY2, S, L, ER2, SH, AE2, TH, AA1, AO1, OY2, EH0, AH2)   \n",
       "\n",
       "    is_novel_word  num_phonemes  num_syllables  \n",
       "87           True            23             15  \n",
       "86           True            21             13  \n",
       "71           True            25             15  \n",
       "47           True             5              5  \n",
       "48           True             9              8  \n",
       "66           True             6              1  \n",
       "33           True            22             15  \n",
       "39           True             1              1  \n",
       "45           True             5              3  \n",
       "64           True            20             10  "
      ]
     },
     "execution_count": 114,
     "metadata": {},
     "output_type": "execute_result"
    }
   ],
   "source": [
    "generated_pronunciations = pd.DataFrame({\n",
    "    'pronunciation': [\n",
    "        language_model.generate(max_length=1000)\n",
    "        for _ in range(100)\n",
    "    ]\n",
    "})\n",
    "\n",
    "generated_pronunciations['is_novel_word'] = ~generated_pronunciations.pronunciation.isin(pronunciations.pronunciation)\n",
    "augment_pronunciations_df(generated_pronunciations)\n",
    "\n",
    "# Occasionally the model generates empty pronunciations.\n",
    "generated_pronunciations = generated_pronunciations[generated_pronunciations.num_phonemes > 0]\n",
    "\n",
    "generated_pronunciations.sample(10)"
   ]
  },
  {
   "cell_type": "markdown",
   "metadata": {},
   "source": [
    "I generated 10,000 new pronunciations. Of those, 75% are novel pronunciations and 25% were in the training set."
   ]
  },
  {
   "cell_type": "code",
   "execution_count": 127,
   "metadata": {},
   "outputs": [
    {
     "data": {
      "image/png": "[encoded data removed]",
      "text/plain": [
       "<Figure size 432x288 with 1 Axes>"
      ]
     },
     "metadata": {
      "needs_background": "light"
     },
     "output_type": "display_data"
    }
   ],
   "source": [
    "def show_proportion_novel(generated_pronunciations):\n",
    "    counts = generated_pronunciations.is_novel_word.value_counts()\n",
    "    percentages = counts / counts.sum() * 100\n",
    "    \n",
    "    percentages.index = percentages.index.map({True: 'Novel Word', False: 'Existing Word'})\n",
    "    percentages.plot.bar()\n",
    "    plt.title('Percentage of Generated Words that are Novel')\n",
    "\n",
    "show_proportion_novel(generated_pronunciations)    "
   ]
  },
  {
   "cell_type": "markdown",
   "metadata": {},
   "source": [
    "Here are some randomly generated proununciations. I'm printing five pronunciations for each syllable count. Note that these are all novel words."
   ]
  },
  {
   "cell_type": "code",
   "execution_count": 120,
   "metadata": {},
   "outputs": [
    {
     "data": {
      "text/plain": [
       "True"
      ]
     },
     "execution_count": 120,
     "metadata": {},
     "output_type": "execute_result"
    }
   ],
   "source": [
    "generated_pronunciations[:0].empty\n"
   ]
  },
  {
   "cell_type": "code",
   "execution_count": 125,
   "metadata": {},
   "outputs": [
    {
     "name": "stdout",
     "output_type": "stream",
     "text": [
      "These have 1 syllables\n",
      "\t('AE2', 'V', 'DH')\n",
      "\t('UH0', 'DH')\n",
      "\t('ZH', 'B', 'AE1')\n",
      "\t('CH', 'L', 'L', 'UW0', 'G', 'JH')\n",
      "\t('V', 'W', 'Y', 'HH', 'EY2')\n",
      "These have 2 syllables\n",
      "\t('R', 'EY1', 'AA2', 'K', 'TH')\n",
      "\t('IY1', 'OW1')\n",
      "\t('AE2', 'T', 'EH2')\n",
      "\t('IY2', 'ER0')\n",
      "\t('Y', 'DH', 'EH2', 'OY0')\n",
      "These have 3 syllables\n",
      "\t('D', 'B', 'OW0', 'ER1', 'AW1')\n",
      "\t('EY2', 'ER2', 'UH0')\n",
      "\t('UW1', 'N', 'L', 'OW1', 'UW2')\n",
      "\t('AO0', 'W', 'TH', 'R', 'EY2', 'DH', 'OY1')\n",
      "\t('AW2', 'AW0', 'AW0')\n",
      "These have 4 syllables\n",
      "\t('EH2', 'OY2', 'OW1', 'V', 'EY2')\n",
      "\t('P', 'L', 'AH1', 'OW0', 'K', 'AW0', 'OY2')\n",
      "\t('F', 'AH2', 'AH2', 'K', 'HH', 'L', 'P', 'AE1', 'L', 'EH2')\n",
      "\t('ER2', 'AY1', 'AE0', 'N', 'AO1', 'Y')\n"
     ]
    }
   ],
   "source": [
    "novel_generated_pronunciations = generated_pronunciations[generated_pronunciations.is_novel_word]\n",
    "\n",
    "for num_syllables in range(1, 5):\n",
    "    \n",
    "    novel_with_syllable_count = novel_generated_pronunciations[novel_generated_pronunciations.num_syllables==num_syllables]\n",
    "    if novel_with_syllable_count.empty:\n",
    "        break\n",
    "    \n",
    "    print(f'These have {num_syllables} syllables')\n",
    "\n",
    "    for pronunciation in novel_with_syllable_count.sample(min(5, len(novel_with_syllable_count))).pronunciation:\n",
    "        print(f'\\t{pronunciation}')"
   ]
  },
  {
   "cell_type": "markdown",
   "metadata": {},
   "source": [
    "The main thing that jumps out at me is that these all sound like conceivable English words. There are a few sort of awkward words, like /G OW1 JH D/, but there's nothing unpronouncable. And the stress patterns feel natural to me.\n",
    "\n"
   ]
  },
  {
   "cell_type": "markdown",
   "metadata": {},
   "source": [
    "The length of the words the model generates (both in terms of phonemes and syllables) is fairly similar to the training data."
   ]
  },
  {
   "cell_type": "code",
   "execution_count": 134,
   "metadata": {},
   "outputs": [
    {
     "data": {
      "image/png": "[encoded data removed]",
      "text/plain": [
       "<Figure size 720x360 with 1 Axes>"
      ]
     },
     "metadata": {
      "needs_background": "light"
     },
     "output_type": "display_data"
    }
   ],
   "source": [
    "pronunciations.num_phonemes.hist(density=True, figsize=(10, 5), label='English')\n",
    "generated_pronunciations.num_phonemes.hist(density=True, alpha=.75, label='Generated')\n",
    "plt.xlabel('Number of Phonemes')\n",
    "plt.ylabel('Proportion of Words')\n",
    "plt.title('Phoneme Count Comparison')\n",
    "_ = plt.legend()"
   ]
  },
  {
   "cell_type": "code",
   "execution_count": 137,
   "metadata": {},
   "outputs": [
    {
     "data": {
      "image/png": "[encoded data removed]",
      "text/plain": [
       "<Figure size 720x360 with 1 Axes>"
      ]
     },
     "metadata": {
      "needs_background": "light"
     },
     "output_type": "display_data"
    }
   ],
   "source": [
    "pronunciations.num_syllables.hist(density=True, figsize=(10, 5), label='English')\n",
    "generated_pronunciations.num_syllables.hist(density=True, alpha=.75, label='Generated')\n",
    "plt.xlabel('Number of Syllables')\n",
    "plt.ylabel('Proportion of Words')\n",
    "plt.title('Syllable Count Comparison')\n",
    "_ = plt.legend()"
   ]
  },
  {
   "cell_type": "markdown",
   "metadata": {},
   "source": [
    "In the next section I'll probe the model to figure out whether it's just getting lucky or has learned something."
   ]
  },
  {
   "cell_type": "markdown",
   "metadata": {},
   "source": [
    "## What Rules is the Model Actually Learning? ##\n",
    "\n",
    "Given the overfitting examples we saw earlier where the model had memorized \"constitutional\" and similar words, I wanted to probe the model to make sure it's learning some more general properties."
   ]
  },
  {
   "cell_type": "markdown",
   "metadata": {},
   "source": [
    "An interesting place to start is at the start of each generated pronunciation. Here are the probabilities for the first phoneme in a word:"
   ]
  },
  {
   "cell_type": "code",
   "execution_count": 140,
   "metadata": {},
   "outputs": [
    {
     "data": {
      "image/png": "[encoded data removed]",
      "text/plain": [
       "<Figure size 432x288 with 1 Axes>"
      ]
     },
     "metadata": {
      "needs_background": "light"
     },
     "output_type": "display_data"
    }
   ],
   "source": [
    "plot_next_phoneme_distribution(language_model, (), min_probability=0.02)"
   ]
  },
  {
   "cell_type": "code",
   "execution_count": null,
   "metadata": {},
   "outputs": [],
   "source": []
  },
  {
   "cell_type": "code",
   "execution_count": 149,
   "metadata": {},
   "outputs": [
    {
     "data": {
      "image/png": "[encoded data removed]",
      "text/plain": [
       "<Figure size 432x288 with 1 Axes>"
      ]
     },
     "metadata": {
      "needs_background": "light"
     },
     "output_type": "display_data"
    }
   ],
   "source": [
    "first_phoneme_counts = pronunciations.pronunciation.apply(itemgetter(0)).value_counts()\n",
    "(first_phoneme_counts / first_phoneme_counts.sum())[:20].plot.bar()\n",
    "plt.xlabel('Phoneme')\n",
    "_ = plt.title('Distribution of First Phoneme in English WOrds')"
   ]
  },
  {
   "cell_type": "markdown",
   "metadata": {},
   "source": [
    "The model's probabilities almost exactly match the actual distribution of first phonemes in the training set. I was hoping that the model might learn some more general properties, like that obstruents (e.g. /K/, /P/, /D/) are equally likely to occur at the beginning of the word, but I appear to have given the model enough capacity to learn more specific sound transition probabilities. This is arguably better since the model can differentiate between very likely English pronunciations instead of just valid ones."
   ]
  },
  {
   "cell_type": "markdown",
   "metadata": {},
   "source": [
    "Some quick background on English word structure first. Words are composed of syllables. A syllable consists of an onset, a nucleus, and a coda. The nucleus is usually a vowel (or syllablic consonant like /ER/). The syllable /K R EH1 P T/ has /K R/ in the onset, /EH1/ in the nucleus, and /P T/ in the coda.\n",
    "\n",
    "English prefers that syllables at the end of a word have a coda. Consonants can serve as the codas of syllables. Diphthongs (/EY/, /OW/, /AW/, /OY/, /IY/) also have coda.\n",
    "\n",
    "Compare the two pronunciations below, /K EY1/ and /KEH1/."
   ]
  },
  {
   "cell_type": "code",
   "execution_count": 153,
   "metadata": {},
   "outputs": [
    {
     "data": {
      "image/png": "[encoded data removed]",
      "text/plain": [
       "<Figure size 432x288 with 1 Axes>"
      ]
     },
     "metadata": {
      "needs_background": "light"
     },
     "output_type": "display_data"
    }
   ],
   "source": [
    "plot_pronunciation_probability(language_model, (\"S\", \"EY1\"))"
   ]
  },
  {
   "cell_type": "code",
   "execution_count": 154,
   "metadata": {},
   "outputs": [
    {
     "data": {
      "image/png": "[encoded data removed]",
      "text/plain": [
       "<Figure size 432x288 with 1 Axes>"
      ]
     },
     "metadata": {
      "needs_background": "light"
     },
     "output_type": "display_data"
    }
   ],
   "source": [
    "plot_pronunciation_probability(language_model, (\"S\", \"EH1\"))"
   ]
  },
  {
   "cell_type": "markdown",
   "metadata": {},
   "source": [
    "After /S EY1/ the model assigns a 3% probability of the word ending. But /S EH1/ doesn't have a coda, so the model assigns a 0% probability of the word ending.\n",
    "\n",
    "By closing /S EH1/ with /D/ below, we create a complete word."
   ]
  },
  {
   "cell_type": "code",
   "execution_count": 156,
   "metadata": {},
   "outputs": [
    {
     "data": {
      "image/png": "[encoded data removed]",
      "text/plain": [
       "<Figure size 432x288 with 1 Axes>"
      ]
     },
     "metadata": {
      "needs_background": "light"
     },
     "output_type": "display_data"
    }
   ],
   "source": [
    "plot_pronunciation_probability(language_model, (\"S\", \"EH1\", \"D\"))"
   ]
  },
  {
   "cell_type": "markdown",
   "metadata": {},
   "source": [
    "The model also seems to have learned some intersting stress patterns."
   ]
  },
  {
   "cell_type": "code",
   "execution_count": 155,
   "metadata": {},
   "outputs": [
    {
     "data": {
      "image/png": "[encoded data removed]",
      "text/plain": [
       "<Figure size 432x288 with 1 Axes>"
      ]
     },
     "metadata": {
      "needs_background": "light"
     },
     "output_type": "display_data"
    }
   ],
   "source": [
    "plot_pronunciation_probability(language_model, ('AH0', 'D'))"
   ]
  },
  {
   "cell_type": "code",
   "execution_count": 157,
   "metadata": {},
   "outputs": [
    {
     "data": {
      "image/png": "[encoded data removed]",
      "text/plain": [
       "<Figure size 432x288 with 1 Axes>"
      ]
     },
     "metadata": {
      "needs_background": "light"
     },
     "output_type": "display_data"
    }
   ],
   "source": [
    "plot_pronunciation_probability(language_model, ('AH1', 'D'))"
   ]
  },
  {
   "cell_type": "markdown",
   "metadata": {},
   "source": [
    "It knows that the word /AH0 D/ is very unlikely (it assigns a 0 probability to the word ending there) because a word has to have some stress in it. /AH1 D/ is fine though because it's stressed."
   ]
  },
  {
   "cell_type": "markdown",
   "metadata": {},
   "source": [
    "The model also learned patterns about stress over multiple syllables. A *foot* is a pair of syllables. A *trochee* contains a stressed syllable followed by an unstressed one. And an *iamb* is an unstressed syllable followed by a stressed one.\n",
    "\n",
    "English, in general, prefers trochees. This implies that the model should assign a lower perplexity to trochees than iambs."
   ]
  },
  {
   "cell_type": "code",
   "execution_count": 162,
   "metadata": {},
   "outputs": [
    {
     "name": "stdout",
     "output_type": "stream",
     "text": [
      "Trochee: 122.84\n",
      "Iamb:    229.70\n"
     ]
    }
   ],
   "source": [
    "print('Trochee: {:.2f}'.format(language_model.perplexity_of_text((\"T\", \"R\", \"OW1\", \"K\", \"IY0\"))))\n",
    "print('Iamb:    {:.2f}'.format(language_model.perplexity_of_text((\"T\", \"R\", \"OW0\", \"K\", \"IY1\"))))"
   ]
  },
  {
   "cell_type": "markdown",
   "metadata": {},
   "source": [
    "It does in fact prefer the trochee versions in both cases."
   ]
  },
  {
   "cell_type": "markdown",
   "metadata": {},
   "source": [
    "Another English phonotactic rule, from Wikipedia, is: \"Two obstruents in the same coda must share voicing (compare kids /K IH1 D Z/ with kits /K IH1 T S/)\". Hopefully the model will assign a higher perplexity when this rule is violated below."
   ]
  },
  {
   "cell_type": "code",
   "execution_count": 164,
   "metadata": {},
   "outputs": [
    {
     "name": "stdout",
     "output_type": "stream",
     "text": [
      "Perplexity for /T EH1 B Z/: 647\n",
      "Perplexity for /T EH1 B S/: 429\n",
      "\n",
      "Perplexity for /T EH1 P S/: 296\n",
      "Perplexity for /T EH1 P Z/: 522\n"
     ]
    }
   ],
   "source": [
    "print('Perplexity for /T EH1 B Z/: {:.0f}'.format(language_model.perplexity_of_text(('T', 'EH1', 'B', 'Z'))))\n",
    "print('Perplexity for /T EH1 B S/: {:.0f}'.format(language_model.perplexity_of_text(('T', 'EH1', 'B', 'S'))))\n",
    "print()\n",
    "print('Perplexity for /T EH1 P S/: {:.0f}'.format(language_model.perplexity_of_text(('T', 'EH1', 'P', 'S'))))\n",
    "print('Perplexity for /T EH1 P Z/: {:.0f}'.format(language_model.perplexity_of_text(('T', 'EH1', 'P', 'Z'))))"
   ]
  },
  {
   "cell_type": "markdown",
   "metadata": {},
   "source": [
    "Perplexity is higher when the two phonemes in the coda do not match in voicing. The model could just be learning that adjacent phonemes should ideally share voicing though. To test whether it's actually learned the rule about voicing in codas I'll change the syllable structure."
   ]
  },
  {
   "cell_type": "code",
   "execution_count": 165,
   "metadata": {},
   "outputs": [
    {
     "name": "stdout",
     "output_type": "stream",
     "text": [
      "Perplexity for /T EH1 B Z AH0/: 443\n",
      "Perplexity for /T EH1 B S AH0/: 338\n",
      "\n",
      "Perplexity for /T EH1 P Z AH0/: 404\n",
      "Perplexity for /T EH1 P S AH0/: 255\n"
     ]
    }
   ],
   "source": [
    "print('Perplexity for /T EH1 B Z AH0/: {:.0f}'.format(language_model.perplexity_of_text(('T', 'EH1', 'B', 'Z', 'AH0'))))\n",
    "print('Perplexity for /T EH1 B S AH0/: {:.0f}'.format(language_model.perplexity_of_text(('T', 'EH1', 'B', 'S', 'AH0'))))\n",
    "print()\n",
    "print('Perplexity for /T EH1 P Z AH0/: {:.0f}'.format(language_model.perplexity_of_text(('T', 'EH1', 'P', 'Z', 'AH0'))))\n",
    "print('Perplexity for /T EH1 P S AH0/: {:.0f}'.format(language_model.perplexity_of_text(('T', 'EH1', 'P', 'S', 'AH0'))))"
   ]
  },
  {
   "cell_type": "markdown",
   "metadata": {},
   "source": [
    "These four words are identical to the first except that I've inserted /AH0/ to the end of the word, which allows the /S/ and /Z/ to form a second syllable with it. Since /S/ and /Z/ become onsets of the next syllable they're not subject to the constraint on the previous syllable's coda."
   ]
  },
  {
   "cell_type": "markdown",
   "metadata": {},
   "source": [
    "## Probing the Embeddings (WIP) ##"
   ]
  },
  {
   "cell_type": "code",
   "execution_count": 171,
   "metadata": {},
   "outputs": [
    {
     "name": "stdout",
     "output_type": "stream",
     "text": [
      "[1.000]\tDH\n",
      "[0.299]\tUH1\n",
      "[0.272]\tAY0\n",
      "[0.250]\tOW0\n",
      "[0.214]\tY\n",
      "[0.193]\tW\n",
      "[0.169]\tUH0\n",
      "[0.162]\tER1\n",
      "[0.157]\tIY1\n",
      "[0.152]\tAH0\n"
     ]
    }
   ],
   "source": [
    "def most_similar_phonemes(language_model, embedding, topn=10):\n",
    "    other_to_sim = {\n",
    "        phoneme: cosine_similarity(language_model.embedding_for(phoneme), embedding).item()\n",
    "        for phoneme in language_model.vocab.tokens\n",
    "\n",
    "    }\n",
    "\n",
    "    for other_phoneme, similarity in sorted(other_to_sim.items(), key=lambda p: -p[1])[:topn]:\n",
    "        print(f'[{similarity:.3f}]\\t{other_phoneme}')\n",
    "        \n",
    "most_similar_phonemes(language_model, language_model.embedding_for('DH'))"
   ]
  },
  {
   "cell_type": "markdown",
   "metadata": {},
   "source": [
    "See whether I can make an embedding for different features.\n",
    "\n",
    "For consonants:\n",
    "- voicing\n",
    "- place: bilabial, dental, alveolar, palatal, velar\n",
    "- manner: stop, fricative, nasal\n",
    "\n",
    "For vowels:\n",
    "- front/back\n",
    "- closed/open\n",
    "- rounding\n",
    "\n",
    "General:\n",
    "- syllabic\n"
   ]
  },
  {
   "cell_type": "code",
   "execution_count": 204,
   "metadata": {},
   "outputs": [
    {
     "name": "stdout",
     "output_type": "stream",
     "text": [
      "[0.621]\tP\n",
      "[0.418]\tJH\n",
      "[0.352]\tDH\n",
      "[0.251]\tEH2\n",
      "[0.222]\tAO2\n",
      "[0.210]\tV\n",
      "[0.205]\tAY0\n",
      "[0.203]\tIY0\n",
      "[0.203]\tIH2\n",
      "[0.192]\tEY1\n"
     ]
    }
   ],
   "source": [
    "def build_vector(language_model, class1_phonemes, class2_phonemes):\n",
    "    class1_embeddings = [language_model.embedding_for(phoneme) for phoneme in class1_phonemes]\n",
    "    class2_embeddings = [language_model.embedding_for(phoneme) for phoneme in class2_phonemes]\n",
    "    class1_mean = np.mean(class1_embeddings, axis=0)\n",
    "    class2_mean = np.mean(class2_embeddings, axis=0)\n",
    "    return class1_mean - class2_mean\n",
    "\n",
    "voicing = build_vector(language_model, {'B', 'V', 'DH', 'JH', 'G'}, {'P', 'F', 'TH', 'CH', 'K'})\n",
    "most_similar_phonemes(language_model, voicing + language_model.embedding_for('P'))"
   ]
  },
  {
   "cell_type": "code",
   "execution_count": 201,
   "metadata": {},
   "outputs": [
    {
     "name": "stdout",
     "output_type": "stream",
     "text": [
      "[0.3415] AO1\n",
      "[0.3198] AE0\n",
      "[0.3020] UW1\n",
      "[0.2694] OY0\n",
      "[0.2490] M\n",
      "[0.2262] UH0\n",
      "[0.1821] EY2\n",
      "[0.1804] G\n",
      "[0.1671] HH\n",
      "[0.1646] F\n"
     ]
    }
   ],
   "source": [
    "def analogy(language_model, a, b, c):\n",
    "    \"\"\"\n",
    "    a - b = c - w\n",
    "    argmax(w) over sim(w, c - a + b)\n",
    "    \"\"\"\n",
    "    emb_a = language_model.embedding_for(a)\n",
    "    emb_b = language_model.embedding_for(b)\n",
    "    emb_c = language_model.embedding_for(c)\n",
    "    \n",
    "    all_phonemes = language_model.vocab.tokens - set(language_model.vocab.DUMMY_TOKENS)\n",
    "    \n",
    "    phoneme_to_sim = {}\n",
    "    for phoneme in all_phonemes:\n",
    "        if phoneme in {a, b, c}:\n",
    "            continue\n",
    "        \n",
    "        emb_p = language_model.embedding_for(phoneme)\n",
    "        sim = cosine_similarity(emb_p, emb_c - emb_a + emb_b)\n",
    "        phoneme_to_sim[phoneme] = sim.item()\n",
    "    return phoneme_to_sim\n",
    "\n",
    "analogies = analogy(language_model, 'P', 'K', 'D')\n",
    "for phoneme, sim in sorted(analogies.items(), key=lambda p: -p[1])[:10]:\n",
    "    print(f'[{sim:.4f}] {phoneme}')\n"
   ]
  }
 ],
 "metadata": {
  "kernelspec": {
   "display_name": "Python 3",
   "language": "python",
   "name": "python3"
  },
  "language_info": {
   "codemirror_mode": {
    "name": "ipython",
    "version": 3
   },
   "file_extension": ".py",
   "mimetype": "text/x-python",
   "name": "python",
   "nbconvert_exporter": "python",
   "pygments_lexer": "ipython3",
   "version": "3.7.4"
  }
 },
 "nbformat": 4,
 "nbformat_minor": 4
}
