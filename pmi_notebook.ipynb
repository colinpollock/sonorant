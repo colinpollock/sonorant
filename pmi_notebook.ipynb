{
 "cells": [
  {
   "cell_type": "markdown",
   "metadata": {},
   "source": [
    "# Use PMI to find which letters express which phonemes #\n",
    "Overall this doesn't appear to work very well for finding interesting letters. It finds that /f/ is represented by 'f', but"
   ]
  },
  {
   "cell_type": "code",
   "execution_count": 1,
   "metadata": {},
   "outputs": [],
   "source": [
    "%matplotlib inline\n",
    "\n",
    "%load_ext autoreload\n",
    "%autoreload 2"
   ]
  },
  {
   "cell_type": "code",
   "execution_count": 2,
   "metadata": {},
   "outputs": [],
   "source": [
    "import pandas as pd\n",
    "from utils import load_data\n",
    "from pmi import compute_ooe, count_phoneme_and_letter, show_best"
   ]
  },
  {
   "cell_type": "code",
   "execution_count": 3,
   "metadata": {},
   "outputs": [],
   "source": [
    "pd.options.display.max_rows = 100\n",
    "pd.options.display.max_columns = 100"
   ]
  },
  {
   "cell_type": "code",
   "execution_count": 4,
   "metadata": {},
   "outputs": [],
   "source": [
    "df = load_data()"
   ]
  },
  {
   "cell_type": "code",
   "execution_count": 5,
   "metadata": {},
   "outputs": [],
   "source": [
    "counts_df = count_phoneme_and_letter(df)"
   ]
  },
  {
   "cell_type": "code",
   "execution_count": 6,
   "metadata": {},
   "outputs": [],
   "source": [
    "ooe_df = compute_ooe(counts_df)"
   ]
  },
  {
   "cell_type": "code",
   "execution_count": 7,
   "metadata": {},
   "outputs": [],
   "source": [
    "bigram_counts_df = count_phoneme_and_letter(df, 2)"
   ]
  },
  {
   "cell_type": "code",
   "execution_count": 8,
   "metadata": {},
   "outputs": [],
   "source": [
    "bigram_ooe_df = compute_ooe(bigram_counts_df)"
   ]
  },
  {
   "cell_type": "code",
   "execution_count": 9,
   "metadata": {},
   "outputs": [
    {
     "data": {
      "text/plain": [
       "f    9.515235\n",
       "h    1.263051\n",
       "r    1.072147\n",
       "i    1.017086\n",
       "o    1.015070\n",
       "l    1.007193\n",
       "Name: F, dtype: float64"
      ]
     },
     "execution_count": 9,
     "metadata": {},
     "output_type": "execute_result"
    }
   ],
   "source": [
    "show_best(ooe_df, counts_df, 'F', min_support=1000)"
   ]
  },
  {
   "cell_type": "code",
   "execution_count": 10,
   "metadata": {},
   "outputs": [
    {
     "data": {
      "text/plain": [
       "uf    10.692229\n",
       "ff    10.468888\n",
       "fe     9.742407\n",
       "of     9.716841\n",
       "fa     9.708762\n",
       "fl     9.536699\n",
       "af     9.365068\n",
       "ft     9.308008\n",
       "fo     9.265553\n",
       "fr     9.126186\n",
       "fu     9.065934\n",
       "ef     8.976439\n",
       "rf     8.744491\n",
       "fi     8.633961\n",
       "if     8.270648\n",
       "ph     8.107097\n",
       "nf     7.252608\n",
       "ld     2.340572\n",
       "ie     1.832686\n",
       "or     1.703987\n",
       "ul     1.631414\n",
       "ho     1.505865\n",
       "hi     1.380883\n",
       "sh     1.196342\n",
       "re     1.168388\n",
       "ra     1.150338\n",
       "il     1.120214\n",
       "el     1.107184\n",
       "he     1.093745\n",
       "er     1.092622\n",
       "ed     1.031998\n",
       "ha     1.027961\n",
       "lo     1.024655\n",
       "Name: F, dtype: float64"
      ]
     },
     "execution_count": 10,
     "metadata": {},
     "output_type": "execute_result"
    }
   ],
   "source": [
    "show_best(bigram_ooe_df, bigram_counts_df, 'F', min_support=400)"
   ]
  }
 ],
 "metadata": {
  "kernelspec": {
   "display_name": "Python 3",
   "language": "python",
   "name": "python3"
  },
  "language_info": {
   "codemirror_mode": {
    "name": "ipython",
    "version": 3
   },
   "file_extension": ".py",
   "mimetype": "text/x-python",
   "name": "python",
   "nbconvert_exporter": "python",
   "pygments_lexer": "ipython3",
   "version": "3.7.4"
  }
 },
 "nbformat": 4,
 "nbformat_minor": 2
}
