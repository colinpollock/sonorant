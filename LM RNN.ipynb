{
 "cells": [
  {
   "cell_type": "code",
   "execution_count": 1,
   "metadata": {},
   "outputs": [],
   "source": [
    "%matplotlib inline\n",
    "\n",
    "%load_ext autoreload\n",
    "%autoreload 2"
   ]
  },
  {
   "cell_type": "code",
   "execution_count": 2,
   "metadata": {},
   "outputs": [],
   "source": [
    "import math\n",
    "import itertools\n",
    "from collections import defaultdict\n",
    "from operator import itemgetter\n",
    "\n",
    "import torch\n",
    "import pandas as pd\n",
    "from sklearn.cluster import KMeans\n",
    "from sklearn.metrics.pairwise import cosine_similarity\n",
    "from sklearn.preprocessing import normalize\n",
    "from torch import nn\n",
    "from torch.nn import functional as F\n",
    "\n",
    "from phoneme_lm import PhonemeLM, build_vocab, encode_pronunciation\n",
    "from utils import load_data, split_data"
   ]
  },
  {
   "cell_type": "code",
   "execution_count": 3,
   "metadata": {},
   "outputs": [],
   "source": [
    "pd.options.display.max_rows = 100\n",
    "pd.options.display.max_columns = 100"
   ]
  },
  {
   "cell_type": "code",
   "execution_count": 4,
   "metadata": {},
   "outputs": [
    {
     "data": {
      "text/plain": [
       "124996"
      ]
     },
     "execution_count": 4,
     "metadata": {},
     "output_type": "execute_result"
    }
   ],
   "source": [
    "df = load_data(True)\n",
    "len(df)"
   ]
  },
  {
   "cell_type": "code",
   "execution_count": 5,
   "metadata": {},
   "outputs": [],
   "source": [
    "phoneme_to_idx, idx_to_phoneme = build_vocab(df.pronunciation.values)\n",
    "df['phoneme_ids'] = df.pronunciation.apply(lambda pronunciation: encode_pronunciation(pronunciation, phoneme_to_idx))"
   ]
  },
  {
   "cell_type": "code",
   "execution_count": 6,
   "metadata": {},
   "outputs": [],
   "source": [
    "df['pronunciation_string'] = df.pronunciation.apply(' '.join)\n",
    "df['length'] = df.pronunciation.apply(len)"
   ]
  },
  {
   "cell_type": "code",
   "execution_count": 7,
   "metadata": {},
   "outputs": [],
   "source": [
    "train_df, dev_df, test_df = split_data(df, dev_proportion=.2, test_proportion=.01)"
   ]
  },
  {
   "cell_type": "code",
   "execution_count": 8,
   "metadata": {},
   "outputs": [
    {
     "data": {
      "text/plain": [
       "(98746, 25000, 1250)"
      ]
     },
     "execution_count": 8,
     "metadata": {},
     "output_type": "execute_result"
    }
   ],
   "source": [
    "len(train_df), len(dev_df), len(test_df)"
   ]
  },
  {
   "cell_type": "code",
   "execution_count": 9,
   "metadata": {},
   "outputs": [
    {
     "name": "stdout",
     "output_type": "stream",
     "text": [
      "Epoch 1: train loss: 1.2725\tassess loss: 1.7832\n",
      "Epoch 2: train loss: 0.9450\tassess loss: 1.4279\n",
      "Epoch 3: train loss: 0.8537\tassess loss: 1.3058\n",
      "Epoch 4: train loss: 0.8058\tassess loss: 1.2370\n",
      "Epoch 5: train loss: 0.7715\tassess loss: 1.1880\n",
      "Epoch 6: train loss: 0.7440\tassess loss: 1.1493\n",
      "Epoch 7: train loss: 0.7236\tassess loss: 1.1163\n",
      "Epoch 8: train loss: 0.7056\tassess loss: 1.0902\n",
      "Epoch 9: train loss: 0.6894\tassess loss: 1.0653\n",
      "Epoch 10: train loss: 0.6738\tassess loss: 1.0417\n",
      "CPU times: user 37min 45s, sys: 1min 29s, total: 39min 14s\n",
      "Wall time: 8min 14s\n"
     ]
    }
   ],
   "source": [
    "%%time\n",
    "\n",
    "lm = PhonemeLM(phoneme_to_idx, idx_to_phoneme, embedding_dimension=10, rnn_hidden_dimension=20, batch_size=1028)\n",
    "lm.fit(train_df.pronunciation, dev_df.pronunciation, epochs=10)"
   ]
  },
  {
   "cell_type": "code",
   "execution_count": 18,
   "metadata": {},
   "outputs": [
    {
     "name": "stdout",
     "output_type": "stream",
     "text": [
      "CPU times: user 2min 24s, sys: 377 ms, total: 2min 24s\n",
      "Wall time: 2min 26s\n"
     ]
    }
   ],
   "source": [
    "%%time\n",
    "\n",
    "df['probability'] = df.pronunciation.apply(lambda pronunciation: lm.calculate_probability(pronunciation))"
   ]
  },
  {
   "cell_type": "code",
   "execution_count": 19,
   "metadata": {},
   "outputs": [
    {
     "data": {
      "text/plain": [
       "<matplotlib.axes._subplots.AxesSubplot at 0x13ded9350>"
      ]
     },
     "execution_count": 19,
     "metadata": {},
     "output_type": "execute_result"
    },
    {
     "data": {
      "image/png": "[encoded data removed]",
      "text/plain": [
       "<Figure size 432x288 with 1 Axes>"
      ]
     },
     "metadata": {
      "needs_background": "light"
     },
     "output_type": "display_data"
    }
   ],
   "source": [
    "df.sort_values('probability', ascending=False, inplace=True)\n",
    "df.probability.hist(bins=100)"
   ]
  },
  {
   "cell_type": "markdown",
   "metadata": {},
   "source": [
    "### GENERATE PRONUNCIATIONS ###"
   ]
  },
  {
   "cell_type": "code",
   "execution_count": 17,
   "metadata": {},
   "outputs": [
    {
     "name": "stdout",
     "output_type": "stream",
     "text": [
      "L UH0 EH1 Z\n",
      "\n",
      "HH AA1 OW1 L\n",
      "\n",
      "S T UW2 S AH0 T IY2 L AH0 N V\n",
      "\n",
      "SH EH0 M AH0 R S AH0 D\n",
      "\n",
      "N ER1 ER0 S\n",
      "\n",
      "OW0 M ER0 S AH0 S\n",
      "\n",
      "R IY1 L N\n",
      "\n",
      "N R AH0 M IH0 N AH0 D\n",
      "\n",
      "D EH1 S F OW0 AH0 K T T\n",
      "\n",
      "D P AH1 K AE2 R IY0\n",
      "\n"
     ]
    }
   ],
   "source": [
    "for _ in range(10):\n",
    "    pronunciation = lm.generate(100, temperature=None)\n",
    "    pronunciation_string = ' '.join(pronunciation)\n",
    "    matches = df[df.pronunciation_string == pronunciation_string]\n",
    "    \n",
    "    print(pronunciation_string)\n",
    "    if len(matches) > 0:\n",
    "        print('\\t', matches.iloc[0]['word'], len(matches), 'total')\n",
    "    print()"
   ]
  },
  {
   "cell_type": "markdown",
   "metadata": {},
   "source": [
    "### Play with Embeddings ###"
   ]
  },
  {
   "cell_type": "code",
   "execution_count": null,
   "metadata": {},
   "outputs": [],
   "source": [
    "emb_one = get_embedding(lm, phoneme_to_id, id_to_phoneme, 'K')\n",
    "\n",
    "for phoneme, phoneme_id in phoneme_to_id.items():\n",
    "    emb_two = get_embedding(lm, phoneme_to_id, id_to_phoneme, phoneme)\n",
    "    score = cosine_similarity(emb_one, emb_two)"
   ]
  },
  {
   "cell_type": "code",
   "execution_count": null,
   "metadata": {},
   "outputs": [],
   "source": [
    "# Group phonemes. Try k-means\n",
    "\n",
    "L = [1, 2, 3, 4]\n",
    "list(itertools.combinations(L, 2))\n",
    "\n",
    "\n",
    "phonemes = set(phoneme_to_id) - {START, END, PAD}\n",
    "records = []\n",
    "for phoneme_one, phoneme_two in itertools.combinations(phonemes, 2):\n",
    "#     print(phoneme_one, phoneme_two)\n",
    "    emb_one = get_embedding(lm, phoneme_to_id, id_to_phoneme, phoneme_one)\n",
    "    emb_two = get_embedding(lm, phoneme_to_id, id_to_phoneme, phoneme_two)\n",
    "    records.append({\n",
    "        'p1': phoneme_one,\n",
    "        'p2': phoneme_two,\n",
    "        'similarity':cosine_similarity(emb_one, emb_two).item()\n",
    "    })\n",
    "\n",
    "df = pd.DataFrame.from_records(records)"
   ]
  },
  {
   "cell_type": "code",
   "execution_count": null,
   "metadata": {},
   "outputs": [],
   "source": []
  },
  {
   "cell_type": "code",
   "execution_count": 13,
   "metadata": {},
   "outputs": [
    {
     "data": {
      "text/plain": [
       "defaultdict(set,\n",
       "            {3: {'<PAD>', 'AA1', 'ER2', 'EY1', 'IY1', 'OW1', 'T', 'UW'},\n",
       "             6: {'<W>',\n",
       "              'AE1',\n",
       "              'AH0',\n",
       "              'EH0',\n",
       "              'IH1',\n",
       "              'IY2',\n",
       "              'OW2',\n",
       "              'R',\n",
       "              'UW1',\n",
       "              'UW2'},\n",
       "             2: {'</W>', 'AW1', 'AY1', 'ER1', 'HH', 'K', 'UH1'},\n",
       "             8: {'AO2', 'G', 'IH2', 'OY2', 'TH', 'UW0'},\n",
       "             4: {'AE0',\n",
       "              'AO0',\n",
       "              'AO1',\n",
       "              'AW0',\n",
       "              'EH1',\n",
       "              'EY0',\n",
       "              'EY2',\n",
       "              'F',\n",
       "              'IH0',\n",
       "              'M',\n",
       "              'P',\n",
       "              'UH2'},\n",
       "             7: {'AA2', 'AE2', 'AY0', 'CH', 'JH', 'L', 'N', 'S'},\n",
       "             9: {'B', 'Y', 'ZH'},\n",
       "             1: {'AA0', 'AH1', 'AH2', 'AW2', 'ER0', 'UH0'},\n",
       "             0: {'D', 'DH', 'EH2', 'OY0', 'SH', 'V', 'W', 'Z'},\n",
       "             5: {'AY2', 'IY0', 'NG', 'OW0', 'OY1'}})"
      ]
     },
     "execution_count": 13,
     "metadata": {},
     "output_type": "execute_result"
    }
   ],
   "source": [
    "embeddings = lm.embeddings\n",
    "normed_embeddings = normalize(embeddings)\n",
    "\n",
    "num_clusters = 10\n",
    "kmeans = KMeans(num_clusters)\n",
    "kmeans.fit(normed_embeddings)\n",
    "\n",
    "# ordered_phonemes = sorted(phoneme_to_idx, key=phoneme_to_idx.get)\n",
    "\n",
    "grouped = defaultdict(set)\n",
    "for idx, label in enumerate(kmeans.labels_):\n",
    "    phoneme = lm.vocab[idx]\n",
    "    grouped[label].add(phoneme)\n",
    "grouped"
   ]
  },
  {
   "cell_type": "code",
   "execution_count": 16,
   "metadata": {},
   "outputs": [
    {
     "data": {
      "text/plain": [
       "[('B', 0.765091598033905),\n",
       " ('IH1', 0.5700035095214844),\n",
       " ('K', 0.5456680059432983)]"
      ]
     },
     "execution_count": 16,
     "metadata": {},
     "output_type": "execute_result"
    }
   ],
   "source": [
    "# For consonants\n",
    "# - voicing\n",
    "# - place: bilabial, dental, alveolar, palatal, velar\n",
    "# - manner: stop, fricative, nasal\n",
    "\n",
    "# For vowels\n",
    "# - front/back\n",
    "# - closed/open\n",
    "# - rounding\n",
    "\n",
    "# General\n",
    "# - syllabic\n",
    "\n",
    "# TODO: combine multiple vectors together, e.g. {B, G, V} for voiced\n",
    "voicing = lm.embedding_for('B') - lm.embedding_for('P')\n",
    "forwarding = lm.embedding_for('P') - lm.embedding_for('K')\n",
    "frication = lm.embedding_for('F') - lm.embedding_for('P')\n",
    "\n",
    "new = lm.embedding_for('TH') + voicing\n",
    "new = lm.embedding_for('K') + voicing\n",
    "# new = lm.embedding_for('T') + frication\n",
    "\n",
    "phoneme_to_sim = {}\n",
    "for phoneme in phoneme_to_idx:\n",
    "    this_embs = lm.embedding_for(phoneme)\n",
    "    sim = cosine_similarity(new, this_embs).item()\n",
    "    phoneme_to_sim[phoneme] = sim\n",
    "\n",
    "sorted(phoneme_to_sim.items(), key=lambda p: -p[1])[:3]"
   ]
  },
  {
   "cell_type": "code",
   "execution_count": null,
   "metadata": {},
   "outputs": [],
   "source": [
    "from phoneme_lm import START, END, PAD\n",
    "# TODO: finish this\n",
    "def analogy(lm, a, b, c):\n",
    "    emb_a = lm.embedding_for(a)\n",
    "    emb_b = lm.embedding_for(b)\n",
    "    emb_c = lm.embedding_for(c)\n",
    "    \n",
    "    all_phonemes = set(lm.vocab) - {START, END, PAD}\n",
    "    \n",
    "    phoneme_to_diff = {}\n",
    "    for phoneme in all_phonemes:\n",
    "        if phoneme in {a, b, c}:\n",
    "            continue\n",
    "        \n",
    "        emb = lm.embedding_for(phoneme)\n",
    "        first = emb_a - emb_b\n",
    "        second = emb_c - emb\n",
    "        diff = abs(first - second)\n",
    "        phoneme_to_diff[phoneme] = diff\n",
    "    return phoneme_to_diff\n",
    "\n",
    "p2d = analogy(lm, 'P', 'B', 'K')\n",
    "\n",
    "p2d['Y'].squeeze()"
   ]
  }
 ],
 "metadata": {
  "kernelspec": {
   "display_name": "Python 3",
   "language": "python",
   "name": "python3"
  },
  "language_info": {
   "codemirror_mode": {
    "name": "ipython",
    "version": 3
   },
   "file_extension": ".py",
   "mimetype": "text/x-python",
   "name": "python",
   "nbconvert_exporter": "python",
   "pygments_lexer": "ipython3",
   "version": "3.7.4"
  }
 },
 "nbformat": 4,
 "nbformat_minor": 2
}
