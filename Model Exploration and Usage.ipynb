{
 "cells": [
  {
   "cell_type": "markdown",
   "metadata": {},
   "source": [
    "# Model Exploration #\n",
    "In the notebook `Model Training.ipynb` I trained a language model over English pronunciations from [the CMU Pronouncing Dictionary](http://www.speech.cs.cmu.edu/cgi-bin/cmudict). CMU Dict contains phonetic representations of about 132,000 words, so the goal of the language model is to learn what sequences of sounds constitute good words.\n",
    "\n",
    "In this notebook I use the model to:\n",
    "1. **Identify which English pronunciations are most- and least-Englishlike**. For example, I would expect \"fun\" to sound normal and a borrowed word like \"cliché\" to be less normal.\n",
    "2. **Generate novel words** that aren't English words but sound like they could be.\n",
    "\n",
    "I'll also dig into what the model has learned to see whether it has learned the [phonotactics rules](https://en.wikipedia.org/wiki/Phonotactics) that all English speakers subconsciously understand.\n",
    "\n",
    "Note that the pronunciations are in [IPA](https://en.wikipedia.org/wiki/International_Phonetic_Alphabet)."
   ]
  },
  {
   "cell_type": "code",
   "execution_count": 1,
   "metadata": {},
   "outputs": [],
   "source": [
    "import numpy as np\n",
    "\n",
    "import pandas as pd\n",
    "import torch\n",
    "from matplotlib import pyplot as plt\n",
    "\n",
    "from sonorant.analysis_utils import analogy, most_similar_phonemes, plot_next_phoneme_distribution, plot_pronunciation_probability\n",
    "from sonorant.languagemodel import LanguageModel\n",
    "from sonorant.utils import perplexity\n",
    "from sonorant.pronunciationdata import augment_pronunciations_df, load_pronunciations"
   ]
  },
  {
   "cell_type": "code",
   "execution_count": 2,
   "metadata": {},
   "outputs": [],
   "source": [
    "pd.options.display.max_rows = 500\n",
    "pd.options.display.max_columns = 100\n",
    "pd.options.display.max_colwidth = 255\n",
    "\n",
    "plt.rcParams['figure.figsize'] = [15, 8]"
   ]
  },
  {
   "cell_type": "markdown",
   "metadata": {},
   "source": [
    "First I'll load the model that I trained in `Model Training.ipynb`, as well as all of the pronunciations from CMU Dict."
   ]
  },
  {
   "cell_type": "code",
   "execution_count": 3,
   "metadata": {},
   "outputs": [],
   "source": [
    "with open('models/gru_20_20_1.pt', 'rb') as fh:\n",
    "    language_model = LanguageModel.load(fh, device_name='cuda')"
   ]
  },
  {
   "cell_type": "code",
   "execution_count": 4,
   "metadata": {},
   "outputs": [
    {
     "name": "stdout",
     "output_type": "stream",
     "text": [
      "There are 131,964 pronunciations.\n",
      "\n",
      "Sample of 5 pronunciations:\n"
     ]
    },
    {
     "data": {
      "text/html": [
       "<div>\n",
       "<style scoped>\n",
       "    .dataframe tbody tr th:only-of-type {\n",
       "        vertical-align: middle;\n",
       "    }\n",
       "\n",
       "    .dataframe tbody tr th {\n",
       "        vertical-align: top;\n",
       "    }\n",
       "\n",
       "    .dataframe thead th {\n",
       "        text-align: right;\n",
       "    }\n",
       "</style>\n",
       "<table border=\"1\" class=\"dataframe\">\n",
       "  <thead>\n",
       "    <tr style=\"text-align: right;\">\n",
       "      <th></th>\n",
       "      <th>pronunciation</th>\n",
       "      <th>as_string</th>\n",
       "      <th>num_phonemes</th>\n",
       "      <th>num_syllables</th>\n",
       "    </tr>\n",
       "    <tr>\n",
       "      <th>word</th>\n",
       "      <th></th>\n",
       "      <th></th>\n",
       "      <th></th>\n",
       "      <th></th>\n",
       "    </tr>\n",
       "  </thead>\n",
       "  <tbody>\n",
       "    <tr>\n",
       "      <th>doris</th>\n",
       "      <td>(ˈ, d, ɔ, r, ɪ, s)</td>\n",
       "      <td>ˈdɔrɪs</td>\n",
       "      <td>5</td>\n",
       "      <td>2</td>\n",
       "    </tr>\n",
       "    <tr>\n",
       "      <th>faustino</th>\n",
       "      <td>(ˌ, f, ɔ, ˈ, s, t, iː, n, oʊ)</td>\n",
       "      <td>ˌfɔˈstiːnoʊ</td>\n",
       "      <td>7</td>\n",
       "      <td>3</td>\n",
       "    </tr>\n",
       "    <tr>\n",
       "      <th>colorado's</th>\n",
       "      <td>(ˌ, k, ɑː, l, ɝ, ˈ, æ, d, oʊ, z)</td>\n",
       "      <td>ˌkɑːlɝˈædoʊz</td>\n",
       "      <td>8</td>\n",
       "      <td>4</td>\n",
       "    </tr>\n",
       "    <tr>\n",
       "      <th>townhouses</th>\n",
       "      <td>(ˈ, t, aʊ, n, ˌ, h, aʊ, s, ɪ, z)</td>\n",
       "      <td>ˈtaʊnˌhaʊsɪz</td>\n",
       "      <td>8</td>\n",
       "      <td>3</td>\n",
       "    </tr>\n",
       "    <tr>\n",
       "      <th>saddam</th>\n",
       "      <td>(ˈ, s, ɑː, d, ə, m)</td>\n",
       "      <td>ˈsɑːdəm</td>\n",
       "      <td>5</td>\n",
       "      <td>2</td>\n",
       "    </tr>\n",
       "  </tbody>\n",
       "</table>\n",
       "</div>"
      ],
      "text/plain": [
       "                               pronunciation     as_string  num_phonemes  \\\n",
       "word                                                                       \n",
       "doris                     (ˈ, d, ɔ, r, ɪ, s)        ˈdɔrɪs             5   \n",
       "faustino       (ˌ, f, ɔ, ˈ, s, t, iː, n, oʊ)   ˌfɔˈstiːnoʊ             7   \n",
       "colorado's  (ˌ, k, ɑː, l, ɝ, ˈ, æ, d, oʊ, z)  ˌkɑːlɝˈædoʊz             8   \n",
       "townhouses  (ˈ, t, aʊ, n, ˌ, h, aʊ, s, ɪ, z)  ˈtaʊnˌhaʊsɪz             8   \n",
       "saddam                   (ˈ, s, ɑː, d, ə, m)       ˈsɑːdəm             5   \n",
       "\n",
       "            num_syllables  \n",
       "word                       \n",
       "doris                   2  \n",
       "faustino                3  \n",
       "colorado's              4  \n",
       "townhouses              3  \n",
       "saddam                  2  "
      ]
     },
     "metadata": {},
     "output_type": "display_data"
    }
   ],
   "source": [
    "pronunciations = load_pronunciations()\n",
    "print(f\"There are {len(pronunciations):,} pronunciations.\")\n",
    "print()\n",
    "print(\"Sample of 5 pronunciations:\")\n",
    "\n",
    "display(pronunciations.sample(5))"
   ]
  },
  {
   "cell_type": "markdown",
   "metadata": {},
   "source": [
    "## What Words are the Most and Least Englishy? ##\n",
    "Since the model can assign a probability to any pronunciation, I can run it over the entire set of pronunciations in the Pronouncing Dictionary and identify the ones that have high and low likelihood of being English.\n",
    "\n",
    "I'll be using [perplexity](https://en.wikipedia.org/wiki/Perplexity) as a measurement of how likely the model thinks each pronunciation is. Perplexity has an inverse relationship with probability, and high perplexity indicates the model was surprised by something it hadn't learned during training."
   ]
  },
  {
   "cell_type": "code",
   "execution_count": 5,
   "metadata": {},
   "outputs": [],
   "source": [
    "pronunciations['perplexity'] = pronunciations.pronunciation.apply(language_model.perplexity_of_text)\n",
    "pronunciations.sort_values('perplexity', inplace=True)"
   ]
  },
  {
   "cell_type": "markdown",
   "metadata": {},
   "source": [
    "Let's look at the least perplexing words. These are the ones the model was totally unsurprised because they seem very normal."
   ]
  },
  {
   "cell_type": "code",
   "execution_count": 6,
   "metadata": {},
   "outputs": [
    {
     "data": {
      "text/html": [
       "<div>\n",
       "<style scoped>\n",
       "    .dataframe tbody tr th:only-of-type {\n",
       "        vertical-align: middle;\n",
       "    }\n",
       "\n",
       "    .dataframe tbody tr th {\n",
       "        vertical-align: top;\n",
       "    }\n",
       "\n",
       "    .dataframe thead th {\n",
       "        text-align: right;\n",
       "    }\n",
       "</style>\n",
       "<table border=\"1\" class=\"dataframe\">\n",
       "  <thead>\n",
       "    <tr style=\"text-align: right;\">\n",
       "      <th></th>\n",
       "      <th>pronunciation</th>\n",
       "      <th>as_string</th>\n",
       "      <th>num_phonemes</th>\n",
       "      <th>num_syllables</th>\n",
       "      <th>perplexity</th>\n",
       "    </tr>\n",
       "    <tr>\n",
       "      <th>word</th>\n",
       "      <th></th>\n",
       "      <th></th>\n",
       "      <th></th>\n",
       "      <th></th>\n",
       "      <th></th>\n",
       "    </tr>\n",
       "  </thead>\n",
       "  <tbody>\n",
       "    <tr>\n",
       "      <th>installations</th>\n",
       "      <td>(ˌ, ɪ, n, s, t, ə, ˈ, l, eɪ, ʃ, ə, n, z)</td>\n",
       "      <td>ˌɪnstəˈleɪʃənz</td>\n",
       "      <td>11</td>\n",
       "      <td>4</td>\n",
       "      <td>3.711584</td>\n",
       "    </tr>\n",
       "    <tr>\n",
       "      <th>intersections</th>\n",
       "      <td>(ˌ, ɪ, n, t, ɝ, ˈ, s, ɛ, k, ʃ, ə, n, z)</td>\n",
       "      <td>ˌɪntɝˈsɛkʃənz</td>\n",
       "      <td>11</td>\n",
       "      <td>4</td>\n",
       "      <td>3.804516</td>\n",
       "    </tr>\n",
       "    <tr>\n",
       "      <th>installation</th>\n",
       "      <td>(ˌ, ɪ, n, s, t, ə, ˈ, l, eɪ, ʃ, ə, n)</td>\n",
       "      <td>ˌɪnstəˈleɪʃən</td>\n",
       "      <td>10</td>\n",
       "      <td>4</td>\n",
       "      <td>3.865509</td>\n",
       "    </tr>\n",
       "    <tr>\n",
       "      <th>intonations</th>\n",
       "      <td>(ˌ, ɪ, n, t, ə, ˈ, n, eɪ, ʃ, ə, n, z)</td>\n",
       "      <td>ˌɪntəˈneɪʃənz</td>\n",
       "      <td>10</td>\n",
       "      <td>4</td>\n",
       "      <td>3.886112</td>\n",
       "    </tr>\n",
       "    <tr>\n",
       "      <th>contentions</th>\n",
       "      <td>(k, ə, n, ˈ, t, ɛ, n, ʃ, ə, n, z)</td>\n",
       "      <td>kənˈtɛnʃənz</td>\n",
       "      <td>10</td>\n",
       "      <td>3</td>\n",
       "      <td>3.901410</td>\n",
       "    </tr>\n",
       "    <tr>\n",
       "      <th>intersection</th>\n",
       "      <td>(ˌ, ɪ, n, t, ɝ, ˈ, s, ɛ, k, ʃ, ə, n)</td>\n",
       "      <td>ˌɪntɝˈsɛkʃən</td>\n",
       "      <td>10</td>\n",
       "      <td>4</td>\n",
       "      <td>3.957338</td>\n",
       "    </tr>\n",
       "    <tr>\n",
       "      <th>insulation</th>\n",
       "      <td>(ˌ, ɪ, n, s, ə, ˈ, l, eɪ, ʃ, ə, n)</td>\n",
       "      <td>ˌɪnsəˈleɪʃən</td>\n",
       "      <td>9</td>\n",
       "      <td>4</td>\n",
       "      <td>3.976479</td>\n",
       "    </tr>\n",
       "    <tr>\n",
       "      <th>intonation</th>\n",
       "      <td>(ˌ, ɪ, n, t, ə, ˈ, n, eɪ, ʃ, ə, n)</td>\n",
       "      <td>ˌɪntəˈneɪʃən</td>\n",
       "      <td>9</td>\n",
       "      <td>4</td>\n",
       "      <td>4.042936</td>\n",
       "    </tr>\n",
       "    <tr>\n",
       "      <th>intermissions</th>\n",
       "      <td>(ˌ, ɪ, n, t, ɝ, ˈ, m, ɪ, ʃ, ə, n, z)</td>\n",
       "      <td>ˌɪntɝˈmɪʃənz</td>\n",
       "      <td>10</td>\n",
       "      <td>4</td>\n",
       "      <td>4.114035</td>\n",
       "    </tr>\n",
       "    <tr>\n",
       "      <th>collections</th>\n",
       "      <td>(k, ə, ˈ, l, ɛ, k, ʃ, ə, n, z)</td>\n",
       "      <td>kəˈlɛkʃənz</td>\n",
       "      <td>9</td>\n",
       "      <td>3</td>\n",
       "      <td>4.175856</td>\n",
       "    </tr>\n",
       "  </tbody>\n",
       "</table>\n",
       "</div>"
      ],
      "text/plain": [
       "                                          pronunciation       as_string  \\\n",
       "word                                                                      \n",
       "installations  (ˌ, ɪ, n, s, t, ə, ˈ, l, eɪ, ʃ, ə, n, z)  ˌɪnstəˈleɪʃənz   \n",
       "intersections   (ˌ, ɪ, n, t, ɝ, ˈ, s, ɛ, k, ʃ, ə, n, z)   ˌɪntɝˈsɛkʃənz   \n",
       "installation      (ˌ, ɪ, n, s, t, ə, ˈ, l, eɪ, ʃ, ə, n)   ˌɪnstəˈleɪʃən   \n",
       "intonations       (ˌ, ɪ, n, t, ə, ˈ, n, eɪ, ʃ, ə, n, z)   ˌɪntəˈneɪʃənz   \n",
       "contentions           (k, ə, n, ˈ, t, ɛ, n, ʃ, ə, n, z)     kənˈtɛnʃənz   \n",
       "intersection       (ˌ, ɪ, n, t, ɝ, ˈ, s, ɛ, k, ʃ, ə, n)    ˌɪntɝˈsɛkʃən   \n",
       "insulation           (ˌ, ɪ, n, s, ə, ˈ, l, eɪ, ʃ, ə, n)    ˌɪnsəˈleɪʃən   \n",
       "intonation           (ˌ, ɪ, n, t, ə, ˈ, n, eɪ, ʃ, ə, n)    ˌɪntəˈneɪʃən   \n",
       "intermissions      (ˌ, ɪ, n, t, ɝ, ˈ, m, ɪ, ʃ, ə, n, z)    ˌɪntɝˈmɪʃənz   \n",
       "collections              (k, ə, ˈ, l, ɛ, k, ʃ, ə, n, z)      kəˈlɛkʃənz   \n",
       "\n",
       "               num_phonemes  num_syllables  perplexity  \n",
       "word                                                    \n",
       "installations            11              4    3.711584  \n",
       "intersections            11              4    3.804516  \n",
       "installation             10              4    3.865509  \n",
       "intonations              10              4    3.886112  \n",
       "contentions              10              3    3.901410  \n",
       "intersection             10              4    3.957338  \n",
       "insulation                9              4    3.976479  \n",
       "intonation                9              4    4.042936  \n",
       "intermissions            10              4    4.114035  \n",
       "collections               9              3    4.175856  "
      ]
     },
     "execution_count": 6,
     "metadata": {},
     "output_type": "execute_result"
    }
   ],
   "source": [
    "pronunciations.head(10)"
   ]
  },
  {
   "cell_type": "markdown",
   "metadata": {},
   "source": [
    "The ten least perplexing words have very regular structure. All end with /ən/ or /ənz/. The model has learned that these sequences occur a lot so it is not surprised by them.\n",
    "\n",
    "There are all four syllables, so let's look at low perplexity one- or two-syllable pronunciations."
   ]
  },
  {
   "cell_type": "code",
   "execution_count": 7,
   "metadata": {},
   "outputs": [
    {
     "data": {
      "text/html": [
       "<div>\n",
       "<style scoped>\n",
       "    .dataframe tbody tr th:only-of-type {\n",
       "        vertical-align: middle;\n",
       "    }\n",
       "\n",
       "    .dataframe tbody tr th {\n",
       "        vertical-align: top;\n",
       "    }\n",
       "\n",
       "    .dataframe thead th {\n",
       "        text-align: right;\n",
       "    }\n",
       "</style>\n",
       "<table border=\"1\" class=\"dataframe\">\n",
       "  <thead>\n",
       "    <tr style=\"text-align: right;\">\n",
       "      <th></th>\n",
       "      <th>pronunciation</th>\n",
       "      <th>as_string</th>\n",
       "      <th>num_phonemes</th>\n",
       "      <th>num_syllables</th>\n",
       "      <th>perplexity</th>\n",
       "    </tr>\n",
       "    <tr>\n",
       "      <th>word</th>\n",
       "      <th></th>\n",
       "      <th></th>\n",
       "      <th></th>\n",
       "      <th></th>\n",
       "      <th></th>\n",
       "    </tr>\n",
       "  </thead>\n",
       "  <tbody>\n",
       "    <tr>\n",
       "      <th>corpsman</th>\n",
       "      <td>(ˈ, k, ɔ, r, m, ə, n)</td>\n",
       "      <td>ˈkɔrmən</td>\n",
       "      <td>6</td>\n",
       "      <td>2</td>\n",
       "      <td>4.302061</td>\n",
       "    </tr>\n",
       "    <tr>\n",
       "      <th>harmon's</th>\n",
       "      <td>(ˈ, h, ɑː, r, m, ə, n, z)</td>\n",
       "      <td>ˈhɑːrmənz</td>\n",
       "      <td>7</td>\n",
       "      <td>2</td>\n",
       "      <td>4.363838</td>\n",
       "    </tr>\n",
       "    <tr>\n",
       "      <th>carmen</th>\n",
       "      <td>(ˈ, k, ɑː, r, m, ə, n)</td>\n",
       "      <td>ˈkɑːrmən</td>\n",
       "      <td>6</td>\n",
       "      <td>2</td>\n",
       "      <td>4.381814</td>\n",
       "    </tr>\n",
       "    <tr>\n",
       "      <th>borman's</th>\n",
       "      <td>(ˈ, b, ɔ, r, m, ə, n, z)</td>\n",
       "      <td>ˈbɔrmənz</td>\n",
       "      <td>7</td>\n",
       "      <td>2</td>\n",
       "      <td>4.481800</td>\n",
       "    </tr>\n",
       "    <tr>\n",
       "      <th>harmon</th>\n",
       "      <td>(ˈ, h, ɑː, r, m, ə, n)</td>\n",
       "      <td>ˈhɑːrmən</td>\n",
       "      <td>6</td>\n",
       "      <td>2</td>\n",
       "      <td>4.486589</td>\n",
       "    </tr>\n",
       "  </tbody>\n",
       "</table>\n",
       "</div>"
      ],
      "text/plain": [
       "                      pronunciation  as_string  num_phonemes  num_syllables  \\\n",
       "word                                                                          \n",
       "corpsman      (ˈ, k, ɔ, r, m, ə, n)    ˈkɔrmən             6              2   \n",
       "harmon's  (ˈ, h, ɑː, r, m, ə, n, z)  ˈhɑːrmənz             7              2   \n",
       "carmen       (ˈ, k, ɑː, r, m, ə, n)   ˈkɑːrmən             6              2   \n",
       "borman's   (ˈ, b, ɔ, r, m, ə, n, z)   ˈbɔrmənz             7              2   \n",
       "harmon       (ˈ, h, ɑː, r, m, ə, n)   ˈhɑːrmən             6              2   \n",
       "\n",
       "          perplexity  \n",
       "word                  \n",
       "corpsman    4.302061  \n",
       "harmon's    4.363838  \n",
       "carmen      4.381814  \n",
       "borman's    4.481800  \n",
       "harmon      4.486589  "
      ]
     },
     "execution_count": 7,
     "metadata": {},
     "output_type": "execute_result"
    }
   ],
   "source": [
    "pronunciations[pronunciations.num_syllables<=2].drop_duplicates('pronunciation').head()"
   ]
  },
  {
   "cell_type": "markdown",
   "metadata": {},
   "source": [
    "The least perplexing short words (two or fewer syllables) also display a lot of regularity: they are all [trochees](https://en.wikipedia.org/wiki/Trochee) ending with /ən/."
   ]
  },
  {
   "cell_type": "markdown",
   "metadata": {},
   "source": [
    "Now let's look at the high perplexity words-- those that the model is surprised by."
   ]
  },
  {
   "cell_type": "code",
   "execution_count": 8,
   "metadata": {},
   "outputs": [
    {
     "data": {
      "text/html": [
       "<div>\n",
       "<style scoped>\n",
       "    .dataframe tbody tr th:only-of-type {\n",
       "        vertical-align: middle;\n",
       "    }\n",
       "\n",
       "    .dataframe tbody tr th {\n",
       "        vertical-align: top;\n",
       "    }\n",
       "\n",
       "    .dataframe thead th {\n",
       "        text-align: right;\n",
       "    }\n",
       "</style>\n",
       "<table border=\"1\" class=\"dataframe\">\n",
       "  <thead>\n",
       "    <tr style=\"text-align: right;\">\n",
       "      <th></th>\n",
       "      <th>pronunciation</th>\n",
       "      <th>as_string</th>\n",
       "      <th>num_phonemes</th>\n",
       "      <th>num_syllables</th>\n",
       "      <th>perplexity</th>\n",
       "    </tr>\n",
       "    <tr>\n",
       "      <th>word</th>\n",
       "      <th></th>\n",
       "      <th></th>\n",
       "      <th></th>\n",
       "      <th></th>\n",
       "      <th></th>\n",
       "    </tr>\n",
       "  </thead>\n",
       "  <tbody>\n",
       "    <tr>\n",
       "      <th>uhh</th>\n",
       "      <td>(ˈ, ʌ)</td>\n",
       "      <td>ˈʌ</td>\n",
       "      <td>1</td>\n",
       "      <td>1</td>\n",
       "      <td>1419.116219</td>\n",
       "    </tr>\n",
       "    <tr>\n",
       "      <th>uh</th>\n",
       "      <td>(ˈ, ʌ)</td>\n",
       "      <td>ˈʌ</td>\n",
       "      <td>1</td>\n",
       "      <td>1</td>\n",
       "      <td>1419.116219</td>\n",
       "    </tr>\n",
       "    <tr>\n",
       "      <th>eh</th>\n",
       "      <td>(ˈ, ɛ)</td>\n",
       "      <td>ˈɛ</td>\n",
       "      <td>1</td>\n",
       "      <td>1</td>\n",
       "      <td>602.931000</td>\n",
       "    </tr>\n",
       "    <tr>\n",
       "      <th>tsao</th>\n",
       "      <td>(t, ˈ, s, aʊ)</td>\n",
       "      <td>tˈsaʊ</td>\n",
       "      <td>3</td>\n",
       "      <td>1</td>\n",
       "      <td>445.617695</td>\n",
       "    </tr>\n",
       "    <tr>\n",
       "      <th>ah</th>\n",
       "      <td>(ˈ, ɑː)</td>\n",
       "      <td>ˈɑː</td>\n",
       "      <td>1</td>\n",
       "      <td>1</td>\n",
       "      <td>376.128683</td>\n",
       "    </tr>\n",
       "    <tr>\n",
       "      <th>aah</th>\n",
       "      <td>(ˈ, ɑː)</td>\n",
       "      <td>ˈɑː</td>\n",
       "      <td>1</td>\n",
       "      <td>1</td>\n",
       "      <td>376.128683</td>\n",
       "    </tr>\n",
       "    <tr>\n",
       "      <th>awe</th>\n",
       "      <td>(ˈ, ɑː)</td>\n",
       "      <td>ˈɑː</td>\n",
       "      <td>1</td>\n",
       "      <td>1</td>\n",
       "      <td>376.128683</td>\n",
       "    </tr>\n",
       "    <tr>\n",
       "      <th>ahh</th>\n",
       "      <td>(ˈ, ɑː)</td>\n",
       "      <td>ˈɑː</td>\n",
       "      <td>1</td>\n",
       "      <td>1</td>\n",
       "      <td>376.128683</td>\n",
       "    </tr>\n",
       "    <tr>\n",
       "      <th>mouw</th>\n",
       "      <td>(ˈ, m, aʊ, w)</td>\n",
       "      <td>ˈmaʊw</td>\n",
       "      <td>3</td>\n",
       "      <td>1</td>\n",
       "      <td>362.639589</td>\n",
       "    </tr>\n",
       "    <tr>\n",
       "      <th>ee</th>\n",
       "      <td>(ˈ, iː)</td>\n",
       "      <td>ˈiː</td>\n",
       "      <td>1</td>\n",
       "      <td>1</td>\n",
       "      <td>347.864631</td>\n",
       "    </tr>\n",
       "  </tbody>\n",
       "</table>\n",
       "</div>"
      ],
      "text/plain": [
       "      pronunciation as_string  num_phonemes  num_syllables   perplexity\n",
       "word                                                                   \n",
       "uhh          (ˈ, ʌ)        ˈʌ             1              1  1419.116219\n",
       "uh           (ˈ, ʌ)        ˈʌ             1              1  1419.116219\n",
       "eh           (ˈ, ɛ)        ˈɛ             1              1   602.931000\n",
       "tsao  (t, ˈ, s, aʊ)     tˈsaʊ             3              1   445.617695\n",
       "ah          (ˈ, ɑː)       ˈɑː             1              1   376.128683\n",
       "aah         (ˈ, ɑː)       ˈɑː             1              1   376.128683\n",
       "awe         (ˈ, ɑː)       ˈɑː             1              1   376.128683\n",
       "ahh         (ˈ, ɑː)       ˈɑː             1              1   376.128683\n",
       "mouw  (ˈ, m, aʊ, w)     ˈmaʊw             3              1   362.639589\n",
       "ee          (ˈ, iː)       ˈiː             1              1   347.864631"
      ]
     },
     "execution_count": 8,
     "metadata": {},
     "output_type": "execute_result"
    }
   ],
   "source": [
    "pronunciations.sort_values('perplexity', ascending=False).head(10)"
   ]
  },
  {
   "cell_type": "markdown",
   "metadata": {},
   "source": [
    "Almost all of these are one phoneme words. As you can see in the histogram below, single phoneme words are incredibly rare in the CMU Dict so it makes sense the model would be surprised by these."
   ]
  },
  {
   "cell_type": "code",
   "execution_count": 9,
   "metadata": {},
   "outputs": [
    {
     "data": {
      "image/png": "[encoded data removed]",
      "text/plain": [
       "<Figure size 1080x576 with 1 Axes>"
      ]
     },
     "metadata": {
      "needs_background": "light"
     },
     "output_type": "display_data"
    }
   ],
   "source": [
    "pronunciations.num_phonemes.value_counts().sort_index().plot.bar()\n",
    "plt.xlabel('Number of Phonemes')\n",
    "plt.ylabel('Frequency')\n",
    "_ = plt.title('Distribution of Word Lengths')"
   ]
  },
  {
   "cell_type": "markdown",
   "metadata": {},
   "source": [
    "Below are the most perplexing words that have at least two syllables."
   ]
  },
  {
   "cell_type": "code",
   "execution_count": 10,
   "metadata": {},
   "outputs": [
    {
     "data": {
      "text/html": [
       "<div>\n",
       "<style scoped>\n",
       "    .dataframe tbody tr th:only-of-type {\n",
       "        vertical-align: middle;\n",
       "    }\n",
       "\n",
       "    .dataframe tbody tr th {\n",
       "        vertical-align: top;\n",
       "    }\n",
       "\n",
       "    .dataframe thead th {\n",
       "        text-align: right;\n",
       "    }\n",
       "</style>\n",
       "<table border=\"1\" class=\"dataframe\">\n",
       "  <thead>\n",
       "    <tr style=\"text-align: right;\">\n",
       "      <th></th>\n",
       "      <th>pronunciation</th>\n",
       "      <th>as_string</th>\n",
       "      <th>num_phonemes</th>\n",
       "      <th>num_syllables</th>\n",
       "      <th>perplexity</th>\n",
       "    </tr>\n",
       "    <tr>\n",
       "      <th>word</th>\n",
       "      <th></th>\n",
       "      <th></th>\n",
       "      <th></th>\n",
       "      <th></th>\n",
       "      <th></th>\n",
       "    </tr>\n",
       "  </thead>\n",
       "  <tbody>\n",
       "    <tr>\n",
       "      <th>ashbaugh</th>\n",
       "      <td>(ə, ʃ, ˈ, b, ɔ)</td>\n",
       "      <td>əʃˈbɔ</td>\n",
       "      <td>4</td>\n",
       "      <td>2</td>\n",
       "      <td>216.704979</td>\n",
       "    </tr>\n",
       "    <tr>\n",
       "      <th>raoux</th>\n",
       "      <td>(r, æ, ˈ, uː)</td>\n",
       "      <td>ræˈuː</td>\n",
       "      <td>3</td>\n",
       "      <td>2</td>\n",
       "      <td>212.457132</td>\n",
       "    </tr>\n",
       "    <tr>\n",
       "      <th>hajdu</th>\n",
       "      <td>(ˈ, h, ɑː, j, d, uː)</td>\n",
       "      <td>ˈhɑːjduː</td>\n",
       "      <td>5</td>\n",
       "      <td>2</td>\n",
       "      <td>199.125835</td>\n",
       "    </tr>\n",
       "    <tr>\n",
       "      <th>ayoub</th>\n",
       "      <td>(ˈ, eɪ, aʊ, b)</td>\n",
       "      <td>ˈeɪaʊb</td>\n",
       "      <td>3</td>\n",
       "      <td>2</td>\n",
       "      <td>182.251606</td>\n",
       "    </tr>\n",
       "    <tr>\n",
       "      <th>ayon</th>\n",
       "      <td>(eɪ, ˈ, ɔ, n)</td>\n",
       "      <td>eɪˈɔn</td>\n",
       "      <td>3</td>\n",
       "      <td>2</td>\n",
       "      <td>172.335775</td>\n",
       "    </tr>\n",
       "    <tr>\n",
       "      <th>saurer</th>\n",
       "      <td>(ˈ, s, aʊ, ɝ, r)</td>\n",
       "      <td>ˈsaʊɝr</td>\n",
       "      <td>4</td>\n",
       "      <td>2</td>\n",
       "      <td>167.867849</td>\n",
       "    </tr>\n",
       "    <tr>\n",
       "      <th>bourgeois</th>\n",
       "      <td>(b, ʊ, r, ʒ, ˈ, w, ɑː)</td>\n",
       "      <td>bʊrʒˈwɑː</td>\n",
       "      <td>6</td>\n",
       "      <td>2</td>\n",
       "      <td>166.423484</td>\n",
       "    </tr>\n",
       "    <tr>\n",
       "      <th>iowa</th>\n",
       "      <td>(ˈ, aɪ, oʊ, ə)</td>\n",
       "      <td>ˈaɪoʊə</td>\n",
       "      <td>3</td>\n",
       "      <td>3</td>\n",
       "      <td>162.823379</td>\n",
       "    </tr>\n",
       "    <tr>\n",
       "      <th>theodorou</th>\n",
       "      <td>(ˈ, θ, iː, ə, d, ɝ, uː)</td>\n",
       "      <td>ˈθiːədɝuː</td>\n",
       "      <td>6</td>\n",
       "      <td>4</td>\n",
       "      <td>158.815458</td>\n",
       "    </tr>\n",
       "    <tr>\n",
       "      <th>ayo</th>\n",
       "      <td>(ˈ, eɪ, oʊ)</td>\n",
       "      <td>ˈeɪoʊ</td>\n",
       "      <td>2</td>\n",
       "      <td>2</td>\n",
       "      <td>156.654702</td>\n",
       "    </tr>\n",
       "    <tr>\n",
       "      <th>uh-oh</th>\n",
       "      <td>(ˈ, ʌ, ˌ, oʊ)</td>\n",
       "      <td>ˈʌˌoʊ</td>\n",
       "      <td>2</td>\n",
       "      <td>2</td>\n",
       "      <td>150.704033</td>\n",
       "    </tr>\n",
       "    <tr>\n",
       "      <th>aeolus</th>\n",
       "      <td>(ˈ, ɛ, oʊ, l, ʊ, s)</td>\n",
       "      <td>ˈɛoʊlʊs</td>\n",
       "      <td>5</td>\n",
       "      <td>3</td>\n",
       "      <td>148.127226</td>\n",
       "    </tr>\n",
       "    <tr>\n",
       "      <th>otha</th>\n",
       "      <td>(ə, ˈ, ð, ɑː)</td>\n",
       "      <td>əˈðɑː</td>\n",
       "      <td>3</td>\n",
       "      <td>2</td>\n",
       "      <td>148.004336</td>\n",
       "    </tr>\n",
       "    <tr>\n",
       "      <th>slushayete</th>\n",
       "      <td>(s, l, ʊ, ʃ, eɪ, ˈ, ɛ, t)</td>\n",
       "      <td>slʊʃeɪˈɛt</td>\n",
       "      <td>7</td>\n",
       "      <td>3</td>\n",
       "      <td>142.058730</td>\n",
       "    </tr>\n",
       "    <tr>\n",
       "      <th>zungu</th>\n",
       "      <td>(ˌ, z, ə, ŋ, ˈ, uː)</td>\n",
       "      <td>ˌzəŋˈuː</td>\n",
       "      <td>4</td>\n",
       "      <td>2</td>\n",
       "      <td>137.091628</td>\n",
       "    </tr>\n",
       "    <tr>\n",
       "      <th>toyoo</th>\n",
       "      <td>(t, ɔɪ, ˈ, uː)</td>\n",
       "      <td>tɔɪˈuː</td>\n",
       "      <td>3</td>\n",
       "      <td>2</td>\n",
       "      <td>136.979596</td>\n",
       "    </tr>\n",
       "    <tr>\n",
       "      <th>ayotte</th>\n",
       "      <td>(eɪ, ˈ, ɔ, t)</td>\n",
       "      <td>eɪˈɔt</td>\n",
       "      <td>3</td>\n",
       "      <td>2</td>\n",
       "      <td>136.322572</td>\n",
       "    </tr>\n",
       "    <tr>\n",
       "      <th>houy</th>\n",
       "      <td>(ˈ, h, ɑː, aɪ)</td>\n",
       "      <td>ˈhɑːaɪ</td>\n",
       "      <td>3</td>\n",
       "      <td>2</td>\n",
       "      <td>133.720081</td>\n",
       "    </tr>\n",
       "    <tr>\n",
       "      <th>ia</th>\n",
       "      <td>(ˈ, iː, ə)</td>\n",
       "      <td>ˈiːə</td>\n",
       "      <td>2</td>\n",
       "      <td>2</td>\n",
       "      <td>132.860694</td>\n",
       "    </tr>\n",
       "    <tr>\n",
       "      <th>jiangsu</th>\n",
       "      <td>(dʒ, ˈ, j, ɑː, ŋ, s, uː)</td>\n",
       "      <td>dʒˈjɑːŋsuː</td>\n",
       "      <td>6</td>\n",
       "      <td>2</td>\n",
       "      <td>127.089782</td>\n",
       "    </tr>\n",
       "  </tbody>\n",
       "</table>\n",
       "</div>"
      ],
      "text/plain": [
       "                        pronunciation   as_string  num_phonemes  \\\n",
       "word                                                              \n",
       "ashbaugh              (ə, ʃ, ˈ, b, ɔ)       əʃˈbɔ             4   \n",
       "raoux                   (r, æ, ˈ, uː)       ræˈuː             3   \n",
       "hajdu            (ˈ, h, ɑː, j, d, uː)    ˈhɑːjduː             5   \n",
       "ayoub                  (ˈ, eɪ, aʊ, b)      ˈeɪaʊb             3   \n",
       "ayon                    (eɪ, ˈ, ɔ, n)       eɪˈɔn             3   \n",
       "saurer               (ˈ, s, aʊ, ɝ, r)      ˈsaʊɝr             4   \n",
       "bourgeois      (b, ʊ, r, ʒ, ˈ, w, ɑː)    bʊrʒˈwɑː             6   \n",
       "iowa                   (ˈ, aɪ, oʊ, ə)      ˈaɪoʊə             3   \n",
       "theodorou     (ˈ, θ, iː, ə, d, ɝ, uː)   ˈθiːədɝuː             6   \n",
       "ayo                       (ˈ, eɪ, oʊ)       ˈeɪoʊ             2   \n",
       "uh-oh                   (ˈ, ʌ, ˌ, oʊ)       ˈʌˌoʊ             2   \n",
       "aeolus            (ˈ, ɛ, oʊ, l, ʊ, s)     ˈɛoʊlʊs             5   \n",
       "otha                    (ə, ˈ, ð, ɑː)       əˈðɑː             3   \n",
       "slushayete  (s, l, ʊ, ʃ, eɪ, ˈ, ɛ, t)   slʊʃeɪˈɛt             7   \n",
       "zungu             (ˌ, z, ə, ŋ, ˈ, uː)     ˌzəŋˈuː             4   \n",
       "toyoo                  (t, ɔɪ, ˈ, uː)      tɔɪˈuː             3   \n",
       "ayotte                  (eɪ, ˈ, ɔ, t)       eɪˈɔt             3   \n",
       "houy                   (ˈ, h, ɑː, aɪ)      ˈhɑːaɪ             3   \n",
       "ia                         (ˈ, iː, ə)        ˈiːə             2   \n",
       "jiangsu      (dʒ, ˈ, j, ɑː, ŋ, s, uː)  dʒˈjɑːŋsuː             6   \n",
       "\n",
       "            num_syllables  perplexity  \n",
       "word                                   \n",
       "ashbaugh                2  216.704979  \n",
       "raoux                   2  212.457132  \n",
       "hajdu                   2  199.125835  \n",
       "ayoub                   2  182.251606  \n",
       "ayon                    2  172.335775  \n",
       "saurer                  2  167.867849  \n",
       "bourgeois               2  166.423484  \n",
       "iowa                    3  162.823379  \n",
       "theodorou               4  158.815458  \n",
       "ayo                     2  156.654702  \n",
       "uh-oh                   2  150.704033  \n",
       "aeolus                  3  148.127226  \n",
       "otha                    2  148.004336  \n",
       "slushayete              3  142.058730  \n",
       "zungu                   2  137.091628  \n",
       "toyoo                   2  136.979596  \n",
       "ayotte                  2  136.322572  \n",
       "houy                    2  133.720081  \n",
       "ia                      2  132.860694  \n",
       "jiangsu                 2  127.089782  "
      ]
     },
     "execution_count": 10,
     "metadata": {},
     "output_type": "execute_result"
    }
   ],
   "source": [
    "pronunciations[pronunciations.num_syllables >= 2].sort_values('perplexity', ascending=False).head(20)"
   ]
  },
  {
   "cell_type": "markdown",
   "metadata": {},
   "source": [
    "Almost all of these words feel somewhat unnatural to me as an English speaker. There are many foreign words, like the french \"bourgeois\"."
   ]
  },
  {
   "cell_type": "markdown",
   "metadata": {},
   "source": [
    "Another interesting thing we can look at is which pronunciation the model prefers when a word has multiple standard ones."
   ]
  },
  {
   "cell_type": "code",
   "execution_count": 11,
   "metadata": {},
   "outputs": [
    {
     "data": {
      "text/html": [
       "<div>\n",
       "<style scoped>\n",
       "    .dataframe tbody tr th:only-of-type {\n",
       "        vertical-align: middle;\n",
       "    }\n",
       "\n",
       "    .dataframe tbody tr th {\n",
       "        vertical-align: top;\n",
       "    }\n",
       "\n",
       "    .dataframe thead th {\n",
       "        text-align: right;\n",
       "    }\n",
       "</style>\n",
       "<table border=\"1\" class=\"dataframe\">\n",
       "  <thead>\n",
       "    <tr style=\"text-align: right;\">\n",
       "      <th></th>\n",
       "      <th>pronunciation</th>\n",
       "      <th>as_string</th>\n",
       "      <th>num_phonemes</th>\n",
       "      <th>num_syllables</th>\n",
       "      <th>perplexity</th>\n",
       "    </tr>\n",
       "    <tr>\n",
       "      <th>word</th>\n",
       "      <th></th>\n",
       "      <th></th>\n",
       "      <th></th>\n",
       "      <th></th>\n",
       "      <th></th>\n",
       "    </tr>\n",
       "  </thead>\n",
       "  <tbody>\n",
       "    <tr>\n",
       "      <th>tomato</th>\n",
       "      <td>(t, ə, ˈ, m, ɑː, ˌ, t, oʊ)</td>\n",
       "      <td>təˈmɑːˌtoʊ</td>\n",
       "      <td>6</td>\n",
       "      <td>3</td>\n",
       "      <td>12.841003</td>\n",
       "    </tr>\n",
       "    <tr>\n",
       "      <th>tomato</th>\n",
       "      <td>(t, ə, ˈ, m, eɪ, ˌ, t, oʊ)</td>\n",
       "      <td>təˈmeɪˌtoʊ</td>\n",
       "      <td>6</td>\n",
       "      <td>3</td>\n",
       "      <td>15.208413</td>\n",
       "    </tr>\n",
       "  </tbody>\n",
       "</table>\n",
       "</div>"
      ],
      "text/plain": [
       "                     pronunciation   as_string  num_phonemes  num_syllables  \\\n",
       "word                                                                          \n",
       "tomato  (t, ə, ˈ, m, ɑː, ˌ, t, oʊ)  təˈmɑːˌtoʊ             6              3   \n",
       "tomato  (t, ə, ˈ, m, eɪ, ˌ, t, oʊ)  təˈmeɪˌtoʊ             6              3   \n",
       "\n",
       "        perplexity  \n",
       "word                \n",
       "tomato   12.841003  \n",
       "tomato   15.208413  "
      ]
     },
     "metadata": {},
     "output_type": "display_data"
    },
    {
     "data": {
      "text/html": [
       "<div>\n",
       "<style scoped>\n",
       "    .dataframe tbody tr th:only-of-type {\n",
       "        vertical-align: middle;\n",
       "    }\n",
       "\n",
       "    .dataframe tbody tr th {\n",
       "        vertical-align: top;\n",
       "    }\n",
       "\n",
       "    .dataframe thead th {\n",
       "        text-align: right;\n",
       "    }\n",
       "</style>\n",
       "<table border=\"1\" class=\"dataframe\">\n",
       "  <thead>\n",
       "    <tr style=\"text-align: right;\">\n",
       "      <th></th>\n",
       "      <th>pronunciation</th>\n",
       "      <th>as_string</th>\n",
       "      <th>num_phonemes</th>\n",
       "      <th>num_syllables</th>\n",
       "      <th>perplexity</th>\n",
       "    </tr>\n",
       "    <tr>\n",
       "      <th>word</th>\n",
       "      <th></th>\n",
       "      <th></th>\n",
       "      <th></th>\n",
       "      <th></th>\n",
       "      <th></th>\n",
       "    </tr>\n",
       "  </thead>\n",
       "  <tbody>\n",
       "    <tr>\n",
       "      <th>aunt</th>\n",
       "      <td>(ˈ, æ, n, t)</td>\n",
       "      <td>ˈænt</td>\n",
       "      <td>3</td>\n",
       "      <td>1</td>\n",
       "      <td>19.133402</td>\n",
       "    </tr>\n",
       "    <tr>\n",
       "      <th>aunt</th>\n",
       "      <td>(ˈ, ɔ, n, t)</td>\n",
       "      <td>ˈɔnt</td>\n",
       "      <td>3</td>\n",
       "      <td>1</td>\n",
       "      <td>24.126551</td>\n",
       "    </tr>\n",
       "  </tbody>\n",
       "</table>\n",
       "</div>"
      ],
      "text/plain": [
       "     pronunciation as_string  num_phonemes  num_syllables  perplexity\n",
       "word                                                                 \n",
       "aunt  (ˈ, æ, n, t)      ˈænt             3              1   19.133402\n",
       "aunt  (ˈ, ɔ, n, t)      ˈɔnt             3              1   24.126551"
      ]
     },
     "metadata": {},
     "output_type": "display_data"
    },
    {
     "data": {
      "text/html": [
       "<div>\n",
       "<style scoped>\n",
       "    .dataframe tbody tr th:only-of-type {\n",
       "        vertical-align: middle;\n",
       "    }\n",
       "\n",
       "    .dataframe tbody tr th {\n",
       "        vertical-align: top;\n",
       "    }\n",
       "\n",
       "    .dataframe thead th {\n",
       "        text-align: right;\n",
       "    }\n",
       "</style>\n",
       "<table border=\"1\" class=\"dataframe\">\n",
       "  <thead>\n",
       "    <tr style=\"text-align: right;\">\n",
       "      <th></th>\n",
       "      <th>pronunciation</th>\n",
       "      <th>as_string</th>\n",
       "      <th>num_phonemes</th>\n",
       "      <th>num_syllables</th>\n",
       "      <th>perplexity</th>\n",
       "    </tr>\n",
       "    <tr>\n",
       "      <th>word</th>\n",
       "      <th></th>\n",
       "      <th></th>\n",
       "      <th></th>\n",
       "      <th></th>\n",
       "      <th></th>\n",
       "    </tr>\n",
       "  </thead>\n",
       "  <tbody>\n",
       "    <tr>\n",
       "      <th>nevada</th>\n",
       "      <td>(n, ə, ˈ, v, ɑː, d, ə)</td>\n",
       "      <td>nəˈvɑːdə</td>\n",
       "      <td>6</td>\n",
       "      <td>3</td>\n",
       "      <td>11.624365</td>\n",
       "    </tr>\n",
       "    <tr>\n",
       "      <th>nevada</th>\n",
       "      <td>(n, ə, ˈ, v, æ, d, ə)</td>\n",
       "      <td>nəˈvædə</td>\n",
       "      <td>6</td>\n",
       "      <td>3</td>\n",
       "      <td>13.972277</td>\n",
       "    </tr>\n",
       "  </tbody>\n",
       "</table>\n",
       "</div>"
      ],
      "text/plain": [
       "                 pronunciation as_string  num_phonemes  num_syllables  \\\n",
       "word                                                                    \n",
       "nevada  (n, ə, ˈ, v, ɑː, d, ə)  nəˈvɑːdə             6              3   \n",
       "nevada   (n, ə, ˈ, v, æ, d, ə)   nəˈvædə             6              3   \n",
       "\n",
       "        perplexity  \n",
       "word                \n",
       "nevada   11.624365  \n",
       "nevada   13.972277  "
      ]
     },
     "metadata": {},
     "output_type": "display_data"
    }
   ],
   "source": [
    "display(pronunciations.loc['tomato'])\n",
    "display(pronunciations.loc['aunt'])\n",
    "display(pronunciations.loc['nevada'])"
   ]
  },
  {
   "cell_type": "markdown",
   "metadata": {},
   "source": [
    "The model doesn't have a strong preference between the two pronunciations for \"tomato\" or \"Nevada\". But for \"aunt\", it strongly prefers /ˈænt/. Intuitively this makes sense to me, as /ˈɔnt/ sounds old timey or stilted."
   ]
  },
  {
   "cell_type": "markdown",
   "metadata": {},
   "source": [
    "## Can the Model Generate Novel Words? ##\n",
    "Everyone loves using recurrent neural networks to generate novel sequences! Below I'll generate some words and examine whether the model is doing a good job."
   ]
  },
  {
   "cell_type": "code",
   "execution_count": 12,
   "metadata": {},
   "outputs": [],
   "source": [
    "generated_pronunciations = pd.DataFrame({\n",
    "    'pronunciation': [\n",
    "        language_model.generate(max_length=1000, temperature=.5)\n",
    "        for _ in range(10000)\n",
    "    ]\n",
    "})\n",
    "\n",
    "generated_pronunciations['is_novel_word'] = ~generated_pronunciations.pronunciation.isin(pronunciations.pronunciation)\n",
    "augment_pronunciations_df(generated_pronunciations)\n",
    "\n",
    "# Occasionally the model generates empty pronunciations.\n",
    "generated_pronunciations = generated_pronunciations[generated_pronunciations.num_phonemes > 0]"
   ]
  },
  {
   "cell_type": "markdown",
   "metadata": {},
   "source": [
    "Here are ten novel, generated pronunciations:"
   ]
  },
  {
   "cell_type": "code",
   "execution_count": 13,
   "metadata": {},
   "outputs": [
    {
     "data": {
      "text/html": [
       "<div>\n",
       "<style scoped>\n",
       "    .dataframe tbody tr th:only-of-type {\n",
       "        vertical-align: middle;\n",
       "    }\n",
       "\n",
       "    .dataframe tbody tr th {\n",
       "        vertical-align: top;\n",
       "    }\n",
       "\n",
       "    .dataframe thead th {\n",
       "        text-align: right;\n",
       "    }\n",
       "</style>\n",
       "<table border=\"1\" class=\"dataframe\">\n",
       "  <thead>\n",
       "    <tr style=\"text-align: right;\">\n",
       "      <th></th>\n",
       "      <th>pronunciation</th>\n",
       "      <th>is_novel_word</th>\n",
       "      <th>as_string</th>\n",
       "      <th>num_phonemes</th>\n",
       "      <th>num_syllables</th>\n",
       "    </tr>\n",
       "  </thead>\n",
       "  <tbody>\n",
       "    <tr>\n",
       "      <th>1369</th>\n",
       "      <td>(ˈ, b, æ, m, ə, n, d)</td>\n",
       "      <td>True</td>\n",
       "      <td>ˈbæmənd</td>\n",
       "      <td>6</td>\n",
       "      <td>2</td>\n",
       "    </tr>\n",
       "    <tr>\n",
       "      <th>3315</th>\n",
       "      <td>(ˈ, s, k, r, ɛ, n, ɝ, ˌ, s, t, r, eɪ)</td>\n",
       "      <td>True</td>\n",
       "      <td>ˈskrɛnɝˌstreɪ</td>\n",
       "      <td>10</td>\n",
       "      <td>3</td>\n",
       "    </tr>\n",
       "    <tr>\n",
       "      <th>9834</th>\n",
       "      <td>(ˈ, m, æ, n, ɝ, ˌ, s, t, iː)</td>\n",
       "      <td>True</td>\n",
       "      <td>ˈmænɝˌstiː</td>\n",
       "      <td>7</td>\n",
       "      <td>3</td>\n",
       "    </tr>\n",
       "    <tr>\n",
       "      <th>4665</th>\n",
       "      <td>(ˈ, ɛ, r, ə, ˌ, p, oʊ)</td>\n",
       "      <td>True</td>\n",
       "      <td>ˈɛrəˌpoʊ</td>\n",
       "      <td>5</td>\n",
       "      <td>3</td>\n",
       "    </tr>\n",
       "    <tr>\n",
       "      <th>3044</th>\n",
       "      <td>(ˈ, s, ɪ, l, t, ɝ, ˌ, eɪ, t, ɝ)</td>\n",
       "      <td>True</td>\n",
       "      <td>ˈsɪltɝˌeɪtɝ</td>\n",
       "      <td>8</td>\n",
       "      <td>4</td>\n",
       "    </tr>\n",
       "    <tr>\n",
       "      <th>110</th>\n",
       "      <td>(ˈ, m, ɑː, r, ə, ˌ, n, aɪ, z)</td>\n",
       "      <td>True</td>\n",
       "      <td>ˈmɑːrəˌnaɪz</td>\n",
       "      <td>7</td>\n",
       "      <td>3</td>\n",
       "    </tr>\n",
       "    <tr>\n",
       "      <th>8753</th>\n",
       "      <td>(ˈ, k, ɛ, l, ɪ, z)</td>\n",
       "      <td>True</td>\n",
       "      <td>ˈkɛlɪz</td>\n",
       "      <td>5</td>\n",
       "      <td>2</td>\n",
       "    </tr>\n",
       "    <tr>\n",
       "      <th>8077</th>\n",
       "      <td>(ˈ, k, r, æ, n, d, ɪ, ŋ)</td>\n",
       "      <td>True</td>\n",
       "      <td>ˈkrændɪŋ</td>\n",
       "      <td>7</td>\n",
       "      <td>2</td>\n",
       "    </tr>\n",
       "    <tr>\n",
       "      <th>5480</th>\n",
       "      <td>(ˈ, b, r, oʊ, f, ɝ)</td>\n",
       "      <td>True</td>\n",
       "      <td>ˈbroʊfɝ</td>\n",
       "      <td>5</td>\n",
       "      <td>2</td>\n",
       "    </tr>\n",
       "    <tr>\n",
       "      <th>8013</th>\n",
       "      <td>(ˈ, d, ɪ, l, iː, ˌ, ɔ, d)</td>\n",
       "      <td>True</td>\n",
       "      <td>ˈdɪliːˌɔd</td>\n",
       "      <td>6</td>\n",
       "      <td>3</td>\n",
       "    </tr>\n",
       "  </tbody>\n",
       "</table>\n",
       "</div>"
      ],
      "text/plain": [
       "                              pronunciation  is_novel_word      as_string  \\\n",
       "1369                  (ˈ, b, æ, m, ə, n, d)           True        ˈbæmənd   \n",
       "3315  (ˈ, s, k, r, ɛ, n, ɝ, ˌ, s, t, r, eɪ)           True  ˈskrɛnɝˌstreɪ   \n",
       "9834           (ˈ, m, æ, n, ɝ, ˌ, s, t, iː)           True     ˈmænɝˌstiː   \n",
       "4665                 (ˈ, ɛ, r, ə, ˌ, p, oʊ)           True       ˈɛrəˌpoʊ   \n",
       "3044        (ˈ, s, ɪ, l, t, ɝ, ˌ, eɪ, t, ɝ)           True    ˈsɪltɝˌeɪtɝ   \n",
       "110           (ˈ, m, ɑː, r, ə, ˌ, n, aɪ, z)           True    ˈmɑːrəˌnaɪz   \n",
       "8753                     (ˈ, k, ɛ, l, ɪ, z)           True         ˈkɛlɪz   \n",
       "8077               (ˈ, k, r, æ, n, d, ɪ, ŋ)           True       ˈkrændɪŋ   \n",
       "5480                    (ˈ, b, r, oʊ, f, ɝ)           True        ˈbroʊfɝ   \n",
       "8013              (ˈ, d, ɪ, l, iː, ˌ, ɔ, d)           True      ˈdɪliːˌɔd   \n",
       "\n",
       "      num_phonemes  num_syllables  \n",
       "1369             6              2  \n",
       "3315            10              3  \n",
       "9834             7              3  \n",
       "4665             5              3  \n",
       "3044             8              4  \n",
       "110              7              3  \n",
       "8753             5              2  \n",
       "8077             7              2  \n",
       "5480             5              2  \n",
       "8013             6              3  "
      ]
     },
     "execution_count": 13,
     "metadata": {},
     "output_type": "execute_result"
    }
   ],
   "source": [
    "generated_pronunciations[generated_pronunciations.is_novel_word == True].sample(10)"
   ]
  },
  {
   "cell_type": "code",
   "execution_count": 14,
   "metadata": {},
   "outputs": [
    {
     "data": {
      "image/png": "[encoded data removed]",
      "text/plain": [
       "<Figure size 1080x576 with 1 Axes>"
      ]
     },
     "metadata": {
      "needs_background": "light"
     },
     "output_type": "display_data"
    }
   ],
   "source": [
    "def show_proportion_novel(generated_pronunciations):\n",
    "    counts = generated_pronunciations.is_novel_word.value_counts()\n",
    "    percentages = counts / counts.sum() * 100\n",
    "    \n",
    "    percentages.index = percentages.index.map({True: 'Novel Word', False: 'Existing Word'})\n",
    "    percentages.plot.bar()\n",
    "    plt.title('Percentage of Generated Words that are Novel')\n",
    "\n",
    "show_proportion_novel(generated_pronunciations)    "
   ]
  },
  {
   "cell_type": "markdown",
   "metadata": {},
   "source": [
    "Of the 10,000 generated pronunciations about 70% are novel, meaning they didn't occur in the CMU Pronouncing dictionary. The `temperature` argument can alter diversity of the generated pronunciations, with higher temperature resulting in more diversity. Compare the two pronunciations below. The first looks very idiosyncratic whereas the second looks very common."
   ]
  },
  {
   "cell_type": "code",
   "execution_count": 15,
   "metadata": {},
   "outputs": [
    {
     "name": "stdout",
     "output_type": "stream",
     "text": [
      "ˈdʒbzwɛtʃməptɑːn\n",
      "ˈstrændɝ\n"
     ]
    }
   ],
   "source": [
    "print(''.join(language_model.generate(max_length=1000, temperature=2)))\n",
    "print(''.join(language_model.generate(max_length=1000, temperature=1e-5)))"
   ]
  },
  {
   "cell_type": "markdown",
   "metadata": {},
   "source": [
    "Here are some of the novel pronunciations. I'm printing five pronunciations for each syllable count."
   ]
  },
  {
   "cell_type": "code",
   "execution_count": 16,
   "metadata": {},
   "outputs": [
    {
     "name": "stdout",
     "output_type": "stream",
     "text": [
      "These have 1 syllables:\n",
      "\tˈbrɛnd\n",
      "\tˈʃrɛts\n",
      "\tˈstrɛmz\n",
      "\tˈʃænt\n",
      "\tˈspiːn\n",
      "These have 2 syllables:\n",
      "\tˈpoʊlɪs\n",
      "\tˈlɪkˌfrɛŋ\n",
      "\tˈskɑːmənd\n",
      "\tˈtɪdlɪk\n",
      "\tˈstʌndɝ\n",
      "These have 3 syllables:\n",
      "\tˈmænəˌfaɪz\n",
      "\tˈbɔrtəˌdeɪt\n",
      "\tˈskændɝnɝ\n",
      "\tˈstɛlədʒɪz\n",
      "\tˌɪnˈsɛlə\n",
      "These have 4 syllables:\n",
      "\tˈfrɪksəˌleɪtɔɪz\n",
      "\tˌkɑːləˈmɛlənt\n",
      "\tˈgɛləˌleɪtɪd\n",
      "\tˈbriːbɝˌstreɪtɝ\n",
      "\tˈhɑːrtəˌlɛri\n"
     ]
    }
   ],
   "source": [
    "novel_generated_pronunciations = generated_pronunciations[generated_pronunciations.is_novel_word]\n",
    "\n",
    "for num_syllables in range(1, 5):\n",
    "    \n",
    "    novel_with_syllable_count = novel_generated_pronunciations[novel_generated_pronunciations.num_syllables==num_syllables]\n",
    "    if novel_with_syllable_count.empty:\n",
    "        break\n",
    "    \n",
    "    print(f'These have {num_syllables} syllables:')\n",
    "\n",
    "    for pronunciation in novel_with_syllable_count.sample(min(5, len(novel_with_syllable_count))).pronunciation:\n",
    "        print('\\t{}'.format(''.join(pronunciation)))"
   ]
  },
  {
   "cell_type": "markdown",
   "metadata": {},
   "source": [
    "The main thing that jumps out at me is that these all sound like conceivable English words. There are a few sort of awkward words, but there's nothing unpronouncable. And the stress patterns feel natural to me."
   ]
  },
  {
   "cell_type": "markdown",
   "metadata": {},
   "source": [
    "I can also compare the distributions of the generated and real pronunciations."
   ]
  },
  {
   "cell_type": "code",
   "execution_count": 17,
   "metadata": {},
   "outputs": [
    {
     "data": {
      "image/png": "[encoded data removed]",
      "text/plain": [
       "<Figure size 1080x576 with 1 Axes>"
      ]
     },
     "metadata": {
      "needs_background": "light"
     },
     "output_type": "display_data"
    }
   ],
   "source": [
    "pronunciations.num_phonemes.hist(density=True, bins=np.arange(1, 15), label='English')\n",
    "generated_pronunciations.num_phonemes.hist(density=True, alpha=.6, bins=np.arange(1, 15), label='Generated')\n",
    "plt.xlabel('Number of Phonemes')\n",
    "plt.ylabel('Proportion of Words')\n",
    "plt.title('Phoneme Count Comparison')\n",
    "_ = plt.legend()"
   ]
  },
  {
   "cell_type": "code",
   "execution_count": 18,
   "metadata": {},
   "outputs": [
    {
     "data": {
      "image/png": "[encoded data removed]",
      "text/plain": [
       "<Figure size 1080x576 with 1 Axes>"
      ]
     },
     "metadata": {
      "needs_background": "light"
     },
     "output_type": "display_data"
    }
   ],
   "source": [
    "pronunciations.num_syllables.hist(density=True, bins=np.arange(1, 10), label='English')\n",
    "generated_pronunciations.num_syllables.hist(density=True, alpha=.6, bins=np.arange(1, 10), label='Generated')\n",
    "plt.xlabel('Number of Syllables')\n",
    "plt.ylabel('Proportion of Words')\n",
    "plt.title('Syllable Count Comparison')\n",
    "_ = plt.legend()"
   ]
  },
  {
   "cell_type": "markdown",
   "metadata": {},
   "source": [
    "The length of the pronunciations the model generates (both in terms of phonemes and syllables) is similar, but the model has a preference for shorter words. I noticed the more complex models don't have this issue."
   ]
  },
  {
   "cell_type": "markdown",
   "metadata": {},
   "source": [
    "## What Rules is the Model Actually Learning? ##\n",
    "\n",
    "I want to probe the model to make sure it's learning some more general properties. First let's look at the lowest perplexity pronunciation according to the model.\n",
    "\n",
    "First let's revisit the overfitting example. The plot below shows the probability of each phoneme in the word \"installations\". So the third bar indicates that the probability of /n/ after seeing /ˌɪ/ is about .6."
   ]
  },
  {
   "cell_type": "code",
   "execution_count": 19,
   "metadata": {},
   "outputs": [
    {
     "name": "stdout",
     "output_type": "stream",
     "text": [
      "ˌɪnstəˈleɪʃənz\n"
     ]
    }
   ],
   "source": [
    "print(pronunciations.iloc[0].as_string)"
   ]
  },
  {
   "cell_type": "code",
   "execution_count": 20,
   "metadata": {},
   "outputs": [
    {
     "data": {
      "image/png": "[encoded data removed]",
      "text/plain": [
       "<Figure size 1080x576 with 1 Axes>"
      ]
     },
     "metadata": {
      "needs_background": "light"
     },
     "output_type": "display_data"
    }
   ],
   "source": [
    "most_likely_pronunciation = pronunciations.iloc[0].pronunciation\n",
    "plot_pronunciation_probability(language_model, most_likely_pronunciation)"
   ]
  },
  {
   "cell_type": "markdown",
   "metadata": {},
   "source": [
    "That the model is so certain at times indicates that it memorized sequences of phonemes. I had originally wanted to model possible English pronunciations and had hoped that the predictions following /ˌɪn/ would be more uniform since in reality almost any phoneme can come next. So instead of modeling valid English in a binary way I ended up modeling actual English. I tried even less complex models than this one and found that while they were less opinionated they failed to learn enough to actually generate good pronunciations.\n",
    "\n",
    "I could further experiment with finding a model that captures *some* English phonotactics rules without getting this specific, but finding that balance is time consuming since there isn't a single numerical metric I can optimize for. And overall, this model is good enough for my purposes."
   ]
  },
  {
   "cell_type": "markdown",
   "metadata": {},
   "source": [
    "Now I'll probe what the model knows by examining its predictions. The two plots below are for /ˈseɪ/ and /ˈsɛ/:"
   ]
  },
  {
   "cell_type": "code",
   "execution_count": 21,
   "metadata": {},
   "outputs": [
    {
     "data": {
      "image/png": "[encoded data removed]",
      "text/plain": [
       "<Figure size 1080x576 with 1 Axes>"
      ]
     },
     "metadata": {
      "needs_background": "light"
     },
     "output_type": "display_data"
    }
   ],
   "source": [
    "plot_pronunciation_probability(language_model, (\"ˈ\", \"s\", \"eɪ\"))"
   ]
  },
  {
   "cell_type": "code",
   "execution_count": 22,
   "metadata": {},
   "outputs": [
    {
     "data": {
      "image/png": "[encoded data removed]",
      "text/plain": [
       "<Figure size 1080x576 with 1 Axes>"
      ]
     },
     "metadata": {
      "needs_background": "light"
     },
     "output_type": "display_data"
    }
   ],
   "source": [
    "plot_pronunciation_probability(language_model, (\"ˈ\", \"s\", \"ɛ\"))"
   ]
  },
  {
   "cell_type": "markdown",
   "metadata": {},
   "source": [
    "In the plot for /ˈseɪ/, the model has assigned a probability of `0.02` of the word ending at `\\<END>`. In /ˈsɛ/ it has assigned a `0.001` probability of the word ending at `\\<END>`. The low probability for /ˈsɛ/ makes sense because in English, if the final syllable is stressed then it should be a strong syllable: it should end in a consonant or a strong vowel. /ɛ/ is a weak vowel while the diphthong /eɪ/ is strong."
   ]
  },
  {
   "cell_type": "markdown",
   "metadata": {},
   "source": [
    "Next I'll look at whether the model has learned that /ʌ/ (wedge) and /ə/ (schwa) are basically the same vowel, but /ə/ occurs in unstressed syllables."
   ]
  },
  {
   "cell_type": "markdown",
   "metadata": {},
   "source": [
    "The first plot below is the probability of the probability of /ʌ/ and /ə/ occurring after /ˈk/, where the syllable has stress. The second plot is the same but in an unstressed syllable."
   ]
  },
  {
   "cell_type": "code",
   "execution_count": 23,
   "metadata": {},
   "outputs": [
    {
     "data": {
      "image/png": "[encoded data removed]",
      "text/plain": [
       "<Figure size 1080x576 with 1 Axes>"
      ]
     },
     "metadata": {
      "needs_background": "light"
     },
     "output_type": "display_data"
    }
   ],
   "source": [
    "plot_next_phoneme_distribution(language_model, (\"ˈ\", \"k\"), phonemes_to_include={\"ə\", \"ʌ\"})"
   ]
  },
  {
   "cell_type": "code",
   "execution_count": 24,
   "metadata": {},
   "outputs": [
    {
     "data": {
      "image/png": "[encoded data removed]",
      "text/plain": [
       "<Figure size 1080x576 with 1 Axes>"
      ]
     },
     "metadata": {
      "needs_background": "light"
     },
     "output_type": "display_data"
    }
   ],
   "source": [
    "plot_next_phoneme_distribution(language_model, (\"k\", ), phonemes_to_include={\"ə\", \"ʌ\"})"
   ]
  },
  {
   "cell_type": "markdown",
   "metadata": {},
   "source": [
    "The model has correctly learned when to use /ə/ and /ʌ/."
   ]
  },
  {
   "cell_type": "markdown",
   "metadata": {},
   "source": [
    "The model also needs to learn patterns about stress over multiple syllables. A *foot* is a pair of syllables. A *trochee* contains a stressed syllable followed by an unstressed one. And an *iamb* is an unstressed syllable followed by a stressed one.\n",
    "\n",
    "English, in general, prefers trochees. This implies that the model should assign a lower perplexity to trochees than iambs."
   ]
  },
  {
   "cell_type": "code",
   "execution_count": 25,
   "metadata": {},
   "outputs": [
    {
     "name": "stdout",
     "output_type": "stream",
     "text": [
      "Trochee: 14.83\n",
      "Iamb:    63.49\n"
     ]
    }
   ],
   "source": [
    "print('Trochee: {:.2f}'.format(language_model.perplexity_of_text((\"ˈ\", \"f\", \"oʊ\", \"m\", \"i\"))))\n",
    "print('Iamb:    {:.2f}'.format(language_model.perplexity_of_text((\"f\", \"oʊ\", \"ˈ\", \"m\", \"i\"))))"
   ]
  },
  {
   "cell_type": "markdown",
   "metadata": {},
   "source": [
    "Another English phonotactic rule, from Wikipedia, is: \"Two obstruents in the same coda must share voicing (compare kids /K IH1 D Z/ with kits /K IH1 T S/)\". Hopefully the model will assign a higher perplexity when this rule is violated below."
   ]
  },
  {
   "cell_type": "code",
   "execution_count": 26,
   "metadata": {},
   "outputs": [
    {
     "name": "stdout",
     "output_type": "stream",
     "text": [
      "Perplexity for /ˈtɛgz/: 14\n",
      "Perplexity for /ˈtɛgs/: 23\n",
      "\n",
      "Perplexity for /ˈtɛks/: 9\n",
      "Perplexity for /ˈtɛkz/: 27\n"
     ]
    }
   ],
   "source": [
    "print('Perplexity for /ˈtɛgz/: {:.0f}'.format(language_model.perplexity_of_text((\"ˈ\", \"t\", \"ɛ\", \"g\", \"z\"))))\n",
    "print('Perplexity for /ˈtɛgs/: {:.0f}'.format(language_model.perplexity_of_text((\"ˈ\", \"t\", \"ɛ\", \"g\", \"s\"))))\n",
    "print()\n",
    "print('Perplexity for /ˈtɛks/: {:.0f}'.format(language_model.perplexity_of_text((\"ˈ\", \"t\", \"ɛ\", \"k\", \"s\"))))\n",
    "print('Perplexity for /ˈtɛkz/: {:.0f}'.format(language_model.perplexity_of_text((\"ˈ\", \"t\", \"ɛ\", \"k\", \"z\"))))"
   ]
  },
  {
   "cell_type": "markdown",
   "metadata": {},
   "source": [
    "Perplexity is higher when the two phonemes in the coda do not match in voicing. The model could just be learning that adjacent phonemes should ideally share voicing though. To test whether it's actually learned the rule about voicing in codas I'll change the syllable structure."
   ]
  },
  {
   "cell_type": "code",
   "execution_count": 27,
   "metadata": {},
   "outputs": [
    {
     "name": "stdout",
     "output_type": "stream",
     "text": [
      "Perplexity for /ˈtɛgzəm/: 18\n",
      "Perplexity for /ˈtɛgsəm/: 14\n",
      "\n",
      "Perplexity for /ˈtɛkzəm/: 13\n",
      "Perplexity for /ˈtɛksəm/: 8\n"
     ]
    }
   ],
   "source": [
    "print('Perplexity for /ˈtɛgzəm/: {:.0f}'.format(language_model.perplexity_of_text((\"ˈ\", \"t\", \"ɛ\", \"g\", \"z\", \"ə\", \"m\"))))\n",
    "print('Perplexity for /ˈtɛgsəm/: {:.0f}'.format(language_model.perplexity_of_text((\"ˈ\", \"t\", \"ɛ\", \"g\", \"s\", \"ə\", \"m\"))))\n",
    "print()\n",
    "print('Perplexity for /ˈtɛkzəm/: {:.0f}'.format(language_model.perplexity_of_text((\"ˈ\", \"t\", \"ɛ\", \"k\", \"z\", \"ə\", \"m\"))))\n",
    "print('Perplexity for /ˈtɛksəm/: {:.0f}'.format(language_model.perplexity_of_text((\"ˈ\", \"t\", \"ɛ\", \"k\", \"s\", \"ə\", \"m\"))))"
   ]
  },
  {
   "cell_type": "markdown",
   "metadata": {},
   "source": [
    "These four words are identical to the first except that I've inserted /əm/ to the end, which allows the /s/ and /z/ to form a second syllable with it. Since /s/ and /z/ become onsets of the next syllable they're not subject to the constraint on the previous syllable's coda."
   ]
  },
  {
   "cell_type": "markdown",
   "metadata": {},
   "source": [
    "### Probing the Embeddings ###\n",
    "\n",
    "I was initially interested in building a language model over IPA pronunciations because I was hoping that the embeddings trained in the embedding layer of the RNN would capture the phonological features of phonemes. For example, the embeddings could capture voicing, place, and manner.\n",
    "\n",
    "I wasn't able to get this to work in the amount of time I spent training the model. I tried using a very small recurrent layer (e.g 2 to 10 neurons) in hopes that the embeddings would have to capture most of the rules. This did not end up working though, perhaps because with such a small vocabulary the embeddings were able to just reconstruct the actual phonemes.\n",
    "\n",
    "Below are a few experiments using the embeddings."
   ]
  },
  {
   "cell_type": "code",
   "execution_count": 28,
   "metadata": {},
   "outputs": [
    {
     "name": "stdout",
     "output_type": "stream",
     "text": [
      "Most similar to /t/:\n",
      "[1.000]\tt\n",
      "[0.616]\tk\n",
      "[0.616]\tθ\n",
      "[0.407]\tp\n",
      "[0.335]\tf\n",
      "[0.215]\td\n",
      "[0.181]\tɑː\n",
      "[0.179]\tg\n",
      "[0.172]\tʃ\n",
      "[0.145]\ti\n",
      "\n",
      "Most similar to /oʊ/:\n",
      "[1.000]\toʊ\n",
      "[0.609]\teɪ\n",
      "[0.442]\tɝː\n",
      "[0.427]\tiː\n",
      "[0.406]\tɑː\n",
      "[0.361]\tə\n",
      "[0.344]\th\n",
      "[0.341]\tuː\n",
      "[0.311]\ti\n",
      "[0.259]\tʊ\n"
     ]
    }
   ],
   "source": [
    "print(\"Most similar to /t/:\")\n",
    "most_similar_phonemes(language_model, language_model.embedding_for('t'))\n",
    "\n",
    "print()\n",
    "print(\"Most similar to /oʊ/:\")\n",
    "most_similar_phonemes(language_model, language_model.embedding_for('oʊ'))"
   ]
  },
  {
   "cell_type": "markdown",
   "metadata": {},
   "source": [
    "The embeddings at least appear to capture vowel vs consontant.\n",
    "\n",
    "Now some analogies:"
   ]
  },
  {
   "cell_type": "code",
   "execution_count": 29,
   "metadata": {},
   "outputs": [
    {
     "name": "stdout",
     "output_type": "stream",
     "text": [
      "p:b ~ k~?\n",
      "[0.3845] f\n",
      "[0.2531] w\n",
      "[0.2244] ə\n",
      "[0.2088] r\n",
      "[0.1944] ɔɪ\n",
      "[0.1774] g\n",
      "[0.1766] oʊ\n",
      "[0.1687] j\n",
      "[0.1655] t\n",
      "[0.1597] h\n",
      "\n",
      "p:f ~ t~?\n",
      "[0.4922] θ\n",
      "[0.4544] k\n",
      "[0.2239] ʃ\n",
      "[0.2125] ɛ\n",
      "[0.2097] ɑː\n",
      "[0.2035] r\n",
      "[0.1617] ʌ\n",
      "[0.1328] i\n",
      "[0.1322] j\n",
      "[0.1232] ə\n"
     ]
    }
   ],
   "source": [
    "print(\"p:b ~ k~?\")\n",
    "analogy(language_model, 'p', 'b', 'k')\n",
    "print()\n",
    "print(\"p:f ~ t~?\")\n",
    "analogy(language_model, 'p', 'f', 't')"
   ]
  },
  {
   "cell_type": "markdown",
   "metadata": {},
   "source": [
    "In the first example, /p/ shares place (bilabial) and manner (stop) with /b/, but /b/ is voiced. So I would expect /p/ to relate to /b/ in the same way that /k/ relates to /g/, since /k/ and /g/ are the same except for voicing. /f/ and /w/ don't really make sense to me.\n",
    "\n",
    "In the second example, /f/ similar in place and voicing to /p/, but is a fricative instead of a stop. So adding frication to /t/ should give us /s/ but /θ/ also makes sense. /k/ doesn't make sense.\n",
    "\n",
    "\n",
    "\n",
    "At some point I trained a model with a a large embedding layer and a small hidden RNN dimension (e.g. 3) and the analogies made a little more sense but still were hit or miss. Overall I'm not happy with the quality of the embeddings, but it does appear there is *some* signal here."
   ]
  }
 ],
 "metadata": {
  "kernelspec": {
   "display_name": "Python 3",
   "language": "python",
   "name": "python3"
  },
  "language_info": {
   "codemirror_mode": {
    "name": "ipython",
    "version": 3
   },
   "file_extension": ".py",
   "mimetype": "text/x-python",
   "name": "python",
   "nbconvert_exporter": "python",
   "pygments_lexer": "ipython3",
   "version": "3.7.4"
  }
 },
 "nbformat": 4,
 "nbformat_minor": 4
}
