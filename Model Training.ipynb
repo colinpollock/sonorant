{
 "cells": [
  {
   "cell_type": "markdown",
   "metadata": {},
   "source": [
    "# Training a Phoneme Language Model #\n",
    "In this notebook I train a language model over English sounds (also known as [phonemes](https://en.wikipedia.org/wiki/Phoneme)). Each phoneme is represented by a symbol from the [International Phonetic Alphabet](https://en.wikipedia.org/wiki/International_Phonetic_Alphabet), or IPA. So \"fish\" is represented by /ˈfɪʃ/. Pronunciations in IPA are enclosed in slashes, \"ˈ\" indicates primary stress and \"ˌ\" indicates secondary stress. The rest of the symbols represent individual sounds.\n",
    "\n",
    "By training on over a hundred thousand pronunciations I want the language model to be able to distinguish good sounding English words from less English sounding words. For example, /ˈfʌn/ (\"fun\") sounds good, but /ntɔˈ/ (maybe represented as \"ntaw\") does not.\n",
    "\n",
    "Check out the notebook `Phoneme Exploration.ipynb` if you want to see what English words the model thinks are most standard and to see some generated words."
   ]
  },
  {
   "cell_type": "code",
   "execution_count": 1,
   "metadata": {},
   "outputs": [],
   "source": [
    "import torch\n",
    "import pandas as pd\n",
    "from matplotlib import pyplot as plt\n",
    "from sklearn.metrics.pairwise import cosine_similarity\n",
    "from sklearn.model_selection import ParameterGrid\n",
    "from torch.nn import functional as F\n",
    "from tqdm.notebook import tqdm\n",
    "\n",
    "from sonorous.analysis_utils import plot_pronunciation_probability\n",
    "from sonorous.languagemodel import LanguageModel, ModelParams, Vocabulary\n",
    "from sonorous.pronunciationdata import load_pronunciations\n",
    "from sonorous.utils import split_data\n",
    "\n",
    "plt.rcParams['figure.figsize'] = [15, 8]"
   ]
  },
  {
   "cell_type": "markdown",
   "metadata": {},
   "source": [
    "## The Data ##\n",
    "The data for this model comes from the [CMU Pronouncing Dictionary](http://www.speech.cs.cmu.edu/cgi-bin/cmudict), which contains over one hundred thousand pronunciations. The CMU Dict pronunciations were originally in [ARPABET](https://en.wikipedia.org/wiki/ARPABET), but I found a version translated into the more standard [IPA](https://en.wikipedia.org/wiki/International_Phonetic_Alphabet)."
   ]
  },
  {
   "cell_type": "markdown",
   "metadata": {},
   "source": [
    "I'll use the `load_pronunciations` function to load the Pronouncing Dictionary into a Pandas DataFrame."
   ]
  },
  {
   "cell_type": "code",
   "execution_count": 2,
   "metadata": {},
   "outputs": [
    {
     "name": "stdout",
     "output_type": "stream",
     "text": [
      "There are 131,964 pronunciations.\n",
      "\n",
      "Sample of 5 pronunciations:\n"
     ]
    },
    {
     "data": {
      "text/html": [
       "<div>\n",
       "<style scoped>\n",
       "    .dataframe tbody tr th:only-of-type {\n",
       "        vertical-align: middle;\n",
       "    }\n",
       "\n",
       "    .dataframe tbody tr th {\n",
       "        vertical-align: top;\n",
       "    }\n",
       "\n",
       "    .dataframe thead th {\n",
       "        text-align: right;\n",
       "    }\n",
       "</style>\n",
       "<table border=\"1\" class=\"dataframe\">\n",
       "  <thead>\n",
       "    <tr style=\"text-align: right;\">\n",
       "      <th></th>\n",
       "      <th>pronunciation</th>\n",
       "      <th>as_string</th>\n",
       "      <th>num_phonemes</th>\n",
       "      <th>num_syllables</th>\n",
       "    </tr>\n",
       "    <tr>\n",
       "      <th>word</th>\n",
       "      <th></th>\n",
       "      <th></th>\n",
       "      <th></th>\n",
       "      <th></th>\n",
       "    </tr>\n",
       "  </thead>\n",
       "  <tbody>\n",
       "    <tr>\n",
       "      <th>witts</th>\n",
       "      <td>(ˈ, w, ɪ, t, s)</td>\n",
       "      <td>ˈwɪts</td>\n",
       "      <td>4</td>\n",
       "      <td>1</td>\n",
       "    </tr>\n",
       "    <tr>\n",
       "      <th>motyka</th>\n",
       "      <td>(ˈ, m, ɑː, t, aɪ, k, ə)</td>\n",
       "      <td>ˈmɑːtaɪkə</td>\n",
       "      <td>6</td>\n",
       "      <td>3</td>\n",
       "    </tr>\n",
       "    <tr>\n",
       "      <th>kneed</th>\n",
       "      <td>(ˈ, n, iː, d)</td>\n",
       "      <td>ˈniːd</td>\n",
       "      <td>3</td>\n",
       "      <td>1</td>\n",
       "    </tr>\n",
       "    <tr>\n",
       "      <th>jesuit</th>\n",
       "      <td>(ˈ, dʒ, ɛ, ʒ, uː, ɪ, t)</td>\n",
       "      <td>ˈdʒɛʒuːɪt</td>\n",
       "      <td>6</td>\n",
       "      <td>3</td>\n",
       "    </tr>\n",
       "    <tr>\n",
       "      <th>boehme</th>\n",
       "      <td>(ˈ, b, oʊ, m)</td>\n",
       "      <td>ˈboʊm</td>\n",
       "      <td>3</td>\n",
       "      <td>1</td>\n",
       "    </tr>\n",
       "  </tbody>\n",
       "</table>\n",
       "</div>"
      ],
      "text/plain": [
       "                  pronunciation  as_string  num_phonemes  num_syllables\n",
       "word                                                                   \n",
       "witts           (ˈ, w, ɪ, t, s)      ˈwɪts             4              1\n",
       "motyka  (ˈ, m, ɑː, t, aɪ, k, ə)  ˈmɑːtaɪkə             6              3\n",
       "kneed             (ˈ, n, iː, d)      ˈniːd             3              1\n",
       "jesuit  (ˈ, dʒ, ɛ, ʒ, uː, ɪ, t)  ˈdʒɛʒuːɪt             6              3\n",
       "boehme            (ˈ, b, oʊ, m)      ˈboʊm             3              1"
      ]
     },
     "execution_count": 2,
     "metadata": {},
     "output_type": "execute_result"
    }
   ],
   "source": [
    "pronunciations = load_pronunciations()\n",
    "print(f\"There are {len(pronunciations):,} pronunciations.\")\n",
    "print()\n",
    "print(\"Sample of 5 pronunciations:\")\n",
    "pronunciations.sample(5)"
   ]
  },
  {
   "cell_type": "markdown",
   "metadata": {},
   "source": [
    "Here is the pronunciation for \"fish\":"
   ]
  },
  {
   "cell_type": "code",
   "execution_count": 3,
   "metadata": {},
   "outputs": [
    {
     "data": {
      "text/plain": [
       "pronunciation    (ˈ, f, ɪ, ʃ)\n",
       "as_string                ˈfɪʃ\n",
       "num_phonemes                3\n",
       "num_syllables               1\n",
       "Name: fish, dtype: object"
      ]
     },
     "execution_count": 3,
     "metadata": {},
     "output_type": "execute_result"
    }
   ],
   "source": [
    "pronunciations.loc['fish']"
   ]
  },
  {
   "cell_type": "markdown",
   "metadata": {},
   "source": [
    "And here are all of the pronunciations for the word \"tomato\":"
   ]
  },
  {
   "cell_type": "code",
   "execution_count": 4,
   "metadata": {},
   "outputs": [
    {
     "data": {
      "text/html": [
       "<div>\n",
       "<style scoped>\n",
       "    .dataframe tbody tr th:only-of-type {\n",
       "        vertical-align: middle;\n",
       "    }\n",
       "\n",
       "    .dataframe tbody tr th {\n",
       "        vertical-align: top;\n",
       "    }\n",
       "\n",
       "    .dataframe thead th {\n",
       "        text-align: right;\n",
       "    }\n",
       "</style>\n",
       "<table border=\"1\" class=\"dataframe\">\n",
       "  <thead>\n",
       "    <tr style=\"text-align: right;\">\n",
       "      <th></th>\n",
       "      <th>pronunciation</th>\n",
       "      <th>as_string</th>\n",
       "      <th>num_phonemes</th>\n",
       "      <th>num_syllables</th>\n",
       "    </tr>\n",
       "    <tr>\n",
       "      <th>word</th>\n",
       "      <th></th>\n",
       "      <th></th>\n",
       "      <th></th>\n",
       "      <th></th>\n",
       "    </tr>\n",
       "  </thead>\n",
       "  <tbody>\n",
       "    <tr>\n",
       "      <th>tomato</th>\n",
       "      <td>(t, ə, ˈ, m, eɪ, ˌ, t, oʊ)</td>\n",
       "      <td>təˈmeɪˌtoʊ</td>\n",
       "      <td>6</td>\n",
       "      <td>3</td>\n",
       "    </tr>\n",
       "    <tr>\n",
       "      <th>tomato</th>\n",
       "      <td>(t, ə, ˈ, m, ɑː, ˌ, t, oʊ)</td>\n",
       "      <td>təˈmɑːˌtoʊ</td>\n",
       "      <td>6</td>\n",
       "      <td>3</td>\n",
       "    </tr>\n",
       "  </tbody>\n",
       "</table>\n",
       "</div>"
      ],
      "text/plain": [
       "                     pronunciation   as_string  num_phonemes  num_syllables\n",
       "word                                                                       \n",
       "tomato  (t, ə, ˈ, m, eɪ, ˌ, t, oʊ)  təˈmeɪˌtoʊ             6              3\n",
       "tomato  (t, ə, ˈ, m, ɑː, ˌ, t, oʊ)  təˈmɑːˌtoʊ             6              3"
      ]
     },
     "execution_count": 4,
     "metadata": {},
     "output_type": "execute_result"
    }
   ],
   "source": [
    "pronunciations.loc['tomato']"
   ]
  },
  {
   "cell_type": "markdown",
   "metadata": {},
   "source": [
    "## The Model ##\n",
    "The module `languagemodel.py` contains a class `LanguageModel` that implements a simple neural language model. It's a PyTorch neural network comprised of the following layers:\n",
    "1. **Embedding layer** to translate each phoneme into a dense vector. Note that in the code this is called the _encoder since it encodes input phonemes into a representation the model can work with.\n",
    "2. An recurrent neural network (**RNN**) layer that processes each input phoneme sequentially and for each step generates (a) a hidden representation to pass on to the next step and (b) an output.\n",
    "3. A **linear layer** that decodes the outputes (2b) into distributions over each phoneme. Note that in the code this is called the _docoder since it decodes the model's internal representations back into phonemes."
   ]
  },
  {
   "cell_type": "markdown",
   "metadata": {},
   "source": [
    "Let's go through a simple example of what happens when we pass the pronunciation /F IH1 SH/ through the model. Ultimately what I want ouf of the model is a prediction at each position of what the next phoneme should be. For example, when a well trained model is sees /F IH1/ it should know that /SH/ is likely, or at least not unlikely."
   ]
  },
  {
   "cell_type": "markdown",
   "metadata": {},
   "source": [
    "First I'll create a `Vocabulary` instance by passing in all the pronunciations. The `vocab` is used to convert phonemes into integer indices that the neural network handle. It does a few other things too, which you can see below. The `Vocabulary` class's code is in `sonorous/languagemodel.py`."
   ]
  },
  {
   "cell_type": "code",
   "execution_count": 5,
   "metadata": {},
   "outputs": [
    {
     "name": "stdout",
     "output_type": "stream",
     "text": [
      "ˈfɪʃ\n"
     ]
    }
   ],
   "source": [
    "print(''.join(pronunciations.loc['fish'].pronunciation))"
   ]
  },
  {
   "cell_type": "code",
   "execution_count": 6,
   "metadata": {},
   "outputs": [
    {
     "name": "stdout",
     "output_type": "stream",
     "text": [
      "There are 47 distinct phonemes.\n",
      "\n",
      "Looking up the int index for /ʃ/: 31\n",
      "\n",
      "Checking whether /ʃ/ is in the vocabulary: True\n",
      "\n",
      "Looking up the phoneme for a specific int index: ʃ\n",
      "\n",
      "Encoding /ˈfɪʃ/: [ 1  5 13 22 31  2]\n"
     ]
    }
   ],
   "source": [
    "vocab = Vocabulary.from_texts(pronunciations.pronunciation.values)\n",
    "\n",
    "print(f\"There are {len(vocab)} distinct phonemes.\")\n",
    "print()\n",
    "print(\"Looking up the int index for /ʃ/:\", vocab['ʃ'])\n",
    "print()\n",
    "print(\"Checking whether /ʃ/ is in the vocabulary:\", 'ʃ' in vocab)\n",
    "print()\n",
    "print(\"Looking up the phoneme for a specific int index:\", vocab.token_from_idx(vocab['ʃ']))\n",
    "print()\n",
    "print(\"Encoding /ˈfɪʃ/:\", vocab.encode_text(tuple(\"ˈfɪʃ\")))"
   ]
  },
  {
   "cell_type": "markdown",
   "metadata": {},
   "source": [
    "Now I'll define the model. Note that I'm not actually fitting the model to any data so the output will be random. The hyperparameters aren't optimal, but again that doesn't matter here since I just want to show the flow of data through the network.\n",
    "\n",
    "The `ModelParams` class (from `sonorous/languagemodel.py` encapsulates hyperparameters and options for the model)."
   ]
  },
  {
   "cell_type": "code",
   "execution_count": 7,
   "metadata": {},
   "outputs": [],
   "source": [
    "model_params = ModelParams(\n",
    "    rnn_type='rnn', embedding_dimension=10, hidden_dimension=3, num_layers=1,\n",
    "    max_epochs=3, early_stopping_rounds=3\n",
    ")\n",
    "\n",
    "language_model = LanguageModel(vocab, model_params, 'cpu')"
   ]
  },
  {
   "cell_type": "markdown",
   "metadata": {},
   "source": [
    "Now I'll walk through what happens when we pass the word \"fish\" /F IH1 SH/ through the model:"
   ]
  },
  {
   "cell_type": "code",
   "execution_count": 8,
   "metadata": {},
   "outputs": [
    {
     "data": {
      "text/plain": [
       "('ˈ', 'f', 'ɪ', 'ʃ')"
      ]
     },
     "execution_count": 8,
     "metadata": {},
     "output_type": "execute_result"
    }
   ],
   "source": [
    "fish_pronunciation = tuple(\"ˈfɪʃ\")\n",
    "fish_pronunciation"
   ]
  },
  {
   "cell_type": "markdown",
   "metadata": {},
   "source": [
    "The `Vocabulary.encode_text` function we saw earlier does a few things. First, it adds dummy `<START>` and `<END>` tokens to the pronunciation indicating its start and end. This allows the model to learn transition probabilities from the start of the word to the first phoneme, and from the last phoneme to the end of the word.\n",
    "\n",
    "It then converts every phoneme to its ingeter index."
   ]
  },
  {
   "cell_type": "code",
   "execution_count": 9,
   "metadata": {},
   "outputs": [
    {
     "name": "stdout",
     "output_type": "stream",
     "text": [
      "[ 1  5 13 22 31  2]\n",
      "\n",
      "1 => <START>\n",
      "5 => ˈ\n",
      "13 => f\n",
      "22 => ɪ\n",
      "31 => ʃ\n",
      "2 => <END>\n"
     ]
    }
   ],
   "source": [
    "fish_input = vocab.encode_text(fish_pronunciation)\n",
    "print(fish_input)\n",
    "print()\n",
    "for idx in fish_input:\n",
    "    phoneme = vocab.token_from_idx(idx)\n",
    "    print(f'{idx} => {phoneme}')"
   ]
  },
  {
   "cell_type": "markdown",
   "metadata": {},
   "source": [
    "And now we're ready to pass the input into the model's `forward` function, which takes in inputs and outputs predictions. This model's `forward` function expects a Tensor of dimension `(batch_size, NUMBER OF STEPS)`. A step here refers to a step forward in the sequence, so /<START> F IH1 SH <END>/ has 5 steps."
   ]
  },
  {
   "cell_type": "code",
   "execution_count": 10,
   "metadata": {},
   "outputs": [
    {
     "name": "stdout",
     "output_type": "stream",
     "text": [
      "Input's shape: (6,)\n",
      "Batch input's shape: torch.Size([1, 6])\n"
     ]
    }
   ],
   "source": [
    "print(\"Input's shape:\", fish_input.shape)\n",
    "fish_batch_input = torch.LongTensor(fish_input).unsqueeze(0)\n",
    "print(\"Batch input's shape:\", fish_batch_input.shape)"
   ]
  },
  {
   "cell_type": "markdown",
   "metadata": {},
   "source": [
    "The first thing the `forward` function does is embed each phoneme using an [nn.Embedding](https://pytorch.org/docs/stable/nn.html#embedding). Each phoneme has a dedicated embedding vector of length `embedding_dimension`, so the shape of `embedded` is `(batch size, number of steps, embedding_dimension)`."
   ]
  },
  {
   "cell_type": "code",
   "execution_count": 11,
   "metadata": {},
   "outputs": [
    {
     "name": "stdout",
     "output_type": "stream",
     "text": [
      "torch.Size([1, 6, 10])\n",
      "\n"
     ]
    },
    {
     "data": {
      "text/plain": [
       "tensor([[[ 0.2358,  0.0812,  0.4921,  2.0121,  1.1394, -0.0168, -0.1808,\n",
       "           0.5696,  0.2853, -1.1750],\n",
       "         [ 0.0177, -0.0499, -0.5503,  0.6401, -0.0039,  0.4457, -0.2539,\n",
       "          -0.4336,  1.4395, -0.3192],\n",
       "         [-1.0877, -0.0758, -1.1741, -0.9751, -2.1680, -1.1938,  0.6698,\n",
       "           0.4226,  0.7646,  0.3113],\n",
       "         [-1.1634,  0.9116, -1.1395,  0.8588, -0.3173,  1.5198, -1.0894,\n",
       "          -0.5033,  0.6822, -0.7204],\n",
       "         [ 0.2023, -1.0492, -0.4600, -0.6626,  1.3397,  2.5528,  0.0322,\n",
       "          -0.7443,  0.2199,  1.7352],\n",
       "         [ 3.0174, -0.3162, -2.0198, -0.4923,  0.2001, -1.0426, -0.0698,\n",
       "          -0.2581, -0.1434, -0.5738]]], grad_fn=<EmbeddingBackward>)"
      ]
     },
     "execution_count": 11,
     "metadata": {},
     "output_type": "execute_result"
    }
   ],
   "source": [
    "embedded = language_model._encoder(fish_batch_input)\n",
    "print(embedded.shape)\n",
    "print()\n",
    "embedded"
   ]
  },
  {
   "cell_type": "markdown",
   "metadata": {},
   "source": [
    "I'll pass `embedded` to the [RNN layer](https://pytorch.org/docs/stable/nn.html#recurrent-layers), resulting in `rnn_output` and `hidden_state`. I won't go into detail on how RNNs work since there are many detailed posts on the web you can read, but the basic idea is a cell is applied sequentially to every token (i.e. step) in the input. At each step an output and a hidden state are produced. The hidden state can be passed on to the next step, and the output can be used to make a prediction.\n",
    "\n",
    "The `rnn` layer below operates on the full sequence, so the results are for the entire sequence."
   ]
  },
  {
   "cell_type": "code",
   "execution_count": 12,
   "metadata": {},
   "outputs": [
    {
     "name": "stdout",
     "output_type": "stream",
     "text": [
      "torch.Size([1, 6, 3])\n",
      "\n"
     ]
    },
    {
     "data": {
      "text/plain": [
       "tensor([[[-0.9798,  0.4632, -0.9725],\n",
       "         [-0.7061,  0.7552, -0.7428],\n",
       "         [ 0.9519,  0.7755,  0.0025],\n",
       "         [-0.9005,  0.9203, -0.9741],\n",
       "         [ 0.7683, -0.0068,  0.6018],\n",
       "         [ 0.5360, -0.9496,  0.9670]]], grad_fn=<TransposeBackward1>)"
      ]
     },
     "execution_count": 12,
     "metadata": {},
     "output_type": "execute_result"
    }
   ],
   "source": [
    "rnn_output, hidden_state = language_model._rnn(embedded)\n",
    "print(rnn_output.shape)\n",
    "print()\n",
    "rnn_output"
   ]
  },
  {
   "cell_type": "markdown",
   "metadata": {},
   "source": [
    "For our application we can ignore the `hidden_state`-- the `rnn_output` is the interesting part. The first dimension is for the batch, and we only have a single input in our batch. The second dimension is for each of the input phonemes. The third dimension corresponds to `hidden_dimension`: you can think of this as the state of the RNN at each step."
   ]
  },
  {
   "cell_type": "markdown",
   "metadata": {},
   "source": [
    "As I said at the beginning of this section, I want the output of the RNN at each position to be predictions for the *next* position. So I'll apply a [linear layer](https://pytorch.org/docs/stable/nn.html#linear) to the `rnn_output`, resulting in a vector the size of the vocabularly at each position. The [softmax](https://pytorch.org/docs/stable/nn.functional.html#softmax) function normalizes the outputs into probability distributions for each prediction."
   ]
  },
  {
   "cell_type": "code",
   "execution_count": 13,
   "metadata": {},
   "outputs": [
    {
     "data": {
      "text/plain": [
       "torch.Size([6, 47])"
      ]
     },
     "execution_count": 13,
     "metadata": {},
     "output_type": "execute_result"
    }
   ],
   "source": [
    "outputs = language_model._decoder(rnn_output)\n",
    "probabilities = F.softmax(outputs, dim=-1).squeeze()\n",
    "probabilities.shape"
   ]
  },
  {
   "cell_type": "markdown",
   "metadata": {},
   "source": [
    "The shape of `probabilities` is (6, 47) because each of the six tokens in /ˈfɪʃ/ gets a a probability distribution over each of the 47 phonemes in the vocabulary.\n",
    "\n",
    "The first phoneme in the input is the `<START>` token; let's see what the model thinks should come next."
   ]
  },
  {
   "cell_type": "code",
   "execution_count": 14,
   "metadata": {},
   "outputs": [
    {
     "data": {
      "text/plain": [
       "'tʃ'"
      ]
     },
     "execution_count": 14,
     "metadata": {},
     "output_type": "execute_result"
    }
   ],
   "source": [
    "probabilities_for_first_phoneme = probabilities[0]\n",
    "most_likely_first_phoneme_idx = probabilities_for_first_phoneme.argmax().item()\n",
    "most_likely_first_phoneme = vocab.token_from_idx(most_likely_first_phoneme_idx)\n",
    "most_likely_first_phoneme"
   ]
  },
  {
   "cell_type": "markdown",
   "metadata": {},
   "source": [
    "Since the model isn't fit yet this is just a random guess. In order to get the model to make good predictions I'll need to first train a good model."
   ]
  },
  {
   "cell_type": "markdown",
   "metadata": {},
   "source": [
    "## Finding the Best Model ##\n",
    "In this section I'll train a number of models on the train set and select the one that has the lowest error on the dev set. I'll split the DataFrame of pronunciations into three DataFrames, with 79% for training, 20% for dev/validation, and 1% for testing of the final model."
   ]
  },
  {
   "cell_type": "code",
   "execution_count": 15,
   "metadata": {},
   "outputs": [
    {
     "data": {
      "text/plain": [
       "(104251, 26393, 1320)"
      ]
     },
     "execution_count": 15,
     "metadata": {},
     "output_type": "execute_result"
    }
   ],
   "source": [
    "train_pronunciations, dev_pronunciations, test_pronunciations = split_data(pronunciations, dev_proportion=.2, test_proportion=.01)\n",
    "len(train_pronunciations), len(dev_pronunciations), len(test_pronunciations)"
   ]
  },
  {
   "cell_type": "markdown",
   "metadata": {},
   "source": [
    "I split the corpus up into train/dev/test so that I could use the standard approach of training models with different hyperparameters and selecting the model that performs best against the dev set. The standard metric for language models is perplexity, which is a measure of how well the model predicts the pronunciations."
   ]
  },
  {
   "cell_type": "markdown",
   "metadata": {},
   "source": [
    "Note that I ran a larger parameter search before and saw that GRUs were consistently outperforming LSTMs and vanilla RNNs. Below I'm trying a large network with three layers and embedding dimension and hidden dimension of 500. This is too large of a network architecture for the relatively simple problem of word structure, but my goal here is to overfit the training set and get a sense of what kind of performance on the dev set is reasonable. I can also identify at which epoch the dev loss was lowest and later train a model using early stopping.\n",
    "\n",
    "The GRU will train for a maximum of 50 epochs. Every five epochs I'm printing out the train and dev loss five generated pronunciations.\n",
    "\n",
    "I'm also printing out the percentage of generated pronunciations that occurred in the train or dev sets. This isn't a rigorous way to measure whether the model is overfitting the training set, but it I've found it does seem to indicate some amount of overfitting: I've seen it get up to nearly 100% when training a large enough model for long enough."
   ]
  },
  {
   "cell_type": "code",
   "execution_count": 16,
   "metadata": {},
   "outputs": [
    {
     "name": "stdout",
     "output_type": "stream",
     "text": [
      "Epoch 5: train loss: 0.4883\tdev loss: 0.7207                                                                                               \n",
      "\tGenerated: in train: 17%, assess: 4%, novel: 79%\n",
      "\t ˈ æ m b ɝ z\n",
      "\t ˌ m ɛ n s ə b ˈ j uː z\n",
      "\t ˈ k l ɔ r i\n",
      "\t ˈ k oʊ z oʊ s\n",
      "\t ˈ ɛ n d ɪ ŋ\n",
      "Epoch 10: train loss: 0.4492\tdev loss: 0.6908                                                                                               \n",
      "\tGenerated: in train: 20%, assess: 1%, novel: 79%\n",
      "\t ˈ g r æ n s\n",
      "\t ˈ k oʊ l z\n",
      "\t ˈ g ʌ d ˌ f i\n",
      "\t d ɪ ˈ s ɝː p t ɪ v l i\n",
      "\t ˈ r uː b ə\n",
      "Epoch 15: train loss: 0.4124\tdev loss: 0.6800                                                                                               \n",
      "\tGenerated: in train: 28%, assess: 1%, novel: 70%\n",
      "\t ˈ m ʌ n iː ˌ s iː m\n",
      "\t m ɑː n ˈ k ɑː l ə\n",
      "\t ˈ b l oʊ k ɔ f\n",
      "\t ˈ h j uː n ɝ\n",
      "\t ˈ b ɛ r i\n",
      "Epoch 20: train loss: 0.3829\tdev loss: 0.6867                                                                                               \n",
      "\tGenerated: in train: 42%, assess: 1%, novel: 56%\n",
      "\t ˈ l iː l ə s\n",
      "\t n oʊ ˈ oʊ ʃ iː ə\n",
      "\t ˈ s k ɪ p ɪ ŋ\n",
      "\t ˈ p iː l ɪ ŋ\n",
      "\t ˈ k r ɑː k ə l t\n",
      "Epoch 25: train loss: 0.3645\tdev loss: 0.6981                                                                                               \n",
      "\tGenerated: in train: 53%, assess: 3%, novel: 44%\n",
      "\t ˈ z ɔ r k ɪ n\n",
      "\t ˈ k oʊ t s\n",
      "\t ˈ t ɛ ˌ l ɑː k\n",
      "\t ˈ t ɪ n d ə l\n",
      "\t ˈ p r ɑː f ə t ˌ s p ɔ r t\n",
      "CPU times: user 26min 50s, sys: 8min 8s, total: 34min 59s\n",
      "Wall time: 34min 47s\n"
     ]
    }
   ],
   "source": [
    "%%time\n",
    "\n",
    "large_model_parameters = ModelParams(\n",
    "    rnn_type='gru', num_layers=3, embedding_dimension=500, hidden_dimension=500,\n",
    "    max_epochs=25, early_stopping_rounds=25\n",
    ")\n",
    "\n",
    "large_language_model = LanguageModel(vocab, large_model_parameters, device_name='cuda')\n",
    "\n",
    "large_train_losses, large_dev_losses = large_language_model.fit(\n",
    "    train_pronunciations.pronunciation.values.tolist(),\n",
    "    dev_pronunciations.pronunciation.values.tolist(),\n",
    "    print_every=5,\n",
    ")\n",
    "\n",
    "large_results = pd.DataFrame({\n",
    "    'epoch': range(1, len(large_train_losses) + 1),\n",
    "    'train_loss': large_train_losses,\n",
    "    'dev_loss': large_dev_losses,\n",
    "}).set_index('epoch')"
   ]
  },
  {
   "cell_type": "code",
   "execution_count": 17,
   "metadata": {},
   "outputs": [],
   "source": [
    "large_results = pd.DataFrame({\n",
    "    'epoch': range(1, len(large_train_losses) + 1),\n",
    "    'train_loss': large_train_losses,\n",
    "    'dev_loss': large_dev_losses,\n",
    "}).set_index('epoch')"
   ]
  },
  {
   "cell_type": "code",
   "execution_count": 18,
   "metadata": {},
   "outputs": [
    {
     "data": {
      "image/png": "[encoded data removed]",
      "text/plain": [
       "<Figure size 1080x576 with 1 Axes>"
      ]
     },
     "metadata": {
      "needs_background": "light"
     },
     "output_type": "display_data"
    }
   ],
   "source": [
    "_ = large_results.plot()"
   ]
  },
  {
   "cell_type": "code",
   "execution_count": 19,
   "metadata": {},
   "outputs": [
    {
     "data": {
      "text/html": [
       "<div>\n",
       "<style scoped>\n",
       "    .dataframe tbody tr th:only-of-type {\n",
       "        vertical-align: middle;\n",
       "    }\n",
       "\n",
       "    .dataframe tbody tr th {\n",
       "        vertical-align: top;\n",
       "    }\n",
       "\n",
       "    .dataframe thead th {\n",
       "        text-align: right;\n",
       "    }\n",
       "</style>\n",
       "<table border=\"1\" class=\"dataframe\">\n",
       "  <thead>\n",
       "    <tr style=\"text-align: right;\">\n",
       "      <th></th>\n",
       "      <th>train_loss</th>\n",
       "      <th>dev_loss</th>\n",
       "    </tr>\n",
       "    <tr>\n",
       "      <th>epoch</th>\n",
       "      <th></th>\n",
       "      <th></th>\n",
       "    </tr>\n",
       "  </thead>\n",
       "  <tbody>\n",
       "    <tr>\n",
       "      <th>15</th>\n",
       "      <td>0.412386</td>\n",
       "      <td>0.679980</td>\n",
       "    </tr>\n",
       "    <tr>\n",
       "      <th>17</th>\n",
       "      <td>0.399027</td>\n",
       "      <td>0.680581</td>\n",
       "    </tr>\n",
       "    <tr>\n",
       "      <th>16</th>\n",
       "      <td>0.405207</td>\n",
       "      <td>0.680687</td>\n",
       "    </tr>\n",
       "    <tr>\n",
       "      <th>18</th>\n",
       "      <td>0.392395</td>\n",
       "      <td>0.681612</td>\n",
       "    </tr>\n",
       "    <tr>\n",
       "      <th>14</th>\n",
       "      <td>0.419424</td>\n",
       "      <td>0.681979</td>\n",
       "    </tr>\n",
       "  </tbody>\n",
       "</table>\n",
       "</div>"
      ],
      "text/plain": [
       "       train_loss  dev_loss\n",
       "epoch                      \n",
       "15       0.412386  0.679980\n",
       "17       0.399027  0.680581\n",
       "16       0.405207  0.680687\n",
       "18       0.392395  0.681612\n",
       "14       0.419424  0.681979"
      ]
     },
     "execution_count": 19,
     "metadata": {},
     "output_type": "execute_result"
    }
   ],
   "source": [
    "large_results.sort_values('dev_loss').head()"
   ]
  },
  {
   "cell_type": "code",
   "execution_count": 20,
   "metadata": {},
   "outputs": [
    {
     "data": {
      "text/plain": [
       "train_loss    0.364454\n",
       "dev_loss      0.698131\n",
       "Name: 25, dtype: float64"
      ]
     },
     "execution_count": 20,
     "metadata": {},
     "output_type": "execute_result"
    }
   ],
   "source": [
    "large_results.iloc[-1]"
   ]
  },
  {
   "cell_type": "markdown",
   "metadata": {},
   "source": [
    "The dev loss is important because it tells me how well the model is doing at predicting pronunciations it's never seen before. If the model just memorizes the exact sequence of phonemes in the training set then performance on the dev set will suffer since it won't generalize.\n",
    "\n",
    "By epoch 25 the model has overfit the training set, with dev loss climbing back up to .698 from its low of .679. Also, at this point 53% of generated words were present in the training set, again indicating oerfitting.\n",
    "\n",
    "Another illustration of how much the model has overfit is the chart below, which shows the model's assigned probability for each phoneme in /ˌænəsˌθiːziːˈɑːlədʒɪst/."
   ]
  },
  {
   "cell_type": "code",
   "execution_count": 21,
   "metadata": {},
   "outputs": [
    {
     "data": {
      "image/png": "[encoded data removed]",
      "text/plain": [
       "<Figure size 1080x576 with 1 Axes>"
      ]
     },
     "metadata": {
      "needs_background": "light"
     },
     "output_type": "display_data"
    }
   ],
   "source": [
    "plot_pronunciation_probability(\n",
    "    large_language_model,\n",
    "    ('ˌ', 'æ', 'n', 'ə', 's', 'ˌ', 'θ', 'iː', 'z', 'iː', 'ˈ', 'ɑː', 'l', 'ə', 'dʒ', 'ɪ', 's', 't')\n",
    ")"
   ]
  },
  {
   "cell_type": "code",
   "execution_count": 22,
   "metadata": {},
   "outputs": [
    {
     "data": {
      "text/plain": [
       "2"
      ]
     },
     "execution_count": 22,
     "metadata": {},
     "output_type": "execute_result"
    }
   ],
   "source": [
    "(train_pronunciations.as_string=='ˌænəsˌθiːziːˈɑːlədʒɪst').sum()"
   ]
  },
  {
   "cell_type": "markdown",
   "metadata": {},
   "source": [
    "After seeing /ˌænəsˌ/ the model is almost entirely certain of each of the next phonemes that follows. This pronunciation appears twice in the training set, so the model appears to have memorized it.\n",
    "\n",
    "If I view the full CMU Dict as encompassing *all* of English then it's arguably ok to fit it very well since there's no need to generalize to new words. But I'm hoping to capture English pronunciaiton rules at a more general level than exact words, so that the model will generate words that aren't exactly like the training corpus."
   ]
  },
  {
   "cell_type": "markdown",
   "metadata": {},
   "source": [
    "Dev loss was at its minimum at epoch 16 so I'll train another model with the same parameters for 16 epochs. Note that I could also try smaller model architectures or regularizing while still training until convergence, but this is faster since I don't need to train a large number of models."
   ]
  },
  {
   "cell_type": "code",
   "execution_count": 23,
   "metadata": {},
   "outputs": [
    {
     "name": "stdout",
     "output_type": "stream",
     "text": [
      "Epoch 5: train loss: 0.4895\tdev loss: 0.7222                                                                                               \n",
      "\tGenerated: in train: 11%, assess: 0%, novel: 89%\n",
      "\t ˈ v æ ŋ g ɝ d\n",
      "\t ˈ t uː t\n",
      "\t ˈ l ɛ b ɪ s t\n",
      "\t tʃ iː θ ɑː ˈ r ɑː s iː oʊ\n",
      "\t v ɪ s ɛ ˈ n ɑː θ ə\n",
      "Epoch 10: train loss: 0.4498\tdev loss: 0.6914                                                                                               \n",
      "\tGenerated: in train: 18%, assess: 3%, novel: 79%\n",
      "\t ˈ p ɛ l ˌ b r ʊ k\n",
      "\t ˈ k ɑː ŋ k ə n\n",
      "\t ˈ tʃ ɪ p\n",
      "\t ˈ w iː z l i\n",
      "\t ˈ w aɪ l ɝ\n",
      "Epoch 15: train loss: 0.4117\tdev loss: 0.6804                                                                                               \n",
      "\tGenerated: in train: 30%, assess: 0%, novel: 70%\n",
      "\t ˈ f l ɔ r ˌ m ɛ n t\n",
      "\t ˈ s m ɑː f i\n",
      "\t ˈ æ l f r ə n\n",
      "\t ˈ ɛ r d\n",
      "\t ˈ k ɑː l m ə n\n",
      "Epoch 16: train loss: 0.4056\tdev loss: 0.6816                                                                                               \n",
      "\tGenerated: in train: 21%, assess: 3%, novel: 76%\n",
      "\t t ɔ r ˈ t eɪ l\n",
      "\t ˈ m oʊ s t r ə s\n",
      "\t ˈ k æ n s ə l ɝ\n",
      "\t ˌ m æ g ə ˈ v iː n oʊ\n",
      "\t ˈ b ɔ r d ˌ s t iː n\n",
      "CPU times: user 17min 38s, sys: 5min 42s, total: 23min 21s\n",
      "Wall time: 23min 12s\n"
     ]
    }
   ],
   "source": [
    "%%time\n",
    "\n",
    "early_stopped_model_params = ModelParams(\n",
    "    rnn_type='gru', num_layers=3, embedding_dimension=500, hidden_dimension=500,\n",
    "    max_epochs=16, early_stopping_rounds=16\n",
    ")\n",
    "\n",
    "early_stopped_language_model = LanguageModel(vocab, early_stopped_model_params, device_name='cuda')\n",
    "\n",
    "_ = early_stopped_language_model.fit(\n",
    "    train_pronunciations.pronunciation.values.tolist(),\n",
    "    dev_pronunciations.pronunciation.values.tolist(),\n",
    "    print_every=5,\n",
    ")"
   ]
  },
  {
   "cell_type": "markdown",
   "metadata": {},
   "source": [
    "Dev loss here does in fact match dev loss in the model above at epoch 16. I'll now look again at /ˌænəsˌθiːziːˈɑːlədʒɪst/:"
   ]
  },
  {
   "cell_type": "code",
   "execution_count": 24,
   "metadata": {},
   "outputs": [
    {
     "data": {
      "image/png": "[encoded data removed]",
      "text/plain": [
       "<Figure size 1080x576 with 1 Axes>"
      ]
     },
     "metadata": {
      "needs_background": "light"
     },
     "output_type": "display_data"
    }
   ],
   "source": [
    "plot_pronunciation_probability(\n",
    "    early_stopped_language_model,\n",
    "    ('ˌ', 'æ', 'n', 'ə', 's', 'ˌ', 'θ', 'iː', 'z', 'iː', 'ˈ', 'ɑː', 'l', 'ə', 'dʒ', 'ɪ', 's', 't')\n",
    ")"
   ]
  },
  {
   "cell_type": "markdown",
   "metadata": {},
   "source": [
    "Even though this model didn't technically overfit the training set, the model is still way more confident in its predictions than I would have hoped.\n",
    "\n",
    "So ultimately I'll abandon my dev set perplexity as my metric. Language models are often evaluated on downstream tasks, but unfortunately I don't have a clear metric for my downstream task of generating \"good\" English pronunciations. I instead generated about 10 models and manually inspected them, looking for models that have the following characteristics:\n",
    "* Doesn't horribly overfit long words in the training set\n",
    "* Both low and high perplexity pronunciations from the training set make sense\n",
    "* The generated pronunciations feel pronouncable to me\n",
    "\n",
    "The model I ended up liking most is a GRU with an embedding dimension of 20, hidden dimension of 20, and a single layer. I train it until train loss stops dropping, so there's no early stopping here."
   ]
  },
  {
   "cell_type": "code",
   "execution_count": 25,
   "metadata": {},
   "outputs": [
    {
     "name": "stdout",
     "output_type": "stream",
     "text": [
      "Epoch 50: train loss: 0.5415\tdev loss: 0.7894                                                                                               \n",
      "\tGenerated: in train: 3%, assess: 0%, novel: 97%\n",
      "\t ˈ s k ɪ ŋ b ə l\n",
      "\t ˈ m aɪ t ˌ r ɑː s t ə ˌ k uː t\n",
      "\t ɑː ˈ r ɛ n d iː ɝ\n",
      "\t ˈ uː d ə ˌ g eɪ b ɝ\n",
      "\t ˈ r ɔ r n ə\n",
      "Epoch 100: train loss: 0.5311\tdev loss: 0.7751                                                                                               \n",
      "\tGenerated: in train: 13%, assess: 1%, novel: 86%\n",
      "\t ˈ ɛ n ˌ r ə s t\n",
      "\t ˈ dʒ ʌ k f l oʊ\n",
      "\t p ɪ ˈ k ɑː tʃ\n",
      "\t ˈ l aɪ t ə n\n",
      "\t ˈ l æ k ə l iː z\n",
      "Epoch 150: train loss: 0.5279\tdev loss: 0.7706                                                                                               \n",
      "\tGenerated: in train: 10%, assess: 3%, novel: 87%\n",
      "\t ˈ s t ɛ l oʊ s\n",
      "\t ˈ t æ θ s t\n",
      "\t ˈ æ m p ə ˌ s t r iː z\n",
      "\t ˈ s ɪ l ə s ə\n",
      "\t b ɪ ˈ z ɛ r\n",
      "Epoch 200: train loss: 0.5261\tdev loss: 0.7682                                                                                               \n",
      "\tGenerated: in train: 10%, assess: 2%, novel: 88%\n",
      "\t ˈ s oʊ m ə m\n",
      "\t r ə g n iː ˈ ɑː n d ɪ k\n",
      "\t ˈ m ɑː r m ə n\n",
      "\t s ə ˈ b ɔ r b ə n\n",
      "\t ˈ s l ɔ l ˌ k eɪ ˌ n ɪ z\n",
      "Epoch 250: train loss: 0.5251\tdev loss: 0.7669                                                                                               \n",
      "\tGenerated: in train: 23%, assess: 1%, novel: 76%\n",
      "\t ˈ ɪ l oʊ m ə n\n",
      "\t ˈ k w ɔ r g ˌ h ɑː n d\n",
      "\t ˈ p aɪ ɝ ˌ t eɪ t ɪ d\n",
      "\t ˈ r æ n d ə n\n",
      "\t ˈ ʃ r ɑː f ə v ə n\n",
      "Epoch 300: train loss: 0.5243\tdev loss: 0.7658                                                                                               \n",
      "\tGenerated: in train: 14%, assess: 0%, novel: 86%\n",
      "\t ˈ t r oʊ dʒ ə n s ə n z\n",
      "\t ˈ p l ɛ g ə s\n",
      "\t ˈ tʃ oʊ z\n",
      "\t ˈ p ɝː t ɝ oʊ z\n",
      "\t ˈ f ɪ ʒ ɝ ɪ ŋ\n",
      "Epoch 350: train loss: 0.5238\tdev loss: 0.7652                                                                                               \n",
      "\tGenerated: in train: 7%, assess: 0%, novel: 93%\n",
      "\t ˈ b oʊ l k n\n",
      "\t ˌ j uː t ˈ s eɪ dʒ\n",
      "\t r iː ˈ l iː b ə n\n",
      "\t r uː d ə ˈ g ɔ r z\n",
      "\t ˌ ɪ n ˈ s t ɝː d s ɪ n\n",
      "Epoch 400: train loss: 0.5232\tdev loss: 0.7644                                                                                               \n",
      "\tGenerated: in train: 19%, assess: 3%, novel: 78%\n",
      "\t ˈ k r uː dʒ k ɝ\n",
      "\t ˈ k æ k w ə l ə l\n",
      "\t ˈ f l æ ŋ\n",
      "\t ˌ t ɛ n j ə ˈ m iː s ə n i\n",
      "\t ˈ v iː d ə n\n",
      "Epoch 450: train loss: 0.5230\tdev loss: 0.7643                                                                                               \n",
      "\tGenerated: in train: 17%, assess: 2%, novel: 81%\n",
      "\t n ə ˈ t iː m\n",
      "\t ˈ z iː l ə p s\n",
      "\t ˈ s k oʊ s t ɪ n\n",
      "\t ˈ dʒ uː l ə\n",
      "\t ˈ p uː l ə n\n",
      "CPU times: user 34min 24s, sys: 2min 45s, total: 37min 9s                                                                                    \n",
      "Wall time: 34min 16s\n"
     ]
    },
    {
     "name": "stderr",
     "output_type": "stream",
     "text": [
      "Early stopping because of no decrease in 3 epochs.\n"
     ]
    }
   ],
   "source": [
    "%%time\n",
    "\n",
    "smallish_model_parameters = ModelParams(\n",
    "    rnn_type='gru', num_layers=1, embedding_dimension=20, hidden_dimension=20,\n",
    "    max_epochs=1000, early_stopping_rounds=3\n",
    ")\n",
    "\n",
    "smallish_language_model = LanguageModel(vocab, smallish_model_parameters, device_name='cuda')\n",
    "\n",
    "_ = smallish_language_model.fit(\n",
    "    train_pronunciations.pronunciation.values.tolist(),\n",
    "    dev_pronunciations.pronunciation.values.tolist(),\n",
    "    print_every=50,\n",
    ")"
   ]
  },
  {
   "cell_type": "markdown",
   "metadata": {},
   "source": [
    "The dev loss of this model is considerably higher than the more optimal model I trained above. But in practice I found that its predictions made sense to me. So this means that a loss of about .76 gets us pretty close to representing the basic structure of allowable English pronunciations, whereas the much lower loss occurs when a model has learned the probabilities of long sequences of phonemes. \n",
    "\n",
    "I'll see what this new, *smallish*, model predicts for /ˌænəsˌθiːziːˈɑːlədʒɪst/:"
   ]
  },
  {
   "cell_type": "code",
   "execution_count": 26,
   "metadata": {},
   "outputs": [
    {
     "data": {
      "image/png": "[encoded data removed]",
      "text/plain": [
       "<Figure size 1080x576 with 1 Axes>"
      ]
     },
     "metadata": {
      "needs_background": "light"
     },
     "output_type": "display_data"
    }
   ],
   "source": [
    "plot_pronunciation_probability(\n",
    "    smallish_language_model,\n",
    "    ('ˌ', 'æ', 'n', 'ə', 's', 'ˌ', 'θ', 'iː', 'z', 'iː', 'ˈ', 'ɑː', 'l', 'ə', 'dʒ', 'ɪ', 's', 't')\n",
    ")"
   ]
  },
  {
   "cell_type": "markdown",
   "metadata": {},
   "source": [
    "While many of the probabilities the model assigns are still suspiciously high, this looks better than the previous models."
   ]
  },
  {
   "cell_type": "markdown",
   "metadata": {},
   "source": [
    "## Training the Final Model ##\n",
    "Now that I've found the best parameters for the model according to the dev set I'll train a final model using all of the data. This should increase model performance overall since more data is better, but is also necessary since I'll be using the model to predict probabilities of all English words. If some of those words weren't in the training set they would artificially get lower probabilities. (Another approach here could be to train a model on e.g. 4/5 folds of the data and make predictions about the remaining 1/5, doing that 5 times to get unbiased predictions for all data, but this would have taken much longer to run.)"
   ]
  },
  {
   "cell_type": "code",
   "execution_count": 27,
   "metadata": {},
   "outputs": [
    {
     "name": "stdout",
     "output_type": "stream",
     "text": [
      "Epoch 50: train loss: 0.5409loss: 0.5461                                                                                                    \n",
      "\tGenerated: in train: 16%, assess: 0%, novel: 84%\n",
      "\t ˈ m ɔɪ m ə n t\n",
      "\t r uː ˈ n iː dʒ ɪ v\n",
      "\t s ə ˈ t r t eɪ n z\n",
      "\t ə ʃ ˈ tʃ oʊ p ɝ k\n",
      "\t ˈ h ɔɪ n ɝ\n",
      "Epoch 100: train loss: 0.5325loss: 0.5357                                                                                                    \n",
      "\tGenerated: in train: 12%, assess: 0%, novel: 88%\n",
      "\t k ə t ˈ ɝː d ə k\n",
      "\t ə n ˈ t r iː s l ɝ\n",
      "\t ˈ b ʊ k\n",
      "\t z ə ˈ k ɔ n t iː z\n",
      "\t ˈ h ɝː t ə s ɪ ŋ\n",
      "Epoch 150: train loss: 0.5299loss: 0.5286                                                                                                    \n",
      "\tGenerated: in train: 5%, assess: 0%, novel: 95%\n",
      "\t v ɑː ˈ k ɝː g ə n t\n",
      "\t ˌ iː v ɛ r t ə ˈ l æ m p i\n",
      "\t ˈ t æ t r ə\n",
      "\t ˌ t æ n ə n ˈ t r ɔ f k ə\n",
      "\t ˈ w eɪ m ɝ z\n",
      "Epoch 200: train loss: 0.5282loss: 0.5163                                                                                                    \n",
      "\tGenerated: in train: 12%, assess: 0%, novel: 88%\n",
      "\t ɪ ˈ n ɛ f ɪ s ə n\n",
      "\t ˈ k r ɪ t s ə m\n",
      "\t d p iː ˈ h eɪ n\n",
      "\t ˈ k ɑː n t s\n",
      "\t ˈ b j uː t ə n ɪ d z\n",
      "Epoch 250: train loss: 0.5271loss: 0.5260                                                                                                    \n",
      "\tGenerated: in train: 15%, assess: 0%, novel: 85%\n",
      "\t ˈ j ʊ r i\n",
      "\t ɑː n ˈ s ɛ d ɪ ŋ\n",
      "\t ˈ p r æ p\n",
      "\t ˈ m ɪ n d l i\n",
      "\t ˈ k r ɛ m n ɪ k s\n",
      "CPU times: user 23min 25s, sys: 1min 56s, total: 25min 21s                                                                                   \n",
      "Wall time: 23min 14s\n"
     ]
    },
    {
     "name": "stderr",
     "output_type": "stream",
     "text": [
      "Early stopping because of no decrease in 3 epochs.\n"
     ]
    }
   ],
   "source": [
    "%%time\n",
    "\n",
    "\n",
    "final_language_model = LanguageModel(vocab, smallish_model_parameters, device_name='cuda')\n",
    "\n",
    "_ = final_language_model.fit(\n",
    "    pronunciations.pronunciation.values.tolist(),\n",
    "    print_every=50,\n",
    ")\n"
   ]
  },
  {
   "cell_type": "markdown",
   "metadata": {},
   "source": [
    "And finally, I'll save the model so I can use it in the next notebook, `Phoneme Exploration.ipynb`."
   ]
  },
  {
   "cell_type": "code",
   "execution_count": 28,
   "metadata": {},
   "outputs": [],
   "source": [
    "with open('models/gru_20_20_1.pt', 'wb') as fh:\n",
    "    final_language_model.save(fh)"
   ]
  }
 ],
 "metadata": {
  "kernelspec": {
   "display_name": "Python 3",
   "language": "python",
   "name": "python3"
  },
  "language_info": {
   "codemirror_mode": {
    "name": "ipython",
    "version": 3
   },
   "file_extension": ".py",
   "mimetype": "text/x-python",
   "name": "python",
   "nbconvert_exporter": "python",
   "pygments_lexer": "ipython3",
   "version": "3.6.6"
  }
 },
 "nbformat": 4,
 "nbformat_minor": 2
}
