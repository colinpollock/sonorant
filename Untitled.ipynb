{
 "cells": [
  {
   "cell_type": "code",
   "execution_count": null,
   "metadata": {},
   "outputs": [],
   "source": [
    "import pandas as pd\n",
    "from pandas import DataFrame\n",
    "from string import ascii_lowercase, ascii_uppercase"
   ]
  },
  {
   "cell_type": "code",
   "execution_count": 1,
   "metadata": {},
   "outputs": [],
   "source": [
    "from sonorous.pronunciationdata import tokenize_pronunciation_string, augment_pronunciations_df, load_pronunciations"
   ]
  },
  {
   "cell_type": "code",
   "execution_count": 2,
   "metadata": {},
   "outputs": [],
   "source": [
    "df = load_pronunciations()"
   ]
  },
  {
   "cell_type": "code",
   "execution_count": 8,
   "metadata": {},
   "outputs": [
    {
     "data": {
      "text/html": [
       "<div>\n",
       "<style scoped>\n",
       "    .dataframe tbody tr th:only-of-type {\n",
       "        vertical-align: middle;\n",
       "    }\n",
       "\n",
       "    .dataframe tbody tr th {\n",
       "        vertical-align: top;\n",
       "    }\n",
       "\n",
       "    .dataframe thead th {\n",
       "        text-align: right;\n",
       "    }\n",
       "</style>\n",
       "<table border=\"1\" class=\"dataframe\">\n",
       "  <thead>\n",
       "    <tr style=\"text-align: right;\">\n",
       "      <th></th>\n",
       "      <th>pronunciation</th>\n",
       "      <th>num_phonemes</th>\n",
       "      <th>num_syllables</th>\n",
       "      <th>num_primary_stressed_syllables</th>\n",
       "    </tr>\n",
       "    <tr>\n",
       "      <th>word</th>\n",
       "      <th></th>\n",
       "      <th></th>\n",
       "      <th></th>\n",
       "      <th></th>\n",
       "    </tr>\n",
       "  </thead>\n",
       "  <tbody>\n",
       "    <tr>\n",
       "      <th>keanu</th>\n",
       "      <td>(k, iː, ˈ, ɑː, n, uː)</td>\n",
       "      <td>5</td>\n",
       "      <td>3</td>\n",
       "      <td>1</td>\n",
       "    </tr>\n",
       "    <tr>\n",
       "      <th>keanu</th>\n",
       "      <td>(k, eɪ, ˈ, ɑː, n, uː)</td>\n",
       "      <td>5</td>\n",
       "      <td>3</td>\n",
       "      <td>1</td>\n",
       "    </tr>\n",
       "  </tbody>\n",
       "</table>\n",
       "</div>"
      ],
      "text/plain": [
       "               pronunciation  num_phonemes  num_syllables  num_primary_stressed_syllables\n",
       "word                                                                                     \n",
       "keanu  (k, iː, ˈ, ɑː, n, uː)             5              3                               1\n",
       "keanu  (k, eɪ, ˈ, ɑː, n, uː)             5              3                               1"
      ]
     },
     "execution_count": 8,
     "metadata": {},
     "output_type": "execute_result"
    }
   ],
   "source": [
    "df.loc['keanu']"
   ]
  },
  {
   "cell_type": "code",
   "execution_count": null,
   "metadata": {},
   "outputs": [],
   "source": [
    "CMUDICT_FILEPATH = \"sonorous/data/cmudict-0.7b-ipa.txt\"\n",
    "\n",
    "def load_pronunciations(num_rows=None):\n",
    "    records = []\n",
    "\n",
    "    with open(CMUDICT_FILEPATH, \"r\") as fh:\n",
    "        for line in fh:\n",
    "            word, pronunciations = line.strip().split(\"\\t\")\n",
    "\n",
    "            for pronunciation in pronunciations.split(\",\"):\n",
    "                if num_rows is not None and len(records) > num_rows:\n",
    "                    break\n",
    "                records.append(\n",
    "                    {\n",
    "                        \"word\": word.lower(),\n",
    "                        \"pronunciation\": tokenize_pronunciation_string(\n",
    "                            pronunciation.strip()\n",
    "                        ),\n",
    "                    }\n",
    "                )\n",
    "    pronunciations_df = DataFrame.from_records(records).set_index(\"word\")\n",
    "    augment_pronunciations_df(pronunciations_df)\n",
    "\n",
    "    return pronunciations_df\n",
    "df = load_pronunciations()"
   ]
  },
  {
   "cell_type": "code",
   "execution_count": null,
   "metadata": {},
   "outputs": [],
   "source": [
    "ACCEPTABLE_WORD_CHARACTERS = set(ascii_lowercase) | {\"'\", \"_\"}"
   ]
  },
  {
   "cell_type": "code",
   "execution_count": null,
   "metadata": {},
   "outputs": [],
   "source": [
    "df"
   ]
  },
  {
   "cell_type": "code",
   "execution_count": null,
   "metadata": {},
   "outputs": [],
   "source": [
    "df['is_acceptable'] = df.index.map(lambda word: all(letter in ACCEPTABLE_WORD_CHARACTERS for letter in word))"
   ]
  },
  {
   "cell_type": "code",
   "execution_count": null,
   "metadata": {},
   "outputs": [],
   "source": [
    "df.is_acceptable.value_counts()"
   ]
  },
  {
   "cell_type": "code",
   "execution_count": null,
   "metadata": {},
   "outputs": [],
   "source": [
    "df[df.is_acceptable==False].sample(20)"
   ]
  },
  {
   "cell_type": "code",
   "execution_count": null,
   "metadata": {},
   "outputs": [],
   "source": []
  }
 ],
 "metadata": {
  "kernelspec": {
   "display_name": "Python 3",
   "language": "python",
   "name": "python3"
  },
  "language_info": {
   "codemirror_mode": {
    "name": "ipython",
    "version": 3
   },
   "file_extension": ".py",
   "mimetype": "text/x-python",
   "name": "python",
   "nbconvert_exporter": "python",
   "pygments_lexer": "ipython3",
   "version": "3.7.4"
  }
 },
 "nbformat": 4,
 "nbformat_minor": 4
}
